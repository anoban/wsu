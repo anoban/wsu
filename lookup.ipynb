{
 "cells": [
  {
   "cell_type": "code",
   "execution_count": 240,
   "id": "07c08169-c034-4ad9-a7a0-10f09c1beda2",
   "metadata": {},
   "outputs": [
    {
     "name": "stdout",
     "output_type": "stream",
     "text": [
      "Python 3.13.2\n"
     ]
    }
   ],
   "source": [
    "!python --version"
   ]
  },
  {
   "cell_type": "code",
   "execution_count": 2,
   "id": "84e1d718-b75b-4bdb-9494-12823b67578a",
   "metadata": {},
   "outputs": [],
   "source": [
    "import numpy as np\n",
    "import pandas as pd"
   ]
  },
  {
   "cell_type": "code",
   "execution_count": 246,
   "id": "7aa5e5cb-5c25-458f-9f77-d100ed0a2c80",
   "metadata": {},
   "outputs": [],
   "source": [
    "# GROOT HAS A HANDFUL OF SPELLING MISTAKES :(\n",
    "GROOT_SPELLING_CORRECTIONS : dict[str, str] = {\n",
    "    \"Anona\": \"Annona\",\n",
    "    \"Braciaria\": \"Brachiaria\",\n",
    "    \"Cyanodon\": \"Cynodon\",\n",
    "    \"Helychrisum\": \"Helichrysum\",\n",
    "    \"Matthiolaria\": \"Matthiola\", # https://list-ui-wfo-staging.rbge.info/taxon/wfo-0000368988-2018-07?page=1 - synonyms\n",
    "    \"Ripogonum\": \"Rhipogonum\",\n",
    "    \"Rynchosia\": \"Rhynchosia\",\n",
    "    \"Ripogonum\": \"Rhipogonum\", # NOT A SPELLING MISTAKE BUT AN ALTERNATIVE SPELLING\n",
    "    \"Hyeronima\": \"Hieronyma\", # SPELLING VARIANT\n",
    "    \"Monroa\": \"Munroa\", # Monroa squarrosa - Munroa squarrosa\n",
    "    \"Rauwolfia\": \"Rauvolfia\"\n",
    "}\n",
    "\n",
    "# GROOT UASES OLD NAMES WHEREAS THE LOOKUP DATABSE EXTRACTED FROM R LIBRARY `taxonlookup` USES THE NEWER ALTERNATIVES\n",
    "GROOT_OLD_NAME_REPLACEMENTS : dict[str, str] = {\n",
    "    \"Pleuraphis\": \"Hilaria\", # Hilaria rigida - Pleuraphis rigida\n",
    "    \"Paragonia\": \"Tanaecium\", # Paragonia pyramidata - Tanaecium pyramidatum \n",
    "    \"Carria\": \"Polyspora\", # Carria speciosa - Polyspora gardneri\n",
    "    \"Dasyochloa\": \"Erioneuron\", # Dasyochloa pulchella - Erioneuron pulchellum\n",
    "    \"Ischyrolepis\": \"Restio\", # Restio ferruginosus, Ischyrolepis subverticillata, Restio microstachys, Restio subverticillatus\n",
    "    \"Austrodanthonia\": \"Rytidosperma\", # Rytidosperma caespitosum - Austrodanthonia caespitosa\n",
    "    \"Biota\": \"Platycladus\", # Biota orientalis \n",
    "    \"Parakmeria\": \"Magnolia\", # Parakmeria yunnanensis - Magnolia yunnanensis\n",
    "    \"Paramichelia\": \"Magnolia\", # Paramichelia baillonii - Magnolia baillonii \n",
    "    \"Lophozonia\": \"Nothofagus\", # Lophozonia menziesii - Nothofagus menziesii\n",
    "    \"Joycea\": \"Rytidosperma\", # Rytidosperma pallidum - Joycea pallida, Danthonia pallida \n",
    "    \"Acanthococos\": \"Acrocomia\",\n",
    "    \"Brauneria\": \"Echinacea\", # Echinacea angustifolia - Brauneria angustifolia \n",
    "    \"Bulbilis\": \"Bouteloua\", # Bulbilis dactyloides - Bouteloua dactyloides\n",
    "    \"Acroptilon\": \"Rhaponticum\", # Rhaponticum repens - Acroptilon repens and Leuzea repens\n",
    "    \"Glaux\": \"Lysimachia\", # Lysimachia maritima - Glaux maritima\n",
    "    \"Macrosciadium\": \"Selinum\", # Macrosciadium alatum - Selinum alatum \n",
    "    \"Alajja\": \"Eriophyton\", # Alajja rhomboidea - Eriophyton rhomboideum \n",
    "    \"Plectrachne\": \"Triodia\", # Triodia pungens - Plectrachne pungens\n",
    "    \"Mycelis\": \"Lactuca\", # Lactuca muralis - Mycelis muralis\n",
    "    \"Myosoton\": \"Stellaria\", # Stellaria aquatica - Myosoton aquaticum\n",
    "    \"Othocallis\": \"Scilla\", # Othocallis siberica - Scilla siberica\n",
    "}\n",
    "\n",
    "MISSING_LOOKUPS = pd.Series({\n",
    "    \"Halimione\": \"Amaranthaceae\",\n",
    "    \"Hesperostipa\": \"Poaceae\",\n",
    "    \"Spirea\": \"Rosaceae\",\n",
    "    \"Tsoongiodendron\": \"Magnoliaceae\",\n",
    "    \"Schizonepeta\": \"Lamiaceae\",\n",
    "    \"Pascopyrum\": \"Poaceae\",\n",
    "    \"Thinopyrum\": \"Poaceae\",\n",
    "    \"Cyclachaena\": \"Asteraceae\",\n",
    "    \"Fourraea\": \"Brassicaceae\"\n",
    "}, dtype=str)"
   ]
  },
  {
   "cell_type": "code",
   "execution_count": 132,
   "id": "d1ab7302-c059-43f5-87e7-0cb71f1a3134",
   "metadata": {},
   "outputs": [],
   "source": [
    "lookup = pd.read_csv(r\"./plantlookup.csv\", low_memory=False, encoding=\"latin\")\n",
    "groot = pd.read_csv(r\"./GRooTFullVersion.csv\", low_memory=False, encoding=\"latin\")"
   ]
  },
  {
   "cell_type": "code",
   "execution_count": 109,
   "id": "a1f2f7bf-72b1-4ceb-985a-63996c3b22d7",
   "metadata": {},
   "outputs": [
    {
     "data": {
      "text/plain": [
       "((23279, 4), (114222, 73))"
      ]
     },
     "execution_count": 109,
     "metadata": {},
     "output_type": "execute_result"
    }
   ],
   "source": [
    "lookup.shape, groot.shape"
   ]
  },
  {
   "cell_type": "code",
   "execution_count": 110,
   "id": "b94b63fa-4db5-4f03-b4f7-286bcd686e0b",
   "metadata": {},
   "outputs": [
    {
     "data": {
      "text/plain": [
       "(Index(['genus', 'family', 'order', 'group'], dtype='object'), (23279, 4))"
      ]
     },
     "execution_count": 110,
     "metadata": {},
     "output_type": "execute_result"
    }
   ],
   "source": [
    "lookup.columns, lookup.shape"
   ]
  },
  {
   "cell_type": "code",
   "execution_count": 111,
   "id": "d1b88c9d-bea4-43bd-863b-f31809254437",
   "metadata": {},
   "outputs": [
    {
     "data": {
      "text/html": [
       "<div>\n",
       "<style scoped>\n",
       "    .dataframe tbody tr th:only-of-type {\n",
       "        vertical-align: middle;\n",
       "    }\n",
       "\n",
       "    .dataframe tbody tr th {\n",
       "        vertical-align: top;\n",
       "    }\n",
       "\n",
       "    .dataframe thead th {\n",
       "        text-align: right;\n",
       "    }\n",
       "</style>\n",
       "<table border=\"1\" class=\"dataframe\">\n",
       "  <thead>\n",
       "    <tr style=\"text-align: right;\">\n",
       "      <th></th>\n",
       "      <th>family</th>\n",
       "      <th>genus</th>\n",
       "    </tr>\n",
       "  </thead>\n",
       "  <tbody>\n",
       "    <tr>\n",
       "      <th>0</th>\n",
       "      <td>Acoraceae</td>\n",
       "      <td>Acorus</td>\n",
       "    </tr>\n",
       "    <tr>\n",
       "      <th>1</th>\n",
       "      <td>Alismataceae</td>\n",
       "      <td>Albidella</td>\n",
       "    </tr>\n",
       "    <tr>\n",
       "      <th>2</th>\n",
       "      <td>Alismataceae</td>\n",
       "      <td>Alisma</td>\n",
       "    </tr>\n",
       "    <tr>\n",
       "      <th>3</th>\n",
       "      <td>Alismataceae</td>\n",
       "      <td>Astonia</td>\n",
       "    </tr>\n",
       "    <tr>\n",
       "      <th>4</th>\n",
       "      <td>Alismataceae</td>\n",
       "      <td>Baldellia</td>\n",
       "    </tr>\n",
       "    <tr>\n",
       "      <th>...</th>\n",
       "      <td>...</td>\n",
       "      <td>...</td>\n",
       "    </tr>\n",
       "    <tr>\n",
       "      <th>23274</th>\n",
       "      <td>Lygodiaceae</td>\n",
       "      <td>Ugena</td>\n",
       "    </tr>\n",
       "    <tr>\n",
       "      <th>23275</th>\n",
       "      <td>Schizaeaceae</td>\n",
       "      <td>Actinostachys</td>\n",
       "    </tr>\n",
       "    <tr>\n",
       "      <th>23276</th>\n",
       "      <td>Schizaeaceae</td>\n",
       "      <td>Lophidium</td>\n",
       "    </tr>\n",
       "    <tr>\n",
       "      <th>23277</th>\n",
       "      <td>Schizaeaceae</td>\n",
       "      <td>Microschizaea</td>\n",
       "    </tr>\n",
       "    <tr>\n",
       "      <th>23278</th>\n",
       "      <td>Schizaeaceae</td>\n",
       "      <td>Schizaea</td>\n",
       "    </tr>\n",
       "  </tbody>\n",
       "</table>\n",
       "<p>23279 rows × 2 columns</p>\n",
       "</div>"
      ],
      "text/plain": [
       "             family          genus\n",
       "0         Acoraceae         Acorus\n",
       "1      Alismataceae      Albidella\n",
       "2      Alismataceae         Alisma\n",
       "3      Alismataceae        Astonia\n",
       "4      Alismataceae      Baldellia\n",
       "...             ...            ...\n",
       "23274   Lygodiaceae          Ugena\n",
       "23275  Schizaeaceae  Actinostachys\n",
       "23276  Schizaeaceae      Lophidium\n",
       "23277  Schizaeaceae  Microschizaea\n",
       "23278  Schizaeaceae       Schizaea\n",
       "\n",
       "[23279 rows x 2 columns]"
      ]
     },
     "execution_count": 111,
     "metadata": {},
     "output_type": "execute_result"
    }
   ],
   "source": [
    "# test whether the lookup table has conflicting families for a given genus\n",
    "doc = lookup.loc[:, [\"family\", \"genus\"]].drop_duplicates()\n",
    "doc"
   ]
  },
  {
   "cell_type": "code",
   "execution_count": 229,
   "id": "a0a4f229-f632-4ced-a717-5d91ae7fdff1",
   "metadata": {},
   "outputs": [],
   "source": [
    "family_by_genera_lookup_table = pd.Series(index=doc.genus.str.title().str.strip().values, data=doc.family.str.title().values)\n",
    "family_by_genera_lookup_table = pd.concat([family_by_genera_lookup_table, MISSING_LOOKUPS])"
   ]
  },
  {
   "cell_type": "code",
   "execution_count": 235,
   "id": "5a8a33a3-4625-4476-aa85-89db5db91d55",
   "metadata": {},
   "outputs": [
    {
     "data": {
      "text/plain": [
       "(23288,)"
      ]
     },
     "execution_count": 235,
     "metadata": {},
     "output_type": "execute_result"
    }
   ],
   "source": [
    "family_by_genera_lookup_table.shape"
   ]
  },
  {
   "cell_type": "code",
   "execution_count": 231,
   "id": "65d29db3-c227-4208-976b-59517b2855f1",
   "metadata": {},
   "outputs": [
    {
     "data": {
      "text/plain": [
       "Acorus          Acoraceae\n",
       "Albidella    Alismataceae\n",
       "Alisma       Alismataceae\n",
       "Astonia      Alismataceae\n",
       "Baldellia    Alismataceae\n",
       "dtype: object"
      ]
     },
     "execution_count": 231,
     "metadata": {},
     "output_type": "execute_result"
    }
   ],
   "source": [
    "family_by_genera_lookup_table.iloc[:5]"
   ]
  },
  {
   "cell_type": "code",
   "execution_count": 232,
   "id": "5f98e4bf-032b-4acc-a281-80de5a651e91",
   "metadata": {},
   "outputs": [
    {
     "data": {
      "text/plain": [
       "Hilaria                 Poaceae\n",
       "Tanaecium          Bignoniaceae\n",
       "Polyspora              Theaceae\n",
       "Erioneuron              Poaceae\n",
       "Restio             Restionaceae\n",
       "Rytidosperma            Poaceae\n",
       "Platycladus        Cupressaceae\n",
       "Magnolia           Magnoliaceae\n",
       "Magnolia           Magnoliaceae\n",
       "Nothofagus        Nothofagaceae\n",
       "Rytidosperma            Poaceae\n",
       "Acrocomia             Arecaceae\n",
       "Echinacea            Asteraceae\n",
       "Hieronyma        Phyllanthaceae\n",
       "Bouteloua               Poaceae\n",
       "Rhaponticum          Asteraceae\n",
       "Lysimachia          Primulaceae\n",
       "Selinum                Apiaceae\n",
       "Eriophyton            Lamiaceae\n",
       "Triodia                 Poaceae\n",
       "Lactuca              Asteraceae\n",
       "Stellaria       Caryophyllaceae\n",
       "Scilla             Asparagaceae\n",
       "dtype: object"
      ]
     },
     "execution_count": 232,
     "metadata": {},
     "output_type": "execute_result"
    }
   ],
   "source": [
    "# good :)\n",
    "family_by_genera_lookup_table[GROOT_OLD_NAME_REPLACEMENTS.values()]"
   ]
  },
  {
   "cell_type": "code",
   "execution_count": null,
   "id": "a74c0b7c-aa8b-441c-b5ea-137e2a3530cc",
   "metadata": {},
   "outputs": [],
   "source": []
  },
  {
   "cell_type": "code",
   "execution_count": 233,
   "id": "1616589e-d3c4-417d-a1fe-b08045cd5d30",
   "metadata": {},
   "outputs": [],
   "source": [
    "groot_genera = pd.Series(groot.loc[:, \"genus\"].unique()).str.title().str.strip().\\\n",
    "                    apply(lambda genus: genus if not GROOT_SPELLING_CORRECTIONS.get(genus, False) else GROOT_SPELLING_CORRECTIONS.get(genus))\n",
    "groot_genera = groot_genera.apply(lambda gname: GROOT_OLD_NAME_REPLACEMENTS.get(gname, False) if GROOT_OLD_NAME_REPLACEMENTS.get(gname, False) else gname)"
   ]
  },
  {
   "cell_type": "code",
   "execution_count": 239,
   "id": "765e5e9f-f252-48fd-b888-e5571479b80b",
   "metadata": {},
   "outputs": [
    {
     "data": {
      "text/plain": [
       "Betula              Betulaceae\n",
       "Picea                 Pinaceae\n",
       "Pinus                 Pinaceae\n",
       "Agropyron              Poaceae\n",
       "Artemisia           Asteraceae\n",
       "                     ...      \n",
       "Lamprocapnos      Papaveraceae\n",
       "Paederota       Plantaginaceae\n",
       "Prospero          Asparagaceae\n",
       "Rhaponticum         Asteraceae\n",
       "Serapias           Orchidaceae\n",
       "Length: 1959, dtype: object"
      ]
     },
     "execution_count": 239,
     "metadata": {},
     "output_type": "execute_result"
    }
   ],
   "source": [
    "family_by_genera_lookup_table[groot_genera]"
   ]
  },
  {
   "cell_type": "code",
   "execution_count": null,
   "id": "4ea0ef90-a6de-4371-aecf-7dacf246587e",
   "metadata": {},
   "outputs": [],
   "source": []
  },
  {
   "cell_type": "code",
   "execution_count": 259,
   "id": "4e4c2654-edd4-492e-b42f-b7e45d562915",
   "metadata": {},
   "outputs": [],
   "source": [
    "# groot.query(\"genus == 'Othocallis'\").loc[:, [\"family\", \"genus\", \"species\"]]"
   ]
  },
  {
   "cell_type": "code",
   "execution_count": null,
   "id": "072ffb55-581f-454e-b4d7-2c94f1355b59",
   "metadata": {},
   "outputs": [],
   "source": []
  },
  {
   "cell_type": "code",
   "execution_count": 258,
   "id": "d75d5430-697d-4a24-8921-06ea6b56219c",
   "metadata": {},
   "outputs": [],
   "source": [
    "# phylomatic format\n"
   ]
  }
 ],
 "metadata": {
  "kernelspec": {
   "display_name": "Python 3 (ipykernel)",
   "language": "python",
   "name": "python3"
  },
  "language_info": {
   "codemirror_mode": {
    "name": "ipython",
    "version": 3
   },
   "file_extension": ".py",
   "mimetype": "text/x-python",
   "name": "python",
   "nbconvert_exporter": "python",
   "pygments_lexer": "ipython3",
   "version": "3.13.2"
  }
 },
 "nbformat": 4,
 "nbformat_minor": 5
}

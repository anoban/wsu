{
 "cells": [
  {
   "cell_type": "code",
   "execution_count": 2,
   "id": "84e1d718-b75b-4bdb-9494-12823b67578a",
   "metadata": {},
   "outputs": [],
   "source": [
    "import numpy as np\n",
    "import pandas as pd"
   ]
  },
  {
   "cell_type": "code",
   "execution_count": 175,
   "id": "7aa5e5cb-5c25-458f-9f77-d100ed0a2c80",
   "metadata": {},
   "outputs": [],
   "source": [
    "GROOT_SPELLING_CORRECTIONS = {\n",
    "    \"Anona\": \"Annona\",\n",
    "    \"Braciaria\": \"Brachiaria\",\n",
    "    \"Cyanodon\": \"Cynodon\",\n",
    "    \"Helychrisum\": \"Helichrysum\",\n",
    "    \"Matthiolaria\": \"Matthiola\", # https://list-ui-wfo-staging.rbge.info/taxon/wfo-0000368988-2018-07?page=1 - synonyms\n",
    "    \"Ripogonum\": \"Rhipogonum\",\n",
    "    \"Rynchosia\": \"Rhynchosia\",\n",
    "    \"Ripogonum\": \"Rhipogonum\", # NOT A SPELLING MISTAKE BUT AN ALTERNATIVE SPELLING\n",
    "    \"Monroa\": \"Munroa\", # Monroa squarrosa - Munroa squarrosa\n",
    "}\n",
    "\n",
    "GROOT_OLD_NAME_REPLACEMENTS = {\n",
    "    \"Pleuraphis\": \"Hilaria\", # Hilaria rigida - Pleuraphis rigida\n",
    "    \"Paragonia\": \"Tanaecium\", # Paragonia pyramidata - Tanaecium pyramidatum \n",
    "    \"Carria\": \"Polyspora\", # Carria speciosa - Polyspora gardneri\n",
    "    \"Dasyochloa\": \"Erioneuron\", # Dasyochloa pulchella - Erioneuron pulchellum\n",
    "    \"Ischyrolepis\": \"Restio\", # Restio ferruginosus, Ischyrolepis subverticillata, Restio microstachys, Restio subverticillatus\n",
    "    \"Austrodanthonia\": \"Rytidosperma\", # Rytidosperma caespitosum - Austrodanthonia caespitosa\n",
    "    \"Biota\": \"Platycladus\", # Biota orientalis \n",
    "    \"Parakmeria\": \"Magnolia\", # Parakmeria yunnanensis - Magnolia yunnanensis\n",
    "    \"Paramichelia\": \"Magnolia\", # Paramichelia baillonii - Magnolia baillonii \n",
    "    \"Lophozonia\": \"Nothofagus\", # Lophozonia menziesii - Nothofagus menziesii\n",
    "    \"Joycea\": \"Rytidosperma\", # Rytidosperma pallidum - Joycea pallida, Danthonia pallida \n",
    "    \"Acanthococos\": \"Acrocomia\",\n",
    "    \"Brauneria\": \"Echinacea\", # Echinacea angustifolia - Brauneria angustifolia \n",
    "    \"Hyeronima\": \"Hieronyma\", # SPELLING VARIANT\n",
    "    \"Bulbilis\": \"Bouteloua\", # Bulbilis dactyloides - Bouteloua dactyloides\n",
    "    \"Acroptilon\": \"Rhaponticum\", # Rhaponticum repens - Acroptilon repens and Leuzea repens\n",
    "}"
   ]
  },
  {
   "cell_type": "code",
   "execution_count": 132,
   "id": "d1ab7302-c059-43f5-87e7-0cb71f1a3134",
   "metadata": {},
   "outputs": [],
   "source": [
    "lookup = pd.read_csv(r\"./plantlookup.csv\", low_memory=False, encoding=\"latin\")\n",
    "groot = pd.read_csv(r\"./GRooTFullVersion.csv\", low_memory=False, encoding=\"latin\")"
   ]
  },
  {
   "cell_type": "code",
   "execution_count": 109,
   "id": "a1f2f7bf-72b1-4ceb-985a-63996c3b22d7",
   "metadata": {},
   "outputs": [
    {
     "data": {
      "text/plain": [
       "((23279, 4), (114222, 73))"
      ]
     },
     "execution_count": 109,
     "metadata": {},
     "output_type": "execute_result"
    }
   ],
   "source": [
    "lookup.shape, groot.shape"
   ]
  },
  {
   "cell_type": "code",
   "execution_count": 110,
   "id": "b94b63fa-4db5-4f03-b4f7-286bcd686e0b",
   "metadata": {},
   "outputs": [
    {
     "data": {
      "text/plain": [
       "(Index(['genus', 'family', 'order', 'group'], dtype='object'), (23279, 4))"
      ]
     },
     "execution_count": 110,
     "metadata": {},
     "output_type": "execute_result"
    }
   ],
   "source": [
    "lookup.columns, lookup.shape"
   ]
  },
  {
   "cell_type": "code",
   "execution_count": 111,
   "id": "d1b88c9d-bea4-43bd-863b-f31809254437",
   "metadata": {},
   "outputs": [
    {
     "data": {
      "text/html": [
       "<div>\n",
       "<style scoped>\n",
       "    .dataframe tbody tr th:only-of-type {\n",
       "        vertical-align: middle;\n",
       "    }\n",
       "\n",
       "    .dataframe tbody tr th {\n",
       "        vertical-align: top;\n",
       "    }\n",
       "\n",
       "    .dataframe thead th {\n",
       "        text-align: right;\n",
       "    }\n",
       "</style>\n",
       "<table border=\"1\" class=\"dataframe\">\n",
       "  <thead>\n",
       "    <tr style=\"text-align: right;\">\n",
       "      <th></th>\n",
       "      <th>family</th>\n",
       "      <th>genus</th>\n",
       "    </tr>\n",
       "  </thead>\n",
       "  <tbody>\n",
       "    <tr>\n",
       "      <th>0</th>\n",
       "      <td>Acoraceae</td>\n",
       "      <td>Acorus</td>\n",
       "    </tr>\n",
       "    <tr>\n",
       "      <th>1</th>\n",
       "      <td>Alismataceae</td>\n",
       "      <td>Albidella</td>\n",
       "    </tr>\n",
       "    <tr>\n",
       "      <th>2</th>\n",
       "      <td>Alismataceae</td>\n",
       "      <td>Alisma</td>\n",
       "    </tr>\n",
       "    <tr>\n",
       "      <th>3</th>\n",
       "      <td>Alismataceae</td>\n",
       "      <td>Astonia</td>\n",
       "    </tr>\n",
       "    <tr>\n",
       "      <th>4</th>\n",
       "      <td>Alismataceae</td>\n",
       "      <td>Baldellia</td>\n",
       "    </tr>\n",
       "    <tr>\n",
       "      <th>...</th>\n",
       "      <td>...</td>\n",
       "      <td>...</td>\n",
       "    </tr>\n",
       "    <tr>\n",
       "      <th>23274</th>\n",
       "      <td>Lygodiaceae</td>\n",
       "      <td>Ugena</td>\n",
       "    </tr>\n",
       "    <tr>\n",
       "      <th>23275</th>\n",
       "      <td>Schizaeaceae</td>\n",
       "      <td>Actinostachys</td>\n",
       "    </tr>\n",
       "    <tr>\n",
       "      <th>23276</th>\n",
       "      <td>Schizaeaceae</td>\n",
       "      <td>Lophidium</td>\n",
       "    </tr>\n",
       "    <tr>\n",
       "      <th>23277</th>\n",
       "      <td>Schizaeaceae</td>\n",
       "      <td>Microschizaea</td>\n",
       "    </tr>\n",
       "    <tr>\n",
       "      <th>23278</th>\n",
       "      <td>Schizaeaceae</td>\n",
       "      <td>Schizaea</td>\n",
       "    </tr>\n",
       "  </tbody>\n",
       "</table>\n",
       "<p>23279 rows × 2 columns</p>\n",
       "</div>"
      ],
      "text/plain": [
       "             family          genus\n",
       "0         Acoraceae         Acorus\n",
       "1      Alismataceae      Albidella\n",
       "2      Alismataceae         Alisma\n",
       "3      Alismataceae        Astonia\n",
       "4      Alismataceae      Baldellia\n",
       "...             ...            ...\n",
       "23274   Lygodiaceae          Ugena\n",
       "23275  Schizaeaceae  Actinostachys\n",
       "23276  Schizaeaceae      Lophidium\n",
       "23277  Schizaeaceae  Microschizaea\n",
       "23278  Schizaeaceae       Schizaea\n",
       "\n",
       "[23279 rows x 2 columns]"
      ]
     },
     "execution_count": 111,
     "metadata": {},
     "output_type": "execute_result"
    }
   ],
   "source": [
    "# test whether the lookup table has conflicting families for a given genus\n",
    "doc = lookup.loc[:, [\"family\", \"genus\"]].drop_duplicates()\n",
    "doc"
   ]
  },
  {
   "cell_type": "code",
   "execution_count": 156,
   "id": "a0a4f229-f632-4ced-a717-5d91ae7fdff1",
   "metadata": {},
   "outputs": [],
   "source": [
    "family_by_genera_lookup_table = pd.Series(index=doc.genus.str.title().str.strip().values, data=doc.family.str.title().values)"
   ]
  },
  {
   "cell_type": "code",
   "execution_count": 157,
   "id": "65d29db3-c227-4208-976b-59517b2855f1",
   "metadata": {},
   "outputs": [
    {
     "data": {
      "text/plain": [
       "Acorus          Acoraceae\n",
       "Albidella    Alismataceae\n",
       "Alisma       Alismataceae\n",
       "Astonia      Alismataceae\n",
       "Baldellia    Alismataceae\n",
       "dtype: object"
      ]
     },
     "execution_count": 157,
     "metadata": {},
     "output_type": "execute_result"
    }
   ],
   "source": [
    "family_by_genera_lookup_table.iloc[:5]"
   ]
  },
  {
   "cell_type": "code",
   "execution_count": 158,
   "id": "5f98e4bf-032b-4acc-a281-80de5a651e91",
   "metadata": {},
   "outputs": [
    {
     "data": {
      "text/plain": [
       "Hilaria               Poaceae\n",
       "Tanaecium        Bignoniaceae\n",
       "Polyspora            Theaceae\n",
       "Erioneuron            Poaceae\n",
       "Restio           Restionaceae\n",
       "Rytidosperma          Poaceae\n",
       "Platycladus      Cupressaceae\n",
       "Magnolia         Magnoliaceae\n",
       "Magnolia         Magnoliaceae\n",
       "Nothofagus      Nothofagaceae\n",
       "Rytidosperma          Poaceae\n",
       "Acrocomia           Arecaceae\n",
       "dtype: object"
      ]
     },
     "execution_count": 158,
     "metadata": {},
     "output_type": "execute_result"
    }
   ],
   "source": [
    "# good :)\n",
    "family_by_genera_lookup_table[GROOT_OLD_NAME_REPLACEMENTS.values()]"
   ]
  },
  {
   "cell_type": "code",
   "execution_count": null,
   "id": "a74c0b7c-aa8b-441c-b5ea-137e2a3530cc",
   "metadata": {},
   "outputs": [],
   "source": []
  },
  {
   "cell_type": "code",
   "execution_count": 176,
   "id": "1616589e-d3c4-417d-a1fe-b08045cd5d30",
   "metadata": {},
   "outputs": [],
   "source": [
    "groot_genera = pd.Series(groot.loc[:, \"genus\"].unique()).str.title().str.strip().\\\n",
    "                    apply(lambda genus: genus if not GROOT_SPELLING_CORRECTIONS.get(genus, False) else GROOT_SPELLING_CORRECTIONS.get(genus))\n",
    "groot_genera = groot_genera.apply(lambda gname: GROOT_OLD_NAME_REPLACEMENTS.get(gname, False) if GROOT_OLD_NAME_REPLACEMENTS.get(gname, False) else gname)"
   ]
  },
  {
   "cell_type": "code",
   "execution_count": 177,
   "id": "765e5e9f-f252-48fd-b888-e5571479b80b",
   "metadata": {},
   "outputs": [
    {
     "ename": "KeyError",
     "evalue": "\"['Halimione', 'Hesperostipa', 'Spirea', 'Tsoongiodendron', 'Schizonepeta', 'Pascopyrum', 'Thinopyrum', 'Cyclachaena', 'Glaux', 'Alajja', 'Macrosciadium', 'Plectrachne', 'Rauwolfia', 'Mycelis', 'Myosoton', 'Othocallis', 'Fourraea'] not in index\"",
     "output_type": "error",
     "traceback": [
      "\u001b[31m---------------------------------------------------------------------------\u001b[39m",
      "\u001b[31mKeyError\u001b[39m                                  Traceback (most recent call last)",
      "\u001b[36mCell\u001b[39m\u001b[36m \u001b[39m\u001b[32mIn[177]\u001b[39m\u001b[32m, line 1\u001b[39m\n\u001b[32m----> \u001b[39m\u001b[32m1\u001b[39m \u001b[43mfamily_by_genera_lookup_table\u001b[49m\u001b[43m[\u001b[49m\u001b[43mgroot_genera\u001b[49m\u001b[43m]\u001b[49m\n",
      "\u001b[36mFile \u001b[39m\u001b[32mC:\\Program Files\\Python313\\Lib\\site-packages\\pandas\\core\\series.py:1153\u001b[39m, in \u001b[36mSeries.__getitem__\u001b[39m\u001b[34m(self, key)\u001b[39m\n\u001b[32m   1150\u001b[39m     key = np.asarray(key, dtype=\u001b[38;5;28mbool\u001b[39m)\n\u001b[32m   1151\u001b[39m     \u001b[38;5;28;01mreturn\u001b[39;00m \u001b[38;5;28mself\u001b[39m._get_rows_with_mask(key)\n\u001b[32m-> \u001b[39m\u001b[32m1153\u001b[39m \u001b[38;5;28;01mreturn\u001b[39;00m \u001b[38;5;28;43mself\u001b[39;49m\u001b[43m.\u001b[49m\u001b[43m_get_with\u001b[49m\u001b[43m(\u001b[49m\u001b[43mkey\u001b[49m\u001b[43m)\u001b[49m\n",
      "\u001b[36mFile \u001b[39m\u001b[32mC:\\Program Files\\Python313\\Lib\\site-packages\\pandas\\core\\series.py:1194\u001b[39m, in \u001b[36mSeries._get_with\u001b[39m\u001b[34m(self, key)\u001b[39m\n\u001b[32m   1191\u001b[39m         \u001b[38;5;28;01mreturn\u001b[39;00m \u001b[38;5;28mself\u001b[39m.iloc[key]\n\u001b[32m   1193\u001b[39m \u001b[38;5;66;03m# handle the dup indexing case GH#4246\u001b[39;00m\n\u001b[32m-> \u001b[39m\u001b[32m1194\u001b[39m \u001b[38;5;28;01mreturn\u001b[39;00m \u001b[38;5;28;43mself\u001b[39;49m\u001b[43m.\u001b[49m\u001b[43mloc\u001b[49m\u001b[43m[\u001b[49m\u001b[43mkey\u001b[49m\u001b[43m]\u001b[49m\n",
      "\u001b[36mFile \u001b[39m\u001b[32mC:\\Program Files\\Python313\\Lib\\site-packages\\pandas\\core\\indexing.py:1191\u001b[39m, in \u001b[36m_LocationIndexer.__getitem__\u001b[39m\u001b[34m(self, key)\u001b[39m\n\u001b[32m   1189\u001b[39m maybe_callable = com.apply_if_callable(key, \u001b[38;5;28mself\u001b[39m.obj)\n\u001b[32m   1190\u001b[39m maybe_callable = \u001b[38;5;28mself\u001b[39m._check_deprecated_callable_usage(key, maybe_callable)\n\u001b[32m-> \u001b[39m\u001b[32m1191\u001b[39m \u001b[38;5;28;01mreturn\u001b[39;00m \u001b[38;5;28;43mself\u001b[39;49m\u001b[43m.\u001b[49m\u001b[43m_getitem_axis\u001b[49m\u001b[43m(\u001b[49m\u001b[43mmaybe_callable\u001b[49m\u001b[43m,\u001b[49m\u001b[43m \u001b[49m\u001b[43maxis\u001b[49m\u001b[43m=\u001b[49m\u001b[43maxis\u001b[49m\u001b[43m)\u001b[49m\n",
      "\u001b[36mFile \u001b[39m\u001b[32mC:\\Program Files\\Python313\\Lib\\site-packages\\pandas\\core\\indexing.py:1420\u001b[39m, in \u001b[36m_LocIndexer._getitem_axis\u001b[39m\u001b[34m(self, key, axis)\u001b[39m\n\u001b[32m   1417\u001b[39m     \u001b[38;5;28;01mif\u001b[39;00m \u001b[38;5;28mhasattr\u001b[39m(key, \u001b[33m\"\u001b[39m\u001b[33mndim\u001b[39m\u001b[33m\"\u001b[39m) \u001b[38;5;129;01mand\u001b[39;00m key.ndim > \u001b[32m1\u001b[39m:\n\u001b[32m   1418\u001b[39m         \u001b[38;5;28;01mraise\u001b[39;00m \u001b[38;5;167;01mValueError\u001b[39;00m(\u001b[33m\"\u001b[39m\u001b[33mCannot index with multidimensional key\u001b[39m\u001b[33m\"\u001b[39m)\n\u001b[32m-> \u001b[39m\u001b[32m1420\u001b[39m     \u001b[38;5;28;01mreturn\u001b[39;00m \u001b[38;5;28;43mself\u001b[39;49m\u001b[43m.\u001b[49m\u001b[43m_getitem_iterable\u001b[49m\u001b[43m(\u001b[49m\u001b[43mkey\u001b[49m\u001b[43m,\u001b[49m\u001b[43m \u001b[49m\u001b[43maxis\u001b[49m\u001b[43m=\u001b[49m\u001b[43maxis\u001b[49m\u001b[43m)\u001b[49m\n\u001b[32m   1422\u001b[39m \u001b[38;5;66;03m# nested tuple slicing\u001b[39;00m\n\u001b[32m   1423\u001b[39m \u001b[38;5;28;01mif\u001b[39;00m is_nested_tuple(key, labels):\n",
      "\u001b[36mFile \u001b[39m\u001b[32mC:\\Program Files\\Python313\\Lib\\site-packages\\pandas\\core\\indexing.py:1360\u001b[39m, in \u001b[36m_LocIndexer._getitem_iterable\u001b[39m\u001b[34m(self, key, axis)\u001b[39m\n\u001b[32m   1357\u001b[39m \u001b[38;5;28mself\u001b[39m._validate_key(key, axis)\n\u001b[32m   1359\u001b[39m \u001b[38;5;66;03m# A collection of keys\u001b[39;00m\n\u001b[32m-> \u001b[39m\u001b[32m1360\u001b[39m keyarr, indexer = \u001b[38;5;28;43mself\u001b[39;49m\u001b[43m.\u001b[49m\u001b[43m_get_listlike_indexer\u001b[49m\u001b[43m(\u001b[49m\u001b[43mkey\u001b[49m\u001b[43m,\u001b[49m\u001b[43m \u001b[49m\u001b[43maxis\u001b[49m\u001b[43m)\u001b[49m\n\u001b[32m   1361\u001b[39m \u001b[38;5;28;01mreturn\u001b[39;00m \u001b[38;5;28mself\u001b[39m.obj._reindex_with_indexers(\n\u001b[32m   1362\u001b[39m     {axis: [keyarr, indexer]}, copy=\u001b[38;5;28;01mTrue\u001b[39;00m, allow_dups=\u001b[38;5;28;01mTrue\u001b[39;00m\n\u001b[32m   1363\u001b[39m )\n",
      "\u001b[36mFile \u001b[39m\u001b[32mC:\\Program Files\\Python313\\Lib\\site-packages\\pandas\\core\\indexing.py:1558\u001b[39m, in \u001b[36m_LocIndexer._get_listlike_indexer\u001b[39m\u001b[34m(self, key, axis)\u001b[39m\n\u001b[32m   1555\u001b[39m ax = \u001b[38;5;28mself\u001b[39m.obj._get_axis(axis)\n\u001b[32m   1556\u001b[39m axis_name = \u001b[38;5;28mself\u001b[39m.obj._get_axis_name(axis)\n\u001b[32m-> \u001b[39m\u001b[32m1558\u001b[39m keyarr, indexer = \u001b[43max\u001b[49m\u001b[43m.\u001b[49m\u001b[43m_get_indexer_strict\u001b[49m\u001b[43m(\u001b[49m\u001b[43mkey\u001b[49m\u001b[43m,\u001b[49m\u001b[43m \u001b[49m\u001b[43maxis_name\u001b[49m\u001b[43m)\u001b[49m\n\u001b[32m   1560\u001b[39m \u001b[38;5;28;01mreturn\u001b[39;00m keyarr, indexer\n",
      "\u001b[36mFile \u001b[39m\u001b[32mC:\\Program Files\\Python313\\Lib\\site-packages\\pandas\\core\\indexes\\base.py:6200\u001b[39m, in \u001b[36mIndex._get_indexer_strict\u001b[39m\u001b[34m(self, key, axis_name)\u001b[39m\n\u001b[32m   6197\u001b[39m \u001b[38;5;28;01melse\u001b[39;00m:\n\u001b[32m   6198\u001b[39m     keyarr, indexer, new_indexer = \u001b[38;5;28mself\u001b[39m._reindex_non_unique(keyarr)\n\u001b[32m-> \u001b[39m\u001b[32m6200\u001b[39m \u001b[38;5;28;43mself\u001b[39;49m\u001b[43m.\u001b[49m\u001b[43m_raise_if_missing\u001b[49m\u001b[43m(\u001b[49m\u001b[43mkeyarr\u001b[49m\u001b[43m,\u001b[49m\u001b[43m \u001b[49m\u001b[43mindexer\u001b[49m\u001b[43m,\u001b[49m\u001b[43m \u001b[49m\u001b[43maxis_name\u001b[49m\u001b[43m)\u001b[49m\n\u001b[32m   6202\u001b[39m keyarr = \u001b[38;5;28mself\u001b[39m.take(indexer)\n\u001b[32m   6203\u001b[39m \u001b[38;5;28;01mif\u001b[39;00m \u001b[38;5;28misinstance\u001b[39m(key, Index):\n\u001b[32m   6204\u001b[39m     \u001b[38;5;66;03m# GH 42790 - Preserve name from an Index\u001b[39;00m\n",
      "\u001b[36mFile \u001b[39m\u001b[32mC:\\Program Files\\Python313\\Lib\\site-packages\\pandas\\core\\indexes\\base.py:6252\u001b[39m, in \u001b[36mIndex._raise_if_missing\u001b[39m\u001b[34m(self, key, indexer, axis_name)\u001b[39m\n\u001b[32m   6249\u001b[39m     \u001b[38;5;28;01mraise\u001b[39;00m \u001b[38;5;167;01mKeyError\u001b[39;00m(\u001b[33mf\u001b[39m\u001b[33m\"\u001b[39m\u001b[33mNone of [\u001b[39m\u001b[38;5;132;01m{\u001b[39;00mkey\u001b[38;5;132;01m}\u001b[39;00m\u001b[33m] are in the [\u001b[39m\u001b[38;5;132;01m{\u001b[39;00maxis_name\u001b[38;5;132;01m}\u001b[39;00m\u001b[33m]\u001b[39m\u001b[33m\"\u001b[39m)\n\u001b[32m   6251\u001b[39m not_found = \u001b[38;5;28mlist\u001b[39m(ensure_index(key)[missing_mask.nonzero()[\u001b[32m0\u001b[39m]].unique())\n\u001b[32m-> \u001b[39m\u001b[32m6252\u001b[39m \u001b[38;5;28;01mraise\u001b[39;00m \u001b[38;5;167;01mKeyError\u001b[39;00m(\u001b[33mf\u001b[39m\u001b[33m\"\u001b[39m\u001b[38;5;132;01m{\u001b[39;00mnot_found\u001b[38;5;132;01m}\u001b[39;00m\u001b[33m not in index\u001b[39m\u001b[33m\"\u001b[39m)\n",
      "\u001b[31mKeyError\u001b[39m: \"['Halimione', 'Hesperostipa', 'Spirea', 'Tsoongiodendron', 'Schizonepeta', 'Pascopyrum', 'Thinopyrum', 'Cyclachaena', 'Glaux', 'Alajja', 'Macrosciadium', 'Plectrachne', 'Rauwolfia', 'Mycelis', 'Myosoton', 'Othocallis', 'Fourraea'] not in index\""
     ]
    }
   ],
   "source": [
    "family_by_genera_lookup_table[groot_genera]"
   ]
  },
  {
   "cell_type": "code",
   "execution_count": 169,
   "id": "4e4c2654-edd4-492e-b42f-b7e45d562915",
   "metadata": {},
   "outputs": [
    {
     "data": {
      "text/html": [
       "<div>\n",
       "<style scoped>\n",
       "    .dataframe tbody tr th:only-of-type {\n",
       "        vertical-align: middle;\n",
       "    }\n",
       "\n",
       "    .dataframe tbody tr th {\n",
       "        vertical-align: top;\n",
       "    }\n",
       "\n",
       "    .dataframe thead th {\n",
       "        text-align: right;\n",
       "    }\n",
       "</style>\n",
       "<table border=\"1\" class=\"dataframe\">\n",
       "  <thead>\n",
       "    <tr style=\"text-align: right;\">\n",
       "      <th></th>\n",
       "      <th>family</th>\n",
       "      <th>genus</th>\n",
       "      <th>species</th>\n",
       "    </tr>\n",
       "  </thead>\n",
       "  <tbody>\n",
       "    <tr>\n",
       "      <th>58897</th>\n",
       "      <td>NaN</td>\n",
       "      <td>Bulbilis</td>\n",
       "      <td>dactyloide</td>\n",
       "    </tr>\n",
       "  </tbody>\n",
       "</table>\n",
       "</div>"
      ],
      "text/plain": [
       "      family     genus     species\n",
       "58897    NaN  Bulbilis  dactyloide"
      ]
     },
     "execution_count": 169,
     "metadata": {},
     "output_type": "execute_result"
    }
   ],
   "source": [
    "groot.query(\"genus == 'Bulbilis'\").loc[:, [\"family\", \"genus\", \"species\"]]"
   ]
  },
  {
   "cell_type": "code",
   "execution_count": 174,
   "id": "072ffb55-581f-454e-b4d7-2c94f1355b59",
   "metadata": {},
   "outputs": [
    {
     "data": {
      "text/plain": [
       "'Asteraceae'"
      ]
     },
     "execution_count": 174,
     "metadata": {},
     "output_type": "execute_result"
    }
   ],
   "source": [
    "family_by_genera_lookup_table[\"Rhaponticum\"]"
   ]
  },
  {
   "cell_type": "code",
   "execution_count": 178,
   "id": "7132e0c6-f6b6-4e71-9dfa-c4543097b9ce",
   "metadata": {},
   "outputs": [
    {
     "data": {
      "text/plain": [
       "Halimione          Amaranthaceae\n",
       "Hesperostipa             Poaceae\n",
       "Spirea                  Rosaceae\n",
       "Tsoongiodendron     Magnoliaceae\n",
       "Schizonepeta           Lamiaceae\n",
       "Pascopyrum               Poaceae\n",
       "Thinopyrum               Poaceae\n",
       "dtype: object"
      ]
     },
     "execution_count": 178,
     "metadata": {},
     "output_type": "execute_result"
    }
   ],
   "source": [
    "MISSING_LOOKUPS = {\n",
    "    \"Halimione\": \"Amaranthaceae\",\n",
    "    \"Hesperostipa\": \"Poaceae\",\n",
    "    \"Spirea\": \"Rosaceae\",\n",
    "    \"Tsoongiodendron\": \"Magnoliaceae\",\n",
    "    \"Schizonepeta\": \"Lamiaceae\",\n",
    "    \"Pascopyrum\": \"Poaceae\",\n",
    "    \"Thinopyrum\": \"Poaceae\",\n",
    "}\n",
    "\n",
    "pd.Series(MISSING_LOOKUPS)"
   ]
  },
  {
   "cell_type": "code",
   "execution_count": null,
   "id": "d75d5430-697d-4a24-8921-06ea6b56219c",
   "metadata": {},
   "outputs": [],
   "source": []
  }
 ],
 "metadata": {
  "kernelspec": {
   "display_name": "Python 3 (ipykernel)",
   "language": "python",
   "name": "python3"
  },
  "language_info": {
   "codemirror_mode": {
    "name": "ipython",
    "version": 3
   },
   "file_extension": ".py",
   "mimetype": "text/x-python",
   "name": "python",
   "nbconvert_exporter": "python",
   "pygments_lexer": "ipython3",
   "version": "3.13.2"
  }
 },
 "nbformat": 4,
 "nbformat_minor": 5
}

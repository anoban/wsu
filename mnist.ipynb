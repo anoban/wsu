{
 "cells": [
  {
   "cell_type": "markdown",
   "id": "a47f8ae5-0d2b-4893-8c4b-09c4c3a989fb",
   "metadata": {},
   "source": [
    "# ___CIFAR10___\n",
    "-----------------"
   ]
  },
  {
   "cell_type": "code",
   "execution_count": 26,
   "id": "2ab52cf1-3f48-4afa-8a89-f7eb19bca34b",
   "metadata": {},
   "outputs": [],
   "source": [
    "# https://www.cs.toronto.edu/~kriz/cifar.html"
   ]
  },
  {
   "cell_type": "code",
   "execution_count": 18,
   "id": "5b96c76f-0dbc-4011-8505-45ccf7aad1b5",
   "metadata": {},
   "outputs": [],
   "source": [
    "import os\n",
    "import pickle\n",
    "\n",
    "import numpy as np\n",
    "import matplotlib.pyplot as plt\n",
    "\n",
    "import torch\n",
    "import torch.nn as nn\n",
    "from torch.utils.data import Dataset"
   ]
  },
  {
   "cell_type": "code",
   "execution_count": 7,
   "id": "eedb8606-5cb1-4f1b-bf32-5b2b0f826a36",
   "metadata": {},
   "outputs": [
    {
     "data": {
      "text/plain": [
       "['batches.meta',\n",
       " 'data_batch_1',\n",
       " 'data_batch_2',\n",
       " 'data_batch_3',\n",
       " 'data_batch_4',\n",
       " 'data_batch_5',\n",
       " 'readme.html',\n",
       " 'test_batch']"
      ]
     },
     "execution_count": 7,
     "metadata": {},
     "output_type": "execute_result"
    }
   ],
   "source": [
    "os.listdir(r\"./cifar-10-batches-py/\")"
   ]
  },
  {
   "cell_type": "code",
   "execution_count": 16,
   "id": "c15384e1-f963-4789-8bd8-890ad7d6b14a",
   "metadata": {},
   "outputs": [
    {
     "data": {
      "text/plain": [
       "{'num_cases_per_batch': 10000,\n",
       " 'label_names': ['airplane',\n",
       "  'automobile',\n",
       "  'bird',\n",
       "  'cat',\n",
       "  'deer',\n",
       "  'dog',\n",
       "  'frog',\n",
       "  'horse',\n",
       "  'ship',\n",
       "  'truck'],\n",
       " 'num_vis': 3072}"
      ]
     },
     "execution_count": 16,
     "metadata": {},
     "output_type": "execute_result"
    }
   ],
   "source": [
    "# CIFAR10 metedata\n",
    "\n",
    "with open(file=r\"./cifar-10-batches-py/batches.meta\", mode=\"rb\") as fp:\n",
    "    cifar10_metadata = pickle.load(fp)\n",
    "\n",
    "cifar10_metadata"
   ]
  },
  {
   "cell_type": "code",
   "execution_count": 22,
   "id": "1f36fab1-1265-464d-8955-27db1b8f29ca",
   "metadata": {},
   "outputs": [
    {
     "data": {
      "text/plain": [
       "['data_batch_1',\n",
       " 'data_batch_2',\n",
       " 'data_batch_3',\n",
       " 'data_batch_4',\n",
       " 'data_batch_5']"
      ]
     },
     "execution_count": 22,
     "metadata": {},
     "output_type": "execute_result"
    }
   ],
   "source": [
    "# image batches\n",
    "os.listdir(r\"./cifar-10-batches-py/\")[1:6]"
   ]
  },
  {
   "cell_type": "code",
   "execution_count": 24,
   "id": "99444cc4-bb95-48bc-9312-63925e1ab955",
   "metadata": {},
   "outputs": [],
   "source": [
    "with open(file=r\"./cifar-10-batches-py/data_batch_1\", mode=\"rb\") as fp:\n",
    "    batch_01 = np.fromfile(file=fp, dtype=np.uint8, shape=(10_000, ))"
   ]
  },
  {
   "cell_type": "code",
   "execution_count": 25,
   "id": "381b1872-08e2-48e8-9d39-e73ccf302c8e",
   "metadata": {},
   "outputs": [
    {
     "data": {
      "text/plain": [
       "array([128,   2, 125, ..., 101, 117,  46], shape=(31035704,), dtype=uint8)"
      ]
     },
     "execution_count": 25,
     "metadata": {},
     "output_type": "execute_result"
    }
   ],
   "source": [
    "batch_01"
   ]
  }
 ],
 "metadata": {
  "kernelspec": {
   "display_name": "Python 3 (ipykernel)",
   "language": "python",
   "name": "python3"
  },
  "language_info": {
   "codemirror_mode": {
    "name": "ipython",
    "version": 3
   },
   "file_extension": ".py",
   "mimetype": "text/x-python",
   "name": "python",
   "nbconvert_exporter": "python",
   "pygments_lexer": "ipython3",
   "version": "3.13.4"
  }
 },
 "nbformat": 4,
 "nbformat_minor": 5
}

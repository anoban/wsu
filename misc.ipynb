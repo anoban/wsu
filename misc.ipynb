{
 "cells": [
  {
   "cell_type": "code",
   "execution_count": 21,
   "id": "a02479bb-6773-4be4-a322-3d0ddcce2160",
   "metadata": {},
   "outputs": [],
   "source": [
    "from numba import njit"
   ]
  },
  {
   "cell_type": "code",
   "execution_count": 36,
   "id": "497b4115-2310-43cc-99dd-1d021ffeb1bd",
   "metadata": {},
   "outputs": [],
   "source": [
    "@njit(fastmath=True)\n",
    "def cumulative_interest(initial_capital: float, annual_interest: float, n_years: int) -> float:\n",
    "    \"\"\"\n",
    "    \n",
    "    \"\"\"\n",
    "    capital: float = initial_capital\n",
    "    MULTIPLIER: float = (1.0 + annual_interest / 100)\n",
    "    for _ in range(n_years):\n",
    "        capital *= MULTIPLIER\n",
    "    return capital"
   ]
  },
  {
   "cell_type": "code",
   "execution_count": 45,
   "id": "f3c9f96c-dbb0-4054-8ee7-ec067f35e794",
   "metadata": {},
   "outputs": [
    {
     "data": {
      "text/plain": [
       "14914391.149930347"
      ]
     },
     "execution_count": 45,
     "metadata": {},
     "output_type": "execute_result"
    }
   ],
   "source": [
    "cumulative_interest(35_000, 9.0, 10) * 180"
   ]
  },
  {
   "cell_type": "code",
   "execution_count": null,
   "id": "0452e3e7-4ad8-450a-bfbe-2de8031ff741",
   "metadata": {},
   "outputs": [],
   "source": []
  }
 ],
 "metadata": {
  "kernelspec": {
   "display_name": "Python 3 (ipykernel)",
   "language": "python",
   "name": "python3"
  },
  "language_info": {
   "codemirror_mode": {
    "name": "ipython",
    "version": 3
   },
   "file_extension": ".py",
   "mimetype": "text/x-python",
   "name": "python",
   "nbconvert_exporter": "python",
   "pygments_lexer": "ipython3",
   "version": "3.13.2"
  }
 },
 "nbformat": 4,
 "nbformat_minor": 5
}

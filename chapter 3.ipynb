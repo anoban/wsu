{
 "cells": [
  {
   "cell_type": "code",
   "execution_count": 1,
   "id": "733d1c57-6288-48d5-9d1f-61d69bd53cd4",
   "metadata": {},
   "outputs": [],
   "source": [
    "import numpy as np\n",
    "import pandas as pd\n",
    "import matplotlib.pyplot as plt"
   ]
  },
  {
   "cell_type": "code",
   "execution_count": 2,
   "id": "00d8d2f9-5092-4662-9bbd-d7ecf0ae26a3",
   "metadata": {},
   "outputs": [],
   "source": [
    "fred = pd.read_csv(r\"./data/FRED/FRED3_Entire_Database_2021.csv\", low_memory=False, header=0, skiprows=range(1, 10), encoding=\"latin1\") # FRED v3\n",
    "meta = pd.read_csv(r\"./data/FRED/FRED3_Column_Definitions_2021.csv\", usecols=[\"column_id\", \"name\", \"units\"], index_col=\"column_id\") # metadata for FRED v3 (column names, units etc.)\n",
    "lookup = pd.read_csv(r\"./data/plantlookup.csv\", # https://github.com/traitecoevo/taxonlookup/releases/download/v1.1.5/plant_lookup.csv\n",
    "                     low_memory=False, encoding=\"latin1\", index_col=0) # https://besjournals.onlinelibrary.wiley.com/doi/full/10.1111/2041-210X.12517"
   ]
  },
  {
   "cell_type": "code",
   "execution_count": null,
   "id": "dce6742e-5b9c-4618-8d2e-e1c9b519e48e",
   "metadata": {},
   "outputs": [],
   "source": []
  },
  {
   "cell_type": "code",
   "execution_count": 4,
   "id": "8f3d0cd1-bfd6-4452-895e-0cb1fe00837a",
   "metadata": {},
   "outputs": [],
   "source": [
    "# traits relevent to the root economics space (RES)\n",
    "\n",
    "COLLABORATION_GRADIENT_TRAITS = [\n",
    "    \"F00679\", # RD\n",
    "    \"F00727\", # SRL\n",
    "    \"F00718\", #\tSpecific root area (SRA)\n",
    "    \"F00104\", # RCT\n",
    "    \"F00622\", # Mycorrhiza_Fraction root length colonized by AM mycorrhizae\n",
    "    \"F00626\", # Mycorrhiza_Fraction root length colonized by EM mycorrhizae\n",
    "    \"F00638\", # Mycorrhiza_Fraction of root length\n",
    "    \"F00645\"  # Mycorrhiza_Type_Data\n",
    "]\n",
    "\n",
    "CONSERVATION_GRADIENT_TRAITS = [\n",
    "    \"F00709\", # RTD\n",
    "    \"F00277\", #\tRoot P content\n",
    "    \"F00261\", # Root N content\n",
    "    \"F00358\"  # Root lignin content\n",
    "]"
   ]
  },
  {
   "cell_type": "code",
   "execution_count": null,
   "id": "95737c81-58a0-4bb6-b453-da951088a45b",
   "metadata": {},
   "outputs": [],
   "source": []
  },
  {
   "cell_type": "code",
   "execution_count": 6,
   "id": "0263ea4e-7dca-4b5e-a808-7bcee446123f",
   "metadata": {},
   "outputs": [],
   "source": [
    "FRED_MISSPELT_GENERA = {\n",
    "     \"Aglaria\": \"Aglaia\",\n",
    "     \"Aporusa\": \"Aporosa\",\n",
    "     \"Artrocarpus\": \"Artocarpus\",\n",
    "     \"Atrocarpus\": \"Artocarpus\",\n",
    "     \"Brosimun\": \"Brosimum\",\n",
    "     \"Diospyrus\": \"Diospyros\",\n",
    "     \"Gletitsia\": \"Gleditsia\",\n",
    "     \"Parakmeria\": \"Magnolia\", # Parakmeria lotungensis is synonym for Magnolia lotungensis\n",
    "     \"Paramichelia\": \"Magnolia\", # Paramichelia baillonii is synonym for Magnolia baillonii\n",
    "     \"Polyanthia\": \"Polyalthia\",\n",
    "     \"Tabebuis\": \"Tabebuia\",\n",
    "     \"Tabernamontana\": \"Tabernaemontana\",\n",
    "     \"Tsoongiodendron\": \"Magnolia\" # Tsoongiodendron odorum is synonym for Magnolia odora\n",
    "}\n",
    "\n",
    "LOOKUP_MISSING_GENERA = {\n",
    "    \"Carrizo\": \"Rutaceae\",\n",
    "    \"Cuoropita\": \"Lecythidaceae\",\n",
    "    \"Tsoongiodendron\": \"Magnoliaceae\",\n",
    "    \"Schizonepeta\": \"Lamiaceae\",\n",
    "    \"Schyzolobium\": \"Fabaceae\",\n",
    "    \"Swingle\": \"Rutaceae\",\n",
    "    \"x Citrofortunella\": \"Rutaceae\" # Citrofortunella\n",
    "}"
   ]
  },
  {
   "cell_type": "code",
   "execution_count": null,
   "id": "9a907055-c6dc-4e6e-9d9c-53c9c3a4d47c",
   "metadata": {},
   "outputs": [],
   "source": []
  }
 ],
 "metadata": {
  "kernelspec": {
   "display_name": "Python 3 (ipykernel)",
   "language": "python",
   "name": "python3"
  },
  "language_info": {
   "codemirror_mode": {
    "name": "ipython",
    "version": 3
   },
   "file_extension": ".py",
   "mimetype": "text/x-python",
   "name": "python",
   "nbconvert_exporter": "python",
   "pygments_lexer": "ipython3",
   "version": "3.13.3"
  }
 },
 "nbformat": 4,
 "nbformat_minor": 5
}

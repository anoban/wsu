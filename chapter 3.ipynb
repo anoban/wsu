{
 "cells": [
  {
   "cell_type": "code",
   "execution_count": 1,
   "id": "733d1c57-6288-48d5-9d1f-61d69bd53cd4",
   "metadata": {},
   "outputs": [],
   "source": [
    "import numpy as np\n",
    "import pandas as pd\n",
    "import matplotlib.pyplot as plt"
   ]
  },
  {
   "cell_type": "code",
   "execution_count": 2,
   "id": "00d8d2f9-5092-4662-9bbd-d7ecf0ae26a3",
   "metadata": {},
   "outputs": [],
   "source": [
    "fred = pd.read_csv(r\"./data/FRED/FRED3_Entire_Database_2021.csv\", low_memory=False, header=0, skiprows=range(1, 10), encoding=\"latin1\") # FRED v3\n",
    "meta = pd.read_csv(r\"./data/FRED/FRED3_Column_Definitions_2021.csv\", usecols=[\"column_id\", \"name\", \"units\"], index_col=\"column_id\") # metadata for FRED v3 (column names, units etc.)\n",
    "lookup = pd.read_csv(r\"./data/plantlookup.csv\", # https://github.com/traitecoevo/taxonlookup/releases/download/v1.1.5/plant_lookup.csv\n",
    "                     low_memory=False, encoding=\"latin1\", index_col=0) # https://besjournals.onlinelibrary.wiley.com/doi/full/10.1111/2041-210X.12517"
   ]
  },
  {
   "cell_type": "code",
   "execution_count": null,
   "id": "dce6742e-5b9c-4618-8d2e-e1c9b519e48e",
   "metadata": {},
   "outputs": [],
   "source": []
  },
  {
   "cell_type": "code",
   "execution_count": 5,
   "id": "8f3d0cd1-bfd6-4452-895e-0cb1fe00837a",
   "metadata": {},
   "outputs": [],
   "source": [
    "# traits relevent to the root economics space (RES)\n",
    "\n",
    "COLLABORATION_GRADIENT_TRAITS = [\n",
    "    \"F00679\", # RD\n",
    "    \"F00727\", # SRL\n",
    "    \"F00718\", #\tSpecific root area (SRA)\n",
    "    \"F00104\", # RCT\n",
    "    \"F00622\", # Mycorrhiza_Fraction root length colonized by AM mycorrhizae\n",
    "    \"F00626\", # Mycorrhiza_Fraction root length colonized by EM mycorrhizae\n",
    "    \"F00638\", # Mycorrhiza_Fraction of root length\n",
    "    \"F00645\"  # Mycorrhiza_Type_Data - not technically a root trait, just a relevant info\n",
    "]\n",
    "\n",
    "CONSERVATION_GRADIENT_TRAITS = [\n",
    "    \"F00709\", # RTD\n",
    "    \"F00277\", #\tRoot P content\n",
    "    \"F00261\", # Root N content\n",
    "    \"F00358\"  # Root lignin content\n",
    "]\n",
    "\n",
    "PLANT_TAXONOMY_ACCEPTED_COLUMNS = [\n",
    "    \"F01286\", # Genus of plant according to The Plant List\n",
    "    \"F01287\", # Species epithet of plant according to The Plant List\n",
    "    \"F01289\", # Family of plant according to The Plant List\n",
    "    \"F01290\" # Order of plant. For Angiosperms, this was determined using the Angiosperm Phylogeny Website (APW): Stevens, P. F. (2001 onwards). Angiosperm Phylogeny Website. \n",
    "             # Version 14, July 2017 [and more or less continuously updated since]. Online at http://www.mobot.org/MOBOT/research/APweb/. \n",
    "             # For other plant groups (Gymnosperms, Pteridophytes, and Bryophytes) this was determined first using APW, but in cases where there were discrepancies within APW,\n",
    "             # and to maintain consistency in suffix nomenclature (i.e. all orders ending in “iales”), additional sources were used including the USDA Plants Database \n",
    "             # (https://plants.usda.gov/) and the Missouri Botanical Garden (http://www.missouribotanicalgarden.org/plant-science/plant-science/research/plant-identification.aspx).\n",
    "]\n",
    "\n",
    "ESSENTIAL_COLUMNS = [\n",
    "    \"F00018\", # genus\n",
    "    \"F00019\", # species\n",
    "    \"F00056\" # root order\n",
    "]"
   ]
  },
  {
   "cell_type": "code",
   "execution_count": null,
   "id": "95737c81-58a0-4bb6-b453-da951088a45b",
   "metadata": {},
   "outputs": [],
   "source": []
  },
  {
   "cell_type": "code",
   "execution_count": 6,
   "id": "0263ea4e-7dca-4b5e-a808-7bcee446123f",
   "metadata": {},
   "outputs": [],
   "source": [
    "FRED_MISSPELT_GENERA = {\n",
    "     \"Aglaria\": \"Aglaia\",\n",
    "     \"Aporusa\": \"Aporosa\",\n",
    "     \"Artrocarpus\": \"Artocarpus\",\n",
    "     \"Atrocarpus\": \"Artocarpus\",\n",
    "     \"Brosimun\": \"Brosimum\",\n",
    "     \"Diospyrus\": \"Diospyros\",\n",
    "     \"Gletitsia\": \"Gleditsia\",\n",
    "     \"Parakmeria\": \"Magnolia\", # Parakmeria lotungensis is synonym for Magnolia lotungensis\n",
    "     \"Paramichelia\": \"Magnolia\", # Paramichelia baillonii is synonym for Magnolia baillonii\n",
    "     \"Polyanthia\": \"Polyalthia\",\n",
    "     \"Tabebuis\": \"Tabebuia\",\n",
    "     \"Tabernamontana\": \"Tabernaemontana\",\n",
    "     \"Tsoongiodendron\": \"Magnolia\" # Tsoongiodendron odorum is synonym for Magnolia odora\n",
    "}\n",
    "\n",
    "LOOKUP_MISSING_GENERA = {\n",
    "    \"Carrizo\": \"Rutaceae\",\n",
    "    \"Cuoropita\": \"Lecythidaceae\",\n",
    "    \"Tsoongiodendron\": \"Magnoliaceae\",\n",
    "    \"Schizonepeta\": \"Lamiaceae\",\n",
    "    \"Schyzolobium\": \"Fabaceae\",\n",
    "    \"Swingle\": \"Rutaceae\",\n",
    "    \"x Citrofortunella\": \"Rutaceae\" # Citrofortunella\n",
    "}"
   ]
  },
  {
   "cell_type": "code",
   "execution_count": null,
   "id": "9a907055-c6dc-4e6e-9d9c-53c9c3a4d47c",
   "metadata": {},
   "outputs": [],
   "source": []
  },
  {
   "cell_type": "code",
   "execution_count": 21,
   "id": "fb58f66e-e3d6-43e4-ba44-966b43262565",
   "metadata": {},
   "outputs": [
    {
     "data": {
      "image/png": "[encoded data removed]",
      "text/plain": [
       "<Figure size 600x600 with 1 Axes>"
      ]
     },
     "metadata": {},
     "output_type": "display_data"
    }
   ],
   "source": [
    "# root order and root diameter\n",
    "\n",
    "fig, axes = plt.subplots()\n",
    "fig.set_size_inches(6, 6)\n",
    "axes.boxplot([group.F00679 for (_, group) in fred.loc[:, [\"F00679\", \"F00056\"]].dropna().groupby(\"F00056\")], label=[order for (order, _) in fred.loc[:, [\"F00679\", \"F00056\"]].dropna().groupby(\"F00056\")])\n",
    "axes.set_ylabel(\"$RD$\")\n",
    "axes.set_xlabel(r\"$Root\\hspace{1}order$\")\n",
    "plt.show()\n",
    "\n",
    "# fred.loc[:, COLLABORATION_GRADIENT_TRAITS + CONSERVATION_GRADIENT_TRAITS + PLANT_TAXONOMY_ACCEPTED_COLUMNS + ESSENTIAL_COLUMNS].query(\"F00056.isin((1,2,3))\").F00679"
   ]
  },
  {
   "cell_type": "code",
   "execution_count": null,
   "id": "325c6c50-51d1-4d4f-a4e0-a874eae1978b",
   "metadata": {},
   "outputs": [],
   "source": []
  }
 ],
 "metadata": {
  "kernelspec": {
   "display_name": "Python 3 (ipykernel)",
   "language": "python",
   "name": "python3"
  },
  "language_info": {
   "codemirror_mode": {
    "name": "ipython",
    "version": 3
   },
   "file_extension": ".py",
   "mimetype": "text/x-python",
   "name": "python",
   "nbconvert_exporter": "python",
   "pygments_lexer": "ipython3",
   "version": "3.13.4"
  }
 },
 "nbformat": 4,
 "nbformat_minor": 5
}

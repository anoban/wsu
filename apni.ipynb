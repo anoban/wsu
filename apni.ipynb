{
 "cells": [
  {
   "cell_type": "code",
   "execution_count": 24,
   "id": "3791a0be-aa5e-4168-92d5-4894b2129760",
   "metadata": {},
   "outputs": [],
   "source": [
    "from bs4 import BeautifulSoup\n",
    "import re"
   ]
  },
  {
   "cell_type": "code",
   "execution_count": 107,
   "id": "435e02c6-dce6-4552-859f-c36dcf6ad947",
   "metadata": {},
   "outputs": [],
   "source": [
    "def parse_apni_name_list(path_to_html: str) -> \"NDArray[str]\":\n",
    "    \"\"\"\n",
    "    \"\"\"\n",
    "    try:\n",
    "        import re\n",
    "        PATTERN = re.compile(r\"www.anbg.gov.au/cgi-bin/apx\\?taxon_id=[\\d]+\", re.IGNORECASE)\n",
    "        from bs4 import BeautifulSoup\n",
    "        import numpy as np\n",
    "        from numpy.typing import NDArray\n",
    "        with open(file=path_to_html, mode=\"r\") as fp:\n",
    "            soup = BeautifulSoup(fp.read(), r\"html.parser\")\n",
    "    except ModuleNotFoundError as mnf_err:\n",
    "        raise RuntimeError(\"This function requires modules numpy and bs4 to be installed on the machine!\") from mnf_err\n",
    "    except FileNotFoundError as fnf_err:\n",
    "        raise RuntimeError(f\"Invalid path! {path_to_html}\") from fnf_err\n",
    "\n",
    "    return np.array([_.text for _ in soup.find_all(\"a\", attrs={\"href\": PATTERN})])    "
   ]
  },
  {
   "cell_type": "code",
   "execution_count": 108,
   "id": "f2650fb7-0445-4ad1-9ff4-75937bce3aa1",
   "metadata": {},
   "outputs": [
    {
     "data": {
      "text/plain": [
       "array(['Abacopteris Fee', 'Abacopteris presliana (Ching) Ching',\n",
       "       'Abacopteris triphylla (Sw.) Ching', ...,\n",
       "       'Zygophyllum terminale Turcz.', 'Zygophyllum tesquorum J.M.Black',\n",
       "       'Zygophyllum tetrapterum H.Eichler ex R.M.Barker'],\n",
       "      shape=(70672,), dtype='<U97')"
      ]
     },
     "execution_count": 108,
     "metadata": {},
     "output_type": "execute_result"
    }
   ],
   "source": [
    "parse_apni_name_list(r\"./Australian Plant Name Index (APNI).html\")"
   ]
  },
  {
   "cell_type": "code",
   "execution_count": null,
   "id": "edf2e88b-72ea-497a-836e-c3a7f497cbd8",
   "metadata": {},
   "outputs": [],
   "source": []
  },
  {
   "cell_type": "code",
   "execution_count": null,
   "id": "05c056b7-52bd-4753-b4e4-9f797c37c1bb",
   "metadata": {},
   "outputs": [],
   "source": []
  }
 ],
 "metadata": {
  "kernelspec": {
   "display_name": "Python 3 (ipykernel)",
   "language": "python",
   "name": "python3"
  },
  "language_info": {
   "codemirror_mode": {
    "name": "ipython",
    "version": 3
   },
   "file_extension": ".py",
   "mimetype": "text/x-python",
   "name": "python",
   "nbconvert_exporter": "python",
   "pygments_lexer": "ipython3",
   "version": "3.13.3"
  }
 },
 "nbformat": 4,
 "nbformat_minor": 5
}

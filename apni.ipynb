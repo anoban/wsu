{
 "cells": [
  {
   "cell_type": "code",
   "execution_count": 1,
   "id": "3791a0be-aa5e-4168-92d5-4894b2129760",
   "metadata": {},
   "outputs": [],
   "source": [
    "from bs4 import BeautifulSoup"
   ]
  },
  {
   "cell_type": "code",
   "execution_count": 3,
   "id": "435e02c6-dce6-4552-859f-c36dcf6ad947",
   "metadata": {},
   "outputs": [],
   "source": [
    "def parse_apni_name_list() -> list[str]:\n",
    "    \"\"\"\n",
    "    \"\"\"\n",
    "    try:\n",
    "        from bs4 import BeautifulSoup\n",
    "    except ModuleNotFoundError as mnf_err:\n",
    "        raise RuntimeError(\"This function requires bs4 to be installed on the machine!\") from mnf_err\n",
    "    except ImportError as imp_err:\n",
    "        raise RuntimeError(\"This function requires bs4 to be installed on the machine!\") from imp_err"
   ]
  },
  {
   "cell_type": "code",
   "execution_count": null,
   "id": "f2650fb7-0445-4ad1-9ff4-75937bce3aa1",
   "metadata": {},
   "outputs": [],
   "source": []
  }
 ],
 "metadata": {
  "kernelspec": {
   "display_name": "Python 3 (ipykernel)",
   "language": "python",
   "name": "python3"
  },
  "language_info": {
   "codemirror_mode": {
    "name": "ipython",
    "version": 3
   },
   "file_extension": ".py",
   "mimetype": "text/x-python",
   "name": "python",
   "nbconvert_exporter": "python",
   "pygments_lexer": "ipython3",
   "version": "3.13.3"
  }
 },
 "nbformat": 4,
 "nbformat_minor": 5
}

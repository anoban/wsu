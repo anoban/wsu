{
 "cells": [
  {
   "cell_type": "markdown",
   "id": "1952f390-e917-4e68-9cc2-e13190f16f34",
   "metadata": {},
   "source": [
    "## ___GLMM___\n",
    "----------------"
   ]
  },
  {
   "cell_type": "code",
   "execution_count": null,
   "id": "3508970f-05ed-438e-8f21-9543bb264f79",
   "metadata": {},
   "outputs": [],
   "source": [
    "# https://medium.com/@akif.iips/understanding-random-effect-and-fixed-effect-in-statistical-analysis-db4983cdf8b1"
   ]
  },
  {
   "cell_type": "code",
   "execution_count": null,
   "id": "f1a8fb8a-18d7-45bd-89c8-b2a40de988fe",
   "metadata": {},
   "outputs": [],
   "source": [
    "# first of all, all of thes are linear models, WE ARE ESSENTIALLY TALKING ABOUT COMPLEX NON-POLYNOMIAL REGRESSION!!!"
   ]
  },
  {
   "cell_type": "code",
   "execution_count": 1,
   "id": "510a468b-372d-4636-8881-62f88a038319",
   "metadata": {},
   "outputs": [],
   "source": [
    "import numpy as np\n",
    "import matplotlib.pyplot as plt"
   ]
  },
  {
   "cell_type": "code",
   "execution_count": 2,
   "id": "528efd60-9e25-4dc1-b54f-431dd7dd1b1e",
   "metadata": {},
   "outputs": [],
   "source": [
    "# fixed effects - consider a group with groups within, the overarching group will have a common slope shared by all \n",
    "# the subgroups, but each subgroup will have its own intercept. This accounts for the unique group specific variations (different biases)\n",
    "\n",
    "# random effects - using the same example, "
   ]
  },
  {
   "cell_type": "code",
   "execution_count": null,
   "id": "c42d630e-e237-4d03-925b-c1e8545cc340",
   "metadata": {},
   "outputs": [],
   "source": []
  },
  {
   "cell_type": "markdown",
   "id": "7680f70e-2d4c-46ba-82bb-62625ec8c36e",
   "metadata": {},
   "source": [
    "### ___Fixed Effects___\n",
    "---------"
   ]
  },
  {
   "cell_type": "code",
   "execution_count": null,
   "id": "ea2e1aef-ef59-41e3-a578-6e42081ee9e0",
   "metadata": {},
   "outputs": [],
   "source": [
    "# a study tries to investigate the efficacy of two different teaching methods in student performance using school students across \n",
    "# a set of diferent schools\n",
    "\n",
    "# the impact teaching method has on student performance is of interest to us\n",
    "# but there could be other factors influencing the student performance, like there may be school specific factors - mean socioeconomic\n",
    "# status of the students, mean attendence rates, gender distribution of pupil, facilities available in the school, funding that the said\n",
    "# school receives to support special-ed students and whatnot\n",
    "\n",
    "# "
   ]
  },
  {
   "cell_type": "code",
   "execution_count": null,
   "id": "90411b5d-8eb8-473a-ae1c-13d8dd247b08",
   "metadata": {},
   "outputs": [],
   "source": []
  },
  {
   "cell_type": "markdown",
   "id": "71d9431f-859e-437d-b2d0-a4d7a358826f",
   "metadata": {},
   "source": [
    "#### ___Random Effects___\n",
    "-----------------"
   ]
  },
  {
   "cell_type": "code",
   "execution_count": null,
   "id": "e6aad798-1e2a-4770-bd97-daef8d8962c1",
   "metadata": {},
   "outputs": [],
   "source": []
  }
 ],
 "metadata": {
  "kernelspec": {
   "display_name": "Python 3 (ipykernel)",
   "language": "python",
   "name": "python3"
  },
  "language_info": {
   "codemirror_mode": {
    "name": "ipython",
    "version": 3
   },
   "file_extension": ".py",
   "mimetype": "text/x-python",
   "name": "python",
   "nbconvert_exporter": "python",
   "pygments_lexer": "ipython3",
   "version": "3.13.2"
  }
 },
 "nbformat": 4,
 "nbformat_minor": 5
}

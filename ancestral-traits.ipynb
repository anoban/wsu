{
 "cells": [
  {
   "cell_type": "code",
   "execution_count": 118,
   "id": "691a9d64-dc8a-43bb-a79b-2f7bbadad3a6",
   "metadata": {},
   "outputs": [],
   "source": [
    "import pandas as pd\n",
    "import numpy as np\n",
    "import matplotlib.pyplot as plt"
   ]
  },
  {
   "cell_type": "code",
   "execution_count": 13,
   "id": "db5ba0cc-26fb-40ef-ab28-c6440c7f7adc",
   "metadata": {},
   "outputs": [],
   "source": [
    "fred = pd.read_csv(r\"./data/FRED/FRED3_Entire_Database_2021.csv\", low_memory=False, header=0, skiprows=range(1, 10), encoding=\"latin1\")\n",
    "meta = pd.read_csv(r\"./data/FRED/FRED3_Column_Definitions_2021.csv\", usecols=[\"column_id\", \"name\", \"units\"], index_col=\"column_id\")\n",
    "lookup = pd.read_csv(r\"./data/plantlookup.csv\", low_memory=False, encoding=\"latin1\", index_col=0)"
   ]
  },
  {
   "cell_type": "code",
   "execution_count": null,
   "id": "39f000a5-8069-4a9e-bb42-14afe9d94a48",
   "metadata": {},
   "outputs": [],
   "source": []
  },
  {
   "cell_type": "code",
   "execution_count": 3,
   "id": "9be4a112-1037-4cd6-81dc-8f2270892ab9",
   "metadata": {},
   "outputs": [],
   "source": [
    "COLLABORATION_GRADIENT_TRAITS = [\n",
    "    \"F00679\", # RD\n",
    "    \"F00727\", # SRL\n",
    "    \"F00718\", #\tSpecific root area (SRA)\n",
    "    \"F00104\", # RCT\n",
    "    \"F00622\", # Mycorrhiza_Fraction root length colonized by AM mycorrhizae\n",
    "    \"F00626\", # Mycorrhiza_Fraction root length colonized by EM mycorrhizae\n",
    "    \"F00638\", # Mycorrhiza_Fraction of root length\n",
    "    \"F00645\"  # Mycorrhiza_Type_Data\n",
    "]\n",
    "\n",
    "CONSERVATION_GRADIENT_TRAITS = [\n",
    "    \"F00709\", # RTD\n",
    "    \"F00277\", #\tRoot P content\n",
    "    \"F00261\", # Root N content\n",
    "    \"F00358\"  # Root lignin content\n",
    "]"
   ]
  },
  {
   "cell_type": "code",
   "execution_count": 4,
   "id": "78096036-bfa7-4414-933e-8545b80ee574",
   "metadata": {},
   "outputs": [],
   "source": [
    "# meta[meta.name.str.contains(\"taxonomy\")]"
   ]
  },
  {
   "cell_type": "code",
   "execution_count": 28,
   "id": "3362a083-3eda-4837-85aa-7804907e6b4b",
   "metadata": {},
   "outputs": [
    {
     "data": {
      "text/html": [
       "<div>\n",
       "<style scoped>\n",
       "    .dataframe tbody tr th:only-of-type {\n",
       "        vertical-align: middle;\n",
       "    }\n",
       "\n",
       "    .dataframe tbody tr th {\n",
       "        vertical-align: top;\n",
       "    }\n",
       "\n",
       "    .dataframe thead th {\n",
       "        text-align: right;\n",
       "    }\n",
       "</style>\n",
       "<table border=\"1\" class=\"dataframe\">\n",
       "  <thead>\n",
       "    <tr style=\"text-align: right;\">\n",
       "      <th></th>\n",
       "      <th>family</th>\n",
       "      <th>order</th>\n",
       "      <th>group</th>\n",
       "    </tr>\n",
       "    <tr>\n",
       "      <th>genus</th>\n",
       "      <th></th>\n",
       "      <th></th>\n",
       "      <th></th>\n",
       "    </tr>\n",
       "  </thead>\n",
       "  <tbody>\n",
       "    <tr>\n",
       "      <th>Acorus</th>\n",
       "      <td>Acoraceae</td>\n",
       "      <td>Acorales</td>\n",
       "      <td>Angiosperms</td>\n",
       "    </tr>\n",
       "    <tr>\n",
       "      <th>Albidella</th>\n",
       "      <td>Alismataceae</td>\n",
       "      <td>Alismatales</td>\n",
       "      <td>Angiosperms</td>\n",
       "    </tr>\n",
       "    <tr>\n",
       "      <th>Alisma</th>\n",
       "      <td>Alismataceae</td>\n",
       "      <td>Alismatales</td>\n",
       "      <td>Angiosperms</td>\n",
       "    </tr>\n",
       "    <tr>\n",
       "      <th>Astonia</th>\n",
       "      <td>Alismataceae</td>\n",
       "      <td>Alismatales</td>\n",
       "      <td>Angiosperms</td>\n",
       "    </tr>\n",
       "    <tr>\n",
       "      <th>Baldellia</th>\n",
       "      <td>Alismataceae</td>\n",
       "      <td>Alismatales</td>\n",
       "      <td>Angiosperms</td>\n",
       "    </tr>\n",
       "    <tr>\n",
       "      <th>...</th>\n",
       "      <td>...</td>\n",
       "      <td>...</td>\n",
       "      <td>...</td>\n",
       "    </tr>\n",
       "    <tr>\n",
       "      <th>Ugena</th>\n",
       "      <td>Lygodiaceae</td>\n",
       "      <td>Schizaeales</td>\n",
       "      <td>Pteridophytes</td>\n",
       "    </tr>\n",
       "    <tr>\n",
       "      <th>Actinostachys</th>\n",
       "      <td>Schizaeaceae</td>\n",
       "      <td>Schizaeales</td>\n",
       "      <td>Pteridophytes</td>\n",
       "    </tr>\n",
       "    <tr>\n",
       "      <th>Lophidium</th>\n",
       "      <td>Schizaeaceae</td>\n",
       "      <td>Schizaeales</td>\n",
       "      <td>Pteridophytes</td>\n",
       "    </tr>\n",
       "    <tr>\n",
       "      <th>Microschizaea</th>\n",
       "      <td>Schizaeaceae</td>\n",
       "      <td>Schizaeales</td>\n",
       "      <td>Pteridophytes</td>\n",
       "    </tr>\n",
       "    <tr>\n",
       "      <th>Schizaea</th>\n",
       "      <td>Schizaeaceae</td>\n",
       "      <td>Schizaeales</td>\n",
       "      <td>Pteridophytes</td>\n",
       "    </tr>\n",
       "  </tbody>\n",
       "</table>\n",
       "<p>23279 rows × 3 columns</p>\n",
       "</div>"
      ],
      "text/plain": [
       "                     family        order          group\n",
       "genus                                                  \n",
       "Acorus            Acoraceae     Acorales    Angiosperms\n",
       "Albidella      Alismataceae  Alismatales    Angiosperms\n",
       "Alisma         Alismataceae  Alismatales    Angiosperms\n",
       "Astonia        Alismataceae  Alismatales    Angiosperms\n",
       "Baldellia      Alismataceae  Alismatales    Angiosperms\n",
       "...                     ...          ...            ...\n",
       "Ugena           Lygodiaceae  Schizaeales  Pteridophytes\n",
       "Actinostachys  Schizaeaceae  Schizaeales  Pteridophytes\n",
       "Lophidium      Schizaeaceae  Schizaeales  Pteridophytes\n",
       "Microschizaea  Schizaeaceae  Schizaeales  Pteridophytes\n",
       "Schizaea       Schizaeaceae  Schizaeales  Pteridophytes\n",
       "\n",
       "[23279 rows x 3 columns]"
      ]
     },
     "execution_count": 28,
     "metadata": {},
     "output_type": "execute_result"
    }
   ],
   "source": [
    "lookup"
   ]
  },
  {
   "cell_type": "code",
   "execution_count": 5,
   "id": "8273878e-23c7-4a6e-b56c-a1ad26d81f7a",
   "metadata": {},
   "outputs": [
    {
     "data": {
      "text/html": [
       "<div>\n",
       "<style scoped>\n",
       "    .dataframe tbody tr th:only-of-type {\n",
       "        vertical-align: middle;\n",
       "    }\n",
       "\n",
       "    .dataframe tbody tr th {\n",
       "        vertical-align: top;\n",
       "    }\n",
       "\n",
       "    .dataframe thead th {\n",
       "        text-align: right;\n",
       "    }\n",
       "</style>\n",
       "<table border=\"1\" class=\"dataframe\">\n",
       "  <thead>\n",
       "    <tr style=\"text-align: right;\">\n",
       "      <th></th>\n",
       "      <th>name</th>\n",
       "      <th>units</th>\n",
       "    </tr>\n",
       "    <tr>\n",
       "      <th>column_id</th>\n",
       "      <th></th>\n",
       "      <th></th>\n",
       "    </tr>\n",
       "  </thead>\n",
       "  <tbody>\n",
       "    <tr>\n",
       "      <th>F00002</th>\n",
       "      <td>Notes_Row ID</td>\n",
       "      <td>NaN</td>\n",
       "    </tr>\n",
       "    <tr>\n",
       "      <th>F00008</th>\n",
       "      <td>Notes_Site ID</td>\n",
       "      <td>NaN</td>\n",
       "    </tr>\n",
       "    <tr>\n",
       "      <th>F00027</th>\n",
       "      <td>Notes_Single or multiple species</td>\n",
       "      <td>NaN</td>\n",
       "    </tr>\n",
       "    <tr>\n",
       "      <th>F00059</th>\n",
       "      <td>Notes_Root order classification scheme</td>\n",
       "      <td>NaN</td>\n",
       "    </tr>\n",
       "    <tr>\n",
       "      <th>F00065</th>\n",
       "      <td>Notes_Method of determining dead roots</td>\n",
       "      <td>NaN</td>\n",
       "    </tr>\n",
       "    <tr>\n",
       "      <th>...</th>\n",
       "      <td>...</td>\n",
       "      <td>...</td>\n",
       "    </tr>\n",
       "    <tr>\n",
       "      <th>F01458</th>\n",
       "      <td>SE_Root N uptake_Hourly uptake of molar NH4+ p...</td>\n",
       "      <td>mg/g/h</td>\n",
       "    </tr>\n",
       "    <tr>\n",
       "      <th>F01459</th>\n",
       "      <td>Root N uptake_Hourly NO3- uptake per root mass</td>\n",
       "      <td>mg/g/h</td>\n",
       "    </tr>\n",
       "    <tr>\n",
       "      <th>F01460</th>\n",
       "      <td>SE_Root N uptake_Hourly NO3- uptake per root mass</td>\n",
       "      <td>mg/g/h</td>\n",
       "    </tr>\n",
       "    <tr>\n",
       "      <th>F01466</th>\n",
       "      <td>n_Soil N content</td>\n",
       "      <td>NaN</td>\n",
       "    </tr>\n",
       "    <tr>\n",
       "      <th>F01474</th>\n",
       "      <td>n_Soil Na_Exchangeable Na+ mass</td>\n",
       "      <td>NaN</td>\n",
       "    </tr>\n",
       "  </tbody>\n",
       "</table>\n",
       "<p>183 rows × 2 columns</p>\n",
       "</div>"
      ],
      "text/plain": [
       "                                                        name   units\n",
       "column_id                                                           \n",
       "F00002                                          Notes_Row ID     NaN\n",
       "F00008                                         Notes_Site ID     NaN\n",
       "F00027                      Notes_Single or multiple species     NaN\n",
       "F00059                Notes_Root order classification scheme     NaN\n",
       "F00065                Notes_Method of determining dead roots     NaN\n",
       "...                                                      ...     ...\n",
       "F01458     SE_Root N uptake_Hourly uptake of molar NH4+ p...  mg/g/h\n",
       "F01459        Root N uptake_Hourly NO3- uptake per root mass  mg/g/h\n",
       "F01460     SE_Root N uptake_Hourly NO3- uptake per root mass  mg/g/h\n",
       "F01466                                      n_Soil N content     NaN\n",
       "F01474                       n_Soil Na_Exchangeable Na+ mass     NaN\n",
       "\n",
       "[183 rows x 2 columns]"
      ]
     },
     "execution_count": 5,
     "metadata": {},
     "output_type": "execute_result"
    }
   ],
   "source": [
    "meta.query(\"name.str.contains('N', case=True)\")"
   ]
  },
  {
   "cell_type": "code",
   "execution_count": 61,
   "id": "f25315db-2410-4649-905a-a323fc736a8d",
   "metadata": {},
   "outputs": [
    {
     "data": {
      "text/plain": [
       "Index(['F00282'], dtype='object')"
      ]
     },
     "execution_count": 61,
     "metadata": {},
     "output_type": "execute_result"
    }
   ],
   "source": [
    "fred.columns[fred.columns.str.contains(\"282\")]"
   ]
  },
  {
   "cell_type": "code",
   "execution_count": 64,
   "id": "980ef917-527a-481e-9a25-268bb59a0212",
   "metadata": {},
   "outputs": [
    {
     "data": {
      "text/plain": [
       "np.float64(0.8291484525266655)"
      ]
     },
     "execution_count": 64,
     "metadata": {},
     "output_type": "execute_result"
    }
   ],
   "source": [
    "fred.F00645.isna().mean()"
   ]
  },
  {
   "cell_type": "code",
   "execution_count": 102,
   "id": "210a0008-35a7-42e2-a4aa-d99c9ff68140",
   "metadata": {},
   "outputs": [
    {
     "data": {
      "text/plain": [
       "column_id\n",
       "F00017         Plant taxonomy_Family_Data source\n",
       "F00018          Plant taxonomy_Genus_Data Source\n",
       "F00019        Plant taxonomy_Species_Data source\n",
       "F00020     Plant taxonomy_Subspecies_Data source\n",
       "F01286         Plant taxonomy_Accepted genus_TPL\n",
       "F01289        Plant taxonomy_Accepted family_TPL\n",
       "F01290         Plant taxonomy_Accepted order_APW\n",
       "F01291         Plant taxonomy_Accepted group_TPL\n",
       "F01413    Plant taxonomy_Species name unresolved\n",
       "Name: name, dtype: object"
      ]
     },
     "execution_count": 102,
     "metadata": {},
     "output_type": "execute_result"
    }
   ],
   "source": [
    "meta.loc[meta.name.str.contains(\"taxonom\"), \"name\"]"
   ]
  },
  {
   "cell_type": "code",
   "execution_count": 42,
   "id": "43d656e6-ea22-466f-8553-4d80bd35177f",
   "metadata": {},
   "outputs": [
    {
     "data": {
      "text/plain": [
       "'Mycorrhiza_Fraction of root length'"
      ]
     },
     "execution_count": 42,
     "metadata": {},
     "output_type": "execute_result"
    }
   ],
   "source": [
    "meta.loc[\"F00638\", \"name\"]"
   ]
  },
  {
   "cell_type": "code",
   "execution_count": 83,
   "id": "d3ade600-ede0-41ce-8c3c-2d9c880ad625",
   "metadata": {},
   "outputs": [
    {
     "data": {
      "text/plain": [
       "(57190, 1164)"
      ]
     },
     "execution_count": 83,
     "metadata": {},
     "output_type": "execute_result"
    }
   ],
   "source": [
    "fred.shape"
   ]
  },
  {
   "cell_type": "code",
   "execution_count": 6,
   "id": "1b54f997-bb14-48fe-8a8b-871b8daf0cc0",
   "metadata": {},
   "outputs": [
    {
     "data": {
      "text/html": [
       "<div>\n",
       "<style scoped>\n",
       "    .dataframe tbody tr th:only-of-type {\n",
       "        vertical-align: middle;\n",
       "    }\n",
       "\n",
       "    .dataframe tbody tr th {\n",
       "        vertical-align: top;\n",
       "    }\n",
       "\n",
       "    .dataframe thead th {\n",
       "        text-align: right;\n",
       "    }\n",
       "</style>\n",
       "<table border=\"1\" class=\"dataframe\">\n",
       "  <thead>\n",
       "    <tr style=\"text-align: right;\">\n",
       "      <th></th>\n",
       "      <th>F00018</th>\n",
       "      <th>F00019</th>\n",
       "      <th>F00056</th>\n",
       "      <th>F00679</th>\n",
       "      <th>F00727</th>\n",
       "      <th>F00718</th>\n",
       "      <th>F00104</th>\n",
       "      <th>F00622</th>\n",
       "      <th>F00626</th>\n",
       "      <th>F00638</th>\n",
       "      <th>F00645</th>\n",
       "      <th>F00709</th>\n",
       "      <th>F00277</th>\n",
       "      <th>F00261</th>\n",
       "      <th>F00358</th>\n",
       "    </tr>\n",
       "  </thead>\n",
       "  <tbody>\n",
       "    <tr>\n",
       "      <th>0</th>\n",
       "      <td>Dicranopteris</td>\n",
       "      <td>dichotoma</td>\n",
       "      <td>1.0</td>\n",
       "      <td>NaN</td>\n",
       "      <td>NaN</td>\n",
       "      <td>NaN</td>\n",
       "      <td>NaN</td>\n",
       "      <td>NaN</td>\n",
       "      <td>NaN</td>\n",
       "      <td>NaN</td>\n",
       "      <td>AM</td>\n",
       "      <td>NaN</td>\n",
       "      <td>NaN</td>\n",
       "      <td>NaN</td>\n",
       "      <td>NaN</td>\n",
       "    </tr>\n",
       "    <tr>\n",
       "      <th>1</th>\n",
       "      <td>Dicranopteris</td>\n",
       "      <td>dichotoma</td>\n",
       "      <td>2.0</td>\n",
       "      <td>NaN</td>\n",
       "      <td>NaN</td>\n",
       "      <td>NaN</td>\n",
       "      <td>NaN</td>\n",
       "      <td>NaN</td>\n",
       "      <td>NaN</td>\n",
       "      <td>NaN</td>\n",
       "      <td>AM</td>\n",
       "      <td>NaN</td>\n",
       "      <td>NaN</td>\n",
       "      <td>NaN</td>\n",
       "      <td>NaN</td>\n",
       "    </tr>\n",
       "    <tr>\n",
       "      <th>2</th>\n",
       "      <td>Dicranopteris</td>\n",
       "      <td>dichotoma</td>\n",
       "      <td>3.0</td>\n",
       "      <td>NaN</td>\n",
       "      <td>NaN</td>\n",
       "      <td>NaN</td>\n",
       "      <td>NaN</td>\n",
       "      <td>NaN</td>\n",
       "      <td>NaN</td>\n",
       "      <td>NaN</td>\n",
       "      <td>AM</td>\n",
       "      <td>NaN</td>\n",
       "      <td>NaN</td>\n",
       "      <td>NaN</td>\n",
       "      <td>NaN</td>\n",
       "    </tr>\n",
       "    <tr>\n",
       "      <th>3</th>\n",
       "      <td>Cunninghamia</td>\n",
       "      <td>lanceolata</td>\n",
       "      <td>1.0</td>\n",
       "      <td>NaN</td>\n",
       "      <td>NaN</td>\n",
       "      <td>NaN</td>\n",
       "      <td>NaN</td>\n",
       "      <td>NaN</td>\n",
       "      <td>NaN</td>\n",
       "      <td>NaN</td>\n",
       "      <td>AM</td>\n",
       "      <td>NaN</td>\n",
       "      <td>NaN</td>\n",
       "      <td>NaN</td>\n",
       "      <td>NaN</td>\n",
       "    </tr>\n",
       "    <tr>\n",
       "      <th>4</th>\n",
       "      <td>Cunninghamia</td>\n",
       "      <td>lanceolata</td>\n",
       "      <td>2.0</td>\n",
       "      <td>NaN</td>\n",
       "      <td>NaN</td>\n",
       "      <td>NaN</td>\n",
       "      <td>NaN</td>\n",
       "      <td>NaN</td>\n",
       "      <td>NaN</td>\n",
       "      <td>NaN</td>\n",
       "      <td>AM</td>\n",
       "      <td>NaN</td>\n",
       "      <td>NaN</td>\n",
       "      <td>NaN</td>\n",
       "      <td>NaN</td>\n",
       "    </tr>\n",
       "    <tr>\n",
       "      <th>...</th>\n",
       "      <td>...</td>\n",
       "      <td>...</td>\n",
       "      <td>...</td>\n",
       "      <td>...</td>\n",
       "      <td>...</td>\n",
       "      <td>...</td>\n",
       "      <td>...</td>\n",
       "      <td>...</td>\n",
       "      <td>...</td>\n",
       "      <td>...</td>\n",
       "      <td>...</td>\n",
       "      <td>...</td>\n",
       "      <td>...</td>\n",
       "      <td>...</td>\n",
       "      <td>...</td>\n",
       "    </tr>\n",
       "    <tr>\n",
       "      <th>57145</th>\n",
       "      <td>Vitis</td>\n",
       "      <td>vinifera</td>\n",
       "      <td>2.0</td>\n",
       "      <td>0.175183</td>\n",
       "      <td>0.0125</td>\n",
       "      <td>NaN</td>\n",
       "      <td>NaN</td>\n",
       "      <td>53.333333</td>\n",
       "      <td>NaN</td>\n",
       "      <td>NaN</td>\n",
       "      <td>NaN</td>\n",
       "      <td>NaN</td>\n",
       "      <td>NaN</td>\n",
       "      <td>NaN</td>\n",
       "      <td>NaN</td>\n",
       "    </tr>\n",
       "    <tr>\n",
       "      <th>57146</th>\n",
       "      <td>Vitis</td>\n",
       "      <td>vinifera</td>\n",
       "      <td>3.0</td>\n",
       "      <td>0.260983</td>\n",
       "      <td>0.0087</td>\n",
       "      <td>NaN</td>\n",
       "      <td>NaN</td>\n",
       "      <td>31.666667</td>\n",
       "      <td>NaN</td>\n",
       "      <td>NaN</td>\n",
       "      <td>NaN</td>\n",
       "      <td>NaN</td>\n",
       "      <td>NaN</td>\n",
       "      <td>NaN</td>\n",
       "      <td>NaN</td>\n",
       "    </tr>\n",
       "    <tr>\n",
       "      <th>57149</th>\n",
       "      <td>Vitis</td>\n",
       "      <td>vinifera</td>\n",
       "      <td>1.0</td>\n",
       "      <td>0.162800</td>\n",
       "      <td>0.0591</td>\n",
       "      <td>NaN</td>\n",
       "      <td>NaN</td>\n",
       "      <td>56.666667</td>\n",
       "      <td>NaN</td>\n",
       "      <td>NaN</td>\n",
       "      <td>NaN</td>\n",
       "      <td>NaN</td>\n",
       "      <td>NaN</td>\n",
       "      <td>NaN</td>\n",
       "      <td>NaN</td>\n",
       "    </tr>\n",
       "    <tr>\n",
       "      <th>57150</th>\n",
       "      <td>Vitis</td>\n",
       "      <td>vinifera</td>\n",
       "      <td>2.0</td>\n",
       "      <td>0.213133</td>\n",
       "      <td>0.0214</td>\n",
       "      <td>NaN</td>\n",
       "      <td>NaN</td>\n",
       "      <td>51.666667</td>\n",
       "      <td>NaN</td>\n",
       "      <td>NaN</td>\n",
       "      <td>NaN</td>\n",
       "      <td>NaN</td>\n",
       "      <td>NaN</td>\n",
       "      <td>NaN</td>\n",
       "      <td>NaN</td>\n",
       "    </tr>\n",
       "    <tr>\n",
       "      <th>57151</th>\n",
       "      <td>Vitis</td>\n",
       "      <td>vinifera</td>\n",
       "      <td>3.0</td>\n",
       "      <td>0.310233</td>\n",
       "      <td>0.0079</td>\n",
       "      <td>NaN</td>\n",
       "      <td>NaN</td>\n",
       "      <td>46.666667</td>\n",
       "      <td>NaN</td>\n",
       "      <td>NaN</td>\n",
       "      <td>NaN</td>\n",
       "      <td>NaN</td>\n",
       "      <td>NaN</td>\n",
       "      <td>NaN</td>\n",
       "      <td>NaN</td>\n",
       "    </tr>\n",
       "  </tbody>\n",
       "</table>\n",
       "<p>5557 rows × 15 columns</p>\n",
       "</div>"
      ],
      "text/plain": [
       "              F00018      F00019  F00056    F00679  F00727  F00718  F00104  \\\n",
       "0      Dicranopteris   dichotoma     1.0       NaN     NaN     NaN     NaN   \n",
       "1      Dicranopteris   dichotoma     2.0       NaN     NaN     NaN     NaN   \n",
       "2      Dicranopteris   dichotoma     3.0       NaN     NaN     NaN     NaN   \n",
       "3       Cunninghamia  lanceolata     1.0       NaN     NaN     NaN     NaN   \n",
       "4       Cunninghamia  lanceolata     2.0       NaN     NaN     NaN     NaN   \n",
       "...              ...         ...     ...       ...     ...     ...     ...   \n",
       "57145         Vitis     vinifera     2.0  0.175183  0.0125     NaN     NaN   \n",
       "57146         Vitis     vinifera     3.0  0.260983  0.0087     NaN     NaN   \n",
       "57149         Vitis     vinifera     1.0  0.162800  0.0591     NaN     NaN   \n",
       "57150         Vitis     vinifera     2.0  0.213133  0.0214     NaN     NaN   \n",
       "57151         Vitis     vinifera     3.0  0.310233  0.0079     NaN     NaN   \n",
       "\n",
       "          F00622  F00626  F00638 F00645  F00709  F00277  F00261  F00358  \n",
       "0            NaN     NaN     NaN     AM     NaN     NaN     NaN     NaN  \n",
       "1            NaN     NaN     NaN     AM     NaN     NaN     NaN     NaN  \n",
       "2            NaN     NaN     NaN     AM     NaN     NaN     NaN     NaN  \n",
       "3            NaN     NaN     NaN     AM     NaN     NaN     NaN     NaN  \n",
       "4            NaN     NaN     NaN     AM     NaN     NaN     NaN     NaN  \n",
       "...          ...     ...     ...    ...     ...     ...     ...     ...  \n",
       "57145  53.333333     NaN     NaN    NaN     NaN     NaN     NaN     NaN  \n",
       "57146  31.666667     NaN     NaN    NaN     NaN     NaN     NaN     NaN  \n",
       "57149  56.666667     NaN     NaN    NaN     NaN     NaN     NaN     NaN  \n",
       "57150  51.666667     NaN     NaN    NaN     NaN     NaN     NaN     NaN  \n",
       "57151  46.666667     NaN     NaN    NaN     NaN     NaN     NaN     NaN  \n",
       "\n",
       "[5557 rows x 15 columns]"
      ]
     },
     "execution_count": 6,
     "metadata": {},
     "output_type": "execute_result"
    }
   ],
   "source": [
    "# root traits of interest - \n",
    "# F00056 - root order\n",
    "\n",
    "fred.loc[:, [\"F00018\", \"F00019\", \"F00056\"] + COLLABORATION_GRADIENT_TRAITS + \n",
    "                    CONSERVATION_GRADIENT_TRAITS].query(\"F00056.isin((1, 2, 3))\")  # only choosing 1st, 2nd and 3rd order roots"
   ]
  },
  {
   "cell_type": "code",
   "execution_count": 7,
   "id": "d641e7a8-f207-4a98-9e4b-5b851090a19d",
   "metadata": {},
   "outputs": [
    {
     "data": {
      "text/plain": [
       "F00018    0.036351\n",
       "F00019    0.070182\n",
       "F00056    0.000000\n",
       "F00679    0.325535\n",
       "F00727    0.704877\n",
       "F00718    0.959690\n",
       "F00104    0.950693\n",
       "F00622    0.992442\n",
       "F00626    0.999640\n",
       "F00638    0.993702\n",
       "F00645    0.791794\n",
       "F00709    0.780997\n",
       "F00277    0.976606\n",
       "F00261    0.716394\n",
       "F00358    1.000000\n",
       "dtype: float64"
      ]
     },
     "execution_count": 7,
     "metadata": {},
     "output_type": "execute_result"
    }
   ],
   "source": [
    "fred.loc[:, [\"F00018\", \"F00019\", \"F00056\"] + COLLABORATION_GRADIENT_TRAITS + CONSERVATION_GRADIENT_TRAITS].\\\n",
    "    query(\"F00056.isin((1, 2, 3))\").isna().mean()"
   ]
  },
  {
   "cell_type": "code",
   "execution_count": null,
   "id": "4372364a-a0af-4bb3-8142-8a9f479101a1",
   "metadata": {},
   "outputs": [],
   "source": [
    "# root diamater and specific root length !!!!!!!!"
   ]
  },
  {
   "cell_type": "raw",
   "id": "e67bcdd4-ab0f-4479-a37a-91098c924f79",
   "metadata": {},
   "source": [
    "# THAT'S DISAPPOINTING :/\n",
    "\n",
    "with pd.option_context(\"display.max_rows\", None):\n",
    "    print(\n",
    "        fred.loc[np.where(fred.loc[:, [\"F00018\", \"F00019\", \"F00056\"] + COLLABORATION_GRADIENT_TRAITS +\n",
    "    CONSERVATION_GRADIENT_TRAITS].query(\"F00056.isin((1, 2, 3))\").\\\n",
    "        isna().mean(axis=1) < 0.50)[0], [\"F00018\", \"F00019\", \"F00056\"] + COLLABORATION_GRADIENT_TRAITS + CONSERVATION_GRADIENT_TRAITS]\n",
    "    )        "
   ]
  },
  {
   "cell_type": "code",
   "execution_count": 103,
   "id": "e4683fd1-c4ea-43a3-b53f-123f127865fb",
   "metadata": {},
   "outputs": [],
   "source": [
    "fred.query(\"F00018 == \\\"x Citrofortunella\\\"\").loc[:, [\"F00018\", \"F00019\"]];"
   ]
  },
  {
   "cell_type": "code",
   "execution_count": 39,
   "id": "729f977f-dc11-453a-92ae-fb5e1c78457d",
   "metadata": {},
   "outputs": [],
   "source": [
    "FRED_MISSPELT_GENERA = { # TF?????\n",
    "     \"Aglaria\": \"Aglaia\",\n",
    "     \"Aporusa\": \"Aporosa\",\n",
    "     \"Artrocarpus\": \"Artocarpus\",\n",
    "     \"Atrocarpus\": \"Artocarpus\",\n",
    "     \"Brosimun\": \"Brosimum\",\n",
    "     \"Diospyrus\": \"Diospyros\",\n",
    "     \"Gletitsia\": \"Gleditsia\",\n",
    "     \"Parakmeria\": \"Magnolia\", # synonym for Magnolia lotungensis\n",
    "     \"Paramichelia\": \"Magnolia\", # synonym for Magnolia baillonii\n",
    "     \"Polyanthia\": \"Polyalthia\",\n",
    "     \"Tabebuis\": \"Tabebuia\",\n",
    "     \"Tabernamontana\": \"Tabernaemontana\"\n",
    "}\n",
    "\n",
    "LOOKUP_MISSING_GENERA = {\n",
    "    \"Carrizo\": \"Rutaceae\",\n",
    "    \"Cuoropita\": \"Lecythidaceae\",\n",
    "    \"Tsoongiodendron\": \"Magnoliaceae\",\n",
    "    \"Schizonepeta\": \"Lamiaceae\",\n",
    "    \"Schyzolobium\": \"Fabaceae\",\n",
    "    \"Swingle\": \"Rutaceae\",\n",
    "    \"x Citrofortunella\": \"Rutaceae\"\n",
    "}"
   ]
  },
  {
   "cell_type": "code",
   "execution_count": 64,
   "id": "a3babe8f-168d-42c9-908a-25acc74f030e",
   "metadata": {},
   "outputs": [],
   "source": [
    "FAMILY_LOOKUP_TABLE = pd.Series(\n",
    "    index=np.concatenate([lookup.index.values, list(LOOKUP_MISSING_GENERA.keys())]),\n",
    "    data=np.concatenate([lookup.family.values, list(LOOKUP_MISSING_GENERA.values())])\n",
    ")"
   ]
  },
  {
   "cell_type": "code",
   "execution_count": 65,
   "id": "c6aa2e52-63a4-486a-bb17-830a58f16712",
   "metadata": {},
   "outputs": [
    {
     "data": {
      "text/plain": [
       "Acorus                  Acoraceae\n",
       "Albidella            Alismataceae\n",
       "Alisma               Alismataceae\n",
       "Astonia              Alismataceae\n",
       "Baldellia            Alismataceae\n",
       "                         ...     \n",
       "Tsoongiodendron      Magnoliaceae\n",
       "Schizonepeta            Lamiaceae\n",
       "Schyzolobium             Fabaceae\n",
       "Swingle                  Rutaceae\n",
       "x Citrofortunella        Rutaceae\n",
       "Length: 23286, dtype: object"
      ]
     },
     "execution_count": 65,
     "metadata": {},
     "output_type": "execute_result"
    }
   ],
   "source": [
    "FAMILY_LOOKUP_TABLE"
   ]
  },
  {
   "cell_type": "markdown",
   "id": "207f25b0-cbba-4194-96d6-4cd4a92611cb",
   "metadata": {},
   "source": [
    "## ___Root diameter___\n",
    "----------------------"
   ]
  },
  {
   "cell_type": "code",
   "execution_count": 104,
   "id": "036870a5-ffd4-470e-8a06-e829c9b3107b",
   "metadata": {},
   "outputs": [],
   "source": [
    "fred_fine_root_diameter = fred.loc[:, [\"F00017\", \"F00018\", \"F00019\", \"F00056\", \"F00679\", \"F01290\"]].\\\n",
    "                                    query(\"F00056.isin((1, 2, 3))\").dropna(subset=[\"F00018\", \"F00679\"])\n",
    "\n",
    "# spelling correction\n",
    "fred_fine_root_diameter.F00018 = fred_fine_root_diameter.F00018.apply(lambda genus:\\\n",
    "                                     FRED_MISSPELT_GENERA.get(genus) if\\\n",
    "                                         FRED_MISSPELT_GENERA.get(genus, None) else genus)\n",
    "\n",
    "# update the family info\n",
    "fred_fine_root_diameter.F00017 = FAMILY_LOOKUP_TABLE[fred_fine_root_diameter.F00018.str.strip()].values"
   ]
  },
  {
   "cell_type": "code",
   "execution_count": 110,
   "id": "824b2107-e37b-49cd-b535-5fbfbae6fa98",
   "metadata": {},
   "outputs": [
    {
     "data": {
      "text/plain": [
       "F00017      0\n",
       "F00018      0\n",
       "F00019    183\n",
       "F00056      0\n",
       "F00679      0\n",
       "F01290      0\n",
       "dtype: int64"
      ]
     },
     "execution_count": 110,
     "metadata": {},
     "output_type": "execute_result"
    }
   ],
   "source": [
    "fred_fine_root_diameter.isna().sum() # F00019 is the species name, so that's alright for now"
   ]
  },
  {
   "cell_type": "code",
   "execution_count": null,
   "id": "bc840811-8c67-4be8-91e1-e47b0b396f1e",
   "metadata": {},
   "outputs": [],
   "source": []
  },
  {
   "cell_type": "code",
   "execution_count": 107,
   "id": "a76f7d7b-0e20-48e1-bd07-59ef37563e6e",
   "metadata": {},
   "outputs": [
    {
     "data": {
      "text/html": [
       "<div>\n",
       "<style scoped>\n",
       "    .dataframe tbody tr th:only-of-type {\n",
       "        vertical-align: middle;\n",
       "    }\n",
       "\n",
       "    .dataframe tbody tr th {\n",
       "        vertical-align: top;\n",
       "    }\n",
       "\n",
       "    .dataframe thead th {\n",
       "        text-align: right;\n",
       "    }\n",
       "</style>\n",
       "<table border=\"1\" class=\"dataframe\">\n",
       "  <thead>\n",
       "    <tr style=\"text-align: right;\">\n",
       "      <th></th>\n",
       "      <th></th>\n",
       "      <th></th>\n",
       "      <th>F00019</th>\n",
       "      <th>F00056</th>\n",
       "      <th>F00679</th>\n",
       "    </tr>\n",
       "    <tr>\n",
       "      <th>F01290</th>\n",
       "      <th>F00017</th>\n",
       "      <th>F00018</th>\n",
       "      <th></th>\n",
       "      <th></th>\n",
       "      <th></th>\n",
       "    </tr>\n",
       "  </thead>\n",
       "  <tbody>\n",
       "    <tr>\n",
       "      <th rowspan=\"5\" valign=\"top\">Apiales</th>\n",
       "      <th>Apiaceae</th>\n",
       "      <th>Sanicula</th>\n",
       "      <td>1</td>\n",
       "      <td>1</td>\n",
       "      <td>1</td>\n",
       "    </tr>\n",
       "    <tr>\n",
       "      <th rowspan=\"4\" valign=\"top\">Araliaceae</th>\n",
       "      <th>Dendropanax</th>\n",
       "      <td>1</td>\n",
       "      <td>1</td>\n",
       "      <td>1</td>\n",
       "    </tr>\n",
       "    <tr>\n",
       "      <th>Eleutherococcus</th>\n",
       "      <td>1</td>\n",
       "      <td>1</td>\n",
       "      <td>1</td>\n",
       "    </tr>\n",
       "    <tr>\n",
       "      <th>Macropanax</th>\n",
       "      <td>1</td>\n",
       "      <td>1</td>\n",
       "      <td>1</td>\n",
       "    </tr>\n",
       "    <tr>\n",
       "      <th>Schefflera</th>\n",
       "      <td>2</td>\n",
       "      <td>2</td>\n",
       "      <td>2</td>\n",
       "    </tr>\n",
       "    <tr>\n",
       "      <th>...</th>\n",
       "      <th>...</th>\n",
       "      <th>...</th>\n",
       "      <td>...</td>\n",
       "      <td>...</td>\n",
       "      <td>...</td>\n",
       "    </tr>\n",
       "    <tr>\n",
       "      <th rowspan=\"3\" valign=\"top\">Zingiberales</th>\n",
       "      <th>Musaceae</th>\n",
       "      <th>Musa</th>\n",
       "      <td>0</td>\n",
       "      <td>60</td>\n",
       "      <td>60</td>\n",
       "    </tr>\n",
       "    <tr>\n",
       "      <th rowspan=\"2\" valign=\"top\">Zingiberaceae</th>\n",
       "      <th>Alpinia</th>\n",
       "      <td>1</td>\n",
       "      <td>1</td>\n",
       "      <td>1</td>\n",
       "    </tr>\n",
       "    <tr>\n",
       "      <th>Amomum</th>\n",
       "      <td>1</td>\n",
       "      <td>1</td>\n",
       "      <td>1</td>\n",
       "    </tr>\n",
       "    <tr>\n",
       "      <th rowspan=\"2\" valign=\"top\">Zygophyllales</th>\n",
       "      <th rowspan=\"2\" valign=\"top\">Zygophyllaceae</th>\n",
       "      <th>Bulnesia</th>\n",
       "      <td>1</td>\n",
       "      <td>1</td>\n",
       "      <td>1</td>\n",
       "    </tr>\n",
       "    <tr>\n",
       "      <th>Guaiacum</th>\n",
       "      <td>1</td>\n",
       "      <td>1</td>\n",
       "      <td>1</td>\n",
       "    </tr>\n",
       "  </tbody>\n",
       "</table>\n",
       "<p>324 rows × 3 columns</p>\n",
       "</div>"
      ],
      "text/plain": [
       "                                              F00019  F00056  F00679\n",
       "F01290        F00017         F00018                                 \n",
       "Apiales       Apiaceae       Sanicula              1       1       1\n",
       "              Araliaceae     Dendropanax           1       1       1\n",
       "                             Eleutherococcus       1       1       1\n",
       "                             Macropanax            1       1       1\n",
       "                             Schefflera            2       2       2\n",
       "...                                              ...     ...     ...\n",
       "Zingiberales  Musaceae       Musa                  0      60      60\n",
       "              Zingiberaceae  Alpinia               1       1       1\n",
       "                             Amomum                1       1       1\n",
       "Zygophyllales Zygophyllaceae Bulnesia              1       1       1\n",
       "                             Guaiacum              1       1       1\n",
       "\n",
       "[324 rows x 3 columns]"
      ]
     },
     "execution_count": 107,
     "metadata": {},
     "output_type": "execute_result"
    }
   ],
   "source": [
    "fred_fine_root_diameter.groupby([\"F01290\", \"F00017\", \"F00018\"]).count()"
   ]
  },
  {
   "cell_type": "code",
   "execution_count": 109,
   "id": "12846980-61a9-4b0d-b7a8-5d501f817096",
   "metadata": {},
   "outputs": [
    {
     "data": {
      "text/plain": [
       "(45, 111)"
      ]
     },
     "execution_count": 109,
     "metadata": {},
     "output_type": "execute_result"
    }
   ],
   "source": [
    "# orders and families\n",
    "fred_fine_root_diameter.F01290.unique().size, fred_fine_root_diameter.F00017.unique().size"
   ]
  },
  {
   "cell_type": "code",
   "execution_count": 121,
   "id": "29846d79-247f-44cb-8eb8-f31f8490f2f1",
   "metadata": {},
   "outputs": [
    {
     "data": {
      "image/png": "[encoded data removed]",
      "text/plain": [
       "<Figure size 1000x1000 with 1 Axes>"
      ]
     },
     "metadata": {},
     "output_type": "display_data"
    }
   ],
   "source": [
    "fig, axes = plt.subplots()\n",
    "fig.set_size_inches(10, 10)"
   ]
  },
  {
   "cell_type": "code",
   "execution_count": null,
   "id": "01396302-81dc-4585-9d56-536f9f2c8e46",
   "metadata": {},
   "outputs": [],
   "source": []
  },
  {
   "cell_type": "markdown",
   "id": "7256b346-ed98-4c06-9ce1-7d5cb6bdf08d",
   "metadata": {},
   "source": [
    "## ___Specific Root Length (SRL)___\n",
    "---------------------"
   ]
  },
  {
   "cell_type": "code",
   "execution_count": null,
   "id": "c5485d22-106e-4d6e-b144-60edf4e906d7",
   "metadata": {},
   "outputs": [],
   "source": []
  },
  {
   "cell_type": "code",
   "execution_count": 111,
   "id": "5256b8a3-44d6-4f1e-be61-1f4cb92d8001",
   "metadata": {},
   "outputs": [],
   "source": [
    "fred_fine_root_specific_root_length = fred.loc[:, [\"F00017\", \"F00018\", \"F00019\", \"F00056\", \"F00727\", \"F01290\"]].\\\n",
    "                                            query(\"F00056.isin((1, 2, 3))\").dropna(subset=[\"F00018\", \"F00727\"])\n",
    "\n",
    "# spelling corrections for genus names\n",
    "fred_fine_root_specific_root_length.F00018 = fred_fine_root_specific_root_length.F00018.apply(lambda genus:\\\n",
    "                                     FRED_MISSPELT_GENERA.get(genus) if\\\n",
    "                                         FRED_MISSPELT_GENERA.get(genus, None) else genus)\n",
    "\n",
    "# update the families\n",
    "fred_fine_root_specific_root_length.F00017 = FAMILY_LOOKUP_TABLE[fred_fine_root_specific_root_length.\\\n",
    "                                                    F00018.str.strip()].values"
   ]
  },
  {
   "cell_type": "code",
   "execution_count": 114,
   "id": "ce1cc758-c97d-4165-a625-34ab2e350f4b",
   "metadata": {},
   "outputs": [
    {
     "data": {
      "text/plain": [
       "F00017    0\n",
       "F00018    0\n",
       "F00019    0\n",
       "F00056    0\n",
       "F00727    0\n",
       "F01290    0\n",
       "dtype: int64"
      ]
     },
     "execution_count": 114,
     "metadata": {},
     "output_type": "execute_result"
    }
   ],
   "source": [
    "fred_fine_root_specific_root_length.isna().sum() # that's nice"
   ]
  },
  {
   "cell_type": "code",
   "execution_count": null,
   "id": "42ad32c8-fbbe-465d-bdba-11601dbefe52",
   "metadata": {},
   "outputs": [],
   "source": []
  },
  {
   "cell_type": "code",
   "execution_count": 116,
   "id": "b0da11d5-1955-4ff2-a44f-b5233d9fe179",
   "metadata": {},
   "outputs": [
    {
     "data": {
      "text/html": [
       "<div>\n",
       "<style scoped>\n",
       "    .dataframe tbody tr th:only-of-type {\n",
       "        vertical-align: middle;\n",
       "    }\n",
       "\n",
       "    .dataframe tbody tr th {\n",
       "        vertical-align: top;\n",
       "    }\n",
       "\n",
       "    .dataframe thead th {\n",
       "        text-align: right;\n",
       "    }\n",
       "</style>\n",
       "<table border=\"1\" class=\"dataframe\">\n",
       "  <thead>\n",
       "    <tr style=\"text-align: right;\">\n",
       "      <th></th>\n",
       "      <th></th>\n",
       "      <th></th>\n",
       "      <th>F00019</th>\n",
       "      <th>F00056</th>\n",
       "      <th>F00727</th>\n",
       "    </tr>\n",
       "    <tr>\n",
       "      <th>F01290</th>\n",
       "      <th>F00017</th>\n",
       "      <th>F00018</th>\n",
       "      <th></th>\n",
       "      <th></th>\n",
       "      <th></th>\n",
       "    </tr>\n",
       "  </thead>\n",
       "  <tbody>\n",
       "    <tr>\n",
       "      <th rowspan=\"5\" valign=\"top\">Apiales</th>\n",
       "      <th>Apiaceae</th>\n",
       "      <th>Sanicula</th>\n",
       "      <td>1</td>\n",
       "      <td>1</td>\n",
       "      <td>1</td>\n",
       "    </tr>\n",
       "    <tr>\n",
       "      <th rowspan=\"4\" valign=\"top\">Araliaceae</th>\n",
       "      <th>Dendropanax</th>\n",
       "      <td>1</td>\n",
       "      <td>1</td>\n",
       "      <td>1</td>\n",
       "    </tr>\n",
       "    <tr>\n",
       "      <th>Eleutherococcus</th>\n",
       "      <td>1</td>\n",
       "      <td>1</td>\n",
       "      <td>1</td>\n",
       "    </tr>\n",
       "    <tr>\n",
       "      <th>Macropanax</th>\n",
       "      <td>1</td>\n",
       "      <td>1</td>\n",
       "      <td>1</td>\n",
       "    </tr>\n",
       "    <tr>\n",
       "      <th>Schefflera</th>\n",
       "      <td>2</td>\n",
       "      <td>2</td>\n",
       "      <td>2</td>\n",
       "    </tr>\n",
       "    <tr>\n",
       "      <th>...</th>\n",
       "      <th>...</th>\n",
       "      <th>...</th>\n",
       "      <td>...</td>\n",
       "      <td>...</td>\n",
       "      <td>...</td>\n",
       "    </tr>\n",
       "    <tr>\n",
       "      <th rowspan=\"3\" valign=\"top\">Vitales</th>\n",
       "      <th rowspan=\"3\" valign=\"top\">Vitaceae</th>\n",
       "      <th>Parthenocissus</th>\n",
       "      <td>1</td>\n",
       "      <td>1</td>\n",
       "      <td>1</td>\n",
       "    </tr>\n",
       "    <tr>\n",
       "      <th>Vitis</th>\n",
       "      <td>2</td>\n",
       "      <td>2</td>\n",
       "      <td>2</td>\n",
       "    </tr>\n",
       "    <tr>\n",
       "      <th>Vitis</th>\n",
       "      <td>9</td>\n",
       "      <td>9</td>\n",
       "      <td>9</td>\n",
       "    </tr>\n",
       "    <tr>\n",
       "      <th rowspan=\"2\" valign=\"top\">Zingiberales</th>\n",
       "      <th rowspan=\"2\" valign=\"top\">Zingiberaceae</th>\n",
       "      <th>Alpinia</th>\n",
       "      <td>1</td>\n",
       "      <td>1</td>\n",
       "      <td>1</td>\n",
       "    </tr>\n",
       "    <tr>\n",
       "      <th>Amomum</th>\n",
       "      <td>1</td>\n",
       "      <td>1</td>\n",
       "      <td>1</td>\n",
       "    </tr>\n",
       "  </tbody>\n",
       "</table>\n",
       "<p>250 rows × 3 columns</p>\n",
       "</div>"
      ],
      "text/plain": [
       "                                            F00019  F00056  F00727\n",
       "F01290       F00017        F00018                                 \n",
       "Apiales      Apiaceae      Sanicula              1       1       1\n",
       "             Araliaceae    Dendropanax           1       1       1\n",
       "                           Eleutherococcus       1       1       1\n",
       "                           Macropanax            1       1       1\n",
       "                           Schefflera            2       2       2\n",
       "...                                            ...     ...     ...\n",
       "Vitales      Vitaceae      Parthenocissus        1       1       1\n",
       "                           Vitis                 2       2       2\n",
       "                           Vitis                 9       9       9\n",
       "Zingiberales Zingiberaceae Alpinia               1       1       1\n",
       "                           Amomum                1       1       1\n",
       "\n",
       "[250 rows x 3 columns]"
      ]
     },
     "execution_count": 116,
     "metadata": {},
     "output_type": "execute_result"
    }
   ],
   "source": [
    "fred_fine_root_specific_root_length.groupby([\"F01290\", \"F00017\", \"F00018\"]).count()"
   ]
  },
  {
   "cell_type": "code",
   "execution_count": 117,
   "id": "10c4445f-b78b-430a-bfcf-8e84c7bad042",
   "metadata": {},
   "outputs": [
    {
     "data": {
      "text/plain": [
       "(43, 100)"
      ]
     },
     "execution_count": 117,
     "metadata": {},
     "output_type": "execute_result"
    }
   ],
   "source": [
    "# orders and families\n",
    "fred_fine_root_specific_root_length.F01290.unique().size, fred_fine_root_specific_root_length.F00017.unique().size"
   ]
  }
 ],
 "metadata": {
  "kernelspec": {
   "display_name": "Python 3 (ipykernel)",
   "language": "python",
   "name": "python3"
  },
  "language_info": {
   "codemirror_mode": {
    "name": "ipython",
    "version": 3
   },
   "file_extension": ".py",
   "mimetype": "text/x-python",
   "name": "python",
   "nbconvert_exporter": "python",
   "pygments_lexer": "ipython3",
   "version": "3.13.3"
  }
 },
 "nbformat": 4,
 "nbformat_minor": 5
}

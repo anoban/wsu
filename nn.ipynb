{
 "cells": [
  {
   "cell_type": "code",
   "execution_count": 11,
   "id": "0d50152d-db37-4d02-8f94-07cfde244f06",
   "metadata": {},
   "outputs": [],
   "source": [
    "import platform\n",
    "import os\n",
    "\n",
    "import torch"
   ]
  },
  {
   "cell_type": "code",
   "execution_count": 14,
   "id": "00a43bb3-9d28-46d8-b784-560514d49ac1",
   "metadata": {},
   "outputs": [
    {
     "data": {
      "text/plain": [
       "('WSLDFCB344', 'WSLDFCB344')"
      ]
     },
     "execution_count": 14,
     "metadata": {},
     "output_type": "execute_result"
    }
   ],
   "source": [
    "os.environ[\"COMPUTERNAME\"], platform.node()"
   ]
  },
  {
   "cell_type": "code",
   "execution_count": 15,
   "id": "9eb68706-5d41-4437-ad46-d8eae1c4594a",
   "metadata": {},
   "outputs": [
    {
     "data": {
      "text/plain": [
       "('Windows', 'Intel64 Family 6 Model 170 Stepping 4, GenuineIntel')"
      ]
     },
     "execution_count": 15,
     "metadata": {},
     "output_type": "execute_result"
    }
   ],
   "source": [
    "platform.system(), platform.processor()"
   ]
  },
  {
   "cell_type": "code",
   "execution_count": 16,
   "id": "c7bc91ec-7a18-4440-a68d-a674537306a7",
   "metadata": {},
   "outputs": [
    {
     "data": {
      "text/plain": [
       "False"
      ]
     },
     "execution_count": 16,
     "metadata": {},
     "output_type": "execute_result"
    }
   ],
   "source": [
    "torch.cuda.is_available()"
   ]
  },
  {
   "cell_type": "code",
   "execution_count": 22,
   "id": "50060eba-87d6-4039-aa28-9ae3ac583ae3",
   "metadata": {},
   "outputs": [
    {
     "name": "stdout",
     "output_type": "stream",
     "text": [
      "CUDA is not available on WSLDFCB344!\n"
     ]
    }
   ],
   "source": [
    "try:\n",
    "    print(os.environ[\"CUDA_PATH\"])\n",
    "except KeyError:\n",
    "    print(f\"CUDA is not available on {os.environ[\"COMPUTERNAME\"]}!\")"
   ]
  },
  {
   "cell_type": "code",
   "execution_count": null,
   "id": "cb338560-9ef0-42c5-b5f3-d7b5f34a1f5e",
   "metadata": {},
   "outputs": [],
   "source": []
  },
  {
   "cell_type": "code",
   "execution_count": 26,
   "id": "e6d60925-53e3-483e-8299-3b96d9806146",
   "metadata": {},
   "outputs": [
    {
     "data": {
      "text/plain": [
       "['C:\\\\Program Files\\\\PowerShell\\\\7',\n",
       " 'C:\\\\Program Files\\\\Python313\\\\Scripts\\\\',\n",
       " 'C:\\\\Program Files\\\\Python313\\\\',\n",
       " 'C:\\\\WINDOWS\\\\system32',\n",
       " 'C:\\\\WINDOWS',\n",
       " 'C:\\\\WINDOWS\\\\System32\\\\Wbem',\n",
       " 'C:\\\\WINDOWS\\\\System32\\\\WindowsPowerShell\\\\v1.0\\\\',\n",
       " 'C:\\\\WINDOWS\\\\System32\\\\OpenSSH\\\\',\n",
       " 'C:\\\\Program Files\\\\Microsoft VS Code\\\\bin',\n",
       " 'C:\\\\Program Files\\\\R\\\\R-4.4.3\\\\bin',\n",
       " 'C:\\\\Program Files\\\\LLVM\\\\bin',\n",
       " 'C:\\\\Program Files\\\\PowerShell\\\\7\\\\',\n",
       " 'C:\\\\Users\\\\90963425\\\\AppData\\\\Local\\\\Microsoft\\\\WindowsApps']"
      ]
     },
     "execution_count": 26,
     "metadata": {},
     "output_type": "execute_result"
    }
   ],
   "source": [
    "os.environ.get(\"PATH\").split(';')"
   ]
  },
  {
   "cell_type": "code",
   "execution_count": null,
   "id": "42c691c2-304e-44c8-ba71-46afcfba3087",
   "metadata": {},
   "outputs": [],
   "source": []
  }
 ],
 "metadata": {
  "kernelspec": {
   "display_name": "Python 3 (ipykernel)",
   "language": "python",
   "name": "python3"
  },
  "language_info": {
   "codemirror_mode": {
    "name": "ipython",
    "version": 3
   },
   "file_extension": ".py",
   "mimetype": "text/x-python",
   "name": "python",
   "nbconvert_exporter": "python",
   "pygments_lexer": "ipython3",
   "version": "3.13.3"
  }
 },
 "nbformat": 4,
 "nbformat_minor": 5
}

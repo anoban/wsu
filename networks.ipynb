{
 "cells": [
  {
   "cell_type": "code",
   "execution_count": 21,
   "id": "82da0574-e52e-4b60-b003-01c8cccefe19",
   "metadata": {},
   "outputs": [],
   "source": [
    "import networkx as nx\n",
    "import numpy as np\n",
    "import matplotlib.pyplot as plt\n",
    "from itertools import (permutations, combinations)\n",
    "from string import (ascii_lowercase, ascii_uppercase)\n",
    "\n",
    "np.random.seed(2025 - 3 - 26)"
   ]
  },
  {
   "cell_type": "code",
   "execution_count": 9,
   "id": "80feda6b-cbd8-44ee-9c17-75593927fcd4",
   "metadata": {},
   "outputs": [],
   "source": [
    "cmn = nx.Graph()"
   ]
  },
  {
   "cell_type": "code",
   "execution_count": null,
   "id": "7b8d0345-5cc7-404e-9591-71d779a4a300",
   "metadata": {},
   "outputs": [],
   "source": []
  },
  {
   "cell_type": "code",
   "execution_count": 24,
   "id": "842f1862-2f62-4f95-ac77-2fbb74f9c2fb",
   "metadata": {},
   "outputs": [],
   "source": [
    "# let's have 5 different AM fungal species and 17 different plant species\n",
    "\n",
    "am = np.random.choice(list(ascii_lowercase), size=5)\n",
    "plants = np.random.choice(list(ascii_uppercase), size=17)"
   ]
  },
  {
   "cell_type": "code",
   "execution_count": 26,
   "id": "a16ada9d-c45c-44c3-b8cc-f7da99c1e0d8",
   "metadata": {},
   "outputs": [
    {
     "data": {
      "text/plain": [
       "array(['N', 'M', 'U', 'K', 'H', 'E', 'X', 'G', 'Y', 'T', 'V', 'F', 'X',\n",
       "       'M', 'J', 'Q', 'H'], dtype='<U1')"
      ]
     },
     "execution_count": 26,
     "metadata": {},
     "output_type": "execute_result"
    }
   ],
   "source": [
    "plants"
   ]
  },
  {
   "cell_type": "code",
   "execution_count": null,
   "id": "2dd07e8c-e109-4564-8361-4a5526d114b3",
   "metadata": {},
   "outputs": [],
   "source": []
  }
 ],
 "metadata": {
  "kernelspec": {
   "display_name": "Python 3 (ipykernel)",
   "language": "python",
   "name": "python3"
  },
  "language_info": {
   "codemirror_mode": {
    "name": "ipython",
    "version": 3
   },
   "file_extension": ".py",
   "mimetype": "text/x-python",
   "name": "python",
   "nbconvert_exporter": "python",
   "pygments_lexer": "ipython3",
   "version": "3.13.3"
  }
 },
 "nbformat": 4,
 "nbformat_minor": 5
}

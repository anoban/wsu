{
 "cells": [
  {
   "cell_type": "code",
   "execution_count": 1,
   "id": "77240466-ddf4-458f-95e4-5c8b1bf35ac2",
   "metadata": {},
   "outputs": [
    {
     "name": "stdout",
     "output_type": "stream",
     "text": [
      "Python 3.13.2\n"
     ]
    }
   ],
   "source": [
    "!python --version"
   ]
  },
  {
   "cell_type": "code",
   "execution_count": 33,
   "id": "fdfc2337-7002-446c-bdc2-3d00e9ef2321",
   "metadata": {},
   "outputs": [],
   "source": [
    "import pandas as pd\n",
    "import pyarrow\n",
    "from pyarrow import csv, compute"
   ]
  },
  {
   "cell_type": "code",
   "execution_count": 13,
   "id": "9fe38779-dc89-403a-a2f0-87e3457696a0",
   "metadata": {},
   "outputs": [
    {
     "data": {
      "text/plain": [
       "18"
      ]
     },
     "execution_count": 13,
     "metadata": {},
     "output_type": "execute_result"
    }
   ],
   "source": [
    "pyarrow.cpu_count()"
   ]
  },
  {
   "cell_type": "code",
   "execution_count": 14,
   "id": "f54506be-c7fa-496a-b462-c9c6a801344b",
   "metadata": {},
   "outputs": [
    {
     "data": {
      "text/plain": [
       "8"
      ]
     },
     "execution_count": 14,
     "metadata": {},
     "output_type": "execute_result"
    }
   ],
   "source": [
    "pyarrow.io_thread_count()"
   ]
  },
  {
   "cell_type": "code",
   "execution_count": 19,
   "id": "89705ed5-ae0b-482f-b955-71227a500276",
   "metadata": {},
   "outputs": [
    {
     "data": {
      "text/plain": [
       "VersionInfo(major=19, minor=0, patch=1)"
      ]
     },
     "execution_count": 19,
     "metadata": {},
     "output_type": "execute_result"
    }
   ],
   "source": [
    "pyarrow.cpp_version_info"
   ]
  },
  {
   "cell_type": "code",
   "execution_count": 17,
   "id": "50bc1dbb-0e48-4913-beef-28d5e4eadacc",
   "metadata": {},
   "outputs": [
    {
     "data": {
      "text/plain": [
       "'19.0.1'"
      ]
     },
     "execution_count": 17,
     "metadata": {},
     "output_type": "execute_result"
    }
   ],
   "source": [
    "pyarrow.cpp_version"
   ]
  },
  {
   "cell_type": "code",
   "execution_count": 38,
   "id": "27648dd2-3475-42ac-baec-1a8e8109bd3f",
   "metadata": {},
   "outputs": [
    {
     "name": "stdout",
     "output_type": "stream",
     "text": [
      "1.4 s ± 41.2 ms per loop (mean ± std. dev. of 7 runs, 1 loop each)\n"
     ]
    }
   ],
   "source": [
    "%%timeit -n 1 \n",
    "\n",
    "df_arrow = csv.read_csv(r\"./FRED/FRED3_Entire_Database_2021.csv\", csv.ReadOptions(use_threads=True, skip_rows_after_names=12))"
   ]
  },
  {
   "cell_type": "code",
   "execution_count": 39,
   "id": "b17f0e9d-c338-4620-9321-f38a4407bb0d",
   "metadata": {},
   "outputs": [
    {
     "name": "stdout",
     "output_type": "stream",
     "text": [
      "2.84 s ± 106 ms per loop (mean ± std. dev. of 7 runs, 1 loop each)\n"
     ]
    }
   ],
   "source": [
    "%%timeit -n 1\n",
    "\n",
    "df_pandas  = pd.read_csv(r\"./FRED/FRED3_Entire_Database_2021.csv\", low_memory=False, encoding=\"latin\", skiprows=12, header=0)"
   ]
  },
  {
   "cell_type": "code",
   "execution_count": 52,
   "id": "c01d135a-dc29-496c-b83e-82caaeecfd10",
   "metadata": {},
   "outputs": [],
   "source": [
    "df_arrow = csv.read_csv(r\"./FRED/FRED3_Entire_Database_2021.csv\", csv.ReadOptions(use_threads=True, skip_rows_after_names=12))\n",
    "df_pandas  = pd.read_csv(r\"./FRED/FRED3_Entire_Database_2021.csv\", low_memory=False, encoding=\"latin\", skiprows=range(1, 10), header=0)"
   ]
  },
  {
   "cell_type": "code",
   "execution_count": 80,
   "id": "4bcb78d5-a282-4bd1-80d5-2f8d1d9ab5cc",
   "metadata": {},
   "outputs": [
    {
     "name": "stdout",
     "output_type": "stream",
     "text": [
      "The slowest run took 8.59 times longer than the fastest. This could mean that an intermediate result is being cached.\n",
      "64.4 μs ± 75.2 μs per loop (mean ± std. dev. of 7 runs, 1 loop each)\n"
     ]
    }
   ],
   "source": [
    "%%timeit -n 1\n",
    "\n",
    "compute.mean(df_arrow[\"F00056\"])"
   ]
  },
  {
   "cell_type": "code",
   "execution_count": 81,
   "id": "a2fd3d9c-33e3-4b82-b8d1-a8ad289c91d8",
   "metadata": {},
   "outputs": [
    {
     "name": "stdout",
     "output_type": "stream",
     "text": [
      "The slowest run took 6.46 times longer than the fastest. This could mean that an intermediate result is being cached.\n",
      "277 μs ± 272 μs per loop (mean ± std. dev. of 7 runs, 1 loop each)\n"
     ]
    }
   ],
   "source": [
    "%%timeit -n 1\n",
    "\n",
    "df_pandas.loc[:, \"F00056\"].mean()"
   ]
  },
  {
   "cell_type": "code",
   "execution_count": 28,
   "id": "a0897b90-3736-4069-8ad7-2a2bfc4034b4",
   "metadata": {},
   "outputs": [],
   "source": [
    "df.to_pandas();"
   ]
  }
 ],
 "metadata": {
  "kernelspec": {
   "display_name": "Python 3 (ipykernel)",
   "language": "python",
   "name": "python3"
  },
  "language_info": {
   "codemirror_mode": {
    "name": "ipython",
    "version": 3
   },
   "file_extension": ".py",
   "mimetype": "text/x-python",
   "name": "python",
   "nbconvert_exporter": "python",
   "pygments_lexer": "ipython3",
   "version": "3.13.3"
  }
 },
 "nbformat": 4,
 "nbformat_minor": 5
}

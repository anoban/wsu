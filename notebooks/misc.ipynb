{
 "cells": [
  {
   "cell_type": "code",
   "execution_count": 2,
   "id": "a02479bb-6773-4be4-a322-3d0ddcce2160",
   "metadata": {},
   "outputs": [],
   "source": [
    "from numba import njit\n",
    "from apni import parse_apni_name_list\n",
    "import pandas as pd"
   ]
  },
  {
   "cell_type": "code",
   "execution_count": 3,
   "id": "497b4115-2310-43cc-99dd-1d021ffeb1bd",
   "metadata": {},
   "outputs": [],
   "source": [
    "@njit(fastmath=True)\n",
    "def cumulative_interest(initial_capital: float, annual_interest: float, n_years: int) -> float:\n",
    "    \"\"\"\n",
    "    \n",
    "    \"\"\"\n",
    "    capital: float = initial_capital\n",
    "    MULTIPLIER: float = (1.0 + annual_interest / 100)\n",
    "    for _ in range(n_years):\n",
    "        capital *= MULTIPLIER\n",
    "    return capital"
   ]
  },
  {
   "cell_type": "code",
   "execution_count": 4,
   "id": "f3c9f96c-dbb0-4054-8ee7-ec067f35e794",
   "metadata": {},
   "outputs": [
    {
     "data": {
      "text/plain": [
       "14914391.149930347"
      ]
     },
     "execution_count": 4,
     "metadata": {},
     "output_type": "execute_result"
    }
   ],
   "source": [
    "cumulative_interest(35_000, 9.0, 10) * 180"
   ]
  },
  {
   "cell_type": "code",
   "execution_count": 6,
   "id": "0452e3e7-4ad8-450a-bfbe-2de8031ff741",
   "metadata": {},
   "outputs": [],
   "source": [
    "australian_plant_name_index = pd.Series(parse_apni_name_list())"
   ]
  },
  {
   "cell_type": "code",
   "execution_count": 9,
   "id": "b2198cea-4e90-4674-8bba-402d1b1299ed",
   "metadata": {},
   "outputs": [
    {
     "data": {
      "text/plain": [
       "19838                            Cyperus acutus R.Br.\n",
       "19839                  Cyperus alatus (Nees) F.Muell.\n",
       "19840            Cyperus albomarginatus (Nees) Steud.\n",
       "19841                    Cyperus albostriatus Schrad.\n",
       "19842                    Cyperus alopecuroides Rottb.\n",
       "                             ...                     \n",
       "20299                   Cyperus viscidulus K.L.Wilson\n",
       "20300                          Cyperus vulgaris Kunth\n",
       "20301                        Cyperus xanthopus Steud.\n",
       "20302    Cyperus xerophilus (Domin) Kuk., nom. illeg.\n",
       "20303                       Cyperus zollingeri Steud.\n",
       "Length: 466, dtype: object"
      ]
     },
     "execution_count": 9,
     "metadata": {},
     "output_type": "execute_result"
    }
   ],
   "source": [
    "australian_plant_name_index[australian_plant_name_index.str.contains(\"Cyperus\")]"
   ]
  }
 ],
 "metadata": {
  "kernelspec": {
   "display_name": "Python 3 (ipykernel)",
   "language": "python",
   "name": "python3"
  },
  "language_info": {
   "codemirror_mode": {
    "name": "ipython",
    "version": 3
   },
   "file_extension": ".py",
   "mimetype": "text/x-python",
   "name": "python",
   "nbconvert_exporter": "python",
   "pygments_lexer": "ipython3",
   "version": "3.13.3"
  }
 },
 "nbformat": 4,
 "nbformat_minor": 5
}

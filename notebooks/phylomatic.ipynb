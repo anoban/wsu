{
 "cells": [
  {
   "cell_type": "code",
   "execution_count": 1,
   "id": "e7b253b7-2ba1-4e1e-8238-04b729418198",
   "metadata": {},
   "outputs": [
    {
     "name": "stdout",
     "output_type": "stream",
     "text": [
      "Python 3.13.2\n"
     ]
    }
   ],
   "source": [
    "!python --version"
   ]
  },
  {
   "cell_type": "code",
   "execution_count": 2,
   "id": "11c62638-cb82-4835-a8d5-1be62ac45571",
   "metadata": {},
   "outputs": [],
   "source": [
    "import re\n",
    "import os\n",
    "import zipfile\n",
    "import gc\n",
    "\n",
    "# import modin.pandas as pd\n",
    "import pandas as pd\n",
    "import numpy as np\n",
    "\n",
    "# import modin.config as modin_config\n",
    "# modin_config.Engine.put(\"dask\")\n",
    "# modin_config.StorageFormat.put(\"pandas\")"
   ]
  },
  {
   "cell_type": "code",
   "execution_count": null,
   "id": "8d72e297-90dd-45e2-8c17-df0a3f4aeec9",
   "metadata": {},
   "outputs": [],
   "source": []
  },
  {
   "cell_type": "code",
   "execution_count": 3,
   "id": "25cd6901-0147-449b-88b6-e3cd09e7cc5c",
   "metadata": {},
   "outputs": [],
   "source": [
    "# Archive of World Flora Online (WFO) - https://zenodo.org/records/14538251\n",
    "# families_dwc.tar.gz file contains zipped archives of classification data for all families\n",
    "# each family is contained within a separate .zip file and the core data are in a file called `classification.csv'\n",
    "# harvest the following columns from each of  these csv files\n",
    "# family, genus, specificEpithet & majorGroup"
   ]
  },
  {
   "cell_type": "raw",
   "id": "5f30ea52-4245-4673-9c05-0f8a191ff266",
   "metadata": {},
   "source": [
    "wfo = pd.DataFrame(columns=[\"family\", \"genus\", \"specificEpithet\", \"majorGroup\"], dtype=str)\n",
    "wfo"
   ]
  },
  {
   "cell_type": "raw",
   "id": "f2945738-ed98-46b1-9629-d26d57fbfcc5",
   "metadata": {},
   "source": [
    "for archive in os.listdir(r\"./Families/\"):\n",
    "    with zipfile.ZipFile(file=f\"./Families/{archive}\", mode=\"r\") as zf:\n",
    "        with zf.open(\"classification.csv\") as csf:\n",
    "            df = pd.read_csv(filepath_or_buffer=csf, low_memory=False, encoding=\"latin\")\n",
    "            wfo = pd.concat([wfo, df.loc[:, [\"family\", \"genus\", \"specificEpithet\", \"majorGroup\"]]], ignore_index=True)"
   ]
  },
  {
   "cell_type": "raw",
   "id": "d0522b85-2f59-4662-ab68-efac4d3b0fa4",
   "metadata": {},
   "source": [
    "wfo.shape"
   ]
  },
  {
   "cell_type": "raw",
   "id": "50e2ea29-4503-4e66-9200-e33293b0d267",
   "metadata": {},
   "source": [
    "# A stands for Angiosperms???\n",
    "wfo.loc[:, \"majorGroup\"].unique()"
   ]
  },
  {
   "cell_type": "raw",
   "id": "70048e94-6d7f-4db4-9f91-c7d04231c5f1",
   "metadata": {},
   "source": [
    "wfo.memory_usage()"
   ]
  },
  {
   "cell_type": "code",
   "execution_count": 42,
   "id": "727acd2a-7ee7-4967-802f-5568c9efddf3",
   "metadata": {},
   "outputs": [
    {
     "data": {
      "text/plain": [
       "(1149343, 4)"
      ]
     },
     "execution_count": 42,
     "metadata": {},
     "output_type": "execute_result"
    }
   ],
   "source": [
    "wfo_noduplicates = wfo.drop_duplicates()\n",
    "wfo_noduplicates.shape"
   ]
  },
  {
   "cell_type": "raw",
   "id": "f46eb1ed-4cac-4fed-b529-2fd07f9749b2",
   "metadata": {},
   "source": [
    "wfo_noduplicates.isna().sum()"
   ]
  },
  {
   "cell_type": "raw",
   "id": "9d8c375d-1793-45ed-ad7d-a2b59460a5a7",
   "metadata": {},
   "source": [
    "# the most important rows are family and genus \n",
    "wfo_noduplicates = wfo_noduplicates.dropna(subset=[\"family\", \"genus\"])"
   ]
  },
  {
   "cell_type": "raw",
   "id": "b7976bb4-ed39-4139-8296-6918d0e349e8",
   "metadata": {},
   "source": [
    "wfo_noduplicates.isna().sum()"
   ]
  },
  {
   "cell_type": "raw",
   "id": "bc63155e-4631-4785-9db0-8d05a2291419",
   "metadata": {},
   "source": [
    "# wfo_noduplicates.to_csv(r\"./wfo_taxonomy_clean.csv\", index=False)"
   ]
  },
  {
   "cell_type": "code",
   "execution_count": null,
   "id": "41e14fa5-a70b-4cbc-a109-95ef85fccaa8",
   "metadata": {},
   "outputs": [],
   "source": []
  },
  {
   "cell_type": "raw",
   "id": "eadf547a-7118-4050-bc0e-d0307b972ef6",
   "metadata": {},
   "source": [
    "wfo_noduplicates = pd.read_csv(r\"./wfo_taxonomy_clean.csv\", low_memory=False)"
   ]
  },
  {
   "cell_type": "code",
   "execution_count": null,
   "id": "f8c39bad-c3d5-49bd-bbdb-00c4ca5cedee",
   "metadata": {},
   "outputs": [],
   "source": []
  },
  {
   "cell_type": "markdown",
   "id": "81c77b71-f63a-462f-be36-85fee63b5461",
   "metadata": {},
   "source": [
    "# ___GRooT___"
   ]
  },
  {
   "cell_type": "code",
   "execution_count": 5,
   "id": "5bdb8858-f850-40b8-bcf0-16996d715621",
   "metadata": {},
   "outputs": [],
   "source": [
    "groot = pd.read_csv(r\"./GRooTFullVersion.csv\", low_memory=False, encoding=\"latin\")"
   ]
  },
  {
   "cell_type": "code",
   "execution_count": 6,
   "id": "17b4432a-78ba-4a32-a5b5-c30e649861a9",
   "metadata": {},
   "outputs": [
    {
     "data": {
      "text/plain": [
       "family     6135\n",
       "genus         0\n",
       "species     138\n",
       "dtype: int64"
      ]
     },
     "execution_count": 6,
     "metadata": {},
     "output_type": "execute_result"
    }
   ],
   "source": [
    "groot_taxonomy = groot.loc[:, [\"family\", \"genus\", \"species\"]].drop_duplicates().reset_index(drop=True)\n",
    "groot_taxonomy.isna().sum()"
   ]
  },
  {
   "cell_type": "code",
   "execution_count": null,
   "id": "c5662f97-26b3-43f2-8c15-db0b4e686f87",
   "metadata": {},
   "outputs": [],
   "source": []
  },
  {
   "cell_type": "code",
   "execution_count": 7,
   "id": "1dd74bd7-3baa-4993-84c3-e676297048ec",
   "metadata": {},
   "outputs": [
    {
     "data": {
      "text/plain": [
       "1959"
      ]
     },
     "execution_count": 7,
     "metadata": {},
     "output_type": "execute_result"
    }
   ],
   "source": [
    "# 1959 unique genera in GRoot\n",
    "groot_taxonomy.genus.drop_duplicates().size"
   ]
  },
  {
   "cell_type": "raw",
   "id": "ff6121ea-e602-4244-981f-514c11b07fd5",
   "metadata": {},
   "source": [
    "# we don't have the family info for all genera :(\n",
    "np.intersect1d(groot_taxonomy.genus.drop_duplicates(), wfo_noduplicates.genus).size"
   ]
  },
  {
   "cell_type": "raw",
   "id": "4fca92d6-22e8-4a4f-b53b-563d6448d497",
   "metadata": {},
   "source": [
    "# this is because of case differences!\n",
    "groot_taxonomy.genus.drop_duplicates().size - np.intersect1d(groot_taxonomy.genus.drop_duplicates(), wfo_noduplicates.genus).size"
   ]
  },
  {
   "cell_type": "raw",
   "id": "982e02d1-83c4-4225-a271-444c44ad4b1e",
   "metadata": {},
   "source": [
    "# we still have some work to do manually\n",
    "missing = set(groot_taxonomy.genus.str.title().str.strip()).difference(set(wfo_noduplicates.genus.str.strip().str.title()))\n",
    "missing"
   ]
  },
  {
   "cell_type": "raw",
   "id": "e9971784-72b7-4d95-a7e5-6268145748c9",
   "metadata": {},
   "source": [
    "# these do contain \"anona\", but.......\n",
    "wfo_noduplicates.genus[wfo_noduplicates.genus.str.contains(\"anona\")]"
   ]
  },
  {
   "cell_type": "raw",
   "id": "598b310c-bdce-4c6c-9b59-ea64161f9b52",
   "metadata": {},
   "source": [
    "# welp\n",
    "[wfo_noduplicates.genus[wfo_noduplicates.genus.str.startswith(g)].size for g in missing]"
   ]
  },
  {
   "cell_type": "code",
   "execution_count": 10,
   "id": "3b2f96eb-c953-4904-bb39-88c1dc71cc49",
   "metadata": {},
   "outputs": [
    {
     "data": {
      "text/plain": [
       "np.int64(1)"
      ]
     },
     "execution_count": 10,
     "metadata": {},
     "output_type": "execute_result"
    }
   ],
   "source": [
    "groot_taxonomy.genus.str.title().str.contains(\"Anona\").sum()"
   ]
  },
  {
   "cell_type": "raw",
   "id": "841aeeb0-7190-4354-9233-db21342e36b5",
   "metadata": {},
   "source": [
    "# seems like Anona is legitimately missing\n",
    "wfo_noduplicates.loc[wfo_noduplicates.family.str.contains(\"Annonaceae\"), \"genus\"].unique()"
   ]
  },
  {
   "cell_type": "code",
   "execution_count": 12,
   "id": "994cfa37-dcc4-4f64-9644-89d58290b6c0",
   "metadata": {},
   "outputs": [
    {
     "data": {
      "text/plain": [
       "766       Matteuccia\n",
       "2913      Matteuccia\n",
       "3544       Matthiola\n",
       "4061      Matricaria\n",
       "4062      Matteuccia\n",
       "4555      Matricaria\n",
       "4911       Matthiola\n",
       "4912       Matthiola\n",
       "5296      Matricaria\n",
       "5436         Matayba\n",
       "5496    Matthiolaria\n",
       "5521       Matthiola\n",
       "Name: genus, dtype: object"
      ]
     },
     "execution_count": 12,
     "metadata": {},
     "output_type": "execute_result"
    }
   ],
   "source": [
    "groot_taxonomy.genus[groot_taxonomy.genus.str.startswith(\"Mat\")]"
   ]
  },
  {
   "cell_type": "code",
   "execution_count": 14,
   "id": "8f3227da-5231-4480-a984-1fc4c212d18e",
   "metadata": {},
   "outputs": [],
   "source": [
    "# looks like GRoot has some spelling mistakes in the genus names!!! \n",
    "# YIKES\n",
    "\n",
    "groot_spelling_corrections = {\n",
    "\"Anona\" : \"Annona\",\n",
    "\"Braciaria\" : \"Brachiaria\",\n",
    "\"Cyanodon\" : \"Cynodon\",\n",
    "\"Helychrisum\" : \"Helichrysum\",\n",
    "\"Matthiolaria\" : \"Matthiola\", # https://list-ui-wfo-staging.rbge.info/taxon/wfo-0000368988-2018-07?page=1 - synonyms\n",
    "\"Rhipogonum\" : \"Ripogonum\",\n",
    "\"Rynchosia\" : \"Rhynchosia\"\n",
    "}"
   ]
  },
  {
   "cell_type": "code",
   "execution_count": 15,
   "id": "fbe8e787-6559-4882-8af4-79c084b6eeae",
   "metadata": {},
   "outputs": [],
   "source": [
    "spelling_corrected_groot_genera = groot_taxonomy.genus.\\\n",
    "        apply(func= lambda g: groot_spelling_corrections.get(g) if g in groot_spelling_corrections.keys() else g.strip().title())"
   ]
  },
  {
   "cell_type": "code",
   "execution_count": 16,
   "id": "6918ded6-1350-4937-aec1-17df58b92e04",
   "metadata": {},
   "outputs": [
    {
     "data": {
      "text/plain": [
       "1167    Annona\n",
       "2444    Annona\n",
       "Name: genus, dtype: object"
      ]
     },
     "execution_count": 16,
     "metadata": {},
     "output_type": "execute_result"
    }
   ],
   "source": [
    "spelling_corrected_groot_genera[spelling_corrected_groot_genera.str.startswith(\"Ann\")]"
   ]
  },
  {
   "cell_type": "raw",
   "id": "ec829d4a-b40e-4a73-9461-9f8a22039857",
   "metadata": {},
   "source": [
    "set(spelling_corrected_groot_genera).difference(set(wfo_noduplicates.genus.str.strip().str.title()))"
   ]
  },
  {
   "cell_type": "raw",
   "id": "c167ec16-c6c9-4b3f-bc47-6a8bc452f0a2",
   "metadata": {},
   "source": [
    "set(spelling_corrected_groot_genera.str.title()).difference(set(wfo_noduplicates.genus.str.strip().str.title()))"
   ]
  },
  {
   "cell_type": "raw",
   "id": "96d3cf83-9984-4969-b38a-077a4ae43fb3",
   "metadata": {},
   "source": [
    "# finally!\n",
    "print(set(spelling_corrected_groot_genera.str.title().str.strip()).difference(set(wfo_noduplicates.genus.str.strip().str.title())))\n",
    "\n",
    "# the problem is GRoot NOT the WFO database!\n",
    "print(set(spelling_corrected_groot_genera.str.title().str.strip()).difference(set(wfo_noduplicates.genus)))"
   ]
  },
  {
   "cell_type": "code",
   "execution_count": 19,
   "id": "045ce393-31a3-41b9-8ba4-4bade43aab9b",
   "metadata": {},
   "outputs": [
    {
     "data": {
      "text/plain": [
       "0          Betula\n",
       "1           Picea\n",
       "2           Pinus\n",
       "3       Agropyron\n",
       "4       Artemisia\n",
       "          ...    \n",
       "7229    Valeriana\n",
       "7230     Veronica\n",
       "7231        Vicia\n",
       "7232        Vicia\n",
       "7233    Centaurea\n",
       "Name: genus, Length: 7234, dtype: object"
      ]
     },
     "execution_count": 19,
     "metadata": {},
     "output_type": "execute_result"
    }
   ],
   "source": [
    "spelling_corrected_groot_genera #.reset_index(drop=True)"
   ]
  },
  {
   "cell_type": "code",
   "execution_count": 20,
   "id": "4a3823e3-f43b-4f55-95b0-90f2615f83ec",
   "metadata": {},
   "outputs": [
    {
     "data": {
      "text/html": [
       "<div>\n",
       "<style scoped>\n",
       "    .dataframe tbody tr th:only-of-type {\n",
       "        vertical-align: middle;\n",
       "    }\n",
       "\n",
       "    .dataframe tbody tr th {\n",
       "        vertical-align: top;\n",
       "    }\n",
       "\n",
       "    .dataframe thead th {\n",
       "        text-align: right;\n",
       "    }\n",
       "</style>\n",
       "<table border=\"1\" class=\"dataframe\">\n",
       "  <thead>\n",
       "    <tr style=\"text-align: right;\">\n",
       "      <th></th>\n",
       "      <th>family</th>\n",
       "      <th>genus</th>\n",
       "      <th>species</th>\n",
       "    </tr>\n",
       "  </thead>\n",
       "  <tbody>\n",
       "    <tr>\n",
       "      <th>0</th>\n",
       "      <td>NaN</td>\n",
       "      <td>Betula</td>\n",
       "      <td>NaN</td>\n",
       "    </tr>\n",
       "    <tr>\n",
       "      <th>1</th>\n",
       "      <td>NaN</td>\n",
       "      <td>Picea</td>\n",
       "      <td>NaN</td>\n",
       "    </tr>\n",
       "    <tr>\n",
       "      <th>2</th>\n",
       "      <td>NaN</td>\n",
       "      <td>Pinus</td>\n",
       "      <td>NaN</td>\n",
       "    </tr>\n",
       "    <tr>\n",
       "      <th>3</th>\n",
       "      <td>NaN</td>\n",
       "      <td>Agropyron</td>\n",
       "      <td>cristatum</td>\n",
       "    </tr>\n",
       "    <tr>\n",
       "      <th>4</th>\n",
       "      <td>NaN</td>\n",
       "      <td>Artemisia</td>\n",
       "      <td>tridentata</td>\n",
       "    </tr>\n",
       "    <tr>\n",
       "      <th>...</th>\n",
       "      <td>...</td>\n",
       "      <td>...</td>\n",
       "      <td>...</td>\n",
       "    </tr>\n",
       "    <tr>\n",
       "      <th>7229</th>\n",
       "      <td>NaN</td>\n",
       "      <td>Valeriana</td>\n",
       "      <td>excelsa</td>\n",
       "    </tr>\n",
       "    <tr>\n",
       "      <th>7230</th>\n",
       "      <td>NaN</td>\n",
       "      <td>Veronica</td>\n",
       "      <td>aphylla</td>\n",
       "    </tr>\n",
       "    <tr>\n",
       "      <th>7231</th>\n",
       "      <td>NaN</td>\n",
       "      <td>Vicia</td>\n",
       "      <td>onobrychioides</td>\n",
       "    </tr>\n",
       "    <tr>\n",
       "      <th>7232</th>\n",
       "      <td>NaN</td>\n",
       "      <td>Vicia</td>\n",
       "      <td>oroboides</td>\n",
       "    </tr>\n",
       "    <tr>\n",
       "      <th>7233</th>\n",
       "      <td>Asteraceae</td>\n",
       "      <td>Centaurea</td>\n",
       "      <td>aspera</td>\n",
       "    </tr>\n",
       "  </tbody>\n",
       "</table>\n",
       "<p>7234 rows × 3 columns</p>\n",
       "</div>"
      ],
      "text/plain": [
       "          family      genus         species\n",
       "0            NaN     Betula             NaN\n",
       "1            NaN      Picea             NaN\n",
       "2            NaN      Pinus             NaN\n",
       "3            NaN  Agropyron       cristatum\n",
       "4            NaN  Artemisia      tridentata\n",
       "...          ...        ...             ...\n",
       "7229         NaN  Valeriana         excelsa\n",
       "7230         NaN   Veronica         aphylla\n",
       "7231         NaN      Vicia  onobrychioides\n",
       "7232         NaN      Vicia       oroboides\n",
       "7233  Asteraceae  Centaurea          aspera\n",
       "\n",
       "[7234 rows x 3 columns]"
      ]
     },
     "execution_count": 20,
     "metadata": {},
     "output_type": "execute_result"
    }
   ],
   "source": [
    "groot_taxonomy"
   ]
  },
  {
   "cell_type": "code",
   "execution_count": 23,
   "id": "085ae3c5-1454-4ece-abae-13e9091b7af0",
   "metadata": {},
   "outputs": [],
   "source": [
    "# mhmmmm\n",
    "groot_taxonomy.genus = spelling_corrected_groot_genera\n",
    "groot_taxonomy.reset_index(inplace=True, drop=True)"
   ]
  },
  {
   "cell_type": "code",
   "execution_count": 24,
   "id": "0b2fa28a-ea09-405b-8b3f-3ad7f34ee701",
   "metadata": {},
   "outputs": [
    {
     "data": {
      "text/html": [
       "<div>\n",
       "<style scoped>\n",
       "    .dataframe tbody tr th:only-of-type {\n",
       "        vertical-align: middle;\n",
       "    }\n",
       "\n",
       "    .dataframe tbody tr th {\n",
       "        vertical-align: top;\n",
       "    }\n",
       "\n",
       "    .dataframe thead th {\n",
       "        text-align: right;\n",
       "    }\n",
       "</style>\n",
       "<table border=\"1\" class=\"dataframe\">\n",
       "  <thead>\n",
       "    <tr style=\"text-align: right;\">\n",
       "      <th></th>\n",
       "      <th>family</th>\n",
       "      <th>genus</th>\n",
       "      <th>species</th>\n",
       "    </tr>\n",
       "  </thead>\n",
       "  <tbody>\n",
       "    <tr>\n",
       "      <th>0</th>\n",
       "      <td>NaN</td>\n",
       "      <td>Betula</td>\n",
       "      <td>NaN</td>\n",
       "    </tr>\n",
       "    <tr>\n",
       "      <th>1</th>\n",
       "      <td>NaN</td>\n",
       "      <td>Picea</td>\n",
       "      <td>NaN</td>\n",
       "    </tr>\n",
       "    <tr>\n",
       "      <th>2</th>\n",
       "      <td>NaN</td>\n",
       "      <td>Pinus</td>\n",
       "      <td>NaN</td>\n",
       "    </tr>\n",
       "    <tr>\n",
       "      <th>3</th>\n",
       "      <td>NaN</td>\n",
       "      <td>Agropyron</td>\n",
       "      <td>cristatum</td>\n",
       "    </tr>\n",
       "    <tr>\n",
       "      <th>4</th>\n",
       "      <td>NaN</td>\n",
       "      <td>Artemisia</td>\n",
       "      <td>tridentata</td>\n",
       "    </tr>\n",
       "    <tr>\n",
       "      <th>...</th>\n",
       "      <td>...</td>\n",
       "      <td>...</td>\n",
       "      <td>...</td>\n",
       "    </tr>\n",
       "    <tr>\n",
       "      <th>7229</th>\n",
       "      <td>NaN</td>\n",
       "      <td>Valeriana</td>\n",
       "      <td>excelsa</td>\n",
       "    </tr>\n",
       "    <tr>\n",
       "      <th>7230</th>\n",
       "      <td>NaN</td>\n",
       "      <td>Veronica</td>\n",
       "      <td>aphylla</td>\n",
       "    </tr>\n",
       "    <tr>\n",
       "      <th>7231</th>\n",
       "      <td>NaN</td>\n",
       "      <td>Vicia</td>\n",
       "      <td>onobrychioides</td>\n",
       "    </tr>\n",
       "    <tr>\n",
       "      <th>7232</th>\n",
       "      <td>NaN</td>\n",
       "      <td>Vicia</td>\n",
       "      <td>oroboides</td>\n",
       "    </tr>\n",
       "    <tr>\n",
       "      <th>7233</th>\n",
       "      <td>Asteraceae</td>\n",
       "      <td>Centaurea</td>\n",
       "      <td>aspera</td>\n",
       "    </tr>\n",
       "  </tbody>\n",
       "</table>\n",
       "<p>7234 rows × 3 columns</p>\n",
       "</div>"
      ],
      "text/plain": [
       "          family      genus         species\n",
       "0            NaN     Betula             NaN\n",
       "1            NaN      Picea             NaN\n",
       "2            NaN      Pinus             NaN\n",
       "3            NaN  Agropyron       cristatum\n",
       "4            NaN  Artemisia      tridentata\n",
       "...          ...        ...             ...\n",
       "7229         NaN  Valeriana         excelsa\n",
       "7230         NaN   Veronica         aphylla\n",
       "7231         NaN      Vicia  onobrychioides\n",
       "7232         NaN      Vicia       oroboides\n",
       "7233  Asteraceae  Centaurea          aspera\n",
       "\n",
       "[7234 rows x 3 columns]"
      ]
     },
     "execution_count": 24,
     "metadata": {},
     "output_type": "execute_result"
    }
   ],
   "source": [
    "groot_taxonomy"
   ]
  },
  {
   "cell_type": "code",
   "execution_count": 25,
   "id": "d29e5be9-49ab-4cd5-8f87-7b69e0907803",
   "metadata": {},
   "outputs": [
    {
     "data": {
      "text/plain": [
       "dtype('O')"
      ]
     },
     "execution_count": 25,
     "metadata": {},
     "output_type": "execute_result"
    }
   ],
   "source": [
    "# groot_taxonomy.dtypes\n",
    "groot_taxonomy.family.dtype"
   ]
  },
  {
   "cell_type": "raw",
   "id": "c79f9918-3e93-4b01-b339-1b05f98fd31f",
   "metadata": {},
   "source": [
    "temp = wfo_noduplicates.loc[:, [\"family\", \"genus\"]].drop_duplicates().reset_index(drop=True)\n",
    "families = pd.Series(index=temp.genus.values, data=temp.family.values, dtype=str, copy=True)"
   ]
  },
  {
   "cell_type": "raw",
   "id": "9eaa8505-ad68-49ab-9532-7ef882fcda0a",
   "metadata": {},
   "source": [
    "temp.isna().sum()"
   ]
  },
  {
   "cell_type": "raw",
   "id": "4a426b91-5a72-4723-b86d-165c0775928f",
   "metadata": {},
   "source": [
    "families"
   ]
  },
  {
   "cell_type": "code",
   "execution_count": null,
   "id": "5e613c3a-2765-4e1b-abf7-24c0389111a6",
   "metadata": {},
   "outputs": [],
   "source": []
  },
  {
   "cell_type": "raw",
   "id": "507e61b1-8c5e-42e1-9aad-cc0299f08d2f",
   "metadata": {},
   "source": [
    "# :( ???\n",
    "families[\"Cannabis\"]"
   ]
  },
  {
   "cell_type": "code",
   "execution_count": null,
   "id": "35f5135c-5644-45c3-a84e-d790e38cd21f",
   "metadata": {},
   "outputs": [],
   "source": []
  },
  {
   "cell_type": "raw",
   "id": "a5f2241e-6b6b-47ce-bafb-63e8b8e83307",
   "metadata": {},
   "source": [
    "# GOT SO MANY CONFLICTS BETWEEN GROOT AND THE WFO DATABASE\n",
    "\n",
    "n_conflicts : int = 0\n",
    "\n",
    "for i in range(groot_taxonomy.shape[0]):\n",
    "    if pd.isnull(groot_taxonomy.loc[i, \"family\"]): # if GRooT has NaN for family field in a record\n",
    "        if len(families.get(groot_taxonomy.loc[i, \"genus\"], False)) != 1: # if WFO has more than one family name for a given genus, \n",
    "            raise ValueError(f\"{groot_taxonomy.loc[i, \"genus\"]} has more than 1 family names in WFO database! {families.get(groot_taxonomy.loc[i, \"genus\"]).values}\")\n",
    "        groot_taxonomy.loc[i, \"family\"] = families.get(groot_taxonomy.loc[i, \"genus\"]) # replace the NaN with the family name from WFO database\n",
    "    else: # if GRooT has a family name, check for conflicts with WFO\n",
    "        if groot_taxonomy.loc[i, \"family\"] != families.get(groot_taxonomy.loc[i, \"genus\"]): # if there's a conflict\n",
    "                print(f\"{groot_taxonomy.loc[i, \"genus\"]:10s} Expected {families.get(groot_taxonomy.loc[i, \"genus\"])},\\\n",
    "                        got {groot_taxonomy.loc[i, \"family\"]}\")\n",
    "                n_conflicts += 1 # WELP :(\n",
    "            "
   ]
  },
  {
   "cell_type": "raw",
   "id": "54b0b4d6-54dc-43ee-b944-c39c2158211d",
   "metadata": {},
   "source": [
    "# 1.28 GiBs!!!!\n",
    "os.path.getsize(r\"./../classification.csv\") / np.power(1024, 3)"
   ]
  },
  {
   "cell_type": "raw",
   "id": "42de5e8b-8ff5-4d3b-9392-529140682579",
   "metadata": {},
   "source": [
    "# let's see the csv (pre)compiled by WFO itself\n",
    "\n",
    "wfo_full = pd.read_csv(r\"./../classification.csv\", low_memory=False, encoding=\"latin\")"
   ]
  },
  {
   "cell_type": "raw",
   "id": "e5a5da4d-a80b-4c66-bd97-dad127290fc7",
   "metadata": {},
   "source": [
    "wfo_full.columns"
   ]
  },
  {
   "cell_type": "raw",
   "id": "b6f8f76b-2eea-44b5-80c2-9d289ebdabf1",
   "metadata": {},
   "source": [
    "wfo_full.shape"
   ]
  },
  {
   "cell_type": "raw",
   "id": "2273b92d-47d4-4be7-a74e-f44d5cccee3a",
   "metadata": {},
   "source": [
    "wfo_full.loc[:, [\"family\", \"genus\", \"specificEpithet\"]].drop_duplicates().reset_index(drop=True)"
   ]
  },
  {
   "cell_type": "raw",
   "id": "5912c992-f210-4157-9eb7-f620d8690f18",
   "metadata": {},
   "source": [
    "wfo_full.loc[:, [\"family\", \"genus\"]].isna().sum()"
   ]
  },
  {
   "cell_type": "raw",
   "id": "8b0a10bf-6c60-4385-8ae6-425b0e198715",
   "metadata": {},
   "source": [
    "np.set_printoptions(threshold=np.inf)\n",
    "\n",
    "# suppressed the outputs\n",
    "np.unique(wfo_full.loc[:, \"genus\"].dropna(), return_counts=True);"
   ]
  },
  {
   "cell_type": "raw",
   "id": "99579d36-3f8d-4058-8201-9dce629552c1",
   "metadata": {},
   "source": [
    "wfo_full.loc[:, [\"family\", \"genus\"]].dropna(how=\"any\").drop_duplicates()"
   ]
  },
  {
   "cell_type": "raw",
   "id": "433a1c09-8e5d-4e99-8090-5a090f833929",
   "metadata": {},
   "source": [
    "temp_wfo_full = wfo_full.loc[:, [\"family\", \"genus\"]].dropna(how=\"any\").drop_duplicates().reset_index(drop=True)\n",
    "wfo_full = pd.Series(index=temp_wfo_full.genus.values, data=temp_wfo_full.family.values)"
   ]
  },
  {
   "cell_type": "raw",
   "id": "3a8ab43e-d87a-46c9-82b4-564c0b85f262",
   "metadata": {},
   "source": [
    "wfo_full"
   ]
  },
  {
   "cell_type": "raw",
   "id": "68f90487-b3b5-4c64-9a40-1f313d6a5f39",
   "metadata": {
    "scrolled": true
   },
   "source": [
    "# \n",
    "wfo_full[\"Cynodon\"]"
   ]
  },
  {
   "cell_type": "raw",
   "id": "667c5fba-ac84-4d93-8410-c80e28873fd4",
   "metadata": {},
   "source": [
    "wfo_full[\"Pinus\"]"
   ]
  },
  {
   "cell_type": "raw",
   "id": "1453940e-2cd8-4088-a6ac-806a5283eb78",
   "metadata": {},
   "source": [
    "wfo_full[\"Cyperus\"]"
   ]
  },
  {
   "cell_type": "raw",
   "id": "6ff2be51-98fd-46d5-a95e-6c6cec7c5bd3",
   "metadata": {},
   "source": [
    "wfo_full[\"Oryza\"]"
   ]
  },
  {
   "cell_type": "raw",
   "id": "7e074444-f9e5-4d5c-916a-b86966aed5bc",
   "metadata": {},
   "source": [
    "# using the WFO backbone dataset\n",
    "# IT'S IDENTICAL TO CLASSIFICATION.CSV :(\n",
    "# it is actually a tab delimited file with a .csv extension????\n",
    "\n",
    "backbone = pd.read_table(r\"\\\\ad.uws.edu.au\\dfshare\\HomesBNK$\\90963425\\Downloads\\WFO_Backbone\\classification.csv\",\n",
    "                         low_memory=False, encoding=\"latin\", sep=\"\\t\")"
   ]
  },
  {
   "cell_type": "raw",
   "id": "abcc6209-57bd-4b2a-b539-a4d440ddad5e",
   "metadata": {},
   "source": [
    "backbone.columns"
   ]
  },
  {
   "cell_type": "raw",
   "id": "5eeefd6f-4ad6-4c72-ab36-03be17b5d4c9",
   "metadata": {},
   "source": [
    "backbone.loc[:, [\"family\", \"genus\", \"specificEpithet\"]].isna().sum()"
   ]
  },
  {
   "cell_type": "raw",
   "id": "8a6740d3-f16e-4884-9ba0-b526d7b28dd5",
   "metadata": {},
   "source": [
    "backbone.loc[:, [\"family\", \"genus\"]].isna().sum()"
   ]
  },
  {
   "cell_type": "raw",
   "id": "9060a068-4528-4e8b-b74d-044d396f4967",
   "metadata": {},
   "source": [
    "bbone = backbone.loc[:, [\"family\", \"genus\"]].drop_duplicates().dropna().reset_index(drop=True)\n",
    "bbone = pd.Series(index=bbone.genus.values, data=bbone.family.values)"
   ]
  },
  {
   "cell_type": "raw",
   "id": "7d7915fe-9473-406c-9fca-b711eb639e44",
   "metadata": {},
   "source": [
    "bbone[\"Cynodon\"]"
   ]
  },
  {
   "cell_type": "code",
   "execution_count": 61,
   "id": "de4e1542-3765-4cc8-889a-8b5ccdaa14df",
   "metadata": {},
   "outputs": [],
   "source": [
    "# gc.collect()"
   ]
  },
  {
   "cell_type": "code",
   "execution_count": null,
   "id": "ebece24f-9ec2-419d-8a12-2833c8bb6f6e",
   "metadata": {},
   "outputs": [],
   "source": []
  }
 ],
 "metadata": {
  "kernelspec": {
   "display_name": "Python 3 (ipykernel)",
   "language": "python",
   "name": "python3"
  },
  "language_info": {
   "codemirror_mode": {
    "name": "ipython",
    "version": 3
   },
   "file_extension": ".py",
   "mimetype": "text/x-python",
   "name": "python",
   "nbconvert_exporter": "python",
   "pygments_lexer": "ipython3",
   "version": "3.13.3"
  }
 },
 "nbformat": 4,
 "nbformat_minor": 5
}

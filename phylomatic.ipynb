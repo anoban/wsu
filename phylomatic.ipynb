{
 "cells": [
  {
   "cell_type": "code",
   "execution_count": 1,
   "id": "e7b253b7-2ba1-4e1e-8238-04b729418198",
   "metadata": {},
   "outputs": [
    {
     "name": "stdout",
     "output_type": "stream",
     "text": [
      "Python 3.13.2\n"
     ]
    }
   ],
   "source": [
    "!python --version"
   ]
  },
  {
   "cell_type": "code",
   "execution_count": 4,
   "id": "11c62638-cb82-4835-a8d5-1be62ac45571",
   "metadata": {},
   "outputs": [],
   "source": [
    "import re\n",
    "import os\n",
    "import zipfile\n",
    "import gc\n",
    "\n",
    "import modin.pandas as pd\n",
    "import numpy as np\n",
    "\n",
    "import modin.config as modin_config\n",
    "modin_config.Engine.put(\"dask\")\n",
    "modin_config.StorageFormat.put(\"pandas\")"
   ]
  },
  {
   "cell_type": "code",
   "execution_count": null,
   "id": "8d72e297-90dd-45e2-8c17-df0a3f4aeec9",
   "metadata": {},
   "outputs": [],
   "source": []
  },
  {
   "cell_type": "code",
   "execution_count": 64,
   "id": "25cd6901-0147-449b-88b6-e3cd09e7cc5c",
   "metadata": {},
   "outputs": [],
   "source": [
    "# Archive of World Flora Online (WFO) - https://zenodo.org/records/14538251\n",
    "# families_dwc.tar.gz file contains zipped archives of classification data for all families\n",
    "# each family is contained within a separate .zip file and the core data are in a file called `classification.csv'\n",
    "# harvest the following columns from each of  these csv files\n",
    "# family, genus, specificEpithet & majorGroup"
   ]
  },
  {
   "cell_type": "code",
   "execution_count": 5,
   "id": "0036f013-2e3d-460e-8c8f-d3222e354bca",
   "metadata": {},
   "outputs": [
    {
     "name": "stderr",
     "output_type": "stream",
     "text": [
      "UserWarning: `DataFrame._repr_html_` for empty DataFrame is not currently supported by PandasOnDask, defaulting to pandas implementation.\n",
      "Please refer to https://modin.readthedocs.io/en/stable/supported_apis/defaulting_to_pandas.html for explanation.\n"
     ]
    },
    {
     "data": {
      "text/html": [
       "<div>\n",
       "<style scoped>\n",
       "    .dataframe tbody tr th:only-of-type {\n",
       "        vertical-align: middle;\n",
       "    }\n",
       "\n",
       "    .dataframe tbody tr th {\n",
       "        vertical-align: top;\n",
       "    }\n",
       "\n",
       "    .dataframe thead th {\n",
       "        text-align: right;\n",
       "    }\n",
       "</style>\n",
       "<table border=\"1\" class=\"dataframe\">\n",
       "  <thead>\n",
       "    <tr style=\"text-align: right;\">\n",
       "      <th></th>\n",
       "      <th>family</th>\n",
       "      <th>genus</th>\n",
       "      <th>specificEpithet</th>\n",
       "      <th>majorGroup</th>\n",
       "    </tr>\n",
       "  </thead>\n",
       "  <tbody>\n",
       "  </tbody>\n",
       "</table>\n",
       "</div>"
      ],
      "text/plain": [
       "Empty DataFrame\n",
       "Columns: [family, genus, specificEpithet, majorGroup]\n",
       "Index: []"
      ]
     },
     "execution_count": 5,
     "metadata": {},
     "output_type": "execute_result"
    }
   ],
   "source": [
    "wfo = pd.DataFrame(columns=[\"family\", \"genus\", \"specificEpithet\", \"majorGroup\"], dtype=str)\n",
    "wfo"
   ]
  },
  {
   "cell_type": "code",
   "execution_count": 13,
   "id": "a6ef5573-8690-4172-a383-5c7d9224b202",
   "metadata": {},
   "outputs": [
    {
     "data": {
      "text/plain": [
       "'C:\\\\Users\\\\90963425\\\\OneDrive - Western Sydney University\\\\PhD\\\\code'"
      ]
     },
     "execution_count": 13,
     "metadata": {},
     "output_type": "execute_result"
    }
   ],
   "source": [
    "os.getcwd()"
   ]
  },
  {
   "cell_type": "code",
   "execution_count": 30,
   "id": "dd3d328d-8ca2-4746-837a-723b1832192f",
   "metadata": {},
   "outputs": [],
   "source": [
    "for archive in os.listdir(r\"./Families/\"):\n",
    "    with zipfile.ZipFile(file=f\"./Families/{archive}\", mode=\"r\") as zf:\n",
    "        with zf.open(\"classification.csv\") as csf:\n",
    "            df = pd.read_csv(filepath_or_buffer=csf, low_memory=False, encoding=\"latin\")\n",
    "            wfo = pd.concat([wfo, df.loc[:, [\"family\", \"genus\", \"specificEpithet\", \"majorGroup\"]]], ignore_index=True)"
   ]
  },
  {
   "cell_type": "code",
   "execution_count": 35,
   "id": "1b78f955-038b-411c-a219-5523fa8f55e3",
   "metadata": {},
   "outputs": [
    {
     "data": {
      "text/plain": [
       "(1780273, 4)"
      ]
     },
     "execution_count": 35,
     "metadata": {},
     "output_type": "execute_result"
    }
   ],
   "source": [
    "wfo.shape"
   ]
  },
  {
   "cell_type": "code",
   "execution_count": 36,
   "id": "7250c209-b840-40d4-a420-3f1fab63fb4a",
   "metadata": {},
   "outputs": [
    {
     "data": {
      "text/plain": [
       "array(['A', 'Marchantiophyta', 'Bryophyta', 'Polypodiophyta',\n",
       "       'Anthocerotophyta', 'Pinophyta', 'Cycadophyta', 'Ginkgophyta',\n",
       "       'Lycopodiophyta'], dtype=object)"
      ]
     },
     "execution_count": 36,
     "metadata": {},
     "output_type": "execute_result"
    }
   ],
   "source": [
    "# A stands for Angiosperms???\n",
    "wfo.loc[:, \"majorGroup\"].unique()"
   ]
  },
  {
   "cell_type": "code",
   "execution_count": 39,
   "id": "9a7caebb-0761-4346-a5d0-2a4535328549",
   "metadata": {},
   "outputs": [
    {
     "data": {
      "text/plain": [
       "Index                   132\n",
       "family             14242184\n",
       "genus              14242184\n",
       "specificEpithet    14242184\n",
       "majorGroup         14242184\n",
       "dtype: int64"
      ]
     },
     "execution_count": 39,
     "metadata": {},
     "output_type": "execute_result"
    }
   ],
   "source": [
    "wfo.memory_usage()"
   ]
  },
  {
   "cell_type": "code",
   "execution_count": 42,
   "id": "727acd2a-7ee7-4967-802f-5568c9efddf3",
   "metadata": {},
   "outputs": [
    {
     "data": {
      "text/plain": [
       "(1149343, 4)"
      ]
     },
     "execution_count": 42,
     "metadata": {},
     "output_type": "execute_result"
    }
   ],
   "source": [
    "wfo_noduplicates = wfo.drop_duplicates()\n",
    "wfo_noduplicates.shape"
   ]
  },
  {
   "cell_type": "code",
   "execution_count": 49,
   "id": "2d7a2da7-b323-489a-a9ad-7f6a991c4ef6",
   "metadata": {},
   "outputs": [
    {
     "data": {
      "text/plain": [
       "family                13\n",
       "genus                726\n",
       "specificEpithet    43254\n",
       "majorGroup             0\n",
       "dtype: int64"
      ]
     },
     "execution_count": 49,
     "metadata": {},
     "output_type": "execute_result"
    }
   ],
   "source": [
    "wfo_noduplicates.isna().sum()"
   ]
  },
  {
   "cell_type": "code",
   "execution_count": 50,
   "id": "2527ace3-045c-4cb1-aec2-2d338c82516e",
   "metadata": {},
   "outputs": [],
   "source": [
    "# the most important rows are family and genus \n",
    "wfo_noduplicates = wfo_noduplicates.dropna(subset=[\"family\", \"genus\"])"
   ]
  },
  {
   "cell_type": "code",
   "execution_count": 51,
   "id": "87316c5b-7e66-43d1-8e91-bd3aca825462",
   "metadata": {},
   "outputs": [
    {
     "data": {
      "text/plain": [
       "family                 0\n",
       "genus                  0\n",
       "specificEpithet    42520\n",
       "majorGroup             0\n",
       "dtype: int64"
      ]
     },
     "execution_count": 51,
     "metadata": {},
     "output_type": "execute_result"
    }
   ],
   "source": [
    "wfo_noduplicates.isna().sum()"
   ]
  },
  {
   "cell_type": "code",
   "execution_count": 40,
   "id": "dd3008d1-6a9b-4a68-8440-0e04fc0597cf",
   "metadata": {},
   "outputs": [],
   "source": [
    "# wfo_noduplicates.to_csv(r\"./wfo_taxonomy_clean.csv\", index=False)"
   ]
  },
  {
   "cell_type": "code",
   "execution_count": null,
   "id": "41e14fa5-a70b-4cbc-a109-95ef85fccaa8",
   "metadata": {},
   "outputs": [],
   "source": []
  },
  {
   "cell_type": "code",
   "execution_count": 9,
   "id": "b475752d-21f3-429d-af12-bb348daa15d5",
   "metadata": {},
   "outputs": [],
   "source": [
    "wfo_noduplicates = pd.read_csv(r\"./wfo_taxonomy_clean.csv\", low_memory=False)"
   ]
  },
  {
   "cell_type": "code",
   "execution_count": 2,
   "id": "5bdb8858-f850-40b8-bcf0-16996d715621",
   "metadata": {},
   "outputs": [
    {
     "name": "stderr",
     "output_type": "stream",
     "text": [
      "UserWarning: `read_*` implementation has mismatches with pandas:\n",
      "Data types of partitions are different! Please refer to the troubleshooting section of the Modin documentation to fix this issue.\n"
     ]
    }
   ],
   "source": [
    "groot = pd.read_csv(r\"./GRooTFullVersion.csv\", low_memory=False, encoding=\"latin\")"
   ]
  },
  {
   "cell_type": "code",
   "execution_count": 3,
   "id": "17b4432a-78ba-4a32-a5b5-c30e649861a9",
   "metadata": {},
   "outputs": [
    {
     "data": {
      "text/plain": [
       "family     6135\n",
       "genus         0\n",
       "species     138\n",
       "dtype: int64"
      ]
     },
     "execution_count": 3,
     "metadata": {},
     "output_type": "execute_result"
    }
   ],
   "source": [
    "groot_taxonomy = groot.loc[:, [\"family\", \"genus\", \"species\"]].drop_duplicates().reset_index(drop=True)\n",
    "groot_taxonomy.isna().sum()"
   ]
  },
  {
   "cell_type": "code",
   "execution_count": null,
   "id": "c5662f97-26b3-43f2-8c15-db0b4e686f87",
   "metadata": {},
   "outputs": [],
   "source": []
  },
  {
   "cell_type": "code",
   "execution_count": 12,
   "id": "1dd74bd7-3baa-4993-84c3-e676297048ec",
   "metadata": {},
   "outputs": [
    {
     "data": {
      "text/plain": [
       "1959"
      ]
     },
     "execution_count": 12,
     "metadata": {},
     "output_type": "execute_result"
    }
   ],
   "source": [
    "# 1959 unique genera in GRoot\n",
    "groot_taxonomy.genus.drop_duplicates().size"
   ]
  },
  {
   "cell_type": "code",
   "execution_count": 13,
   "id": "2dd1b89c-80b4-474e-a4e8-39276740b8ba",
   "metadata": {},
   "outputs": [
    {
     "data": {
      "text/plain": [
       "1932"
      ]
     },
     "execution_count": 13,
     "metadata": {},
     "output_type": "execute_result"
    }
   ],
   "source": [
    "# we don't have the family info for all genera :(\n",
    "np.intersect1d(groot_taxonomy.genus.drop_duplicates(), wfo_noduplicates.genus).size"
   ]
  },
  {
   "cell_type": "code",
   "execution_count": 14,
   "id": "d219c4d0-b6ca-4a03-8591-d471bd1bca6a",
   "metadata": {},
   "outputs": [
    {
     "data": {
      "text/plain": [
       "27"
      ]
     },
     "execution_count": 14,
     "metadata": {},
     "output_type": "execute_result"
    }
   ],
   "source": [
    "# this is because of case differences!\n",
    "groot_taxonomy.genus.drop_duplicates().size - np.intersect1d(groot_taxonomy.genus.drop_duplicates(), wfo_noduplicates.genus).size"
   ]
  },
  {
   "cell_type": "code",
   "execution_count": 15,
   "id": "a95b611d-8df0-4d35-bae0-7163126375ec",
   "metadata": {},
   "outputs": [
    {
     "data": {
      "text/plain": [
       "{'Anona',\n",
       " 'Braciaria',\n",
       " 'Cyanodon',\n",
       " 'Helychrisum',\n",
       " 'Matthiolaria',\n",
       " 'Rhipogonum',\n",
       " 'Rynchosia'}"
      ]
     },
     "execution_count": 15,
     "metadata": {},
     "output_type": "execute_result"
    }
   ],
   "source": [
    "# we still have some work to do manually\n",
    "missing = set(groot_taxonomy.genus.str.title().str.strip()).difference(set(wfo_noduplicates.genus.str.strip().str.title()))\n",
    "missing"
   ]
  },
  {
   "cell_type": "code",
   "execution_count": 16,
   "id": "dcaa5fc7-bac7-4980-b455-dd0a591029fb",
   "metadata": {},
   "outputs": [
    {
     "data": {
      "text/plain": [
       "45827     Diclinanona\n",
       "45828     Diclinanona\n",
       "45829     Diclinanona\n",
       "45830     Diclinanona\n",
       "50994       Stenanona\n",
       "50996       Stenanona\n",
       "50997       Stenanona\n",
       "50998       Stenanona\n",
       "50999       Stenanona\n",
       "51000       Stenanona\n",
       "51001       Stenanona\n",
       "51002       Stenanona\n",
       "51006       Stenanona\n",
       "51007       Stenanona\n",
       "51008       Stenanona\n",
       "51009       Stenanona\n",
       "51015       Stenanona\n",
       "51018       Stenanona\n",
       "51028       Stenanona\n",
       "51029       Stenanona\n",
       "51030       Stenanona\n",
       "51031       Stenanona\n",
       "324046    Canonanthus\n",
       "324053    Canonanthus\n",
       "Name: genus, dtype: object"
      ]
     },
     "execution_count": 16,
     "metadata": {},
     "output_type": "execute_result"
    }
   ],
   "source": [
    "# these do contain \"anona\", but.......\n",
    "wfo_noduplicates.genus[wfo_noduplicates.genus.str.contains(\"anona\")]"
   ]
  },
  {
   "cell_type": "code",
   "execution_count": 17,
   "id": "4c4809f8-47a3-4c7f-abef-49926f2d4669",
   "metadata": {},
   "outputs": [
    {
     "data": {
      "text/plain": [
       "[0, 0, 0, 0, 0, 0, 0]"
      ]
     },
     "execution_count": 17,
     "metadata": {},
     "output_type": "execute_result"
    }
   ],
   "source": [
    "# welp\n",
    "[wfo_noduplicates.genus[wfo_noduplicates.genus.str.startswith(g)].size for g in missing]"
   ]
  },
  {
   "cell_type": "code",
   "execution_count": 18,
   "id": "3b2f96eb-c953-4904-bb39-88c1dc71cc49",
   "metadata": {},
   "outputs": [
    {
     "data": {
      "text/plain": [
       "np.int64(1)"
      ]
     },
     "execution_count": 18,
     "metadata": {},
     "output_type": "execute_result"
    }
   ],
   "source": [
    "groot_taxonomy.genus.str.title().str.contains(\"Anona\").sum()"
   ]
  },
  {
   "cell_type": "code",
   "execution_count": 19,
   "id": "09243868-f52e-4c55-9f62-314b85151066",
   "metadata": {},
   "outputs": [
    {
     "data": {
      "text/plain": [
       "array(['Cananga', 'Cyathocalyx', 'Drepananthus', 'Lettowianthus',\n",
       "       'Meiocarpidium', 'Ambavia', 'Cleistopholis', 'Mezzettia',\n",
       "       'Tetrameranthus', 'Anaxagorea', 'Annona', 'Asimina', 'Diclinanona',\n",
       "       'Disepalum', 'Goniothalamus', 'Anonidium', 'Neostenanthera',\n",
       "       'Bocagea', 'Hornschuchia', 'Trigynaea', 'Cardiopetalum',\n",
       "       'Cymbopetalum', 'Froesiodendron', 'Porcelia', 'Mkilua',\n",
       "       'Artabotrys', 'Letestudoxa', 'Pseudartabotrys', 'Duckeanthus',\n",
       "       'Duguetia', 'Fusaea', 'Guatteria', 'Asteranthe', 'Hexalobus',\n",
       "       'Uvariastrum', 'Isolona', 'Monodora', 'Dennettia', 'Lukea',\n",
       "       'Mischogyne', 'Monocyclanthus', 'Uvariodendron', 'Uvariopsis',\n",
       "       'Ophrypetalum', 'Sanrafaelia', 'Afroguatteria', 'Cleistochlamys',\n",
       "       'Sphaerocoryne', 'Toussaintia', 'Dasymaschalon', 'Desmos',\n",
       "       'Friesodielsia', 'Monanthotaxis', 'Fissistigma', 'Pyramidanthe',\n",
       "       'Dielsiothamnus', 'Uvaria', 'Xylopia', 'Annickia',\n",
       "       'Dendrokingstonia', 'Fenerivia', 'Maasia', 'Cremastosperma',\n",
       "       'Malmea', 'Pseudoxandra', 'Ephedranthus', 'Klarobelia',\n",
       "       'Mosannona', 'Oxandra', 'Pseudephedranthus', 'Pseudomalmea',\n",
       "       'Ruizodendron', 'Bocageopsis', 'Onychopetalum', 'Unonopsis',\n",
       "       'Huberantha', 'Monoon', 'Neo-uvaria', 'Marsypopetalum', 'Orophea',\n",
       "       'Pseuduvaria', 'Trivalvaria', 'Alphonsea', 'Miliusa', 'Mitrephora',\n",
       "       'Phaeanthus', 'Platymitra', 'Wangia', 'Polyalthiopsis',\n",
       "       'Polyalthia', 'Popowia', 'Desmopsis', 'Meiogyne', 'Sapranthus',\n",
       "       'Tridimeris', 'Wuodendron', 'Sageraea', 'Stelechocarpus',\n",
       "       'Winitia', 'Leoheo', 'Monocarpia', 'Phoenicanthus', 'Brieya',\n",
       "       'Greenwayodendron', 'Mwasumbia', 'Piptostigma', 'Polyceratocarpus',\n",
       "       'Sirdavidia', 'Canangium', 'Unona', 'Fitzgeraldia', 'Soala',\n",
       "       'Nephrostigma', 'Parartabotrys', 'Melodorum', 'Oxymitra',\n",
       "       'Lonchomera', 'Eburopetalum', 'Rhopalocarpus', 'Xylopicrum',\n",
       "       'Guanabanus', 'Rollinia', 'Rolliniopsis', 'Raimondia', 'Aberemoa',\n",
       "       'Cassia', 'Xylopicron', 'Orchidocarpum', 'Pityothamnus',\n",
       "       'Deeringothamnus', 'Enicosanthellum', 'Atrategia', 'Atrutegia',\n",
       "       'Beccariodendron', 'Richella', 'Uva', 'Stenanthera', 'Boutiquea',\n",
       "       'Mosenodendron', 'Stormia', 'Eschweilera', 'Ropalopetalum',\n",
       "       'Pachypodanthium', 'Alcmene', 'Duquetia', 'Geanthemum',\n",
       "       'Guatteriella', 'Guatteriopsis', 'Heteropetalum', 'Gualteria',\n",
       "       'Asteranthopsis', 'Habzelia', 'Tetrastemma', 'Thonnera',\n",
       "       'Mitrella', 'Pelticalyx', 'Camphorina', 'Schefferomitra',\n",
       "       'Atopostema', 'Clathrospermum', 'Enneastemon', 'Exellia',\n",
       "       'Gilbertiella', 'Magnolia', 'Myristica', 'Anomianthus',\n",
       "       'Cyathostemma', 'Dasoclema', 'Ellipeia', 'Rauwenhoffia',\n",
       "       'Tetrapetalum', 'Uvariella', 'Xylopiastrum', 'Marenteria', 'Narum',\n",
       "       'Pyragma', 'Ellipeiopsis', 'Balonga', 'Monocardia', 'Kinginda',\n",
       "       'Houdetota', 'Coelocline', 'Patonia', 'Pseudannona', 'Waria',\n",
       "       'Parabotrys', 'Diospyros', 'Mayna', 'Enantia', 'Kingstonia',\n",
       "       'Bergsmia', 'Amyris', 'Trigyneia', 'Hubera', 'Cleistopetalum',\n",
       "       'Enicosanthum', 'Griffithia', 'Griffithianthus', 'Marcuccia',\n",
       "       'Woodiella', 'Woodiellantha', 'Mezzettiopsis', 'Craibella',\n",
       "       'Petalolophus', 'Oreomitra', 'Papualthia', 'Hydnocarpus',\n",
       "       'Saccopetalum', 'Hyalostemma', 'Euodia', 'Macanea',\n",
       "       'Haplostichanthus', 'Monostichanthus', 'Sphaerothalamus',\n",
       "       'Tabraca', 'Reedrollinsia', 'Stenanona', 'Ancana', 'Ararocarpus',\n",
       "       'Fitzalania', 'Guamia', 'Oncodostigma', 'Polyaulax',\n",
       "       'Chieniodendron', 'Uraria', 'Alphonseopsis', 'Dielsina', 'Pagerea',\n",
       "       'Vvaria'], dtype=object)"
      ]
     },
     "execution_count": 19,
     "metadata": {},
     "output_type": "execute_result"
    }
   ],
   "source": [
    "# seems like Anona is legitimately missing\n",
    "wfo_noduplicates.loc[wfo_noduplicates.family.str.contains(\"Annonaceae\"), \"genus\"].unique()"
   ]
  },
  {
   "cell_type": "code",
   "execution_count": 20,
   "id": "994cfa37-dcc4-4f64-9644-89d58290b6c0",
   "metadata": {},
   "outputs": [
    {
     "data": {
      "text/plain": [
       "766       Matteuccia\n",
       "2913      Matteuccia\n",
       "3544       Matthiola\n",
       "4061      Matricaria\n",
       "4062      Matteuccia\n",
       "4555      Matricaria\n",
       "4911       Matthiola\n",
       "4912       Matthiola\n",
       "5296      Matricaria\n",
       "5436         Matayba\n",
       "5496    Matthiolaria\n",
       "5521       Matthiola\n",
       "Name: genus, dtype: object"
      ]
     },
     "execution_count": 20,
     "metadata": {},
     "output_type": "execute_result"
    }
   ],
   "source": [
    "groot_taxonomy.genus[groot_taxonomy.genus.str.startswith(\"Mat\")]"
   ]
  },
  {
   "cell_type": "code",
   "execution_count": 21,
   "id": "8f3227da-5231-4480-a984-1fc4c212d18e",
   "metadata": {},
   "outputs": [],
   "source": [
    "# looks like GRoot has some spelling mistakes in the genus names!!! \n",
    "# YIKES\n",
    "\n",
    "groot_spelling_corrections = {\n",
    "\"Anona\" : \"Annona\",\n",
    "\"Braciaria\" : \"Brachiaria\",\n",
    "\"Cyanodon\" : \"Cynodon\",\n",
    "\"Helychrisum\" : \"Helichrysum\",\n",
    "\"Matthiolaria\" : \"Matthiola\", # https://list-ui-wfo-staging.rbge.info/taxon/wfo-0000368988-2018-07?page=1 - synonyms\n",
    "\"Rhipogonum\" : \"Ripogonum\",\n",
    "\"Rynchosia\" : \"Rhynchosia\"\n",
    "}"
   ]
  },
  {
   "cell_type": "code",
   "execution_count": 22,
   "id": "fbe8e787-6559-4882-8af4-79c084b6eeae",
   "metadata": {},
   "outputs": [],
   "source": [
    "spelling_corrected_groot_genera = groot_taxonomy.genus.\\\n",
    "        apply(func= lambda g: groot_spelling_corrections.get(g) if g in groot_spelling_corrections.keys() else g.strip().title())"
   ]
  },
  {
   "cell_type": "code",
   "execution_count": 23,
   "id": "6918ded6-1350-4937-aec1-17df58b92e04",
   "metadata": {},
   "outputs": [
    {
     "data": {
      "text/plain": [
       "1167    Annona\n",
       "2444    Annona\n",
       "Name: genus, dtype: object"
      ]
     },
     "execution_count": 23,
     "metadata": {},
     "output_type": "execute_result"
    }
   ],
   "source": [
    "spelling_corrected_groot_genera[spelling_corrected_groot_genera.str.startswith(\"Ann\")]"
   ]
  },
  {
   "cell_type": "code",
   "execution_count": 10,
   "id": "6bf41194-500f-42a2-9006-f99adedf68cc",
   "metadata": {},
   "outputs": [
    {
     "data": {
      "text/plain": [
       "set()"
      ]
     },
     "execution_count": 10,
     "metadata": {},
     "output_type": "execute_result"
    }
   ],
   "source": [
    "set(spelling_corrected_groot_genera).difference(set(wfo_noduplicates.genus.str.strip().str.title()))"
   ]
  },
  {
   "cell_type": "code",
   "execution_count": 11,
   "id": "4d7c4c2a-587c-4d10-a3cb-0d01519895fc",
   "metadata": {},
   "outputs": [
    {
     "data": {
      "text/plain": [
       "set()"
      ]
     },
     "execution_count": 11,
     "metadata": {},
     "output_type": "execute_result"
    }
   ],
   "source": [
    "set(spelling_corrected_groot_genera.str.title()).difference(set(wfo_noduplicates.genus.str.strip().str.title()))"
   ]
  },
  {
   "cell_type": "code",
   "execution_count": 12,
   "id": "0c6ed18c-fe18-4186-ab1b-86a8b491edd5",
   "metadata": {},
   "outputs": [
    {
     "name": "stdout",
     "output_type": "stream",
     "text": [
      "set()\n",
      "set()\n"
     ]
    }
   ],
   "source": [
    "# finally!\n",
    "print(set(spelling_corrected_groot_genera.str.title().str.strip()).difference(set(wfo_noduplicates.genus.str.strip().str.title())))\n",
    "\n",
    "# the problem is GRoot NOT the WFO database!\n",
    "print(set(spelling_corrected_groot_genera.str.title().str.strip()).difference(set(wfo_noduplicates.genus)))"
   ]
  },
  {
   "cell_type": "code",
   "execution_count": 13,
   "id": "045ce393-31a3-41b9-8ba4-4bade43aab9b",
   "metadata": {},
   "outputs": [
    {
     "data": {
      "text/plain": [
       "0          Betula\n",
       "1           Picea\n",
       "2           Pinus\n",
       "3       Agropyron\n",
       "4       Artemisia\n",
       "          ...    \n",
       "7229    Valeriana\n",
       "7230     Veronica\n",
       "7231        Vicia\n",
       "7232        Vicia\n",
       "7233    Centaurea\n",
       "Name: genus, Length: 7234, dtype: object"
      ]
     },
     "execution_count": 13,
     "metadata": {},
     "output_type": "execute_result"
    }
   ],
   "source": [
    "spelling_corrected_groot_genera #.reset_index(drop=True)"
   ]
  },
  {
   "cell_type": "code",
   "execution_count": 24,
   "id": "4a3823e3-f43b-4f55-95b0-90f2615f83ec",
   "metadata": {},
   "outputs": [
    {
     "data": {
      "text/html": [
       "<div>\n",
       "<style scoped>\n",
       "    .dataframe tbody tr th:only-of-type {\n",
       "        vertical-align: middle;\n",
       "    }\n",
       "\n",
       "    .dataframe tbody tr th {\n",
       "        vertical-align: top;\n",
       "    }\n",
       "\n",
       "    .dataframe thead th {\n",
       "        text-align: right;\n",
       "    }\n",
       "</style>\n",
       "<table border=\"1\" class=\"dataframe\">\n",
       "  <thead>\n",
       "    <tr style=\"text-align: right;\">\n",
       "      <th></th>\n",
       "      <th>family</th>\n",
       "      <th>genus</th>\n",
       "      <th>species</th>\n",
       "    </tr>\n",
       "  </thead>\n",
       "  <tbody>\n",
       "    <tr>\n",
       "      <th>0</th>\n",
       "      <td>NaN</td>\n",
       "      <td>Betula</td>\n",
       "      <td>NaN</td>\n",
       "    </tr>\n",
       "    <tr>\n",
       "      <th>1</th>\n",
       "      <td>NaN</td>\n",
       "      <td>Picea</td>\n",
       "      <td>NaN</td>\n",
       "    </tr>\n",
       "    <tr>\n",
       "      <th>2</th>\n",
       "      <td>NaN</td>\n",
       "      <td>Pinus</td>\n",
       "      <td>NaN</td>\n",
       "    </tr>\n",
       "    <tr>\n",
       "      <th>3</th>\n",
       "      <td>NaN</td>\n",
       "      <td>Agropyron</td>\n",
       "      <td>cristatum</td>\n",
       "    </tr>\n",
       "    <tr>\n",
       "      <th>4</th>\n",
       "      <td>NaN</td>\n",
       "      <td>Artemisia</td>\n",
       "      <td>tridentata</td>\n",
       "    </tr>\n",
       "    <tr>\n",
       "      <th>...</th>\n",
       "      <td>...</td>\n",
       "      <td>...</td>\n",
       "      <td>...</td>\n",
       "    </tr>\n",
       "    <tr>\n",
       "      <th>7229</th>\n",
       "      <td>NaN</td>\n",
       "      <td>Valeriana</td>\n",
       "      <td>excelsa</td>\n",
       "    </tr>\n",
       "    <tr>\n",
       "      <th>7230</th>\n",
       "      <td>NaN</td>\n",
       "      <td>Veronica</td>\n",
       "      <td>aphylla</td>\n",
       "    </tr>\n",
       "    <tr>\n",
       "      <th>7231</th>\n",
       "      <td>NaN</td>\n",
       "      <td>Vicia</td>\n",
       "      <td>onobrychioides</td>\n",
       "    </tr>\n",
       "    <tr>\n",
       "      <th>7232</th>\n",
       "      <td>NaN</td>\n",
       "      <td>Vicia</td>\n",
       "      <td>oroboides</td>\n",
       "    </tr>\n",
       "    <tr>\n",
       "      <th>7233</th>\n",
       "      <td>Asteraceae</td>\n",
       "      <td>Centaurea</td>\n",
       "      <td>aspera</td>\n",
       "    </tr>\n",
       "  </tbody>\n",
       "</table>\n",
       "<p>7234 rows x 3 columns</p>\n",
       "</div>"
      ],
      "text/plain": [
       "          family      genus         species\n",
       "0            NaN     Betula             NaN\n",
       "1            NaN      Picea             NaN\n",
       "2            NaN      Pinus             NaN\n",
       "3            NaN  Agropyron       cristatum\n",
       "4            NaN  Artemisia      tridentata\n",
       "...          ...        ...             ...\n",
       "7229         NaN  Valeriana         excelsa\n",
       "7230         NaN   Veronica         aphylla\n",
       "7231         NaN      Vicia  onobrychioides\n",
       "7232         NaN      Vicia       oroboides\n",
       "7233  Asteraceae  Centaurea          aspera\n",
       "\n",
       "[7234 rows x 3 columns]"
      ]
     },
     "execution_count": 24,
     "metadata": {},
     "output_type": "execute_result"
    }
   ],
   "source": [
    "groot_taxonomy"
   ]
  },
  {
   "cell_type": "code",
   "execution_count": 28,
   "id": "085ae3c5-1454-4ece-abae-13e9091b7af0",
   "metadata": {},
   "outputs": [],
   "source": [
    "# mhmmmm\n",
    "groot_taxonomy.genus = spelling_corrected_groot_genera\n",
    "groot_taxonomy.reset_index(inplace=True, drop=True)"
   ]
  },
  {
   "cell_type": "code",
   "execution_count": 29,
   "id": "0b2fa28a-ea09-405b-8b3f-3ad7f34ee701",
   "metadata": {},
   "outputs": [
    {
     "data": {
      "text/html": [
       "<div>\n",
       "<style scoped>\n",
       "    .dataframe tbody tr th:only-of-type {\n",
       "        vertical-align: middle;\n",
       "    }\n",
       "\n",
       "    .dataframe tbody tr th {\n",
       "        vertical-align: top;\n",
       "    }\n",
       "\n",
       "    .dataframe thead th {\n",
       "        text-align: right;\n",
       "    }\n",
       "</style>\n",
       "<table border=\"1\" class=\"dataframe\">\n",
       "  <thead>\n",
       "    <tr style=\"text-align: right;\">\n",
       "      <th></th>\n",
       "      <th>family</th>\n",
       "      <th>genus</th>\n",
       "      <th>species</th>\n",
       "    </tr>\n",
       "  </thead>\n",
       "  <tbody>\n",
       "    <tr>\n",
       "      <th>0</th>\n",
       "      <td>NaN</td>\n",
       "      <td>Betula</td>\n",
       "      <td>NaN</td>\n",
       "    </tr>\n",
       "    <tr>\n",
       "      <th>1</th>\n",
       "      <td>NaN</td>\n",
       "      <td>Picea</td>\n",
       "      <td>NaN</td>\n",
       "    </tr>\n",
       "    <tr>\n",
       "      <th>2</th>\n",
       "      <td>NaN</td>\n",
       "      <td>Pinus</td>\n",
       "      <td>NaN</td>\n",
       "    </tr>\n",
       "    <tr>\n",
       "      <th>3</th>\n",
       "      <td>NaN</td>\n",
       "      <td>Agropyron</td>\n",
       "      <td>cristatum</td>\n",
       "    </tr>\n",
       "    <tr>\n",
       "      <th>4</th>\n",
       "      <td>NaN</td>\n",
       "      <td>Artemisia</td>\n",
       "      <td>tridentata</td>\n",
       "    </tr>\n",
       "    <tr>\n",
       "      <th>...</th>\n",
       "      <td>...</td>\n",
       "      <td>...</td>\n",
       "      <td>...</td>\n",
       "    </tr>\n",
       "    <tr>\n",
       "      <th>7229</th>\n",
       "      <td>NaN</td>\n",
       "      <td>Valeriana</td>\n",
       "      <td>excelsa</td>\n",
       "    </tr>\n",
       "    <tr>\n",
       "      <th>7230</th>\n",
       "      <td>NaN</td>\n",
       "      <td>Veronica</td>\n",
       "      <td>aphylla</td>\n",
       "    </tr>\n",
       "    <tr>\n",
       "      <th>7231</th>\n",
       "      <td>NaN</td>\n",
       "      <td>Vicia</td>\n",
       "      <td>onobrychioides</td>\n",
       "    </tr>\n",
       "    <tr>\n",
       "      <th>7232</th>\n",
       "      <td>NaN</td>\n",
       "      <td>Vicia</td>\n",
       "      <td>oroboides</td>\n",
       "    </tr>\n",
       "    <tr>\n",
       "      <th>7233</th>\n",
       "      <td>Asteraceae</td>\n",
       "      <td>Centaurea</td>\n",
       "      <td>aspera</td>\n",
       "    </tr>\n",
       "  </tbody>\n",
       "</table>\n",
       "<p>7234 rows x 3 columns</p>\n",
       "</div>"
      ],
      "text/plain": [
       "          family      genus         species\n",
       "0            NaN     Betula             NaN\n",
       "1            NaN      Picea             NaN\n",
       "2            NaN      Pinus             NaN\n",
       "3            NaN  Agropyron       cristatum\n",
       "4            NaN  Artemisia      tridentata\n",
       "...          ...        ...             ...\n",
       "7229         NaN  Valeriana         excelsa\n",
       "7230         NaN   Veronica         aphylla\n",
       "7231         NaN      Vicia  onobrychioides\n",
       "7232         NaN      Vicia       oroboides\n",
       "7233  Asteraceae  Centaurea          aspera\n",
       "\n",
       "[7234 rows x 3 columns]"
      ]
     },
     "execution_count": 29,
     "metadata": {},
     "output_type": "execute_result"
    }
   ],
   "source": [
    "groot_taxonomy"
   ]
  },
  {
   "cell_type": "code",
   "execution_count": 30,
   "id": "d29e5be9-49ab-4cd5-8f87-7b69e0907803",
   "metadata": {},
   "outputs": [
    {
     "data": {
      "text/plain": [
       "dtype('O')"
      ]
     },
     "execution_count": 30,
     "metadata": {},
     "output_type": "execute_result"
    }
   ],
   "source": [
    "# groot_taxonomy.dtypes\n",
    "groot_taxonomy.family.dtype"
   ]
  },
  {
   "cell_type": "code",
   "execution_count": 31,
   "id": "cdcf09d9-3f16-48da-99d8-fc05dec99c65",
   "metadata": {},
   "outputs": [],
   "source": [
    "temp = wfo_noduplicates.loc[:, [\"family\", \"genus\"]].drop_duplicates().reset_index(drop=True)\n",
    "families = pd.Series(index=temp.genus.values, data=temp.family.values, dtype=str, copy=True)"
   ]
  },
  {
   "cell_type": "code",
   "execution_count": 32,
   "id": "fde8f7e3-3e71-41b6-b116-02e6aee6e8e6",
   "metadata": {},
   "outputs": [
    {
     "data": {
      "text/plain": [
       "family    0\n",
       "genus     0\n",
       "dtype: int64"
      ]
     },
     "execution_count": 32,
     "metadata": {},
     "output_type": "execute_result"
    }
   ],
   "source": [
    "temp.isna().sum()"
   ]
  },
  {
   "cell_type": "code",
   "execution_count": 37,
   "id": "0579b1a7-0423-474a-b632-aeaa73059d76",
   "metadata": {},
   "outputs": [
    {
     "data": {
      "text/plain": [
       "Acanthopale          Acanthaceae\n",
       "Acanthopsis          Acanthaceae\n",
       "Acanthus             Acanthaceae\n",
       "Afrofittonia         Acanthaceae\n",
       "Ambongia             Acanthaceae\n",
       "                       ...      \n",
       "Bisluederitzia    Zygophyllaceae\n",
       "Guaiacon          Zygophyllaceae\n",
       "Nitrapia          Zygophyllaceae\n",
       "Quaiacum          Zygophyllaceae\n",
       "Seezenia          Zygophyllaceae\n",
       "Length: 50936, dtype: object"
      ]
     },
     "execution_count": 37,
     "metadata": {},
     "output_type": "execute_result"
    }
   ],
   "source": [
    "families"
   ]
  },
  {
   "cell_type": "code",
   "execution_count": null,
   "id": "5e613c3a-2765-4e1b-abf7-24c0389111a6",
   "metadata": {},
   "outputs": [],
   "source": []
  },
  {
   "cell_type": "code",
   "execution_count": 34,
   "id": "fa85acd4-59d7-4862-8dae-e29d81b9ca2a",
   "metadata": {},
   "outputs": [
    {
     "data": {
      "text/plain": [
       "Cannabis    Cannabaceae\n",
       "Cannabis     Urticaceae\n",
       "Name: __reduced__, dtype: object"
      ]
     },
     "execution_count": 34,
     "metadata": {},
     "output_type": "execute_result"
    }
   ],
   "source": [
    "# :( ???\n",
    "families[\"Cannabis\"]"
   ]
  },
  {
   "cell_type": "code",
   "execution_count": null,
   "id": "35f5135c-5644-45c3-a84e-d790e38cd21f",
   "metadata": {},
   "outputs": [],
   "source": []
  },
  {
   "cell_type": "code",
   "execution_count": 44,
   "id": "0a409e7b-8dae-475c-b2bb-bc9756204af0",
   "metadata": {},
   "outputs": [
    {
     "ename": "ValueError",
     "evalue": "Betula has more than 1 family names in WFO database! ['Betulaceae' 'Nothofagaceae']",
     "output_type": "error",
     "traceback": [
      "\u001b[31m---------------------------------------------------------------------------\u001b[39m",
      "\u001b[31mValueError\u001b[39m                                Traceback (most recent call last)",
      "\u001b[36mCell\u001b[39m\u001b[36m \u001b[39m\u001b[32mIn[44]\u001b[39m\u001b[32m, line 8\u001b[39m\n\u001b[32m      6\u001b[39m \u001b[38;5;28;01mif\u001b[39;00m pd.isnull(groot_taxonomy.loc[i, \u001b[33m\"\u001b[39m\u001b[33mfamily\u001b[39m\u001b[33m\"\u001b[39m]): \u001b[38;5;66;03m# if GRooT has NaN for family field in a record\u001b[39;00m\n\u001b[32m      7\u001b[39m     \u001b[38;5;28;01mif\u001b[39;00m \u001b[38;5;28mlen\u001b[39m(families.get(groot_taxonomy.loc[i, \u001b[33m\"\u001b[39m\u001b[33mgenus\u001b[39m\u001b[33m\"\u001b[39m], \u001b[38;5;28;01mFalse\u001b[39;00m)) != \u001b[32m1\u001b[39m: \u001b[38;5;66;03m# if WFO has more than one family name for a given genus, \u001b[39;00m\n\u001b[32m----> \u001b[39m\u001b[32m8\u001b[39m         \u001b[38;5;28;01mraise\u001b[39;00m \u001b[38;5;167;01mValueError\u001b[39;00m(\u001b[33mf\u001b[39m\u001b[33m\"\u001b[39m\u001b[38;5;132;01m{\u001b[39;00mgroot_taxonomy.loc[i,\u001b[38;5;250m \u001b[39m\u001b[33m\"\u001b[39m\u001b[33mgenus\u001b[39m\u001b[33m\"\u001b[39m]\u001b[38;5;132;01m}\u001b[39;00m\u001b[33m has more than 1 family names in WFO database! \u001b[39m\u001b[38;5;132;01m{\u001b[39;00mfamilies.get(groot_taxonomy.loc[i,\u001b[38;5;250m \u001b[39m\u001b[33m\"\u001b[39m\u001b[33mgenus\u001b[39m\u001b[33m\"\u001b[39m]).values\u001b[38;5;132;01m}\u001b[39;00m\u001b[33m\"\u001b[39m)\n\u001b[32m      9\u001b[39m     groot_taxonomy.loc[i, \u001b[33m\"\u001b[39m\u001b[33mfamily\u001b[39m\u001b[33m\"\u001b[39m] = families.get(groot_taxonomy.loc[i, \u001b[33m\"\u001b[39m\u001b[33mgenus\u001b[39m\u001b[33m\"\u001b[39m]) \u001b[38;5;66;03m# replace the NaN with the family name from WFO database\u001b[39;00m\n\u001b[32m     10\u001b[39m \u001b[38;5;28;01melse\u001b[39;00m: \u001b[38;5;66;03m# if GRooT has a family name, check for conflicts with WFO\u001b[39;00m\n",
      "\u001b[31mValueError\u001b[39m: Betula has more than 1 family names in WFO database! ['Betulaceae' 'Nothofagaceae']"
     ]
    }
   ],
   "source": [
    "# GOT SO MANY CONFLICTS BETWEEN GROOT AND THE WFO DATABASE\n",
    "\n",
    "n_conflicts : int = 0\n",
    "\n",
    "for i in range(groot_taxonomy.shape[0]):\n",
    "    if pd.isnull(groot_taxonomy.loc[i, \"family\"]): # if GRooT has NaN for family field in a record\n",
    "        if len(families.get(groot_taxonomy.loc[i, \"genus\"], False)) != 1: # if WFO has more than one family name for a given genus, \n",
    "            raise ValueError(f\"{groot_taxonomy.loc[i, \"genus\"]} has more than 1 family names in WFO database! {families.get(groot_taxonomy.loc[i, \"genus\"]).values}\")\n",
    "        groot_taxonomy.loc[i, \"family\"] = families.get(groot_taxonomy.loc[i, \"genus\"]) # replace the NaN with the family name from WFO database\n",
    "    else: # if GRooT has a family name, check for conflicts with WFO\n",
    "        if groot_taxonomy.loc[i, \"family\"] != families.get(groot_taxonomy.loc[i, \"genus\"]): # if there's a conflict\n",
    "                print(f\"{groot_taxonomy.loc[i, \"genus\"]:10s} Expected {families.get(groot_taxonomy.loc[i, \"genus\"])},\\\n",
    "                        got {groot_taxonomy.loc[i, \"family\"]}\")\n",
    "                n_conflicts += 1 # WELP :(\n",
    "            "
   ]
  },
  {
   "cell_type": "code",
   "execution_count": 61,
   "id": "e39650b3-9d23-46a9-ab34-edcd85edcd55",
   "metadata": {},
   "outputs": [
    {
     "data": {
      "text/plain": [
       "7234"
      ]
     },
     "execution_count": 61,
     "metadata": {},
     "output_type": "execute_result"
    }
   ],
   "source": []
  },
  {
   "cell_type": "code",
   "execution_count": 68,
   "id": "d1ce3a56-d9b3-432f-a2ab-c1a49fd3687f",
   "metadata": {},
   "outputs": [
    {
     "data": {
      "text/plain": [
       "np.float64(1.2805062485858798)"
      ]
     },
     "execution_count": 68,
     "metadata": {},
     "output_type": "execute_result"
    }
   ],
   "source": [
    "# 1.28 GiBs!!!!\n",
    "os.path.getsize(r\"./../classification.csv\") / np.power(1024, 3)"
   ]
  },
  {
   "cell_type": "code",
   "execution_count": 69,
   "id": "47f22757-3241-4c88-91ed-fd7451b86891",
   "metadata": {},
   "outputs": [],
   "source": [
    "# let's see the csv (pre)compiled by WFO itself\n",
    "\n",
    "wfo_full = pd.read_csv(r\"./../classification.csv\", low_memory=False, encoding=\"latin\")"
   ]
  },
  {
   "cell_type": "code",
   "execution_count": 70,
   "id": "0b16f5e2-0f9b-42a1-8293-f2e6e18d6efd",
   "metadata": {},
   "outputs": [
    {
     "data": {
      "text/plain": [
       "Index(['taxonID', 'scientificNameID', 'localID', 'scientificName', 'taxonRank',\n",
       "       'parentNameUsageID', 'scientificNameAuthorship', 'family', 'subfamily',\n",
       "       'tribe', 'subtribe', 'genus', 'subgenus', 'specificEpithet',\n",
       "       'infraspecificEpithet', 'verbatimTaxonRank', 'nomenclaturalStatus',\n",
       "       'namePublishedIn', 'taxonomicStatus', 'acceptedNameUsageID',\n",
       "       'originalNameUsageID', 'nameAccordingToID', 'taxonRemarks', 'created',\n",
       "       'modified', 'references', 'source', 'majorGroup', 'tplID',\n",
       "       'speciesHybridMarker', 'infraspecificRank', 'originalID', 'old_t1id',\n",
       "       'tropicosId', 'references1.0', 'doNotProcess', 'doNotProcess_reason',\n",
       "       'OfficialFamily', 'comments', 'deprecated'],\n",
       "      dtype='object')"
      ]
     },
     "execution_count": 70,
     "metadata": {},
     "output_type": "execute_result"
    }
   ],
   "source": [
    "wfo_full.columns"
   ]
  },
  {
   "cell_type": "code",
   "execution_count": 71,
   "id": "a00a86c3-3057-40c9-af40-b969685a96a7",
   "metadata": {},
   "outputs": [
    {
     "data": {
      "text/plain": [
       "(1704312, 40)"
      ]
     },
     "execution_count": 71,
     "metadata": {},
     "output_type": "execute_result"
    }
   ],
   "source": [
    "wfo_full.shape"
   ]
  },
  {
   "cell_type": "code",
   "execution_count": 72,
   "id": "60877f9b-cc46-4090-9f5b-b309e04cc6ab",
   "metadata": {},
   "outputs": [
    {
     "data": {
      "text/html": [
       "<div>\n",
       "<style scoped>\n",
       "    .dataframe tbody tr th:only-of-type {\n",
       "        vertical-align: middle;\n",
       "    }\n",
       "\n",
       "    .dataframe tbody tr th {\n",
       "        vertical-align: top;\n",
       "    }\n",
       "\n",
       "    .dataframe thead th {\n",
       "        text-align: right;\n",
       "    }\n",
       "</style>\n",
       "<table border=\"1\" class=\"dataframe\">\n",
       "  <thead>\n",
       "    <tr style=\"text-align: right;\">\n",
       "      <th></th>\n",
       "      <th>family</th>\n",
       "      <th>genus</th>\n",
       "      <th>specificEpithet</th>\n",
       "    </tr>\n",
       "  </thead>\n",
       "  <tbody>\n",
       "    <tr>\n",
       "      <th>0</th>\n",
       "      <td>Cyperaceae</td>\n",
       "      <td>Schoenoxiphium</td>\n",
       "      <td>ecklonii</td>\n",
       "    </tr>\n",
       "    <tr>\n",
       "      <th>1</th>\n",
       "      <td>Cyperaceae</td>\n",
       "      <td>Cyperus</td>\n",
       "      <td>violifolia</td>\n",
       "    </tr>\n",
       "    <tr>\n",
       "      <th>2</th>\n",
       "      <td>Cyperaceae</td>\n",
       "      <td>Carex</td>\n",
       "      <td>viridula</td>\n",
       "    </tr>\n",
       "    <tr>\n",
       "      <th>3</th>\n",
       "      <td>Cyperaceae</td>\n",
       "      <td>Mariscus</td>\n",
       "      <td>phleoides</td>\n",
       "    </tr>\n",
       "    <tr>\n",
       "      <th>4</th>\n",
       "      <td>Cyperaceae</td>\n",
       "      <td>Tetraria</td>\n",
       "      <td>compar</td>\n",
       "    </tr>\n",
       "    <tr>\n",
       "      <th>...</th>\n",
       "      <td>...</td>\n",
       "      <td>...</td>\n",
       "      <td>...</td>\n",
       "    </tr>\n",
       "    <tr>\n",
       "      <th>1161993</th>\n",
       "      <td>Brassicaceae</td>\n",
       "      <td>Cardamine</td>\n",
       "      <td>caesiella</td>\n",
       "    </tr>\n",
       "    <tr>\n",
       "      <th>1161994</th>\n",
       "      <td>Brassicaceae</td>\n",
       "      <td>Cardamine</td>\n",
       "      <td>chlorina</td>\n",
       "    </tr>\n",
       "    <tr>\n",
       "      <th>1161995</th>\n",
       "      <td>Brassicaceae</td>\n",
       "      <td>Sinalliaria</td>\n",
       "      <td>grandifolia</td>\n",
       "    </tr>\n",
       "    <tr>\n",
       "      <th>1161996</th>\n",
       "      <td>Brassicaceae</td>\n",
       "      <td>Ceratocnemum</td>\n",
       "      <td>mitabile</td>\n",
       "    </tr>\n",
       "    <tr>\n",
       "      <th>1161997</th>\n",
       "      <td>Cupressaceae</td>\n",
       "      <td>Parolinia</td>\n",
       "      <td>NaN</td>\n",
       "    </tr>\n",
       "  </tbody>\n",
       "</table>\n",
       "<p>1161998 rows x 3 columns</p>\n",
       "</div>"
      ],
      "text/plain": [
       "               family           genus specificEpithet\n",
       "0          Cyperaceae  Schoenoxiphium        ecklonii\n",
       "1          Cyperaceae         Cyperus      violifolia\n",
       "2          Cyperaceae           Carex        viridula\n",
       "3          Cyperaceae        Mariscus       phleoides\n",
       "4          Cyperaceae        Tetraria          compar\n",
       "...               ...             ...             ...\n",
       "1161993  Brassicaceae       Cardamine       caesiella\n",
       "1161994  Brassicaceae       Cardamine        chlorina\n",
       "1161995  Brassicaceae     Sinalliaria     grandifolia\n",
       "1161996  Brassicaceae    Ceratocnemum        mitabile\n",
       "1161997  Cupressaceae       Parolinia             NaN\n",
       "\n",
       "[1161998 rows x 3 columns]"
      ]
     },
     "execution_count": 72,
     "metadata": {},
     "output_type": "execute_result"
    }
   ],
   "source": [
    "wfo_full.loc[:, [\"family\", \"genus\", \"specificEpithet\"]].drop_duplicates().reset_index(drop=True)"
   ]
  },
  {
   "cell_type": "code",
   "execution_count": 73,
   "id": "514ef4dc-4028-4c61-b58c-7500dc7e3f12",
   "metadata": {},
   "outputs": [
    {
     "data": {
      "text/plain": [
       "family    19093\n",
       "genus      5622\n",
       "dtype: int64"
      ]
     },
     "execution_count": 73,
     "metadata": {},
     "output_type": "execute_result"
    }
   ],
   "source": [
    "wfo_full.loc[:, [\"family\", \"genus\"]].isna().sum()"
   ]
  },
  {
   "cell_type": "code",
   "execution_count": 74,
   "id": "3fd048ef-fd83-46c6-a752-dfa6752e6476",
   "metadata": {},
   "outputs": [],
   "source": [
    "np.set_printoptions(threshold=np.inf)\n",
    "\n",
    "# suppressed the outputs\n",
    "np.unique(wfo_full.loc[:, \"genus\"].dropna(), return_counts=True);"
   ]
  },
  {
   "cell_type": "code",
   "execution_count": 76,
   "id": "2b280107-f7d4-49f8-a164-ac9b50eddc72",
   "metadata": {},
   "outputs": [
    {
     "data": {
      "text/html": [
       "<div>\n",
       "<style scoped>\n",
       "    .dataframe tbody tr th:only-of-type {\n",
       "        vertical-align: middle;\n",
       "    }\n",
       "\n",
       "    .dataframe tbody tr th {\n",
       "        vertical-align: top;\n",
       "    }\n",
       "\n",
       "    .dataframe thead th {\n",
       "        text-align: right;\n",
       "    }\n",
       "</style>\n",
       "<table border=\"1\" class=\"dataframe\">\n",
       "  <thead>\n",
       "    <tr style=\"text-align: right;\">\n",
       "      <th></th>\n",
       "      <th>family</th>\n",
       "      <th>genus</th>\n",
       "    </tr>\n",
       "  </thead>\n",
       "  <tbody>\n",
       "    <tr>\n",
       "      <th>0</th>\n",
       "      <td>Cyperaceae</td>\n",
       "      <td>Schoenoxiphium</td>\n",
       "    </tr>\n",
       "    <tr>\n",
       "      <th>1</th>\n",
       "      <td>Cyperaceae</td>\n",
       "      <td>Cyperus</td>\n",
       "    </tr>\n",
       "    <tr>\n",
       "      <th>2</th>\n",
       "      <td>Cyperaceae</td>\n",
       "      <td>Carex</td>\n",
       "    </tr>\n",
       "    <tr>\n",
       "      <th>3</th>\n",
       "      <td>Cyperaceae</td>\n",
       "      <td>Mariscus</td>\n",
       "    </tr>\n",
       "    <tr>\n",
       "      <th>4</th>\n",
       "      <td>Cyperaceae</td>\n",
       "      <td>Tetraria</td>\n",
       "    </tr>\n",
       "    <tr>\n",
       "      <th>...</th>\n",
       "      <td>...</td>\n",
       "      <td>...</td>\n",
       "    </tr>\n",
       "    <tr>\n",
       "      <th>1703701</th>\n",
       "      <td>Dicranellaceae</td>\n",
       "      <td>Fuscina</td>\n",
       "    </tr>\n",
       "    <tr>\n",
       "      <th>1703702</th>\n",
       "      <td>Ditrichaceae</td>\n",
       "      <td>Fuscina</td>\n",
       "    </tr>\n",
       "    <tr>\n",
       "      <th>1703750</th>\n",
       "      <td>Orthotrichaceae</td>\n",
       "      <td>Phragmidiolum</td>\n",
       "    </tr>\n",
       "    <tr>\n",
       "      <th>1703831</th>\n",
       "      <td>Brachytheciaceae</td>\n",
       "      <td>Leptodon</td>\n",
       "    </tr>\n",
       "    <tr>\n",
       "      <th>1704215</th>\n",
       "      <td>Polypodiaceae</td>\n",
       "      <td>Catenularia</td>\n",
       "    </tr>\n",
       "  </tbody>\n",
       "</table>\n",
       "<p>46898 rows x 2 columns</p>\n",
       "</div>"
      ],
      "text/plain": [
       "                   family           genus\n",
       "0              Cyperaceae  Schoenoxiphium\n",
       "1              Cyperaceae         Cyperus\n",
       "2              Cyperaceae           Carex\n",
       "3              Cyperaceae        Mariscus\n",
       "4              Cyperaceae        Tetraria\n",
       "...                   ...             ...\n",
       "1703701    Dicranellaceae         Fuscina\n",
       "1703702      Ditrichaceae         Fuscina\n",
       "1703750   Orthotrichaceae   Phragmidiolum\n",
       "1703831  Brachytheciaceae        Leptodon\n",
       "1704215     Polypodiaceae     Catenularia\n",
       "\n",
       "[46898 rows x 2 columns]"
      ]
     },
     "execution_count": 76,
     "metadata": {},
     "output_type": "execute_result"
    }
   ],
   "source": [
    "wfo_full.loc[:, [\"family\", \"genus\"]].dropna(how=\"any\").drop_duplicates()"
   ]
  },
  {
   "cell_type": "code",
   "execution_count": 79,
   "id": "aba1b279-cad3-4446-bd5c-8484752c2322",
   "metadata": {},
   "outputs": [],
   "source": [
    "temp_wfo_full = wfo_full.loc[:, [\"family\", \"genus\"]].dropna(how=\"any\").drop_duplicates().reset_index(drop=True)\n",
    "wfo_full = pd.Series(index=temp_wfo_full.genus.values, data=temp_wfo_full.family.values)"
   ]
  },
  {
   "cell_type": "code",
   "execution_count": 82,
   "id": "a97f9a24-738d-4788-8bd6-6119092609c9",
   "metadata": {},
   "outputs": [
    {
     "data": {
      "text/plain": [
       "Schoenoxiphium          Cyperaceae\n",
       "Cyperus                 Cyperaceae\n",
       "Carex                   Cyperaceae\n",
       "Mariscus                Cyperaceae\n",
       "Tetraria                Cyperaceae\n",
       "                        ...       \n",
       "Fuscina             Dicranellaceae\n",
       "Fuscina               Ditrichaceae\n",
       "Phragmidiolum      Orthotrichaceae\n",
       "Leptodon          Brachytheciaceae\n",
       "Catenularia          Polypodiaceae\n",
       "Length: 46898, dtype: object"
      ]
     },
     "execution_count": 82,
     "metadata": {},
     "output_type": "execute_result"
    }
   ],
   "source": [
    "wfo_full"
   ]
  },
  {
   "cell_type": "code",
   "execution_count": 81,
   "id": "138fd309-ff74-47e7-9fca-6f95c7118856",
   "metadata": {},
   "outputs": [
    {
     "data": {
      "text/plain": [
       "Cynodon            Poaceae\n",
       "Cynodon           Bryaceae\n",
       "Cynodon    Flexitrichaceae\n",
       "Cynodon      Distichiaceae\n",
       "Cynodon         Pottiaceae\n",
       "Cynodon     Dicranellaceae\n",
       "Name: __reduced__, dtype: object"
      ]
     },
     "execution_count": 81,
     "metadata": {},
     "output_type": "execute_result"
    }
   ],
   "source": [
    "# \n",
    "wfo_full[\"Cynodon\"]"
   ]
  },
  {
   "cell_type": "code",
   "execution_count": 83,
   "id": "d4f6f2f0-541f-4cff-a693-ccb0d742c482",
   "metadata": {},
   "outputs": [
    {
     "data": {
      "text/plain": [
       "Pinus      Araucariaceae\n",
       "Pinus           Pinaceae\n",
       "Pinus       Cupressaceae\n",
       "Pinus    Sciadopityaceae\n",
       "Pinus      Amaranthaceae\n",
       "Name: __reduced__, dtype: object"
      ]
     },
     "execution_count": 83,
     "metadata": {},
     "output_type": "execute_result"
    }
   ],
   "source": [
    "wfo_full[\"Pinus\"]"
   ]
  },
  {
   "cell_type": "code",
   "execution_count": 85,
   "id": "a8d0d280-4056-49f8-bed6-c1cf04264e90",
   "metadata": {},
   "outputs": [
    {
     "data": {
      "text/plain": [
       "Cyperus    Cyperaceae\n",
       "Cyperus     Juncaceae\n",
       "Name: __reduced__, dtype: object"
      ]
     },
     "execution_count": 85,
     "metadata": {},
     "output_type": "execute_result"
    }
   ],
   "source": [
    "wfo_full[\"Cyperus\"]"
   ]
  },
  {
   "cell_type": "code",
   "execution_count": 86,
   "id": "f26f380b-fce3-44b5-b957-ea7ce4d645df",
   "metadata": {},
   "outputs": [
    {
     "data": {
      "text/plain": [
       "'Poaceae'"
      ]
     },
     "execution_count": 86,
     "metadata": {},
     "output_type": "execute_result"
    }
   ],
   "source": [
    "wfo_full[\"Oryza\"]"
   ]
  },
  {
   "cell_type": "code",
   "execution_count": 60,
   "id": "b9fa8996-3f3d-43a1-a2c0-5d7f26491391",
   "metadata": {},
   "outputs": [],
   "source": [
    "# using the WFO backbone dataset\n",
    "# IT'S IDENTICAL TO CLASSIFICATION.CSV :(\n",
    "# it is actually a tab delimited file with a .csv extension????\n",
    "\n",
    "backbone = pd.read_table(r\"\\\\ad.uws.edu.au\\dfshare\\HomesBNK$\\90963425\\Downloads\\WFO_Backbone\\classification.csv\",\n",
    "                         low_memory=False, encoding=\"latin\", sep=\"\\t\")"
   ]
  },
  {
   "cell_type": "code",
   "execution_count": 62,
   "id": "331f927b-1ff2-4855-8a7f-e9ad7812da78",
   "metadata": {},
   "outputs": [
    {
     "data": {
      "text/plain": [
       "Index(['taxonID', 'scientificNameID', 'localID', 'scientificName', 'taxonRank',\n",
       "       'parentNameUsageID', 'scientificNameAuthorship', 'family', 'subfamily',\n",
       "       'tribe', 'subtribe', 'genus', 'subgenus', 'specificEpithet',\n",
       "       'infraspecificEpithet', 'verbatimTaxonRank', 'nomenclaturalStatus',\n",
       "       'namePublishedIn', 'taxonomicStatus', 'acceptedNameUsageID',\n",
       "       'originalNameUsageID', 'nameAccordingToID', 'taxonRemarks', 'created',\n",
       "       'modified', 'references', 'source', 'majorGroup', 'tplID'],\n",
       "      dtype='object')"
      ]
     },
     "execution_count": 62,
     "metadata": {},
     "output_type": "execute_result"
    }
   ],
   "source": [
    "backbone.columns"
   ]
  },
  {
   "cell_type": "code",
   "execution_count": 63,
   "id": "3e41c3b3-877d-49b7-88a4-8e85e2a70a5d",
   "metadata": {},
   "outputs": [
    {
     "data": {
      "text/plain": [
       "family             10664\n",
       "genus               3038\n",
       "specificEpithet    52477\n",
       "dtype: int64"
      ]
     },
     "execution_count": 63,
     "metadata": {},
     "output_type": "execute_result"
    }
   ],
   "source": [
    "backbone.loc[:, [\"family\", \"genus\", \"specificEpithet\"]].isna().sum()"
   ]
  },
  {
   "cell_type": "code",
   "execution_count": 64,
   "id": "a4835e28-9b7e-4127-8b3d-08502d181247",
   "metadata": {},
   "outputs": [
    {
     "data": {
      "text/plain": [
       "family    10664\n",
       "genus      3038\n",
       "dtype: int64"
      ]
     },
     "execution_count": 64,
     "metadata": {},
     "output_type": "execute_result"
    }
   ],
   "source": [
    "backbone.loc[:, [\"family\", \"genus\"]].isna().sum()"
   ]
  },
  {
   "cell_type": "code",
   "execution_count": 65,
   "id": "8b167481-626c-4101-b5d0-1f449283c4c9",
   "metadata": {},
   "outputs": [],
   "source": [
    "bbone = backbone.loc[:, [\"family\", \"genus\"]].drop_duplicates().dropna().reset_index(drop=True)\n",
    "bbone = pd.Series(index=bbone.genus.values, data=bbone.family.values)"
   ]
  },
  {
   "cell_type": "code",
   "execution_count": 66,
   "id": "4b817680-e5f6-4552-9d68-c04e00080a31",
   "metadata": {},
   "outputs": [
    {
     "data": {
      "text/plain": [
       "Cynodon            Poaceae\n",
       "Cynodon           Bryaceae\n",
       "Cynodon    Flexitrichaceae\n",
       "Cynodon      Distichiaceae\n",
       "Cynodon         Pottiaceae\n",
       "Cynodon     Dicranellaceae\n",
       "Name: __reduced__, dtype: object"
      ]
     },
     "execution_count": 66,
     "metadata": {},
     "output_type": "execute_result"
    }
   ],
   "source": [
    "bbone[\"Cynodon\"]"
   ]
  },
  {
   "cell_type": "code",
   "execution_count": 61,
   "id": "de4e1542-3765-4cc8-889a-8b5ccdaa14df",
   "metadata": {},
   "outputs": [],
   "source": [
    "# gc.collect()"
   ]
  },
  {
   "cell_type": "code",
   "execution_count": null,
   "id": "ebece24f-9ec2-419d-8a12-2833c8bb6f6e",
   "metadata": {},
   "outputs": [],
   "source": []
  }
 ],
 "metadata": {
  "kernelspec": {
   "display_name": "Python 3 (ipykernel)",
   "language": "python",
   "name": "python3"
  },
  "language_info": {
   "codemirror_mode": {
    "name": "ipython",
    "version": 3
   },
   "file_extension": ".py",
   "mimetype": "text/x-python",
   "name": "python",
   "nbconvert_exporter": "python",
   "pygments_lexer": "ipython3",
   "version": "3.13.2"
  }
 },
 "nbformat": 4,
 "nbformat_minor": 5
}

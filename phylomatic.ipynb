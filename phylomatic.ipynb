{
 "cells": [
  {
   "cell_type": "code",
   "execution_count": 1,
   "id": "11c62638-cb82-4835-a8d5-1be62ac45571",
   "metadata": {},
   "outputs": [],
   "source": [
    "import re\n",
    "import os\n",
    "import zipfile\n",
    "import gc\n",
    "\n",
    "import pandas as pd\n",
    "import numpy as np"
   ]
  },
  {
   "cell_type": "code",
   "execution_count": 2,
   "id": "25cd6901-0147-449b-88b6-e3cd09e7cc5c",
   "metadata": {},
   "outputs": [],
   "source": [
    "# Archive of World Flora Online (WFO) - https://zenodo.org/records/14538251\n",
    "# families_dwc.tar.gz file contains zipped archives of classification data for all families\n",
    "# each family is contained within a separate .zip file and the core data are in a file called `classification.csv'\n",
    "# harvest the following columns from each of  these csv files\n",
    "# family, genus, specificEpithet & majorGroup"
   ]
  },
  {
   "cell_type": "code",
   "execution_count": 27,
   "id": "0036f013-2e3d-460e-8c8f-d3222e354bca",
   "metadata": {},
   "outputs": [
    {
     "data": {
      "text/html": [
       "<div>\n",
       "<style scoped>\n",
       "    .dataframe tbody tr th:only-of-type {\n",
       "        vertical-align: middle;\n",
       "    }\n",
       "\n",
       "    .dataframe tbody tr th {\n",
       "        vertical-align: top;\n",
       "    }\n",
       "\n",
       "    .dataframe thead th {\n",
       "        text-align: right;\n",
       "    }\n",
       "</style>\n",
       "<table border=\"1\" class=\"dataframe\">\n",
       "  <thead>\n",
       "    <tr style=\"text-align: right;\">\n",
       "      <th></th>\n",
       "      <th>family</th>\n",
       "      <th>genus</th>\n",
       "      <th>specificEpithet</th>\n",
       "      <th>majorGroup</th>\n",
       "    </tr>\n",
       "  </thead>\n",
       "  <tbody>\n",
       "  </tbody>\n",
       "</table>\n",
       "</div>"
      ],
      "text/plain": [
       "Empty DataFrame\n",
       "Columns: [family, genus, specificEpithet, majorGroup]\n",
       "Index: []"
      ]
     },
     "execution_count": 27,
     "metadata": {},
     "output_type": "execute_result"
    }
   ],
   "source": [
    "wfo = pd.DataFrame(columns=[\"family\", \"genus\", \"specificEpithet\", \"majorGroup\"], dtype=str)\n",
    "wfo"
   ]
  },
  {
   "cell_type": "code",
   "execution_count": 13,
   "id": "a6ef5573-8690-4172-a383-5c7d9224b202",
   "metadata": {},
   "outputs": [
    {
     "data": {
      "text/plain": [
       "'C:\\\\Users\\\\90963425\\\\OneDrive - Western Sydney University\\\\PhD\\\\code'"
      ]
     },
     "execution_count": 13,
     "metadata": {},
     "output_type": "execute_result"
    }
   ],
   "source": [
    "os.getcwd()"
   ]
  },
  {
   "cell_type": "code",
   "execution_count": 30,
   "id": "dd3d328d-8ca2-4746-837a-723b1832192f",
   "metadata": {},
   "outputs": [],
   "source": [
    "for archive in os.listdir(r\"./Families/\"):\n",
    "    with zipfile.ZipFile(file=f\"./Families/{archive}\", mode=\"r\") as zf:\n",
    "        with zf.open(\"classification.csv\") as csf:\n",
    "            df = pd.read_csv(filepath_or_buffer=csf, low_memory=False, encoding=\"latin\")\n",
    "            wfo = pd.concat([wfo, df.loc[:, [\"family\", \"genus\", \"specificEpithet\", \"majorGroup\"]]], ignore_index=True)"
   ]
  },
  {
   "cell_type": "code",
   "execution_count": 35,
   "id": "1b78f955-038b-411c-a219-5523fa8f55e3",
   "metadata": {},
   "outputs": [
    {
     "data": {
      "text/plain": [
       "(1780273, 4)"
      ]
     },
     "execution_count": 35,
     "metadata": {},
     "output_type": "execute_result"
    }
   ],
   "source": [
    "wfo.shape"
   ]
  },
  {
   "cell_type": "code",
   "execution_count": 36,
   "id": "7250c209-b840-40d4-a420-3f1fab63fb4a",
   "metadata": {},
   "outputs": [
    {
     "data": {
      "text/plain": [
       "array(['A', 'Marchantiophyta', 'Bryophyta', 'Polypodiophyta',\n",
       "       'Anthocerotophyta', 'Pinophyta', 'Cycadophyta', 'Ginkgophyta',\n",
       "       'Lycopodiophyta'], dtype=object)"
      ]
     },
     "execution_count": 36,
     "metadata": {},
     "output_type": "execute_result"
    }
   ],
   "source": [
    "# A stands for Angiosperms???\n",
    "wfo.loc[:, \"majorGroup\"].unique()"
   ]
  },
  {
   "cell_type": "code",
   "execution_count": 39,
   "id": "9a7caebb-0761-4346-a5d0-2a4535328549",
   "metadata": {},
   "outputs": [
    {
     "data": {
      "text/plain": [
       "Index                   132\n",
       "family             14242184\n",
       "genus              14242184\n",
       "specificEpithet    14242184\n",
       "majorGroup         14242184\n",
       "dtype: int64"
      ]
     },
     "execution_count": 39,
     "metadata": {},
     "output_type": "execute_result"
    }
   ],
   "source": [
    "wfo.memory_usage()"
   ]
  },
  {
   "cell_type": "code",
   "execution_count": 42,
   "id": "727acd2a-7ee7-4967-802f-5568c9efddf3",
   "metadata": {},
   "outputs": [
    {
     "data": {
      "text/plain": [
       "(1149343, 4)"
      ]
     },
     "execution_count": 42,
     "metadata": {},
     "output_type": "execute_result"
    }
   ],
   "source": [
    "wfo_noduplicates = wfo.drop_duplicates()\n",
    "wfo_noduplicates.shape"
   ]
  },
  {
   "cell_type": "code",
   "execution_count": 49,
   "id": "2d7a2da7-b323-489a-a9ad-7f6a991c4ef6",
   "metadata": {},
   "outputs": [
    {
     "data": {
      "text/plain": [
       "family                13\n",
       "genus                726\n",
       "specificEpithet    43254\n",
       "majorGroup             0\n",
       "dtype: int64"
      ]
     },
     "execution_count": 49,
     "metadata": {},
     "output_type": "execute_result"
    }
   ],
   "source": [
    "wfo_noduplicates.isna().sum()"
   ]
  },
  {
   "cell_type": "code",
   "execution_count": 50,
   "id": "2527ace3-045c-4cb1-aec2-2d338c82516e",
   "metadata": {},
   "outputs": [],
   "source": [
    "# the most important rows are family and genus \n",
    "wfo_noduplicates = wfo_noduplicates.dropna(subset=[\"family\", \"genus\"])"
   ]
  },
  {
   "cell_type": "code",
   "execution_count": 51,
   "id": "87316c5b-7e66-43d1-8e91-bd3aca825462",
   "metadata": {},
   "outputs": [
    {
     "data": {
      "text/plain": [
       "family                 0\n",
       "genus                  0\n",
       "specificEpithet    42520\n",
       "majorGroup             0\n",
       "dtype: int64"
      ]
     },
     "execution_count": 51,
     "metadata": {},
     "output_type": "execute_result"
    }
   ],
   "source": [
    "wfo_noduplicates.isna().sum()"
   ]
  },
  {
   "cell_type": "code",
   "execution_count": 40,
   "id": "dd3008d1-6a9b-4a68-8440-0e04fc0597cf",
   "metadata": {},
   "outputs": [],
   "source": [
    "# wfo_noduplicates.to_csv(r\"./wfo_taxonomy_clean.csv\", index=False)"
   ]
  },
  {
   "cell_type": "code",
   "execution_count": null,
   "id": "41e14fa5-a70b-4cbc-a109-95ef85fccaa8",
   "metadata": {},
   "outputs": [],
   "source": []
  },
  {
   "cell_type": "code",
   "execution_count": 3,
   "id": "b475752d-21f3-429d-af12-bb348daa15d5",
   "metadata": {},
   "outputs": [],
   "source": [
    "wfo_noduplicates = pd.read_csv(r\"./wfo_taxonomy_clean.csv\", low_memory=False)"
   ]
  },
  {
   "cell_type": "code",
   "execution_count": 4,
   "id": "5bdb8858-f850-40b8-bcf0-16996d715621",
   "metadata": {},
   "outputs": [],
   "source": [
    "groot = pd.read_csv(r\"./GRooTFullVersion.csv\", low_memory=False, encoding=\"latin\")"
   ]
  },
  {
   "cell_type": "code",
   "execution_count": 5,
   "id": "17b4432a-78ba-4a32-a5b5-c30e649861a9",
   "metadata": {},
   "outputs": [
    {
     "data": {
      "text/plain": [
       "family     6135\n",
       "genus         0\n",
       "species     138\n",
       "dtype: int64"
      ]
     },
     "execution_count": 5,
     "metadata": {},
     "output_type": "execute_result"
    }
   ],
   "source": [
    "groot_taxonomy = groot.loc[:, [\"family\", \"genus\", \"species\"]].drop_duplicates().reset_index(drop=True)\n",
    "groot_taxonomy.isna().sum()"
   ]
  },
  {
   "cell_type": "code",
   "execution_count": 6,
   "id": "1dd74bd7-3baa-4993-84c3-e676297048ec",
   "metadata": {},
   "outputs": [
    {
     "data": {
      "text/plain": [
       "1959"
      ]
     },
     "execution_count": 6,
     "metadata": {},
     "output_type": "execute_result"
    }
   ],
   "source": [
    "# 1959 unique genera in GRoot\n",
    "groot_taxonomy.genus.drop_duplicates().size"
   ]
  },
  {
   "cell_type": "code",
   "execution_count": 107,
   "id": "2dd1b89c-80b4-474e-a4e8-39276740b8ba",
   "metadata": {},
   "outputs": [
    {
     "data": {
      "text/plain": [
       "1932"
      ]
     },
     "execution_count": 107,
     "metadata": {},
     "output_type": "execute_result"
    }
   ],
   "source": [
    "# we don't have the family info for all genera :(\n",
    "np.intersect1d(groot_taxonomy.genus.drop_duplicates(), wfo_noduplicates.genus).size"
   ]
  },
  {
   "cell_type": "code",
   "execution_count": 108,
   "id": "d219c4d0-b6ca-4a03-8591-d471bd1bca6a",
   "metadata": {},
   "outputs": [
    {
     "data": {
      "text/plain": [
       "27"
      ]
     },
     "execution_count": 108,
     "metadata": {},
     "output_type": "execute_result"
    }
   ],
   "source": [
    "# this is because of case differences!\n",
    "groot_taxonomy.genus.drop_duplicates().size - np.intersect1d(groot_taxonomy.genus.drop_duplicates(), wfo_noduplicates.genus).size"
   ]
  },
  {
   "cell_type": "code",
   "execution_count": 109,
   "id": "a95b611d-8df0-4d35-bae0-7163126375ec",
   "metadata": {},
   "outputs": [
    {
     "data": {
      "text/plain": [
       "{'Anona',\n",
       " 'Braciaria',\n",
       " 'Cyanodon',\n",
       " 'Helychrisum',\n",
       " 'Matthiolaria',\n",
       " 'Rhipogonum',\n",
       " 'Rynchosia'}"
      ]
     },
     "execution_count": 109,
     "metadata": {},
     "output_type": "execute_result"
    }
   ],
   "source": [
    "# we still have some work to do manually\n",
    "missing = set(groot_taxonomy.genus.str.title().str.strip()).difference(set(wfo_noduplicates.genus.str.strip().str.title()))\n",
    "missing"
   ]
  },
  {
   "cell_type": "code",
   "execution_count": 110,
   "id": "dcaa5fc7-bac7-4980-b455-dd0a591029fb",
   "metadata": {},
   "outputs": [
    {
     "data": {
      "text/plain": [
       "45827     Diclinanona\n",
       "45828     Diclinanona\n",
       "45829     Diclinanona\n",
       "45830     Diclinanona\n",
       "50994       Stenanona\n",
       "50996       Stenanona\n",
       "50997       Stenanona\n",
       "50998       Stenanona\n",
       "50999       Stenanona\n",
       "51000       Stenanona\n",
       "51001       Stenanona\n",
       "51002       Stenanona\n",
       "51006       Stenanona\n",
       "51007       Stenanona\n",
       "51008       Stenanona\n",
       "51009       Stenanona\n",
       "51015       Stenanona\n",
       "51018       Stenanona\n",
       "51028       Stenanona\n",
       "51029       Stenanona\n",
       "51030       Stenanona\n",
       "51031       Stenanona\n",
       "324046    Canonanthus\n",
       "324053    Canonanthus\n",
       "Name: genus, dtype: object"
      ]
     },
     "execution_count": 110,
     "metadata": {},
     "output_type": "execute_result"
    }
   ],
   "source": [
    "# these do contain \"anona\", but.......\n",
    "wfo_noduplicates.genus[wfo_noduplicates.genus.str.contains(\"anona\")]"
   ]
  },
  {
   "cell_type": "code",
   "execution_count": 111,
   "id": "4c4809f8-47a3-4c7f-abef-49926f2d4669",
   "metadata": {},
   "outputs": [
    {
     "data": {
      "text/plain": [
       "[0, 0, 0, 0, 0, 0, 0]"
      ]
     },
     "execution_count": 111,
     "metadata": {},
     "output_type": "execute_result"
    }
   ],
   "source": [
    "# welp\n",
    "[wfo_noduplicates.genus[wfo_noduplicates.genus.str.startswith(g)].size for g in missing]"
   ]
  },
  {
   "cell_type": "code",
   "execution_count": 112,
   "id": "3b2f96eb-c953-4904-bb39-88c1dc71cc49",
   "metadata": {},
   "outputs": [
    {
     "data": {
      "text/plain": [
       "np.int64(1)"
      ]
     },
     "execution_count": 112,
     "metadata": {},
     "output_type": "execute_result"
    }
   ],
   "source": [
    "groot_taxonomy.genus.str.title().str.contains(\"Anona\").sum()"
   ]
  },
  {
   "cell_type": "code",
   "execution_count": 113,
   "id": "09243868-f52e-4c55-9f62-314b85151066",
   "metadata": {},
   "outputs": [
    {
     "data": {
      "text/plain": [
       "array(['Cananga', 'Cyathocalyx', 'Drepananthus', 'Lettowianthus',\n",
       "       'Meiocarpidium', 'Ambavia', 'Cleistopholis', 'Mezzettia',\n",
       "       'Tetrameranthus', 'Anaxagorea', 'Annona', 'Asimina', 'Diclinanona',\n",
       "       'Disepalum', 'Goniothalamus', 'Anonidium', 'Neostenanthera',\n",
       "       'Bocagea', 'Hornschuchia', 'Trigynaea', 'Cardiopetalum',\n",
       "       'Cymbopetalum', 'Froesiodendron', 'Porcelia', 'Mkilua',\n",
       "       'Artabotrys', 'Letestudoxa', 'Pseudartabotrys', 'Duckeanthus',\n",
       "       'Duguetia', 'Fusaea', 'Guatteria', 'Asteranthe', 'Hexalobus',\n",
       "       'Uvariastrum', 'Isolona', 'Monodora', 'Dennettia', 'Lukea',\n",
       "       'Mischogyne', 'Monocyclanthus', 'Uvariodendron', 'Uvariopsis',\n",
       "       'Ophrypetalum', 'Sanrafaelia', 'Afroguatteria', 'Cleistochlamys',\n",
       "       'Sphaerocoryne', 'Toussaintia', 'Dasymaschalon', 'Desmos',\n",
       "       'Friesodielsia', 'Monanthotaxis', 'Fissistigma', 'Pyramidanthe',\n",
       "       'Dielsiothamnus', 'Uvaria', 'Xylopia', 'Annickia',\n",
       "       'Dendrokingstonia', 'Fenerivia', 'Maasia', 'Cremastosperma',\n",
       "       'Malmea', 'Pseudoxandra', 'Ephedranthus', 'Klarobelia',\n",
       "       'Mosannona', 'Oxandra', 'Pseudephedranthus', 'Pseudomalmea',\n",
       "       'Ruizodendron', 'Bocageopsis', 'Onychopetalum', 'Unonopsis',\n",
       "       'Huberantha', 'Monoon', 'Neo-uvaria', 'Marsypopetalum', 'Orophea',\n",
       "       'Pseuduvaria', 'Trivalvaria', 'Alphonsea', 'Miliusa', 'Mitrephora',\n",
       "       'Phaeanthus', 'Platymitra', 'Wangia', 'Polyalthiopsis',\n",
       "       'Polyalthia', 'Popowia', 'Desmopsis', 'Meiogyne', 'Sapranthus',\n",
       "       'Tridimeris', 'Wuodendron', 'Sageraea', 'Stelechocarpus',\n",
       "       'Winitia', 'Leoheo', 'Monocarpia', 'Phoenicanthus', 'Brieya',\n",
       "       'Greenwayodendron', 'Mwasumbia', 'Piptostigma', 'Polyceratocarpus',\n",
       "       'Sirdavidia', 'Canangium', 'Unona', 'Fitzgeraldia', 'Soala',\n",
       "       'Nephrostigma', 'Parartabotrys', 'Melodorum', 'Oxymitra',\n",
       "       'Lonchomera', 'Eburopetalum', 'Rhopalocarpus', 'Xylopicrum',\n",
       "       'Guanabanus', 'Rollinia', 'Rolliniopsis', 'Raimondia', 'Aberemoa',\n",
       "       'Cassia', 'Xylopicron', 'Orchidocarpum', 'Pityothamnus',\n",
       "       'Deeringothamnus', 'Enicosanthellum', 'Atrategia', 'Atrutegia',\n",
       "       'Beccariodendron', 'Richella', 'Uva', 'Stenanthera', 'Boutiquea',\n",
       "       'Mosenodendron', 'Stormia', 'Eschweilera', 'Ropalopetalum',\n",
       "       'Pachypodanthium', 'Alcmene', 'Duquetia', 'Geanthemum',\n",
       "       'Guatteriella', 'Guatteriopsis', 'Heteropetalum', 'Gualteria',\n",
       "       'Asteranthopsis', 'Habzelia', 'Tetrastemma', 'Thonnera',\n",
       "       'Mitrella', 'Pelticalyx', 'Camphorina', 'Schefferomitra',\n",
       "       'Atopostema', 'Clathrospermum', 'Enneastemon', 'Exellia',\n",
       "       'Gilbertiella', 'Magnolia', 'Myristica', 'Anomianthus',\n",
       "       'Cyathostemma', 'Dasoclema', 'Ellipeia', 'Rauwenhoffia',\n",
       "       'Tetrapetalum', 'Uvariella', 'Xylopiastrum', 'Marenteria', 'Narum',\n",
       "       'Pyragma', 'Ellipeiopsis', 'Balonga', 'Monocardia', 'Kinginda',\n",
       "       'Houdetota', 'Coelocline', 'Patonia', 'Pseudannona', 'Waria',\n",
       "       'Parabotrys', 'Diospyros', 'Mayna', 'Enantia', 'Kingstonia',\n",
       "       'Bergsmia', 'Amyris', 'Trigyneia', 'Hubera', 'Cleistopetalum',\n",
       "       'Enicosanthum', 'Griffithia', 'Griffithianthus', 'Marcuccia',\n",
       "       'Woodiella', 'Woodiellantha', 'Mezzettiopsis', 'Craibella',\n",
       "       'Petalolophus', 'Oreomitra', 'Papualthia', 'Hydnocarpus',\n",
       "       'Saccopetalum', 'Hyalostemma', 'Euodia', 'Macanea',\n",
       "       'Haplostichanthus', 'Monostichanthus', 'Sphaerothalamus',\n",
       "       'Tabraca', 'Reedrollinsia', 'Stenanona', 'Ancana', 'Ararocarpus',\n",
       "       'Fitzalania', 'Guamia', 'Oncodostigma', 'Polyaulax',\n",
       "       'Chieniodendron', 'Uraria', 'Alphonseopsis', 'Dielsina', 'Pagerea',\n",
       "       'Vvaria'], dtype=object)"
      ]
     },
     "execution_count": 113,
     "metadata": {},
     "output_type": "execute_result"
    }
   ],
   "source": [
    "# seems like Anona is legitimately missing\n",
    "wfo_noduplicates.loc[wfo_noduplicates.family.str.contains(\"Annonaceae\"), \"genus\"].unique()"
   ]
  },
  {
   "cell_type": "code",
   "execution_count": 114,
   "id": "994cfa37-dcc4-4f64-9644-89d58290b6c0",
   "metadata": {},
   "outputs": [
    {
     "data": {
      "text/plain": [
       "766       Matteuccia\n",
       "2913      Matteuccia\n",
       "3544       Matthiola\n",
       "4061      Matricaria\n",
       "4062      Matteuccia\n",
       "4555      Matricaria\n",
       "4911       Matthiola\n",
       "4912       Matthiola\n",
       "5296      Matricaria\n",
       "5436         Matayba\n",
       "5496    Matthiolaria\n",
       "5521       Matthiola\n",
       "Name: genus, dtype: object"
      ]
     },
     "execution_count": 114,
     "metadata": {},
     "output_type": "execute_result"
    }
   ],
   "source": [
    "groot_taxonomy.genus[groot_taxonomy.genus.str.startswith(\"Mat\")]"
   ]
  },
  {
   "cell_type": "code",
   "execution_count": 7,
   "id": "8f3227da-5231-4480-a984-1fc4c212d18e",
   "metadata": {},
   "outputs": [],
   "source": [
    "# looks like GRoot has some spelling mistakes in the genus names!!! \n",
    "# YIKES\n",
    "\n",
    "groot_spelling_corrections = {\n",
    "\"Anona\" : \"Annona\",\n",
    "\"Braciaria\" : \"Brachiaria\",\n",
    "\"Cyanodon\" : \"Cynodon\",\n",
    "\"Helychrisum\" : \"Helichrysum\",\n",
    "\"Matthiolaria\" : \"Matthiola\", # https://list-ui-wfo-staging.rbge.info/taxon/wfo-0000368988-2018-07?page=1 - synonyms\n",
    "\"Rhipogonum\" : \"Ripogonum\",\n",
    "\"Rynchosia\" : \"Rhynchosia\"\n",
    "}"
   ]
  },
  {
   "cell_type": "code",
   "execution_count": 8,
   "id": "fbe8e787-6559-4882-8af4-79c084b6eeae",
   "metadata": {},
   "outputs": [],
   "source": [
    "spelling_corrected_groot_genera = groot_taxonomy.genus.\\\n",
    "        apply(func= lambda g: groot_spelling_corrections.get(g) if g in groot_spelling_corrections.keys() else g.strip().title())"
   ]
  },
  {
   "cell_type": "code",
   "execution_count": 9,
   "id": "6918ded6-1350-4937-aec1-17df58b92e04",
   "metadata": {},
   "outputs": [
    {
     "data": {
      "text/plain": [
       "1167    Annona\n",
       "2444    Annona\n",
       "Name: genus, dtype: object"
      ]
     },
     "execution_count": 9,
     "metadata": {},
     "output_type": "execute_result"
    }
   ],
   "source": [
    "spelling_corrected_groot_genera[spelling_corrected_groot_genera.str.startswith(\"Ann\")]"
   ]
  },
  {
   "cell_type": "code",
   "execution_count": 10,
   "id": "6bf41194-500f-42a2-9006-f99adedf68cc",
   "metadata": {},
   "outputs": [
    {
     "data": {
      "text/plain": [
       "set()"
      ]
     },
     "execution_count": 10,
     "metadata": {},
     "output_type": "execute_result"
    }
   ],
   "source": [
    "set(spelling_corrected_groot_genera).difference(set(wfo_noduplicates.genus.str.strip().str.title()))"
   ]
  },
  {
   "cell_type": "code",
   "execution_count": 11,
   "id": "4d7c4c2a-587c-4d10-a3cb-0d01519895fc",
   "metadata": {},
   "outputs": [
    {
     "data": {
      "text/plain": [
       "set()"
      ]
     },
     "execution_count": 11,
     "metadata": {},
     "output_type": "execute_result"
    }
   ],
   "source": [
    "set(spelling_corrected_groot_genera.str.title()).difference(set(wfo_noduplicates.genus.str.strip().str.title()))"
   ]
  },
  {
   "cell_type": "code",
   "execution_count": 12,
   "id": "0c6ed18c-fe18-4186-ab1b-86a8b491edd5",
   "metadata": {},
   "outputs": [
    {
     "name": "stdout",
     "output_type": "stream",
     "text": [
      "set()\n",
      "set()\n"
     ]
    }
   ],
   "source": [
    "# finally!\n",
    "print(set(spelling_corrected_groot_genera.str.title().str.strip()).difference(set(wfo_noduplicates.genus.str.strip().str.title())))\n",
    "\n",
    "# the problem is GRoot NOT the WFO database!\n",
    "print(set(spelling_corrected_groot_genera.str.title().str.strip()).difference(set(wfo_noduplicates.genus)))"
   ]
  },
  {
   "cell_type": "code",
   "execution_count": 13,
   "id": "045ce393-31a3-41b9-8ba4-4bade43aab9b",
   "metadata": {},
   "outputs": [
    {
     "data": {
      "text/plain": [
       "0          Betula\n",
       "1           Picea\n",
       "2           Pinus\n",
       "3       Agropyron\n",
       "4       Artemisia\n",
       "          ...    \n",
       "7229    Valeriana\n",
       "7230     Veronica\n",
       "7231        Vicia\n",
       "7232        Vicia\n",
       "7233    Centaurea\n",
       "Name: genus, Length: 7234, dtype: object"
      ]
     },
     "execution_count": 13,
     "metadata": {},
     "output_type": "execute_result"
    }
   ],
   "source": [
    "spelling_corrected_groot_genera #.reset_index(drop=True)"
   ]
  },
  {
   "cell_type": "code",
   "execution_count": 14,
   "id": "4a3823e3-f43b-4f55-95b0-90f2615f83ec",
   "metadata": {},
   "outputs": [
    {
     "data": {
      "text/html": [
       "<div>\n",
       "<style scoped>\n",
       "    .dataframe tbody tr th:only-of-type {\n",
       "        vertical-align: middle;\n",
       "    }\n",
       "\n",
       "    .dataframe tbody tr th {\n",
       "        vertical-align: top;\n",
       "    }\n",
       "\n",
       "    .dataframe thead th {\n",
       "        text-align: right;\n",
       "    }\n",
       "</style>\n",
       "<table border=\"1\" class=\"dataframe\">\n",
       "  <thead>\n",
       "    <tr style=\"text-align: right;\">\n",
       "      <th></th>\n",
       "      <th>family</th>\n",
       "      <th>genus</th>\n",
       "      <th>species</th>\n",
       "    </tr>\n",
       "  </thead>\n",
       "  <tbody>\n",
       "    <tr>\n",
       "      <th>0</th>\n",
       "      <td>NaN</td>\n",
       "      <td>Betula</td>\n",
       "      <td>NaN</td>\n",
       "    </tr>\n",
       "    <tr>\n",
       "      <th>1</th>\n",
       "      <td>NaN</td>\n",
       "      <td>Picea</td>\n",
       "      <td>NaN</td>\n",
       "    </tr>\n",
       "    <tr>\n",
       "      <th>2</th>\n",
       "      <td>NaN</td>\n",
       "      <td>Pinus</td>\n",
       "      <td>NaN</td>\n",
       "    </tr>\n",
       "    <tr>\n",
       "      <th>3</th>\n",
       "      <td>NaN</td>\n",
       "      <td>Agropyron</td>\n",
       "      <td>cristatum</td>\n",
       "    </tr>\n",
       "    <tr>\n",
       "      <th>4</th>\n",
       "      <td>NaN</td>\n",
       "      <td>Artemisia</td>\n",
       "      <td>tridentata</td>\n",
       "    </tr>\n",
       "    <tr>\n",
       "      <th>...</th>\n",
       "      <td>...</td>\n",
       "      <td>...</td>\n",
       "      <td>...</td>\n",
       "    </tr>\n",
       "    <tr>\n",
       "      <th>7229</th>\n",
       "      <td>NaN</td>\n",
       "      <td>Valeriana</td>\n",
       "      <td>excelsa</td>\n",
       "    </tr>\n",
       "    <tr>\n",
       "      <th>7230</th>\n",
       "      <td>NaN</td>\n",
       "      <td>Veronica</td>\n",
       "      <td>aphylla</td>\n",
       "    </tr>\n",
       "    <tr>\n",
       "      <th>7231</th>\n",
       "      <td>NaN</td>\n",
       "      <td>Vicia</td>\n",
       "      <td>onobrychioides</td>\n",
       "    </tr>\n",
       "    <tr>\n",
       "      <th>7232</th>\n",
       "      <td>NaN</td>\n",
       "      <td>Vicia</td>\n",
       "      <td>oroboides</td>\n",
       "    </tr>\n",
       "    <tr>\n",
       "      <th>7233</th>\n",
       "      <td>Asteraceae</td>\n",
       "      <td>Centaurea</td>\n",
       "      <td>aspera</td>\n",
       "    </tr>\n",
       "  </tbody>\n",
       "</table>\n",
       "<p>7234 rows × 3 columns</p>\n",
       "</div>"
      ],
      "text/plain": [
       "          family      genus         species\n",
       "0            NaN     Betula             NaN\n",
       "1            NaN      Picea             NaN\n",
       "2            NaN      Pinus             NaN\n",
       "3            NaN  Agropyron       cristatum\n",
       "4            NaN  Artemisia      tridentata\n",
       "...          ...        ...             ...\n",
       "7229         NaN  Valeriana         excelsa\n",
       "7230         NaN   Veronica         aphylla\n",
       "7231         NaN      Vicia  onobrychioides\n",
       "7232         NaN      Vicia       oroboides\n",
       "7233  Asteraceae  Centaurea          aspera\n",
       "\n",
       "[7234 rows x 3 columns]"
      ]
     },
     "execution_count": 14,
     "metadata": {},
     "output_type": "execute_result"
    }
   ],
   "source": [
    "groot_taxonomy"
   ]
  },
  {
   "cell_type": "code",
   "execution_count": 15,
   "id": "085ae3c5-1454-4ece-abae-13e9091b7af0",
   "metadata": {},
   "outputs": [],
   "source": [
    "# mhmmmm\n",
    "groot_taxonomy.genus = spelling_corrected_groot_genera\n",
    "groot_taxonomy.reset_index(inplace=True, drop=True)"
   ]
  },
  {
   "cell_type": "code",
   "execution_count": 16,
   "id": "0b2fa28a-ea09-405b-8b3f-3ad7f34ee701",
   "metadata": {},
   "outputs": [
    {
     "data": {
      "text/html": [
       "<div>\n",
       "<style scoped>\n",
       "    .dataframe tbody tr th:only-of-type {\n",
       "        vertical-align: middle;\n",
       "    }\n",
       "\n",
       "    .dataframe tbody tr th {\n",
       "        vertical-align: top;\n",
       "    }\n",
       "\n",
       "    .dataframe thead th {\n",
       "        text-align: right;\n",
       "    }\n",
       "</style>\n",
       "<table border=\"1\" class=\"dataframe\">\n",
       "  <thead>\n",
       "    <tr style=\"text-align: right;\">\n",
       "      <th></th>\n",
       "      <th>family</th>\n",
       "      <th>genus</th>\n",
       "      <th>species</th>\n",
       "    </tr>\n",
       "  </thead>\n",
       "  <tbody>\n",
       "    <tr>\n",
       "      <th>0</th>\n",
       "      <td>NaN</td>\n",
       "      <td>Betula</td>\n",
       "      <td>NaN</td>\n",
       "    </tr>\n",
       "    <tr>\n",
       "      <th>1</th>\n",
       "      <td>NaN</td>\n",
       "      <td>Picea</td>\n",
       "      <td>NaN</td>\n",
       "    </tr>\n",
       "    <tr>\n",
       "      <th>2</th>\n",
       "      <td>NaN</td>\n",
       "      <td>Pinus</td>\n",
       "      <td>NaN</td>\n",
       "    </tr>\n",
       "    <tr>\n",
       "      <th>3</th>\n",
       "      <td>NaN</td>\n",
       "      <td>Agropyron</td>\n",
       "      <td>cristatum</td>\n",
       "    </tr>\n",
       "    <tr>\n",
       "      <th>4</th>\n",
       "      <td>NaN</td>\n",
       "      <td>Artemisia</td>\n",
       "      <td>tridentata</td>\n",
       "    </tr>\n",
       "    <tr>\n",
       "      <th>...</th>\n",
       "      <td>...</td>\n",
       "      <td>...</td>\n",
       "      <td>...</td>\n",
       "    </tr>\n",
       "    <tr>\n",
       "      <th>7229</th>\n",
       "      <td>NaN</td>\n",
       "      <td>Valeriana</td>\n",
       "      <td>excelsa</td>\n",
       "    </tr>\n",
       "    <tr>\n",
       "      <th>7230</th>\n",
       "      <td>NaN</td>\n",
       "      <td>Veronica</td>\n",
       "      <td>aphylla</td>\n",
       "    </tr>\n",
       "    <tr>\n",
       "      <th>7231</th>\n",
       "      <td>NaN</td>\n",
       "      <td>Vicia</td>\n",
       "      <td>onobrychioides</td>\n",
       "    </tr>\n",
       "    <tr>\n",
       "      <th>7232</th>\n",
       "      <td>NaN</td>\n",
       "      <td>Vicia</td>\n",
       "      <td>oroboides</td>\n",
       "    </tr>\n",
       "    <tr>\n",
       "      <th>7233</th>\n",
       "      <td>Asteraceae</td>\n",
       "      <td>Centaurea</td>\n",
       "      <td>aspera</td>\n",
       "    </tr>\n",
       "  </tbody>\n",
       "</table>\n",
       "<p>7234 rows × 3 columns</p>\n",
       "</div>"
      ],
      "text/plain": [
       "          family      genus         species\n",
       "0            NaN     Betula             NaN\n",
       "1            NaN      Picea             NaN\n",
       "2            NaN      Pinus             NaN\n",
       "3            NaN  Agropyron       cristatum\n",
       "4            NaN  Artemisia      tridentata\n",
       "...          ...        ...             ...\n",
       "7229         NaN  Valeriana         excelsa\n",
       "7230         NaN   Veronica         aphylla\n",
       "7231         NaN      Vicia  onobrychioides\n",
       "7232         NaN      Vicia       oroboides\n",
       "7233  Asteraceae  Centaurea          aspera\n",
       "\n",
       "[7234 rows x 3 columns]"
      ]
     },
     "execution_count": 16,
     "metadata": {},
     "output_type": "execute_result"
    }
   ],
   "source": [
    "groot_taxonomy"
   ]
  },
  {
   "cell_type": "code",
   "execution_count": 19,
   "id": "d29e5be9-49ab-4cd5-8f87-7b69e0907803",
   "metadata": {},
   "outputs": [
    {
     "data": {
      "text/plain": [
       "dtype('O')"
      ]
     },
     "execution_count": 19,
     "metadata": {},
     "output_type": "execute_result"
    }
   ],
   "source": [
    "# groot_taxonomy.dtypes\n",
    "groot_taxonomy.family.dtype"
   ]
  },
  {
   "cell_type": "code",
   "execution_count": 56,
   "id": "cdcf09d9-3f16-48da-99d8-fc05dec99c65",
   "metadata": {},
   "outputs": [],
   "source": [
    "temp = wfo_noduplicates.loc[:, [\"family\", \"genus\"]].drop_duplicates().reset_index(drop=True)\n",
    "families = pd.Series(index=temp.genus.values, data=temp.family.values, dtype=str, copy=True)"
   ]
  },
  {
   "cell_type": "code",
   "execution_count": 58,
   "id": "fde8f7e3-3e71-41b6-b116-02e6aee6e8e6",
   "metadata": {},
   "outputs": [
    {
     "data": {
      "text/plain": [
       "family    0\n",
       "genus     0\n",
       "dtype: int64"
      ]
     },
     "execution_count": 58,
     "metadata": {},
     "output_type": "execute_result"
    }
   ],
   "source": [
    "temp.isna().sum()"
   ]
  },
  {
   "cell_type": "code",
   "execution_count": 59,
   "id": "0579b1a7-0423-474a-b632-aeaa73059d76",
   "metadata": {},
   "outputs": [
    {
     "data": {
      "text/plain": [
       "Acanthopale          Acanthaceae\n",
       "Acanthopsis          Acanthaceae\n",
       "Acanthus             Acanthaceae\n",
       "Afrofittonia         Acanthaceae\n",
       "Ambongia             Acanthaceae\n",
       "                       ...      \n",
       "Bisluederitzia    Zygophyllaceae\n",
       "Guaiacon          Zygophyllaceae\n",
       "Nitrapia          Zygophyllaceae\n",
       "Quaiacum          Zygophyllaceae\n",
       "Seezenia          Zygophyllaceae\n",
       "Length: 50936, dtype: object"
      ]
     },
     "execution_count": 59,
     "metadata": {},
     "output_type": "execute_result"
    }
   ],
   "source": [
    "families"
   ]
  },
  {
   "cell_type": "code",
   "execution_count": null,
   "id": "5e613c3a-2765-4e1b-abf7-24c0389111a6",
   "metadata": {},
   "outputs": [],
   "source": []
  },
  {
   "cell_type": "code",
   "execution_count": null,
   "id": "5130461f-f10b-4ba1-807b-ce75a12b1fd6",
   "metadata": {},
   "outputs": [],
   "source": []
  },
  {
   "cell_type": "code",
   "execution_count": 61,
   "id": "fa85acd4-59d7-4862-8dae-e29d81b9ca2a",
   "metadata": {},
   "outputs": [
    {
     "data": {
      "text/plain": [
       "Cannabis    Cannabaceae\n",
       "Cannabis     Urticaceae\n",
       "dtype: object"
      ]
     },
     "execution_count": 61,
     "metadata": {},
     "output_type": "execute_result"
    }
   ],
   "source": [
    "# WTF WFO???\n",
    "families[\"Cannabis\"]"
   ]
  },
  {
   "cell_type": "code",
   "execution_count": null,
   "id": "35f5135c-5644-45c3-a84e-d790e38cd21f",
   "metadata": {},
   "outputs": [],
   "source": []
  },
  {
   "cell_type": "code",
   "execution_count": 84,
   "id": "0a409e7b-8dae-475c-b2bb-bc9756204af0",
   "metadata": {},
   "outputs": [
    {
     "name": "stdout",
     "output_type": "stream",
     "text": [
      "Cannabis Expected Urticaceae, got Cannabaceae\n",
      "Papaver Expected Papaveraceae, got Papaverceae\n",
      "Phacelia Expected Polemoniaceae, got Hydrophyllaceae\n",
      "Spinacia Expected Amaranthaceae, got Chenopodiaceae\n",
      "Trifolium Expected Oxalidaceae, got Fabaceae\n",
      "Pinus Expected Sciadopityaceae, got Piceae\n",
      "Apodytes Expected Stemonuraceae, got Icacinaceae\n",
      "Combretum Expected Sapotaceae, got Combretaceae\n",
      "Dovyalis Expected Salicaceae, got Flacourtiaceae\n",
      "Podocarpus Expected Taxaceae, got Podocarpaceae\n",
      "Maytenus Expected Rutaceae, got Celastraceae\n",
      "Arenaria Expected Selaginellaceae, got Caryophyllaceae\n",
      "Brachypodium Expected Ptychomitriaceae, got Poaceae\n",
      "Geranium Expected Neuradaceae, got Geraniaceae\n",
      "Teucrium Expected Plantaginaceae, got Lamiaceae\n",
      "Trifolium Expected Oxalidaceae, got Fabaceae\n",
      "Veronica Expected Tetrachondraceae, got Scrophulariaceae\n",
      "Acer Expected Vitaceae, got Sapindaceae\n",
      "Acer Expected Vitaceae, got Sapindaceae\n",
      "Barringtonia Expected Symplocaceae, got Lecythidaceae\n",
      "Betula Expected Nothofagaceae, got Betulaceae\n",
      "Betula Expected Nothofagaceae, got Betulaceae \n",
      "Canarium Expected Staphyleaceae, got Burseraceae\n",
      "Chenopodium Expected Nyctaginaceae, got Amaranthaceae\n",
      "Cinnamomum Expected Rhamnaceae, got Lauraceae \n",
      "Cornus Expected Rhamnaceae, got Cornaceae\n",
      "Euonymus Expected Pittosporaceae, got Celastraceae\n",
      "Machilus Expected Sabiaceae, got Lauraceae\n",
      "Michelia Expected Winteraceae, got Magnoliaceae\n",
      "Pinus Expected Sciadopityaceae, got Pinaceae\n",
      "Podocarpus Expected Taxaceae, got Podocarpaceae \n",
      "Quercus Expected Ulmaceae, got Fagaceae\n",
      "Rapanea Expected Sapotaceae, got Myrsinaceae\n",
      "Sambucus Expected Viburnaceae, got Caprifoliaceae\n",
      "Lindera Expected Lauraceae, got Lauraceae \n",
      "Lithocarpus Expected Styracaceae, got Fagaceae\n",
      "Pinus Expected Sciadopityaceae, got Pinaceae\n",
      "Quercus Expected Ulmaceae, got Fagaceae\n",
      "Syzygium Expected Rosaceae, got Myrtaceae\n",
      "Syzygium Expected Rosaceae, got Myrtaceae\n",
      "Ardisia Expected Rubiaceae, got Myrsinaceae\n",
      "Diospyros Expected Sapotaceae, got Ebenaceae\n",
      "Dysoxylum Expected Simaroubaceae, got Meliaceae\n",
      "Machilus Expected Sabiaceae, got Lauraceae\n",
      "Magnolia Expected Thymelaeaceae, got Magnoliaceae\n",
      "Memecylon Expected Myrtaceae, got Melastomataceae\n",
      "Michelia Expected Winteraceae, got Magnoliaceae\n",
      "Michelia Expected Winteraceae, got Magnoliaceae\n",
      "Quercus Expected Ulmaceae, got Fagaceae \n",
      "Sterculia Expected Phyllanthaceae, got Malvaceae\n",
      "Syzygium Expected Rosaceae, got Myrtaceae\n",
      "Alseis Expected Rubiaceae, got Rubiaceae \n",
      "Combretum Expected Sapotaceae, got Combretaceae\n",
      "Maytenus Expected Rutaceae, got Celastraceae\n",
      "Tabebuia Expected Schlegeliaceae, got Bignoniaceae \n",
      "Terminalia Expected Elaeocarpaceae, got Combretaceae\n",
      "Chomelia Expected Rubiaceae, got Rubiaceae \n",
      "Paragonia Expected Bignoniaceae, got Bignoniaceae \n",
      "Acer Expected Vitaceae, got Aceraceae\n",
      "Acer Expected Vitaceae, got Aceraceae\n",
      "Betula Expected Nothofagaceae, got Betulaceae\n",
      "Fagus Expected Nothofagaceae, got Fagaceae\n",
      "Juglans Expected Picrodendraceae, got Juglandaceae\n",
      "Pinus Expected Sciadopityaceae, got Pinaceae\n",
      "Pinus Expected Sciadopityaceae, got Pinaceae\n",
      "Pinus Expected Sciadopityaceae, got Pinaceae\n",
      "Prunus Expected Symplocaceae, got Rosaceae\n",
      "Quercus Expected Ulmaceae, got Fagaceae\n",
      "Quercus Expected Ulmaceae, got Fagaceae\n",
      "Rhus Expected Vitaceae, got Anacardiaceae\n",
      "Tilia Expected Malvaceae, got Tiliaceae\n",
      "Tsuga Expected Taxaceae, got Pinaceae\n",
      "Betula Expected Nothofagaceae, got Betulaceae\n",
      "Adiantum Expected Pteridaceae, got Adiantaceae\n",
      "Cystopteris Expected Woodsiaceae, got Athyriaceae\n",
      "Equisetum Expected Restionaceae, got Equisetaceae\n",
      "Equisetum Expected Restionaceae, got Equisetaceae\n",
      "Matteuccia Expected Onocleaceae, got Onocleceae\n",
      "Onoclea Expected Tectariaceae, got Onocleceae\n",
      "Athyrium Expected Woodsiaceae, got Athyriaceae\n",
      "Athyrium Expected Woodsiaceae, got Athyriaceae\n",
      "Athyrium Expected Woodsiaceae, got Athyriaceae\n",
      "Trifolium Expected Oxalidaceae, got Fabaceae\n",
      "Trifolium Expected Oxalidaceae, got Fabaceae\n",
      "Trifolium Expected Oxalidaceae, got Fabaceae\n",
      "Nothofagus Expected Nothofagaceae, got Fagaceae\n",
      "Acer Expected Vitaceae, got Aceraceae\n",
      "Acer Expected Vitaceae, got Aceraceae\n",
      "Acer Expected Vitaceae, got Aceraceae\n",
      "Alnus Expected Phyllanthaceae, got Betulaceae\n",
      "Alnus Expected Phyllanthaceae, got Betulaceae\n",
      "Betula Expected Nothofagaceae, got Betulaceae\n",
      "Betula Expected Nothofagaceae, got Betulaceae\n",
      "Cornus Expected Rhamnaceae, got Cornacea\n",
      "Juglans Expected Picrodendraceae, got Juglandaceae\n",
      "Pinus Expected Sciadopityaceae, got Pinaceae\n",
      "Pinus Expected Sciadopityaceae, got Pinaceae\n",
      "Quercus Expected Ulmaceae, got Fagaceae\n",
      "Quercus Expected Ulmaceae, got Fagaceae\n",
      "Quercus Expected Ulmaceae, got Fagaceae\n",
      "Tilia Expected Malvaceae, got Tiliaceae\n",
      "Ascarina Expected Myricaceae, got Chloranthaceae\n",
      "Asplenium Expected Thelypteridaceae, got Aspleniaceae\n",
      "Astelia Expected Philydraceae, got Liliaceae\n",
      "Astelia Expected Philydraceae, got Liliaceae\n",
      "Blechnum Expected Pteridaceae, got Blechnaceae\n",
      "Blechnum Expected Pteridaceae, got Blechnaceae\n",
      "Blechnum Expected Pteridaceae, got Blechnaceae\n",
      "Carpodetus Expected Rousseaceae, got Grossulariaceae\n",
      "Cyathea Expected Thelypteridaceae, got Cyatheaceae\n",
      "Dicksonia Expected Woodsiaceae, got Dicksoniaceae\n",
      "Griselinia Expected Griseliniaceae, got Cornaceae\n",
      "Hedycarya Expected Rutaceae, got Monimiaceae\n",
      "Lycopodium Expected Selaginellaceae, got Lycopodiaceae\n",
      "Metrosideros Expected Oleaceae, got Myrtaceae\n",
      "Metrosideros Expected Oleaceae, got Myrtaceae\n",
      "Metrosideros Expected Oleaceae, got Myrtaceae\n",
      "Phyllocladus Expected Podocarpaceae, got Phyllocladaceae\n",
      "Podocarpus Expected Taxaceae, got Podocarpaceae\n",
      "Quintinia Expected Paracryphiaceae, got Grossulariaceae\n",
      "Ripogonum Expected Ripogonaceae, got Smilacaceae\n",
      "Blechnum Expected Pteridaceae, got Blechnaceae\n",
      "Blechnum Expected Pteridaceae, got Blechnaceae\n",
      "Myrsine Expected Symplocaceae, got Myrsinaceae\n",
      "Myrsine Expected Symplocaceae, got Myrsinaceae\n",
      "Polystichum Expected Thelypteridaceae, got Dryopteridaceae\n",
      "Weinmannia Expected Sapindaceae, got Cunoniaceae\n",
      "Carex Expected Poaceae, got Cyperaceae\n",
      "Arenaria Expected Selaginellaceae, got Caryophyllaceae\n",
      "Astragalus Expected Fabaceae, got Leguminosae\n",
      "Incarvillea Expected Gesneriaceae, got Bignoniaceae\n",
      "Oxytropis Expected Fabaceae, got Leguminosae\n",
      "Oxytropis Expected Fabaceae, got Leguminosae\n",
      "Dillenia Expected Rubiaceae, got Dilleniaceae\n",
      "Ficus Expected Salicaceae, got Moraceae\n",
      "Fagraea Expected Rubiaceae, got Loganiaceae\n",
      "Callicarpa Expected Vitaceae, got Verbeceae\n",
      "Ficus Expected Salicaceae, got Moraceae\n",
      "Tarenna Expected Rutaceae, got Rubiaceae\n",
      "Alangium Expected Nyssaceae, got Alangiaceae\n",
      "Alstonia Expected Symplocaceae, got Apocynaceae\n",
      "Cinnamomum Expected Rhamnaceae, got Lauraceae\n",
      "Microcos Expected Malvaceae, got Tiliaceae\n",
      "Litsea Expected Symplocaceae, got Lauraceae\n",
      "Acer Expected Vitaceae, got Aceraceae\n",
      "Antidesma Expected Santalaceae, got Euphorbiaceae\n",
      "Wendlandia Expected Menispermaceae, got Rubiaceae\n",
      "Aporosa Expected Putranjivaceae, got Euphorbiaceae\n",
      "Aporosa Expected Putranjivaceae, got Euphorbiaceae\n",
      "Cinnamomum Expected Rhamnaceae, got Lauraceae\n",
      "Cratoxylum Expected Hypericaceae, got Guttiferae\n",
      "Elaeocarpus Expected Putranjivaceae, got Elaeocarpaceae\n",
      "Garcinia Expected Pentaphylacaceae, got Guttiferae\n",
      "Garcinia Expected Pentaphylacaceae, got Guttiferae\n",
      "Gironniera Expected Moraceae, got Ulmaceae\n",
      "Itea Expected Pittosporaceae, got Saxifragaceae\n",
      "Litsea Expected Symplocaceae, got Lauraceae\n",
      "Magnolia Expected Thymelaeaceae, got Magnoliaceae\n",
      "Michelia Expected Winteraceae, got Magnoliaceae\n",
      "Michelia Expected Winteraceae, got Magnoliaceae\n",
      "Pistacia Expected Simaroubaceae, got Anacardiaceae\n",
      "Pometia Expected Sapotaceae, got Sapindaceae\n",
      "Pterospermum Expected Malvaceae, got Sterculiaceae\n",
      "Sterculia Expected Phyllanthaceae, got Sterculiaceae\n",
      "Vaccinium Expected Schoepfiaceae, got Ericaceae\n",
      "Cinnamomum Expected Rhamnaceae, got Lauraceae\n",
      "Syzygium Expected Rosaceae, got Myrtaceae\n",
      "Cinnamomum Expected Rhamnaceae, got Lauraceae\n",
      "Euodia Expected Staphyleaceae, got Rutaceae\n",
      "Ficus Expected Salicaceae, got Moraceae\n",
      "Lithocarpus Expected Styracaceae, got Fagaceae\n",
      "Litsea Expected Symplocaceae, got Lauraceae\n",
      "Machilus Expected Sabiaceae, got Lauraceae\n",
      "Machilus Expected Sabiaceae, got Lauraceae\n",
      "Machilus Expected Sabiaceae, got Lauraceae\n",
      "Manglietia Expected Sapotaceae, got Magnoliaceae\n",
      "Manglietia Expected Sapotaceae, got Magnoliaceae\n",
      "Michelia Expected Winteraceae, got Magnoliaceae\n",
      "Michelia Expected Winteraceae, got Magnoliaceae\n",
      "Michelia Expected Winteraceae, got Magnoliaceae\n",
      "Michelia Expected Winteraceae, got Magnoliaceae\n",
      "Michelia Expected Winteraceae, got Magnoliaceae\n",
      "Microtropis Expected Fabaceae, got Celastraceae\n",
      "Syzygium Expected Rosaceae, got Myrtaceae\n",
      "Agathis Expected Podocarpaceae, got Araucariaceae\n",
      "Laurelia Expected Monimiaceae, got Atherospermataceae\n",
      "Berberis Expected Nitrariaceae, got Berberidaceae\n",
      "Buddleja Expected Verbenaceae, got Loganiaceae\n",
      "Lycium Expected Hydroleaceae, got Solanaceae\n",
      "Robinia Expected Sapindaceae, got Fabaceae\n",
      "Cotinus Expected Anacardiaceae, got Ranunculaceae\n",
      "Elaeagnus Expected Nyctaginaceae, got Elaeagnaceae\n",
      "Jasminum Expected Rubiaceae, got Oleaceae\n",
      "Rhamnus Expected Ulmaceae, got Rhamnaceae\n",
      "Acer Expected Vitaceae, got Sapindaceae\n",
      "Acer Expected Vitaceae, got Sapindaceae\n",
      "Acer Expected Vitaceae, got Sapindaceae\n",
      "Fagus Expected Nothofagaceae, got Fagaceae\n",
      "Prunus Expected Symplocaceae, got Rosaceae\n",
      "Quercus Expected Ulmaceae, got Fagaceae\n",
      "Agriophyllum Expected Amaranthaceae, got Chenopodiaceae\n",
      "Allium Expected Commelinaceae, got Liliaceae\n",
      "Bassia Expected Sapotaceae, got Chenopodiaceae\n",
      "Ceratocarpus Expected Amaranthaceae, got Chenopodiaceae\n",
      "Ceratoides Expected Amaranthaceae, got Chenopodiaceae\n",
      "Cynanchum Expected Rubiaceae, got Asclepiadaceae\n",
      "Euphorbia Expected Gentianaceae, got Euphorbiaceae\n",
      "Halogeton Expected Amaranthaceae, got Chenopodiaceae\n",
      "Horaninovia Expected Amaranthaceae, got Chenopodiaceae\n",
      "Nitraria Expected Nitrariaceae, got Zygophyllaceae\n",
      "Salsola Expected Amaranthaceae, got Chenopodiaceae\n",
      "Salsola Expected Amaranthaceae, got Chenopodiaceae\n",
      "Salsola Expected Amaranthaceae, got Chenopodiaceae\n",
      "Sympegma Expected Amaranthaceae, got Chenopodiaceae\n",
      "Chenopodium Expected Nyctaginaceae, got Chenopodiaceae\n",
      "Corispermum Expected Amaranthaceae, got Chenopodiaceae\n",
      "Corispermum Expected Amaranthaceae, got Chenopodiaceae\n",
      "Petrosimonia Expected Amaranthaceae, got Chenopodiaceae\n",
      "Salsola Expected Amaranthaceae, got Chenopodiaceae\n",
      "Chenopodium Expected Nyctaginaceae, got Chenopodiaceae\n",
      "Euphorbia Expected Gentianaceae, got Euphorbiaceae\n",
      "Hedysarum Expected Zygophyllaceae, got Fabaceae\n",
      "Rhodiola Expected Sapindaceae, got Crassulaceae\n",
      "Salsola Expected Amaranthaceae, got Chenopodiaceae\n",
      "Thymus Expected Lamiaceae, got Labiatae\n",
      "Cinnamomum Expected Rhamnaceae, got Lauraceae\n",
      "Cunninghamia Expected Rubiaceae, got Taxodiaceae\n",
      "Machilus Expected Sabiaceae, got Lauraceae\n",
      "Pinus Expected Sciadopityaceae, got Pinaceae\n",
      "Pinus Expected Sciadopityaceae, got Pinaceae\n",
      "Acosmium Expected Fabaceae, got Fabaceae - Papilionoideae\n",
      "Anadenanthera Expected Fabaceae, got Fabaceae - Mimosoideae\n",
      "Aspidosperma Expected Apocynaceae, got Apocyceae\n",
      "Aspidosperma Expected Apocynaceae, got Apocyceae\n",
      "Bougainvillea Expected Nyctaginaceae, got Nyctangiceae\n",
      "Caesalpinia Expected Fabaceae, got Fabaceae - Caesalinioideae\n",
      "Caesalpinia Expected Fabaceae, got Fabaceae - Caesalpinioideae\n",
      "Casearia Expected Salicaceae, got Flacourtiaceae\n",
      "Cavanillesia Expected Malvaceae, got Malvaceae - Bombacoideae\n",
      "Cedrela Expected Myrtaceae, got Meliaceae\n",
      "Ceiba Expected Malvaceae, got Malvaceae - Bombacoideae\n",
      "Ceiba Expected Malvaceae, got Malvaceae - Bombacoideae\n",
      "Centrolobium Expected Fabaceae, got Fabaceae - Papilionoideae\n",
      "Combretum Expected Sapotaceae, got Combretaceae\n",
      "Erythroxylum Expected Polygonaceae, got Erythroxylaceae\n",
      "Ficus Expected Salicaceae, got Moraceae\n",
      "Gallesia Expected Petiveriaceae, got Phytolaccaceae\n",
      "Heliocarpus Expected Malvaceae, got Malvaceae - Tilioideae\n",
      "Hirtella Expected Icacinaceae, got Chrysobalaceae\n",
      "Hura Expected Zingiberaceae, got Euphorbiaceae\n",
      "Hymenaea Expected Fabaceae, got Fabaceae - Caesalpinioideae\n",
      "Machaerium Expected Fabaceae, got Fabaceae - Papilionoideae\n",
      "Nectandra Expected Thymelaeaceae, got Nyctangiceae\n",
      "Pterogyne Expected Fabaceae, got Fabaceae - Caesalpinioideae\n",
      "Sapindus Expected Staphyleaceae, got Sapindaceae\n",
      "Sapium Expected Salicaceae, got Euphorbiaceae\n",
      "Schizolobium Expected Fabaceae, got Fabaceae - Caesalinioideae\n",
      "Solanum Expected Solanaceae, got Solaceae\n",
      "Spondias Expected Burseraceae, got Acardiaceae\n",
      "Sweetia Expected Fabaceae, got Fabaceae - Papilionoideae\n",
      "Swietenia Expected Rutaceae, got Meliaceae\n",
      "Tabebuia Expected Schlegeliaceae, got Bignoniaceae\n",
      "Terminalia Expected Elaeocarpaceae, got Combretaceae\n",
      "Trema Expected Urticaceae, got Ulmaceae\n",
      "Trichilia Expected Stegnospermataceae, got Meliaceae\n",
      "Zanthoxylum Expected Staphyleaceae, got Rutaceae\n",
      "Rollinia Expected Annonaceae, got Annoceae\n",
      "Adenanthera Expected Simaroubaceae, got Fabaceae - Mimosoideae\n",
      "Capparis Expected Solanaceae, got Capparaceae\n",
      "Copaifera Expected Fabaceae, got Fabaceae - Caesalpinioideae\n",
      "Ocotea Expected Lauraceae, got Laureaceae\n",
      "Stylogyne Expected Primulaceae, got Myrsiceae\n",
      "Acer Expected Vitaceae, got Aceraceae\n",
      "Hypericum Expected Theaceae, got Clusiaceae\n",
      "Lobelia Expected Thymelaeaceae, got Campanulaceae\n",
      "Prunus Expected Symplocaceae, got Rosaceae\n",
      "Quercus Expected Ulmaceae, got Fagaceae\n",
      "Rudbeckia Expected Combretaceae, got Asteraceae\n",
      "Sambucus Expected Viburnaceae, got Caprifoliaceae\n",
      "Thuja Expected Tamaricaceae, got Cupressaceae\n",
      "Betula Expected Nothofagaceae, got Betulaceae\n",
      "Betula Expected Nothofagaceae, got Betulaceae\n",
      "Pinus Expected Sciadopityaceae, got Piceae\n",
      "Alternanthera Expected Caryophyllaceae, got Amaranthaceae\n",
      "Carex Expected Poaceae, got Cyperaceae\n",
      "Carex Expected Poaceae, got Cyperaceae\n",
      "Cyperus Expected Juncaceae, got Cyperaceae\n",
      "Euphorbia Expected Gentianaceae, got Euphorbiaceae\n",
      "Helianthemum Expected Myrtaceae, got Cistaceae\n",
      "Helianthemum Expected Myrtaceae, got Cistaceae\n",
      "Lysimachia Expected Rubiaceae, got Primulaceae\n",
      "Rhus Expected Vitaceae, got Anacardiaceae\n",
      "Sida Expected Passifloraceae, got Malvaceae\n",
      "Silene Expected Gentianaceae, got Caryophyllaceae\n",
      "Carex Expected Poaceae, got Cyperaceae\n",
      "Ficus Expected Salicaceae, got Moraceae\n",
      "Viola Expected Polygalaceae, got Violaceae\n",
      "Arenaria Expected Selaginellaceae, got Caryophyllaceae\n",
      "Veronica Expected Tetrachondraceae, got Plantaginaceae\n",
      "Inga Expected Zygophyllaceae, got Fabaceae\n",
      "Spondias Expected Burseraceae, got Anancardiaceae\n",
      "Tapirira Expected Burseraceae, got Anancardiaceae\n",
      "Brosimum Expected Urticaceae, got Moraceae\n",
      "Geum Expected Saxifragaceae, got Rosaceae\n",
      "Roegneria Expected Poaceae, got Gramineae\n",
      "Valeriana Expected Nyctaginaceae, got Valerianaceae\n",
      "Cinnamomum Expected Rhamnaceae, got Lauraceae\n",
      "Weinmannia Expected Sapindaceae, got Cunoniaceae\n",
      "Lithocarpus Expected Styracaceae, got Fagaceae\n",
      "Litsea Expected Symplocaceae, got Lauraceae\n",
      "Syzygium Expected Rosaceae, got Myrtaceae\n",
      "Syzygium Expected Rosaceae, got Myrtaceae\n",
      "Agathis Expected Podocarpaceae, got Araucariaceae\n",
      "Aglaia Expected Sapindaceae, got Meliaceae\n",
      "Lithocarpus Expected Styracaceae, got Fagaceae\n",
      "Lithocarpus Expected Styracaceae, got Fagaceae\n",
      "Lithocarpus Expected Styracaceae, got Fagaceae\n",
      "Magnolia Expected Thymelaeaceae, got Magnoliaceae\n",
      "Podocarpus Expected Taxaceae, got Podocarpaceae\n",
      "Quercus Expected Ulmaceae, got Fagaceae\n",
      "Syzygium Expected Rosaceae, got Myrtaceae\n",
      "Syzygium Expected Rosaceae, got Myrtaceae\n",
      "Syzygium Expected Rosaceae, got Myrtaceae\n",
      "Xanthophyllum Expected Polygalaceae, got Polygaraceae\n",
      "Acer Expected Vitaceae, got Sapindaceae\n",
      "Cornus Expected Rhamnaceae, got Cornaceae\n",
      "Diospyros Expected Sapotaceae, got Ebenaceae\n",
      "Ilex Expected Symplocaceae, got Aquifoliaceae\n",
      "Liquidambar Expected Myricaceae, got Altingiacae\n",
      "Liriodendron Expected Magnoliaceae, got Magnoliacae\n",
      "Magnolia Expected Thymelaeaceae, got Magnoliacae\n",
      "Magnolia Expected Thymelaeaceae, got Magnoliacae\n",
      "Magnolia Expected Thymelaeaceae, got Magnoliacae\n",
      "Magnolia Expected Thymelaeaceae, got Magnoliacae\n",
      "Nyssa Expected Nyssaceae, got Cornaceae\n",
      "Prunus Expected Symplocaceae, got Rosaceae\n",
      "Magnolia Expected Thymelaeaceae, got Magnoliacae\n",
      "Magnolia Expected Thymelaeaceae, got Magnoliacae\n",
      "Magnolia Expected Thymelaeaceae, got Magnoliacae\n",
      "Magnolia Expected Thymelaeaceae, got Magnoliacae\n",
      "Abies Expected Pinaceae, got Piceae\n",
      "Betula Expected Nothofagaceae, got Betulaceae\n",
      "Acer Expected Vitaceae, got Sapindaceae\n",
      "Acer Expected Vitaceae, got Sapindaceae\n",
      "Acer Expected Vitaceae, got Sapindaceae\n",
      "Acer Expected Vitaceae, got Sapindaceae\n",
      "Acer Expected Vitaceae, got Sapindaceae\n",
      "Acer Expected Vitaceae, got Sapindaceae\n",
      "Acer Expected Vitaceae, got Sapindaceae\n",
      "Aporosa Expected Putranjivaceae, got Phyllanthaceae\n",
      "Ardisia Expected Rubiaceae, got Primulaceae\n",
      "Asparagus Expected Resedaceae, got Asparagaceae\n",
      "Betula Expected Nothofagaceae, got Betulaceae\n",
      "Betula Expected Nothofagaceae, got Betulaceae\n",
      "Blechnum Expected Pteridaceae, got Blechnaceae\n",
      "Chloranthus Expected Primulaceae, got Chloranthaceae\n",
      "Choerospondias Expected Simaroubaceae, got Anacardiaceae\n",
      "Cibotium Expected Saccolomataceae, got Cibotiaceae\n",
      "Convallaria Expected Liliaceae, got Asparagaceae\n",
      "Cornus Expected Rhamnaceae, got Cornaceae\n",
      "Cornus Expected Rhamnaceae, got Cornaceae\n",
      "Cotoneaster Expected Symplocaceae, got Rosaceae\n",
      "Cotoneaster Expected Symplocaceae, got Rosaceae\n",
      "Cunninghamia Expected Rubiaceae, got Cupressaceae\n",
      "Deutzia Expected Orobanchaceae, got Hydrangeaceae\n",
      "Elaeocarpus Expected Putranjivaceae, got Elaeocarpaceae\n",
      "Euonymus Expected Pittosporaceae, got Celastraceae\n",
      "Hosta Expected Lamiaceae, got Asparagaceae\n",
      "Juniperus Expected Podocarpaceae, got Cupressaceae\n",
      "Liquidambar Expected Myricaceae, got Altingiaceae\n",
      "Lithocarpus Expected Styracaceae, got Fagaceae\n",
      "Lonicera Expected Viburnaceae, got Caprifoliaceae\n",
      "Mallotus Expected Malvaceae, got Euphorbiaceae\n",
      "Pinus Expected Sciadopityaceae, got Pinaceae\n",
      "Podocarpus Expected Taxaceae, got Podocarpaceae\n",
      "Prunus Expected Symplocaceae, got Rosaceae\n",
      "Prunus Expected Symplocaceae, got Rosaceae\n",
      "Pteridium Expected Pteridaceae, got Dennstaedtiaceae\n",
      "Quercus Expected Ulmaceae, got Fagaceae\n",
      "Quercus Expected Ulmaceae, got Fagaceae\n",
      "Rhamnus Expected Ulmaceae, got Rhamnaceae\n",
      "Sambucus Expected Viburnaceae, got Adoxaceae\n",
      "Sterculia Expected Phyllanthaceae, got Malvaceae\n",
      "Syzygium Expected Rosaceae, got Myrtaceae\n",
      "Syzygium Expected Rosaceae, got Myrtaceae\n",
      "Veratrum Expected Ranunculaceae, got Melanthiaceae\n",
      "Daphniphyllum Expected Phyllanthaceae, got Daphniphyllaceae\n",
      "Fagus Expected Nothofagaceae, got Fagaceae\n",
      "Pinus Expected Sciadopityaceae, got Pinaceae\n",
      "Quercus Expected Ulmaceae, got Fagaceae\n",
      "Actaea Expected Rosaceae, got Ranunculaceae\n",
      "Cinnamomum Expected Rhamnaceae, got Lauraceae\n",
      "Cinnamomum Expected Rhamnaceae, got Lauraceae\n",
      "Cornus Expected Rhamnaceae, got Cornaceae\n",
      "Cornus Expected Rhamnaceae, got Cornaceae\n",
      "Cotoneaster Expected Symplocaceae, got Rosaceae\n",
      "Deutzia Expected Orobanchaceae, got Hydrangeaceae\n",
      "Dicranopteris Expected Polypodiaceae, got Gleicheniaceae\n",
      "Dioscorea Expected Stemonaceae, got Dioscoreaceae\n",
      "Dryopteris Expected Tectariaceae, got Dryopteridaceae\n",
      "Dryopteris Expected Tectariaceae, got Dryopteridaceae\n",
      "Embelia Expected Salvadoraceae, got Primulaceae\n",
      "Litsea Expected Symplocaceae, got Lauraceae\n",
      "Litsea Expected Symplocaceae, got Lauraceae\n",
      "Machilus Expected Sabiaceae, got Lauraceae\n",
      "Magnolia Expected Thymelaeaceae, got Magnoliaceae\n",
      "Magnolia Expected Thymelaeaceae, got Magnoliaceae\n",
      "Magnolia Expected Thymelaeaceae, got Magnoliaceae\n",
      "Osmunda Expected Tectariaceae, got Osmundaceae\n",
      "Philadelphus Expected Myrtaceae, got Hydrangeaceae\n",
      "Prunus Expected Symplocaceae, got Rosaceae\n",
      "Quercus Expected Ulmaceae, got Fagaceae\n",
      "Saussurea Expected Liliaceae, got Asteraceae\n",
      "Saussurea Expected Liliaceae, got Asteraceae\n",
      "Saussurea Expected Liliaceae, got Asteraceae\n",
      "Strobilanthes Expected Pedaliaceae, got Acanthaceae\n",
      "Styrax Expected Symplocaceae, got Styracaceae\n",
      "Veronica Expected Tetrachondraceae, got Plantaginaceae\n",
      "Vitis Expected Icacinaceae, got Vitaceae\n",
      "Phellodendron Expected Rutaceae, got Rutaccac\n",
      "Akebia Expected Lardizabalaceae, got Lardizabalanceae\n",
      "Cryptotaenia Expected Apiaceae, got Umbelliferae\n",
      "Geranium Expected Neuradaceae, got Geraniaceae\n",
      "Rhynchosia Expected Fabaceae, got Leguminosae\n",
      "Setaria Expected Poaceae, got Gramineae\n",
      "Vicia Expected Fabaceae, got Leguminosae\n",
      "Indigofera Expected Fabaceae, got Leguminosae\n",
      "Indigofera Expected Fabaceae, got Leguminosae\n",
      "Lathyrus Expected Fabaceae, got Leguminosae\n",
      "Podocarpium Expected Fabaceae, got Leguminosae\n",
      "Sophora Expected Fabaceae, got Leguminosae\n",
      "Acer Expected Vitaceae, got Sapindaceae\n",
      "Acer Expected Vitaceae, got Sapindaceae\n",
      "Allium Expected Commelinaceae, got Amaryllidaceae\n",
      "Linaria Expected Scrophulariaceae, got Plantaginaceae\n",
      "Linaria Expected Scrophulariaceae, got Plantaginaceae\n",
      "Linaria Expected Scrophulariaceae, got Plantaginaceae\n",
      "Linaria Expected Scrophulariaceae, got Plantaginaceae\n",
      "Allium Expected Commelinaceae, got Amaryllidaceae\n",
      "Deutzia Expected Orobanchaceae, got Hydrangeaceae\n",
      "Aulacomnium Expected Orthotrichaceae, got Aulacomniaceae\n",
      "Cynodon Expected Pottiaceae, got Poaceae\n",
      "Geranium Expected Neuradaceae, got Geraniaceae\n",
      "Inga Expected Zygophyllaceae, got Fabaceae\n",
      "Silene Expected Gentianaceae, got Caryophyllaceae\n",
      "Asplenium Expected Thelypteridaceae, got Aspleniaceae\n",
      "Matthiola Expected Rubiaceae, got Brassicaceae\n",
      "Rhinanthus Expected Plantaginaceae, got Orobanchaceae\n",
      "Rhinanthus Expected Plantaginaceae, got Orobanchaceae\n",
      "Matthiola Expected Rubiaceae, got Brassicaceae\n",
      "Fagus Expected Nothofagaceae, got Fagaceae\n",
      "Ficus Expected Salicaceae, got Moraceae\n",
      "Quercus Expected Ulmaceae, got Fagaceae\n",
      "Carex Expected Poaceae, got Cyperaceae\n",
      "Brachypodium Expected Ptychomitriaceae, got Poaceae\n",
      "Trifolium Expected Oxalidaceae, got Fabaceae\n",
      "Atriplex Expected Basellaceae, got Amaranthaceae\n",
      "Juncus Expected Thurniaceae, got Juncaceae\n",
      "Campanula Expected Rubiaceae, got Campanulaceae\n",
      "Geranium Expected Neuradaceae, got Geraniaceae\n",
      "Geranium Expected Neuradaceae, got Geraniaceae\n",
      "Knautia Expected Caprifoliaceae, got Dipsacaceae\n",
      "Pimpinella Expected Rosaceae, got Apiaceae\n",
      "Trifolium Expected Oxalidaceae, got Fabaceae\n",
      "Veronica Expected Tetrachondraceae, got Plantaginaceae\n",
      "Stellaria Expected Plantaginaceae, got Caryophyllaceae\n",
      "Brosimum Expected Urticaceae, got Moraceae\n",
      "Inga Expected Zygophyllaceae, got Fabaceae\n",
      "Inga Expected Zygophyllaceae, got Fabaceae\n",
      "Licania Expected Combretaceae, got Chrysobalanacea\n",
      "Licania Expected Combretaceae, got Chrysobalanacea\n",
      "Licania Expected Combretaceae, got Chrysobalanacea\n",
      "Eugenia Expected Rubiaceae, got Myrtaceae\n",
      "Inga Expected Zygophyllaceae, got Fabaceae\n",
      "Adinandra Expected Sapotaceae, got Theaceae\n",
      "Dalbergia Expected Gesneriaceae, got Fagaceae\n",
      "Daphniphyllum Expected Phyllanthaceae, got Daphniphyllaceae\n",
      "Elaeocarpus Expected Putranjivaceae, got Elaeocarpaceae\n",
      "Lithocarpus Expected Styracaceae, got Fagaceae\n",
      "Loropetalum Expected Hamamelidaceae, got Hammamelidaceae\n",
      "Machilus Expected Sabiaceae, got Lauraceae\n",
      "Myrica Expected Tamaricaceae, got Myricaceae\n",
      "Neolitsea Expected Symplocaceae, got Lauraceae\n",
      "Pieris Expected Primulaceae, got Ericaceae\n",
      "Sapindus Expected Staphyleaceae, got Sapindaceae\n",
      "Syzygium Expected Rosaceae, got Myrtaceae\n",
      "Vaccinium Expected Schoepfiaceae, got Ericaceae\n",
      "Cinnamomum Expected Rhamnaceae, got Lauraceae\n",
      "Pieris Expected Primulaceae, got Ericaceae\n",
      "Ilex Expected Symplocaceae, got Aquifoliaceae\n",
      "Litsea Expected Symplocaceae, got Lauraceae\n",
      "Quercus Expected Ulmaceae, got Fagaceae\n",
      "Vaccinium Expected Schoepfiaceae, got Ericaceae\n"
     ]
    }
   ],
   "source": [
    "# GOT SO FREAKING MANY CONFLICTS BETWEEN GROOT AND THE WFO DATABASE\n",
    "\n",
    "for i in range(groot_taxonomy.shape[0]):\n",
    "    if pd.isnull(groot_taxonomy.loc[i, \"family\"]):\n",
    "        assert families.get(groot_taxonomy.loc[i, \"genus\"], False)\n",
    "        groot_taxonomy.loc[i, \"family\"] = families.get(groot_taxonomy.loc[i, \"genus\"])\n",
    "    else:\n",
    "        if groot_taxonomy.loc[i, \"family\"] != families.get(groot_taxonomy.loc[i, \"genus\"]):\n",
    "                print(f\"{groot_taxonomy.loc[i, \"genus\"]} Expected {families.get(groot_taxonomy.loc[i, \"genus\"])}, got {groot_taxonomy.loc[i, \"family\"]}\")"
   ]
  },
  {
   "cell_type": "code",
   "execution_count": 61,
   "id": "e39650b3-9d23-46a9-ab34-edcd85edcd55",
   "metadata": {},
   "outputs": [
    {
     "data": {
      "text/plain": [
       "7234"
      ]
     },
     "execution_count": 61,
     "metadata": {},
     "output_type": "execute_result"
    }
   ],
   "source": []
  },
  {
   "cell_type": "code",
   "execution_count": 3,
   "id": "47f22757-3241-4c88-91ed-fd7451b86891",
   "metadata": {},
   "outputs": [],
   "source": [
    "# let's see the csv compiled by WFO itself\n",
    "\n",
    "wfo_full = pd.read_csv(r\"./../classification.csv\", low_memory=False, encoding=\"latin\")"
   ]
  },
  {
   "cell_type": "code",
   "execution_count": 6,
   "id": "0b16f5e2-0f9b-42a1-8293-f2e6e18d6efd",
   "metadata": {},
   "outputs": [
    {
     "data": {
      "text/plain": [
       "Index(['taxonID', 'scientificNameID', 'localID', 'scientificName', 'taxonRank',\n",
       "       'parentNameUsageID', 'scientificNameAuthorship', 'family', 'subfamily',\n",
       "       'tribe', 'subtribe', 'genus', 'subgenus', 'specificEpithet',\n",
       "       'infraspecificEpithet', 'verbatimTaxonRank', 'nomenclaturalStatus',\n",
       "       'namePublishedIn', 'taxonomicStatus', 'acceptedNameUsageID',\n",
       "       'originalNameUsageID', 'nameAccordingToID', 'taxonRemarks', 'created',\n",
       "       'modified', 'references', 'source', 'majorGroup', 'tplID',\n",
       "       'speciesHybridMarker', 'infraspecificRank', 'originalID', 'old_t1id',\n",
       "       'tropicosId', 'references1.0', 'doNotProcess', 'doNotProcess_reason',\n",
       "       'OfficialFamily', 'comments', 'deprecated'],\n",
       "      dtype='object')"
      ]
     },
     "execution_count": 6,
     "metadata": {},
     "output_type": "execute_result"
    }
   ],
   "source": [
    "wfo_full.columns"
   ]
  },
  {
   "cell_type": "code",
   "execution_count": 9,
   "id": "60877f9b-cc46-4090-9f5b-b309e04cc6ab",
   "metadata": {},
   "outputs": [
    {
     "data": {
      "text/html": [
       "<div>\n",
       "<style scoped>\n",
       "    .dataframe tbody tr th:only-of-type {\n",
       "        vertical-align: middle;\n",
       "    }\n",
       "\n",
       "    .dataframe tbody tr th {\n",
       "        vertical-align: top;\n",
       "    }\n",
       "\n",
       "    .dataframe thead th {\n",
       "        text-align: right;\n",
       "    }\n",
       "</style>\n",
       "<table border=\"1\" class=\"dataframe\">\n",
       "  <thead>\n",
       "    <tr style=\"text-align: right;\">\n",
       "      <th></th>\n",
       "      <th>family</th>\n",
       "      <th>genus</th>\n",
       "      <th>specificEpithet</th>\n",
       "    </tr>\n",
       "  </thead>\n",
       "  <tbody>\n",
       "    <tr>\n",
       "      <th>0</th>\n",
       "      <td>Cyperaceae</td>\n",
       "      <td>Schoenoxiphium</td>\n",
       "      <td>ecklonii</td>\n",
       "    </tr>\n",
       "    <tr>\n",
       "      <th>1</th>\n",
       "      <td>Cyperaceae</td>\n",
       "      <td>Cyperus</td>\n",
       "      <td>violifolia</td>\n",
       "    </tr>\n",
       "    <tr>\n",
       "      <th>2</th>\n",
       "      <td>Cyperaceae</td>\n",
       "      <td>Carex</td>\n",
       "      <td>viridula</td>\n",
       "    </tr>\n",
       "    <tr>\n",
       "      <th>3</th>\n",
       "      <td>Cyperaceae</td>\n",
       "      <td>Mariscus</td>\n",
       "      <td>phleoides</td>\n",
       "    </tr>\n",
       "    <tr>\n",
       "      <th>4</th>\n",
       "      <td>Cyperaceae</td>\n",
       "      <td>Tetraria</td>\n",
       "      <td>compar</td>\n",
       "    </tr>\n",
       "    <tr>\n",
       "      <th>...</th>\n",
       "      <td>...</td>\n",
       "      <td>...</td>\n",
       "      <td>...</td>\n",
       "    </tr>\n",
       "    <tr>\n",
       "      <th>1704305</th>\n",
       "      <td>Brassicaceae</td>\n",
       "      <td>Cardamine</td>\n",
       "      <td>caesiella</td>\n",
       "    </tr>\n",
       "    <tr>\n",
       "      <th>1704306</th>\n",
       "      <td>Brassicaceae</td>\n",
       "      <td>Cardamine</td>\n",
       "      <td>chlorina</td>\n",
       "    </tr>\n",
       "    <tr>\n",
       "      <th>1704307</th>\n",
       "      <td>Brassicaceae</td>\n",
       "      <td>Sinalliaria</td>\n",
       "      <td>grandifolia</td>\n",
       "    </tr>\n",
       "    <tr>\n",
       "      <th>1704308</th>\n",
       "      <td>Brassicaceae</td>\n",
       "      <td>Ceratocnemum</td>\n",
       "      <td>mitabile</td>\n",
       "    </tr>\n",
       "    <tr>\n",
       "      <th>1704311</th>\n",
       "      <td>Cupressaceae</td>\n",
       "      <td>Parolinia</td>\n",
       "      <td>NaN</td>\n",
       "    </tr>\n",
       "  </tbody>\n",
       "</table>\n",
       "<p>1161998 rows × 3 columns</p>\n",
       "</div>"
      ],
      "text/plain": [
       "               family           genus specificEpithet\n",
       "0          Cyperaceae  Schoenoxiphium        ecklonii\n",
       "1          Cyperaceae         Cyperus      violifolia\n",
       "2          Cyperaceae           Carex        viridula\n",
       "3          Cyperaceae        Mariscus       phleoides\n",
       "4          Cyperaceae        Tetraria          compar\n",
       "...               ...             ...             ...\n",
       "1704305  Brassicaceae       Cardamine       caesiella\n",
       "1704306  Brassicaceae       Cardamine        chlorina\n",
       "1704307  Brassicaceae     Sinalliaria     grandifolia\n",
       "1704308  Brassicaceae    Ceratocnemum        mitabile\n",
       "1704311  Cupressaceae       Parolinia             NaN\n",
       "\n",
       "[1161998 rows x 3 columns]"
      ]
     },
     "execution_count": 9,
     "metadata": {},
     "output_type": "execute_result"
    }
   ],
   "source": [
    "wfo_full.loc[:, [\"family\", \"genus\", \"specificEpithet\"]].drop_duplicates()"
   ]
  },
  {
   "cell_type": "code",
   "execution_count": 12,
   "id": "514ef4dc-4028-4c61-b58c-7500dc7e3f12",
   "metadata": {},
   "outputs": [
    {
     "data": {
      "text/plain": [
       "family    19093\n",
       "genus      5622\n",
       "dtype: int64"
      ]
     },
     "execution_count": 12,
     "metadata": {},
     "output_type": "execute_result"
    }
   ],
   "source": [
    "wfo_full.loc[:, [\"family\", \"genus\"]].isna().sum()"
   ]
  },
  {
   "cell_type": "code",
   "execution_count": 15,
   "id": "aba1b279-cad3-4446-bd5c-8484752c2322",
   "metadata": {},
   "outputs": [],
   "source": [
    "temp_wfo_full = wfo_full.loc[:, [\"family\", \"genus\"]].dropna().drop_duplicates().reset_index(drop=True)\n",
    "wfo_full = pd.Series(index=temp_wfo_full.genus.values, data=temp_wfo_full.family.values)"
   ]
  },
  {
   "cell_type": "code",
   "execution_count": 17,
   "id": "138fd309-ff74-47e7-9fca-6f95c7118856",
   "metadata": {},
   "outputs": [
    {
     "data": {
      "text/plain": [
       "Cannabis    Cannabaceae\n",
       "Cannabis     Urticaceae\n",
       "dtype: object"
      ]
     },
     "execution_count": 17,
     "metadata": {},
     "output_type": "execute_result"
    }
   ],
   "source": [
    "# \n",
    "wfo_full[\"Cannabis\"]"
   ]
  }
 ],
 "metadata": {
  "kernelspec": {
   "display_name": "Python 3 (ipykernel)",
   "language": "python",
   "name": "python3"
  },
  "language_info": {
   "codemirror_mode": {
    "name": "ipython",
    "version": 3
   },
   "file_extension": ".py",
   "mimetype": "text/x-python",
   "name": "python",
   "nbconvert_exporter": "python",
   "pygments_lexer": "ipython3",
   "version": "3.12.9"
  }
 },
 "nbformat": 4,
 "nbformat_minor": 5
}

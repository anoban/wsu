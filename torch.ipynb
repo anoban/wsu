{
 "cells": [
  {
   "cell_type": "code",
   "execution_count": 45,
   "id": "0d50152d-db37-4d02-8f94-07cfde244f06",
   "metadata": {},
   "outputs": [],
   "source": [
    "import platform\n",
    "import os\n",
    "from typing import override\n",
    "\n",
    "import torch\n",
    "import numpy as np\n",
    "from numpy.typing import NDArray\n",
    "import matplotlib.pyplot as plt"
   ]
  },
  {
   "cell_type": "code",
   "execution_count": 14,
   "id": "00a43bb3-9d28-46d8-b784-560514d49ac1",
   "metadata": {},
   "outputs": [
    {
     "data": {
      "text/plain": [
       "('WSLDFCB344', 'WSLDFCB344')"
      ]
     },
     "execution_count": 14,
     "metadata": {},
     "output_type": "execute_result"
    }
   ],
   "source": [
    "os.environ[\"COMPUTERNAME\"], platform.node()"
   ]
  },
  {
   "cell_type": "code",
   "execution_count": 15,
   "id": "9eb68706-5d41-4437-ad46-d8eae1c4594a",
   "metadata": {},
   "outputs": [
    {
     "data": {
      "text/plain": [
       "('Windows', 'Intel64 Family 6 Model 170 Stepping 4, GenuineIntel')"
      ]
     },
     "execution_count": 15,
     "metadata": {},
     "output_type": "execute_result"
    }
   ],
   "source": [
    "platform.system(), platform.processor()"
   ]
  },
  {
   "cell_type": "code",
   "execution_count": 22,
   "id": "50060eba-87d6-4039-aa28-9ae3ac583ae3",
   "metadata": {},
   "outputs": [
    {
     "name": "stdout",
     "output_type": "stream",
     "text": [
      "CUDA is not available on WSLDFCB344!\n"
     ]
    }
   ],
   "source": [
    "try:\n",
    "    print(os.environ[\"CUDA_PATH\"])\n",
    "except KeyError:\n",
    "    print(f\"CUDA is not available on {os.environ[\"COMPUTERNAME\"]}!\")"
   ]
  },
  {
   "cell_type": "code",
   "execution_count": null,
   "id": "cb338560-9ef0-42c5-b5f3-d7b5f34a1f5e",
   "metadata": {},
   "outputs": [],
   "source": []
  },
  {
   "cell_type": "code",
   "execution_count": 128,
   "id": "e6d60925-53e3-483e-8299-3b96d9806146",
   "metadata": {},
   "outputs": [
    {
     "data": {
      "text/plain": [
       "['C:\\\\Program Files\\\\PowerShell\\\\7',\n",
       " 'C:\\\\Program Files\\\\Python313\\\\Scripts\\\\',\n",
       " 'C:\\\\Program Files\\\\Python313\\\\',\n",
       " 'C:\\\\WINDOWS\\\\system32',\n",
       " 'C:\\\\WINDOWS',\n",
       " 'C:\\\\WINDOWS\\\\System32\\\\Wbem',\n",
       " 'C:\\\\WINDOWS\\\\System32\\\\WindowsPowerShell\\\\v1.0\\\\',\n",
       " 'C:\\\\WINDOWS\\\\System32\\\\OpenSSH\\\\',\n",
       " 'C:\\\\Program Files\\\\Microsoft VS Code\\\\bin',\n",
       " 'C:\\\\Program Files\\\\PowerShell\\\\7\\\\',\n",
       " 'C:\\\\Users\\\\90963425\\\\AppData\\\\Local\\\\Microsoft\\\\WindowsApps']"
      ]
     },
     "execution_count": 128,
     "metadata": {},
     "output_type": "execute_result"
    }
   ],
   "source": [
    "os.environ.get(\"PATH\").split(';')"
   ]
  },
  {
   "cell_type": "code",
   "execution_count": null,
   "id": "42c691c2-304e-44c8-ba71-46afcfba3087",
   "metadata": {},
   "outputs": [],
   "source": []
  },
  {
   "cell_type": "code",
   "execution_count": 3,
   "id": "414db19d-5ac8-4f9a-bd8e-8e4f2b25bcdd",
   "metadata": {},
   "outputs": [
    {
     "data": {
      "text/plain": [
       "['t10k-images-idx3-ubyte',\n",
       " 't10k-labels-idx1-ubyte',\n",
       " 'train-images-idx3-ubyte',\n",
       " 'train-labels-idx1-ubyte']"
      ]
     },
     "execution_count": 3,
     "metadata": {},
     "output_type": "execute_result"
    }
   ],
   "source": [
    "os.listdir(r\"./FashionMNIST/\")"
   ]
  },
  {
   "cell_type": "code",
   "execution_count": null,
   "id": "97d34a2b-8774-48f5-9bdb-fdc27204e4a1",
   "metadata": {},
   "outputs": [],
   "source": []
  },
  {
   "cell_type": "code",
   "execution_count": null,
   "id": "2ecfb366-7e41-42bb-b535-eca06b9c700b",
   "metadata": {},
   "outputs": [],
   "source": []
  },
  {
   "cell_type": "code",
   "execution_count": 40,
   "id": "390cf197-ce51-42c5-8ef2-40c793b6e8e0",
   "metadata": {},
   "outputs": [],
   "source": [
    "class Idx1:\n",
    "    \"\"\"\n",
    "    A minimal class to handle IO operations using idx1 files\n",
    "\n",
    "    IDX1 file format:\n",
    "    [offset] [type]          [value]          [description]\n",
    "    0000     32 bit integer  0x00000801(2049) magic number (MSB first)\n",
    "    0004     32 bit integer  10000            number of items\n",
    "    0008     unsigned byte   ??               label\n",
    "    0009     unsigned byte   ??               label\n",
    "    ........\n",
    "    xxxx     unsigned byte   ??               label\n",
    "    \"\"\"\n",
    "\n",
    "    def __init__(self, filepath: str) -> None:\n",
    "        \"\"\"\n",
    "        `Parameters`:\n",
    "        filepath: str - path to unzipped idx1 resource\n",
    "\n",
    "        `Returns`:\n",
    "        None\n",
    "\n",
    "        `Notes`:\n",
    "        Depends on NumPy\n",
    "        \"\"\"\n",
    "\n",
    "        try:\n",
    "            with open(file=filepath, mode=\"rb\") as fp:  # let open() handle IO errors.\n",
    "                tmp: NDArray[np.uint8] = np.fromfile(fp, dtype=np.uint8)  # private\n",
    "        except FileNotFoundError as fnf_error:\n",
    "            raise RuntimeError(f\"\") from fnf_error\n",
    "\n",
    "        self.magic: int = int.from_bytes(tmp[:4], byteorder=\"big\")  # idx magic number\n",
    "        self.count: int = int.from_bytes(tmp[4:8], byteorder=\"big\")  # count of the data elements (labels)\n",
    "\n",
    "        # assert self.count == tmp.size - 8, \"There seems to be a parsing error or the binary file is corrupted!\"\n",
    "        # the actual data\n",
    "        # type casting the data from np.uint8 to np.float64 since np.exp() raises FloatingPointError with np.uint8 arrays\n",
    "        self.data: NDArray[np.float64] = tmp[8:].astype(np.float64)\n",
    "        # get rid of the original data\n",
    "        del tmp\n",
    "\n",
    "    @override\n",
    "    def __repr__(self) -> str:\n",
    "        return f\"Idx1 object (magic: {self.magic}, count: {self.count:,})\"\n",
    "\n",
    "    @override\n",
    "    def __len__(self) -> int:\n",
    "        return self.count\n",
    "        \n",
    "    def __getitem__(self, index: int) -> np.float64:  #\n",
    "        \"\"\"\n",
    "        `Parameters`:\n",
    "        index: int - offset of the element to return from the labels array.\n",
    "\n",
    "        `Returns`:\n",
    "        np.float64 - the index th element in the labels array\n",
    "\n",
    "        `Notes`:\n",
    "        IndexErrors are left for NumPy to handle.\n",
    "        \"\"\"\n",
    "\n",
    "        return self.data[index]\n",
    "\n",
    "    def __setitem__(self, index: int) -> None:\n",
    "        raise PermissionError(\"Idx1 objects are immutable!\")"
   ]
  },
  {
   "cell_type": "code",
   "execution_count": 49,
   "id": "0676eec4-bbde-46a9-bdd6-2132f9e06a33",
   "metadata": {},
   "outputs": [],
   "source": [
    "train_y = Idx1(r\"./FashionMNIST/train-labels-idx1-ubyte\")"
   ]
  },
  {
   "cell_type": "code",
   "execution_count": 50,
   "id": "7841c4ce-f310-4912-9319-cc1c37a4a568",
   "metadata": {},
   "outputs": [
    {
     "data": {
      "text/plain": [
       "60000"
      ]
     },
     "execution_count": 50,
     "metadata": {},
     "output_type": "execute_result"
    }
   ],
   "source": [
    "len(train_y)"
   ]
  },
  {
   "cell_type": "code",
   "execution_count": 51,
   "id": "0f5eff65-b767-4a84-9eeb-34ef47988357",
   "metadata": {},
   "outputs": [
    {
     "data": {
      "text/plain": [
       "np.float64(9.0)"
      ]
     },
     "execution_count": 51,
     "metadata": {},
     "output_type": "execute_result"
    }
   ],
   "source": [
    "train_y[0]"
   ]
  },
  {
   "cell_type": "code",
   "execution_count": 102,
   "id": "bf8252eb-b241-4f2f-ae85-f599a84ad7a4",
   "metadata": {},
   "outputs": [],
   "source": [
    "class Idx3:\n",
    "    \"\"\"\n",
    "    A minimal class to handle IO operations using idx3 files\n",
    "\n",
    "    IDX3 file format:\n",
    "    [offset] [type]          [value]          [description]\n",
    "    0000     32 bit integer  0x00000803(2051) magic number\n",
    "    0004     32 bit integer  10000            number of images\n",
    "    0008     32 bit integer  28               number of rows\n",
    "    0012     32 bit integer  28               number of columns\n",
    "    0016     unsigned byte   ??               pixel\n",
    "    0017     unsigned byte   ??               pixel\n",
    "    ........\n",
    "    xxxx     unsigned byte   ??               pixel\n",
    "    \"\"\"\n",
    "\n",
    "    def __init__(self, filepath: str) -> None:\n",
    "        \"\"\"\n",
    "        `Parameters`:\n",
    "        filepath: str - path to unzipped idx3 resource\n",
    "\n",
    "        `Returns`:\n",
    "        None\n",
    "\n",
    "        `Notes`:\n",
    "        Depends on NumPy\n",
    "        \"\"\"\n",
    "\n",
    "        with open(file=filepath, mode=\"rb\") as fp:\n",
    "            tmp: NDArray[np.uint8] = np.fromfile(fp, dtype=np.uint8)  # private\n",
    "\n",
    "        self.magic: int = int.from_bytes(tmp[:4], byteorder=\"big\")  # idx magic number\n",
    "        self.count: int = int.from_bytes(tmp[4:8], byteorder=\"big\")  # count of the data elements (images)\n",
    "\n",
    "        # shape is shape of each element NOT the shape of the overall data\n",
    "        self.shape: tuple[int, int] = (int.from_bytes(tmp[8:12], byteorder=\"big\"), int.from_bytes(tmp[12:16], byteorder=\"big\"))\n",
    "\n",
    "        # supposed to be 28 x 28 for MNIST inspired datasets.\n",
    "        self.__ppimage: int = self.shape[0] * self.shape[1]  # pixels per image (28 x 28)\n",
    "        assert (self.count * self.__ppimage) == (tmp.size - 16), \"There seems to be a parsing error or the binary file is corrupted!\"\n",
    "\n",
    "        # the actual data\n",
    "        # idx3 file stores data as bytes but we'll load in each byte as a 64 bit double\n",
    "        # because np.exp() raises a FloatingPointError with np.uint8 type arrays\n",
    "        self.data: NDArray[np.float64] = tmp[16:].reshape(self.count, self.__ppimage).T.astype(np.float64)\n",
    "        del tmp  # don't need this anymore.\n",
    "\n",
    "    @override\n",
    "    def __repr__(self) -> str:\n",
    "        return f\"Idx3 object (magic: {self.magic}, shape: {self.shape}, count: {self.count:,})\"\n",
    "\n",
    "    @override\n",
    "    def __len__(self) -> int:\n",
    "        return self.count\n",
    "        \n",
    "    def __getitem__(self, index: int) -> NDArray[np.float64]:\n",
    "        \"\"\"\n",
    "        `Parameters`:\n",
    "        index: int - the column to return from the matrix.\n",
    "\n",
    "        `Returns`:\n",
    "        NDArray[np.float64] - all pixels of index th image, i.e returns the index th column of the transposed matrix\n",
    "\n",
    "        `Notes`:\n",
    "        IndexErrors are left for NumPy to handle.\n",
    "        \"\"\"\n",
    "\n",
    "        return self.data[:, index]\n",
    "\n",
    "    def __setitem__(self, index: int) -> None:\n",
    "        raise PermissionError(\"Idx3 objects are immutable!\")"
   ]
  },
  {
   "cell_type": "code",
   "execution_count": null,
   "id": "cb8703b5-10de-4021-a585-11ed944b4a53",
   "metadata": {},
   "outputs": [],
   "source": []
  },
  {
   "cell_type": "code",
   "execution_count": 103,
   "id": "af06fa26-bc6a-41f4-985e-bc585b986cfb",
   "metadata": {},
   "outputs": [],
   "source": [
    "train_x = Idx3(r\"./FashionMNIST/train-images-idx3-ubyte\")"
   ]
  },
  {
   "cell_type": "code",
   "execution_count": 125,
   "id": "7e210e64-14f3-4a31-8193-673b2dc4e1a7",
   "metadata": {},
   "outputs": [
    {
     "data": {
      "image/png": "[encoded data removed]",
      "text/plain": [
       "<Figure size 2000x500 with 10 Axes>"
      ]
     },
     "metadata": {},
     "output_type": "display_data"
    }
   ],
   "source": [
    "fig, axes = plt.subplots(ncols=10, sharey=True)\n",
    "fig.set_size_inches(20, 5)\n",
    "[axis.imshow(train_x[np.random.randint(low=0, high=len(train_x))].reshape(28, 28), cmap=\"gist_yarg\") for axis in axes]\n",
    "plt.show()"
   ]
  },
  {
   "cell_type": "code",
   "execution_count": null,
   "id": "2eb3e731-778c-4330-806c-1e2cd87b1676",
   "metadata": {},
   "outputs": [],
   "source": []
  }
 ],
 "metadata": {
  "kernelspec": {
   "display_name": "Python 3 (ipykernel)",
   "language": "python",
   "name": "python3"
  },
  "language_info": {
   "codemirror_mode": {
    "name": "ipython",
    "version": 3
   },
   "file_extension": ".py",
   "mimetype": "text/x-python",
   "name": "python",
   "nbconvert_exporter": "python",
   "pygments_lexer": "ipython3",
   "version": "3.13.4"
  }
 },
 "nbformat": 4,
 "nbformat_minor": 5
}

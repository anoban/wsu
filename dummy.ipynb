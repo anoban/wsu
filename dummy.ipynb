{
 "cells": [
  {
   "cell_type": "code",
   "execution_count": 35,
   "id": "f7bea30d-5f44-4fb1-a04e-5007b2fed0ce",
   "metadata": {},
   "outputs": [],
   "source": [
    "from urllib.request import (urlopen, Request)\n",
    "from bs4 import BeautifulSoup\n",
    "import re\n",
    "from random import randint"
   ]
  },
  {
   "cell_type": "code",
   "execution_count": 31,
   "id": "abf2fd2b-dc65-4b27-8e21-1ac129695794",
   "metadata": {},
   "outputs": [],
   "source": [
    "WALLPAPERSWIDE_BASE_URL: str = r\"https://wallpaperswide.com\""
   ]
  },
  {
   "cell_type": "code",
   "execution_count": 126,
   "id": "b16b755c-5fcd-40bb-9c93-820ceab8268e",
   "metadata": {},
   "outputs": [],
   "source": [
    "# Download Cute Kitten Close-up 16:9 5120 x 2880 5K UHD Wallpaper for 2880p Ultra HD Desktop &amp; TV display\n",
    "# _RES_16_ISTO_09 = re.compile(r\"[ \\w\\d\\:\\&\\;\\-\\_]*16:9\", flags=re.IGNORECASE)\n",
    "_RES_16_ISTO_09 = re.compile(r\"(\\?*16:9)\", flags=re.IGNORECASE)"
   ]
  },
  {
   "cell_type": "code",
   "execution_count": 128,
   "id": "0e2727db-1a57-4bdd-a368-ea534edc7b84",
   "metadata": {},
   "outputs": [],
   "source": [
    "_RES_16_ISTO_09.match(\"Download Cute_Kitten Close-up 16:9 5120 x 2880 5K UHD Wallpaper for 2880p Ultra HD Desktop &amp; TV display\")"
   ]
  },
  {
   "cell_type": "code",
   "execution_count": null,
   "id": "3acc8689-759e-4ad0-9c94-e08757cba21c",
   "metadata": {},
   "outputs": [],
   "source": []
  },
  {
   "cell_type": "code",
   "execution_count": null,
   "id": "4f4a24d8-ed23-4c0e-bd34-015414962539",
   "metadata": {},
   "outputs": [],
   "source": []
  },
  {
   "cell_type": "code",
   "execution_count": null,
   "id": "febbdd80-17d4-401e-af4e-28a7357213c0",
   "metadata": {},
   "outputs": [],
   "source": []
  },
  {
   "cell_type": "code",
   "execution_count": null,
   "id": "a3be196b-f717-4d2d-9d08-a9bb5a3a93e4",
   "metadata": {},
   "outputs": [],
   "source": []
  },
  {
   "cell_type": "code",
   "execution_count": 2,
   "id": "9c99d3d6-8f3c-485a-b9f4-075e61449197",
   "metadata": {},
   "outputs": [],
   "source": [
    "with urlopen(url=r\"https://wallpaperswide.com/animals-desktop-wallpapers.html\") as req:\n",
    "    text = req.read()"
   ]
  },
  {
   "cell_type": "code",
   "execution_count": 5,
   "id": "126e0bc7-8d80-4f5a-b942-bddba86a47bf",
   "metadata": {},
   "outputs": [],
   "source": [
    "soup = BeautifulSoup(text, \"html.parser\")"
   ]
  },
  {
   "cell_type": "code",
   "execution_count": 8,
   "id": "21e86e98-062c-42a3-bb5c-2cf23b92d643",
   "metadata": {},
   "outputs": [],
   "source": [
    "thumbnail_grid = soup.find(\"ul\", attrs={\"class\": \"wallpapers\"})"
   ]
  },
  {
   "cell_type": "code",
   "execution_count": 13,
   "id": "fa115c14-9085-4660-b786-5ce56012b4ca",
   "metadata": {},
   "outputs": [],
   "source": [
    "first = thumbnail_grid.find_all(\"li\", attrs={\"class\": \"wall\"})[0]"
   ]
  },
  {
   "cell_type": "code",
   "execution_count": 16,
   "id": "29cd4ccc-acd4-485a-91c5-9430bda4b294",
   "metadata": {},
   "outputs": [],
   "source": [
    "thumb = first.find(\"div\", attrs={\"class\": \"thumb\"})"
   ]
  },
  {
   "cell_type": "code",
   "execution_count": 19,
   "id": "db621790-e8ce-4d2e-bb18-f03cb1a7187b",
   "metadata": {},
   "outputs": [],
   "source": [
    "page_link_div = thumb.find(\"div\", attrs={\"align\": \"center\", \"class\": \"mini-hud\", \"id\": \"hudtitle\"})"
   ]
  },
  {
   "cell_type": "code",
   "execution_count": 26,
   "id": "18710312-4ffb-4efd-8363-f522b6b04fbe",
   "metadata": {},
   "outputs": [],
   "source": [
    "image_download_page_uri = page_link_div.find(\"a\").get(\"href\", None)"
   ]
  },
  {
   "cell_type": "code",
   "execution_count": 28,
   "id": "0c5fe174-f039-4ed6-81db-8405d623fce4",
   "metadata": {},
   "outputs": [
    {
     "data": {
      "text/plain": [
       "'/cute_kitten_close_up-wallpapers.html'"
      ]
     },
     "execution_count": 28,
     "metadata": {},
     "output_type": "execute_result"
    }
   ],
   "source": [
    "image_download_page_uri"
   ]
  },
  {
   "cell_type": "code",
   "execution_count": 32,
   "id": "4289479b-cbc5-469b-9908-2bc05b26df4d",
   "metadata": {},
   "outputs": [
    {
     "data": {
      "text/plain": [
       "'https://wallpaperswide.com/cute_kitten_close_up-wallpapers.html'"
      ]
     },
     "execution_count": 32,
     "metadata": {},
     "output_type": "execute_result"
    }
   ],
   "source": [
    "WALLPAPERSWIDE_BASE_URL + image_download_page_uri"
   ]
  },
  {
   "cell_type": "code",
   "execution_count": null,
   "id": "aa05e475-3eb9-4030-9d78-551af36c41b7",
   "metadata": {},
   "outputs": [],
   "source": []
  },
  {
   "cell_type": "code",
   "execution_count": 55,
   "id": "234a6ead-d403-47b3-90c3-4b5567c9f04e",
   "metadata": {},
   "outputs": [
    {
     "data": {
      "text/plain": [
       "4"
      ]
     },
     "execution_count": 55,
     "metadata": {},
     "output_type": "execute_result"
    }
   ],
   "source": [
    "# sleeps\n",
    "randint(1, 10)"
   ]
  },
  {
   "cell_type": "code",
   "execution_count": 33,
   "id": "6eb64c2f-864f-4ae9-bf7f-610b2b611c4e",
   "metadata": {},
   "outputs": [],
   "source": [
    "with urlopen(url=WALLPAPERSWIDE_BASE_URL + image_download_page_uri) as req:\n",
    "    download_page = req.read()"
   ]
  },
  {
   "cell_type": "code",
   "execution_count": 56,
   "id": "677afa6a-a819-4642-93cc-bda03b1cf202",
   "metadata": {},
   "outputs": [],
   "source": [
    "download_page = BeautifulSoup(download_page, \"html.parser\")"
   ]
  },
  {
   "cell_type": "code",
   "execution_count": 58,
   "id": "2fbeb39f-4eef-415f-9017-7aa02f04ceed",
   "metadata": {},
   "outputs": [],
   "source": [
    "# write a function that extracts the link for the highest resolution in the 16:9 or 16:10 categories\n",
    "# 16:10 prefferred\n",
    "\n",
    "link_grid = download_page.find(\"div\", attrs={\"class\": \"wallpaper-resolutions\", \"id\": \"wallpaper-resolutions\"})"
   ]
  },
  {
   "cell_type": "code",
   "execution_count": 69,
   "id": "8bc6ba5d-97f7-46c5-bbae-55ed50ed656e",
   "metadata": {},
   "outputs": [
    {
     "data": {
      "text/plain": [
       "[<h3>UHD 16:9</h3>,\n",
       " <h3>HD 16:9</h3>,\n",
       " <h3>UltraWide 21:9</h3>,\n",
       " <h3>UltraWide 24:10</h3>,\n",
       " <h3>UltraWide 32:9</h3>,\n",
       " <h3>UltraWide 32:10</h3>,\n",
       " <h3>Widescreen 16:10</h3>,\n",
       " <h3>Widescreen 5:3</h3>,\n",
       " <h3>Fullscreen 5:4</h3>,\n",
       " <h3>Fullscreen 3:2</h3>,\n",
       " <h3>Tablet 1:1</h3>,\n",
       " <h3>2X Widescreen 16:10</h3>,\n",
       " <h3>2X Widescreen 5:3</h3>,\n",
       " <h3>2X HD 16:9</h3>,\n",
       " <h3>2X UHD 16:9</h3>,\n",
       " <h3>2X Fullscreen 4:3</h3>,\n",
       " <h3>2X Fullscreen 5:4</h3>,\n",
       " <h3>2X Fullscreen 3:2</h3>]"
      ]
     },
     "execution_count": 69,
     "metadata": {},
     "output_type": "execute_result"
    }
   ],
   "source": [
    "link_grid.find_all(\"h3\")"
   ]
  },
  {
   "cell_type": "code",
   "execution_count": 70,
   "id": "b8ef9d6c-8579-4c70-ab34-bcb8243f8b23",
   "metadata": {},
   "outputs": [
    {
     "data": {
      "text/plain": [
       "<div class=\"wallpaper-resolutions\" id=\"wallpaper-resolutions\">\n",
       "<h3>UHD 16:9</h3><em class=\"ui-icon ui-icon-triangle-1-e\"></em> <a href=\"/download/cute_kitten_close_up-wallpaper-3840x2160.jpg\" target=\"_self\" title=\"Download Cute Kitten Close-up 16:9 3840 x 2160 4K UHD Wallpaper for 2160p Ultra HD Desktop &amp; TV display\">3840x2160</a>\n",
       "<a href=\"/download/cute_kitten_close_up-wallpaper-5120x2880.jpg\" target=\"_self\" title=\"Download Cute Kitten Close-up 16:9 5120 x 2880 5K UHD Wallpaper for 2880p Ultra HD Desktop &amp; TV display\">5120x2880</a>\n",
       "<a href=\"/download/cute_kitten_close_up-wallpaper-7680x4320.jpg\" target=\"_self\" title=\"Download Cute Kitten Close-up 16:9 7680 x 4320 8K UHD Wallpaper for 4320p Ultra HD Desktop &amp; TV display\">7680x4320</a>\n",
       "<br clear=\"all\"/> <h3>HD 16:9</h3><em class=\"ui-icon ui-icon-triangle-1-e\"></em> <a href=\"/download/cute_kitten_close_up-wallpaper-960x540.jpg\" target=\"_self\" title=\"Download Cute Kitten Close-up 16:9 960 x 540 Wallpaper\">960x540</a>\n",
       "<a href=\"/download/cute_kitten_close_up-wallpaper-1024x576.jpg\" target=\"_self\" title=\"Download Cute Kitten Close-up 16:9 1024 x 576 Wallpaper\">1024x576</a>\n",
       "<a href=\"/download/cute_kitten_close_up-wallpaper-1280x720.jpg\" target=\"_self\" title=\"Download Cute Kitten Close-up 16:9 1280 x 720 HD Wallpaper for 720p High Definition Desktop &amp; TV display\">1280x720</a>\n",
       "<a href=\"/download/cute_kitten_close_up-wallpaper-1366x768.jpg\" target=\"_self\" title=\"Download Cute Kitten Close-up 16:9 1366 x 768 HD Wallpaper\">1366x768</a>\n",
       "<a href=\"/download/cute_kitten_close_up-wallpaper-1600x900.jpg\" target=\"_self\" title=\"Download Cute Kitten Close-up 16:9 1600 x 900 HD Wallpaper\">1600x900</a>\n",
       "<a href=\"/download/cute_kitten_close_up-wallpaper-1920x1080.jpg\" target=\"_self\" title=\"Download Cute Kitten Close-up 16:9 1920 x 1080 HD Wallpaper for 1080p FHD Full HD Desktop &amp; TV display\">1920x1080</a>\n",
       "<a href=\"/download/cute_kitten_close_up-wallpaper-2048x1152.jpg\" target=\"_self\" title=\"Download Cute Kitten Close-up 16:9 2048 x 1152 HD Wallpaper\">2048x1152</a>\n",
       "<a href=\"/download/cute_kitten_close_up-wallpaper-2400x1350.jpg\" target=\"_self\" title=\"Download Cute Kitten Close-up 16:9 2400 x 1350 HD Wallpaper\">2400x1350</a>\n",
       "<a href=\"/download/cute_kitten_close_up-wallpaper-2560x1440.jpg\" target=\"_self\" title=\"Download Cute Kitten Close-up 16:9 2560 x 1440 HD Wallpaper for 1440p QHD Quad HD Desktop &amp; TV display\">2560x1440</a>\n",
       "<a href=\"/download/cute_kitten_close_up-wallpaper-2880x1620.jpg\" target=\"_self\" title=\"Download Cute Kitten Close-up 16:9 2880 x 1620 HD Wallpaper\">2880x1620</a>\n",
       "<a href=\"/download/cute_kitten_close_up-wallpaper-3554x1999.jpg\" target=\"_self\" title=\"Download Cute Kitten Close-up 16:9 3554 x 1999 HD Wallpaper\">3554x1999</a>\n",
       "<br clear=\"all\"/> <h3>UltraWide 21:9</h3><em class=\"ui-icon ui-icon-triangle-1-e\"></em> <a href=\"/download/cute_kitten_close_up-wallpaper-2560x1080.jpg\" target=\"_self\" title=\"Download Cute Kitten Close-up  21:9 2560 x 1080 UltraWide HD Wallpaper\">2560x1080</a>\n",
       "<a href=\"/download/cute_kitten_close_up-wallpaper-3440x1440.jpg\" target=\"_self\" title=\"Download Cute Kitten Close-up  21:9 3440 x 1440 UltraWide HD Wallpaper\">3440x1440</a>\n",
       "<a href=\"/download/cute_kitten_close_up-wallpaper-5120x2160.jpg\" target=\"_self\" title=\"Download Cute Kitten Close-up  21:9 5120 x 2160 UltraWide 5K UHD Wallpaper\">5120x2160</a>\n",
       "<a href=\"/download/cute_kitten_close_up-wallpaper-6880x2880.jpg\" target=\"_self\" title=\"Download Cute Kitten Close-up  21:9 6880 x 2880 UltraWide UHD Wallpaper\">6880x2880</a>\n",
       "<br clear=\"all\"/> <h3>UltraWide 24:10</h3><em class=\"ui-icon ui-icon-triangle-1-e\"></em> <a href=\"/download/cute_kitten_close_up-wallpaper-2880x1200.jpg\" target=\"_self\" title=\"Download Cute Kitten Close-up  24:10 2880 x 1200 UltraWide HD Wallpaper\">2880x1200</a>\n",
       "<a href=\"/download/cute_kitten_close_up-wallpaper-3840x1600.jpg\" target=\"_self\" title=\"Download Cute Kitten Close-up  24:10 3840 x 1600 UltraWide 4K UHD Wallpaper\">3840x1600</a>\n",
       "<a href=\"/download/cute_kitten_close_up-wallpaper-4320x1800.jpg\" target=\"_self\" title=\"Download Cute Kitten Close-up  24:10 4320 x 1800 UltraWide UHD Wallpaper\">4320x1800</a>\n",
       "<a href=\"/download/cute_kitten_close_up-wallpaper-5760x2400.jpg\" target=\"_self\" title=\"Download Cute Kitten Close-up  24:10 5760 x 2400 UltraWide UHD Wallpaper\">5760x2400</a>\n",
       "<a href=\"/download/cute_kitten_close_up-wallpaper-7680x3200.jpg\" target=\"_self\" title=\"Download Cute Kitten Close-up  24:10 7680 x 3200 UltraWide 8K UHD Wallpaper\">7680x3200</a>\n",
       "<br clear=\"all\"/> <h3>UltraWide 32:9</h3><em class=\"ui-icon ui-icon-triangle-1-e\"></em> <a href=\"/download/cute_kitten_close_up-wallpaper-3840x1080.jpg\" target=\"_self\" title=\"Download Cute Kitten Close-up  32:9 3840 x 1080 UltraWide 4K UHD Wallpaper\">3840x1080</a>\n",
       "<a href=\"/download/cute_kitten_close_up-wallpaper-5120x1440.jpg\" target=\"_self\" title=\"Download Cute Kitten Close-up  32:9 5120 x 1440 UltraWide 5K UHD Wallpaper\">5120x1440</a>\n",
       "<a href=\"/download/cute_kitten_close_up-wallpaper-7680x2160.jpg\" target=\"_self\" title=\"Download Cute Kitten Close-up  32:9 7680 x 2160 UltraWide 8K UHD Wallpaper\">7680x2160</a>\n",
       "<br clear=\"all\"/> <h3>UltraWide 32:10</h3><em class=\"ui-icon ui-icon-triangle-1-e\"></em> <a href=\"/download/cute_kitten_close_up-wallpaper-2880x900.jpg\" target=\"_self\" title=\"Download Cute Kitten Close-up  32:10 2880 x 900 UltraWide HD Wallpaper\">2880x900</a>\n",
       "<a href=\"/download/cute_kitten_close_up-wallpaper-3840x1200.jpg\" target=\"_self\" title=\"Download Cute Kitten Close-up  32:10 3840 x 1200 UltraWide 4K UHD Wallpaper\">3840x1200</a>\n",
       "<a href=\"/download/cute_kitten_close_up-wallpaper-5120x1600.jpg\" target=\"_self\" title=\"Download Cute Kitten Close-up  32:10 5120 x 1600 UltraWide 5K UHD Wallpaper\">5120x1600</a>\n",
       "<a href=\"/download/cute_kitten_close_up-wallpaper-5760x1800.jpg\" target=\"_self\" title=\"Download Cute Kitten Close-up  32:10 5760 x 1800 UltraWide UHD Wallpaper\">5760x1800</a>\n",
       "<a href=\"/download/cute_kitten_close_up-wallpaper-7680x2400.jpg\" target=\"_self\" title=\"Download Cute Kitten Close-up  32:10 7680 x 2400 UltraWide 8K UHD Wallpaper\">7680x2400</a>\n",
       "<br clear=\"all\"/> <h3>Widescreen 16:10</h3><em class=\"ui-icon ui-icon-triangle-1-e\"></em> <a href=\"/download/cute_kitten_close_up-wallpaper-960x600.jpg\" target=\"_self\" title=\"Download Cute Kitten Close-up 16:10 960 x 600 Widescreen Wallpaper\">960x600</a>\n",
       "<a href=\"/download/cute_kitten_close_up-wallpaper-1152x720.jpg\" target=\"_self\" title=\"Download Cute Kitten Close-up 16:10 1152 x 720 Widescreen Wallpaper\">1152x720</a>\n",
       "<a href=\"/download/cute_kitten_close_up-wallpaper-1280x800.jpg\" target=\"_self\" title=\"Download Cute Kitten Close-up 16:10 1280 x 800 Widescreen HD Wallpaper\">1280x800</a>\n",
       "<a href=\"/download/cute_kitten_close_up-wallpaper-1440x900.jpg\" target=\"_self\" title=\"Download Cute Kitten Close-up 16:10 1440 x 900 Widescreen HD Wallpaper\">1440x900</a>\n",
       "<a href=\"/download/cute_kitten_close_up-wallpaper-1680x1050.jpg\" target=\"_self\" title=\"Download Cute Kitten Close-up 16:10 1680 x 1050 Widescreen HD Wallpaper\">1680x1050</a>\n",
       "<a href=\"/download/cute_kitten_close_up-wallpaper-1920x1200.jpg\" target=\"_self\" title=\"Download Cute Kitten Close-up 16:10 1920 x 1200 Widescreen HD Wallpaper\">1920x1200</a>\n",
       "<a href=\"/download/cute_kitten_close_up-wallpaper-2560x1600.jpg\" target=\"_self\" title=\"Download Cute Kitten Close-up 16:10 2560 x 1600 Widescreen HD Wallpaper\">2560x1600</a>\n",
       "<a href=\"/download/cute_kitten_close_up-wallpaper-2880x1800.jpg\" target=\"_self\" title=\"Download Cute Kitten Close-up 16:10 2880 x 1800 Widescreen HD Wallpaper\">2880x1800</a>\n",
       "<a href=\"/download/cute_kitten_close_up-wallpaper-3840x2400.jpg\" target=\"_self\" title=\"Download Cute Kitten Close-up 16:10 3840 x 2400 Widescreen 4K UHD Wallpaper\">3840x2400</a>\n",
       "<a href=\"/download/cute_kitten_close_up-wallpaper-5120x3200.jpg\" target=\"_self\" title=\"Download Cute Kitten Close-up 16:10 5120 x 3200 Widescreen 5K UHD Wallpaper\">5120x3200</a>\n",
       "<br clear=\"all\"/> <h3>Widescreen 5:3</h3><em class=\"ui-icon ui-icon-triangle-1-e\"></em> <a href=\"/download/cute_kitten_close_up-wallpaper-800x480.jpg\" target=\"_self\" title=\"Download Cute Kitten Close-up 5:3 800 x 480 Widescreen Wallpaper\">800x480</a>\n",
       "<a href=\"/download/cute_kitten_close_up-wallpaper-1280x768.jpg\" target=\"_self\" title=\"Download Cute Kitten Close-up 5:3 1280 x 768 Widescreen HD Wallpaper\">1280x768</a>\n",
       "<br clear=\"all\"/> <h3>Fullscreen 5:4</h3><em class=\"ui-icon ui-icon-triangle-1-e\"></em> <a href=\"/download/cute_kitten_close_up-wallpaper-1280x1024.jpg\" target=\"_self\" title=\"Download Cute Kitten Close-up 5:4 1280 x 1024 Fullscreen HD Wallpaper\">1280x1024</a>\n",
       "<a href=\"/download/cute_kitten_close_up-wallpaper-1920x1536.jpg\" target=\"_self\" title=\"Download Cute Kitten Close-up 5:4 1920 x 1536 Fullscreen HD Wallpaper\">1920x1536</a>\n",
       "<a href=\"/download/cute_kitten_close_up-wallpaper-2560x2048.jpg\" target=\"_self\" title=\"Download Cute Kitten Close-up 5:4 2560 x 2048 Fullscreen HD Wallpaper\">2560x2048</a>\n",
       "<a href=\"/download/cute_kitten_close_up-wallpaper-3750x3000.jpg\" target=\"_self\" title=\"Download Cute Kitten Close-up 5:4 3750 x 3000 Fullscreen HD Wallpaper\">3750x3000</a>\n",
       "<a href=\"/download/cute_kitten_close_up-wallpaper-3840x3072.jpg\" target=\"_self\" title=\"Download Cute Kitten Close-up 5:4 3840 x 3072 Fullscreen 4K UHD Wallpaper\">3840x3072</a>\n",
       "<a href=\"/download/cute_kitten_close_up-wallpaper-5120x4096.jpg\" target=\"_self\" title=\"Download Cute Kitten Close-up 5:4 5120 x 4096 Fullscreen 5K UHD Wallpaper\">5120x4096</a>\n",
       "<br clear=\"all\"/> <h3>Fullscreen 3:2</h3><em class=\"ui-icon ui-icon-triangle-1-e\"></em> <a href=\"/download/cute_kitten_close_up-wallpaper-960x640.jpg\" target=\"_self\" title=\"Download Cute Kitten Close-up 3:2 960 x 640 Fullscreen Wallpaper\">960x640</a>\n",
       "<a href=\"/download/cute_kitten_close_up-wallpaper-1152x768.jpg\" target=\"_self\" title=\"Download Cute Kitten Close-up 3:2 1152 x 768 Fullscreen Wallpaper\">1152x768</a>\n",
       "<a href=\"/download/cute_kitten_close_up-wallpaper-1440x960.jpg\" target=\"_self\" title=\"Download Cute Kitten Close-up 3:2 1440 x 960 Fullscreen HD Wallpaper\">1440x960</a>\n",
       "<a href=\"/download/cute_kitten_close_up-wallpaper-1920x1280.jpg\" target=\"_self\" title=\"Download Cute Kitten Close-up 3:2 1920 x 1280 Fullscreen HD Wallpaper\">1920x1280</a>\n",
       "<a href=\"/download/cute_kitten_close_up-wallpaper-2000x1333.jpg\" target=\"_self\" title=\"Download Cute Kitten Close-up 3:2 2000 x 1333 Fullscreen HD Wallpaper\">2000x1333</a>\n",
       "<a href=\"/download/cute_kitten_close_up-wallpaper-2160x1440.jpg\" target=\"_self\" title=\"Download Cute Kitten Close-up 3:2 2160 x 1440 Fullscreen HD Wallpaper\">2160x1440</a>\n",
       "<a href=\"/download/cute_kitten_close_up-wallpaper-2736x1824.jpg\" target=\"_self\" title=\"Download Cute Kitten Close-up 3:2 2736 x 1824 Fullscreen HD Wallpaper\">2736x1824</a>\n",
       "<a href=\"/download/cute_kitten_close_up-wallpaper-2880x1920.jpg\" target=\"_self\" title=\"Download Cute Kitten Close-up 3:2 2880 x 1920 Fullscreen HD Wallpaper\">2880x1920</a>\n",
       "<a href=\"/download/cute_kitten_close_up-wallpaper-3000x2000.jpg\" target=\"_self\" title=\"Download Cute Kitten Close-up 3:2 3000 x 2000 Fullscreen HD Wallpaper\">3000x2000</a>\n",
       "<a href=\"/download/cute_kitten_close_up-wallpaper-3240x2160.jpg\" target=\"_self\" title=\"Download Cute Kitten Close-up 3:2 3240 x 2160 Fullscreen HD Wallpaper\">3240x2160</a>\n",
       "<a href=\"/download/cute_kitten_close_up-wallpaper-3840x2560.jpg\" target=\"_self\" title=\"Download Cute Kitten Close-up 3:2 3840 x 2560 Fullscreen 4K UHD Wallpaper\">3840x2560</a>\n",
       "<a href=\"/download/cute_kitten_close_up-wallpaper-4500x3000.jpg\" target=\"_self\" title=\"Download Cute Kitten Close-up 3:2 4500 x 3000 Fullscreen UHD Wallpaper\">4500x3000</a>\n",
       "<br clear=\"all\"/> <h3>Tablet 1:1</h3><em class=\"ui-icon ui-icon-triangle-1-e\"></em> <a href=\"/download/cute_kitten_close_up-wallpaper-1024x1024.jpg\" target=\"_self\" title=\"Download Cute Kitten Close-up 1:1 1024 x 1024 Tablet Wallpaper for Apple iPad 1 &amp; 2, iPad Mini, Amazon Kindle Fire, etc .\">1024x1024</a>\n",
       "<a href=\"/download/cute_kitten_close_up-wallpaper-1280x1280.jpg\" target=\"_self\" title=\"Download Cute Kitten Close-up 1:1 1280 x 1280 Tablet HD Wallpaper for most Android tablets like Samsung Galaxy Note &amp; Galaxy Tab series .\">1280x1280</a>\n",
       "<a href=\"/download/cute_kitten_close_up-wallpaper-2048x2048.jpg\" target=\"_self\" title=\"Download Cute Kitten Close-up 1:1 2048 x 2048 Tablet HD Wallpaper for QXGA tablets such as any Apple iPad with Retina display, iPad 3 &amp; 4, iPad Air 1 &amp; 2, iPad Mini 2,3,4 and the 9.7-inch version of iPad Pro\">2048x2048</a>\n",
       "<a href=\"/download/cute_kitten_close_up-wallpaper-2160x2160.jpg\" target=\"_self\" title=\"Download Cute Kitten Close-up 1:1 2160 x 2160 Tablet HD Wallpaper\">2160x2160</a>\n",
       "<a href=\"/download/cute_kitten_close_up-wallpaper-2360x2360.jpg\" target=\"_self\" title=\"Download Cute Kitten Close-up 1:1 2360 x 2360 Tablet HD Wallpaper\">2360x2360</a>\n",
       "<a href=\"/download/cute_kitten_close_up-wallpaper-2560x2560.jpg\" target=\"_self\" title=\"Download Cute Kitten Close-up 1:1 2560 x 2560 Tablet HD Wallpaper for 2K QHD tablets like Samsung Galaxy Tab S9, Xiaomi Redmi Pad Pro, Lenovo Legion Tab, Amazon Kindle Fire HDX \">2560x2560</a>\n",
       "<a href=\"/download/cute_kitten_close_up-wallpaper-2732x2732.jpg\" target=\"_self\" title=\"Download Cute Kitten Close-up 1:1 2732 x 2732 Tablet HD Wallpaper\">2732x2732</a>\n",
       "<a href=\"/download/cute_kitten_close_up-wallpaper-2800x2800.jpg\" target=\"_self\" title=\"Download Cute Kitten Close-up 1:1 2800 x 2800 Tablet HD Wallpaper\">2800x2800</a>\n",
       "<a href=\"/download/cute_kitten_close_up-wallpaper-2960x2960.jpg\" target=\"_self\" title=\"Download Cute Kitten Close-up 1:1 2960 x 2960 Tablet HD Wallpaper\">2960x2960</a>\n",
       "<a href=\"/download/cute_kitten_close_up-wallpaper-3000x3000.jpg\" target=\"_self\" title=\"Download Cute Kitten Close-up 1:1 3000 x 3000 Tablet HD Wallpaper\">3000x3000</a>\n",
       "<a href=\"/download/cute_kitten_close_up-wallpaper-3200x3200.jpg\" target=\"_self\" title=\"Download Cute Kitten Close-up 1:1 3200 x 3200 Tablet HD Wallpaper\">3200x3200</a>\n",
       "<a href=\"/download/cute_kitten_close_up-wallpaper-3840x3840.jpg\" target=\"_self\" title=\"Download Cute Kitten Close-up 1:1 3840 x 3840 Tablet 4K UHD Wallpaper for 4K UHD tablets like Pansonic Toughpad FZ-Y1\">3840x3840</a>\n",
       "<br clear=\"all\"/> <h3>2X Widescreen 16:10</h3><em class=\"ui-icon ui-icon-triangle-1-e\"></em> <a href=\"/download/cute_kitten_close_up-wallpaper-1920x600.jpg\" target=\"_self\" title=\"Download Cute Kitten Close-up 16:10 1920 x 600 Dual Wallpaper\">1920x600</a>\n",
       "<a href=\"/download/cute_kitten_close_up-wallpaper-2304x720.jpg\" target=\"_self\" title=\"Download Cute Kitten Close-up 16:10 2304 x 720 Dual Wallpaper\">2304x720</a>\n",
       "<a href=\"/download/cute_kitten_close_up-wallpaper-2560x800.jpg\" target=\"_self\" title=\"Download Cute Kitten Close-up 16:10 2560 x 800 Dual HD Wallpaper\">2560x800</a>\n",
       "<a href=\"/download/cute_kitten_close_up-wallpaper-2880x900.jpg\" target=\"_self\" title=\"Download Cute Kitten Close-up 16:10 2880 x 900 Dual HD Wallpaper\">2880x900</a>\n",
       "<a href=\"/download/cute_kitten_close_up-wallpaper-3360x1050.jpg\" target=\"_self\" title=\"Download Cute Kitten Close-up 16:10 3360 x 1050 Dual HD Wallpaper\">3360x1050</a>\n",
       "<a href=\"/download/cute_kitten_close_up-wallpaper-3840x1200.jpg\" target=\"_self\" title=\"Download Cute Kitten Close-up 16:10 3840 x 1200 Dual HD Wallpaper\">3840x1200</a>\n",
       "<a href=\"/download/cute_kitten_close_up-wallpaper-5120x1600.jpg\" target=\"_self\" title=\"Download Cute Kitten Close-up 16:10 5120 x 1600 Dual HD Wallpaper\">5120x1600</a>\n",
       "<a href=\"/download/cute_kitten_close_up-wallpaper-5760x1800.jpg\" target=\"_self\" title=\"Download Cute Kitten Close-up 16:10 5760 x 1800 Dual HD Wallpaper\">5760x1800</a>\n",
       "<a href=\"/download/cute_kitten_close_up-wallpaper-7680x2400.jpg\" target=\"_self\" title=\"Download Cute Kitten Close-up 16:10 7680 x 2400 Dual 4K UHD Wallpaper\">7680x2400</a>\n",
       "<br clear=\"all\"/> <h3>2X Widescreen 5:3</h3><em class=\"ui-icon ui-icon-triangle-1-e\"></em> <a href=\"/download/cute_kitten_close_up-wallpaper-1600x480.jpg\" target=\"_self\" title=\"Download Cute Kitten Close-up 5:3 1600 x 480 Dual Wallpaper\">1600x480</a>\n",
       "<a href=\"/download/cute_kitten_close_up-wallpaper-2560x768.jpg\" target=\"_self\" title=\"Download Cute Kitten Close-up 5:3 2560 x 768 Dual HD Wallpaper\">2560x768</a>\n",
       "<br clear=\"all\"/> <h3>2X HD 16:9</h3><em class=\"ui-icon ui-icon-triangle-1-e\"></em> <a href=\"/download/cute_kitten_close_up-wallpaper-1920x540.jpg\" target=\"_self\" title=\"Download Cute Kitten Close-up 16:9 1920 x 540 Dual Wallpaper\">1920x540</a>\n",
       "<a href=\"/download/cute_kitten_close_up-wallpaper-2048x576.jpg\" target=\"_self\" title=\"Download Cute Kitten Close-up 16:9 2048 x 576 Dual Wallpaper\">2048x576</a>\n",
       "<a href=\"/download/cute_kitten_close_up-wallpaper-2560x720.jpg\" target=\"_self\" title=\"Download Cute Kitten Close-up 16:9 2560 x 720 Dual HD Wallpaper\">2560x720</a>\n",
       "<a href=\"/download/cute_kitten_close_up-wallpaper-2732x768.jpg\" target=\"_self\" title=\"Download Cute Kitten Close-up 16:9 2732 x 768 Dual HD Wallpaper\">2732x768</a>\n",
       "<a href=\"/download/cute_kitten_close_up-wallpaper-3200x900.jpg\" target=\"_self\" title=\"Download Cute Kitten Close-up 16:9 3200 x 900 Dual HD Wallpaper\">3200x900</a>\n",
       "<a href=\"/download/cute_kitten_close_up-wallpaper-3840x1080.jpg\" target=\"_self\" title=\"Download Cute Kitten Close-up 16:9 3840 x 1080 Dual HD Wallpaper\">3840x1080</a>\n",
       "<a href=\"/download/cute_kitten_close_up-wallpaper-4096x1152.jpg\" target=\"_self\" title=\"Download Cute Kitten Close-up 16:9 4096 x 1152 Dual HD Wallpaper\">4096x1152</a>\n",
       "<a href=\"/download/cute_kitten_close_up-wallpaper-4800x1350.jpg\" target=\"_self\" title=\"Download Cute Kitten Close-up 16:9 4800 x 1350 Dual HD Wallpaper\">4800x1350</a>\n",
       "<a href=\"/download/cute_kitten_close_up-wallpaper-5120x1440.jpg\" target=\"_self\" title=\"Download Cute Kitten Close-up 16:9 5120 x 1440 Dual HD Wallpaper\">5120x1440</a>\n",
       "<a href=\"/download/cute_kitten_close_up-wallpaper-5760x1620.jpg\" target=\"_self\" title=\"Download Cute Kitten Close-up 16:9 5760 x 1620 Dual HD Wallpaper\">5760x1620</a>\n",
       "<a href=\"/download/cute_kitten_close_up-wallpaper-7108x1999.jpg\" target=\"_self\" title=\"Download Cute Kitten Close-up 16:9 7108 x 1999 Dual HD Wallpaper\">7108x1999</a>\n",
       "<br clear=\"all\"/> <h3>2X UHD 16:9</h3><em class=\"ui-icon ui-icon-triangle-1-e\"></em> <a href=\"/download/cute_kitten_close_up-wallpaper-7680x2160.jpg\" target=\"_self\" title=\"Download Cute Kitten Close-up 16:9 7680 x 2160 Dual 4K UHD Wallpaper\">7680x2160</a>\n",
       "<br clear=\"all\"/> <h3>2X Fullscreen 4:3</h3><em class=\"ui-icon ui-icon-triangle-1-e\"></em> <a href=\"/download/cute_kitten_close_up-wallpaper-1600x600.jpg\" target=\"_self\" title=\"Download Cute Kitten Close-up 4:3 1600 x 600 Dual Wallpaper\">1600x600</a>\n",
       "<a href=\"/download/cute_kitten_close_up-wallpaper-2048x768.jpg\" target=\"_self\" title=\"Download Cute Kitten Close-up 4:3 2048 x 768 Dual Wallpaper\">2048x768</a>\n",
       "<a href=\"/download/cute_kitten_close_up-wallpaper-2304x864.jpg\" target=\"_self\" title=\"Download Cute Kitten Close-up 4:3 2304 x 864 Dual Wallpaper\">2304x864</a>\n",
       "<a href=\"/download/cute_kitten_close_up-wallpaper-2560x960.jpg\" target=\"_self\" title=\"Download Cute Kitten Close-up 4:3 2560 x 960 Dual HD Wallpaper\">2560x960</a>\n",
       "<a href=\"/download/cute_kitten_close_up-wallpaper-2800x1050.jpg\" target=\"_self\" title=\"Download Cute Kitten Close-up 4:3 2800 x 1050 Dual HD Wallpaper\">2800x1050</a>\n",
       "<a href=\"/download/cute_kitten_close_up-wallpaper-2880x1080.jpg\" target=\"_self\" title=\"Download Cute Kitten Close-up 4:3 2880 x 1080 Dual HD Wallpaper\">2880x1080</a>\n",
       "<a href=\"/download/cute_kitten_close_up-wallpaper-3200x1200.jpg\" target=\"_self\" title=\"Download Cute Kitten Close-up 4:3 3200 x 1200 Dual HD Wallpaper\">3200x1200</a>\n",
       "<a href=\"/download/cute_kitten_close_up-wallpaper-3360x1260.jpg\" target=\"_self\" title=\"Download Cute Kitten Close-up 4:3 3360 x 1260 Dual HD Wallpaper\">3360x1260</a>\n",
       "<a href=\"/download/cute_kitten_close_up-wallpaper-3840x1440.jpg\" target=\"_self\" title=\"Download Cute Kitten Close-up 4:3 3840 x 1440 Dual HD Wallpaper\">3840x1440</a>\n",
       "<a href=\"/download/cute_kitten_close_up-wallpaper-4096x1536.jpg\" target=\"_self\" title=\"Download Cute Kitten Close-up 4:3 4096 x 1536 Dual HD Wallpaper\">4096x1536</a>\n",
       "<a href=\"/download/cute_kitten_close_up-wallpaper-5120x1920.jpg\" target=\"_self\" title=\"Download Cute Kitten Close-up 4:3 5120 x 1920 Dual HD Wallpaper\">5120x1920</a>\n",
       "<a href=\"/download/cute_kitten_close_up-wallpaper-5600x2100.jpg\" target=\"_self\" title=\"Download Cute Kitten Close-up 4:3 5600 x 2100 Dual HD Wallpaper\">5600x2100</a>\n",
       "<a href=\"/download/cute_kitten_close_up-wallpaper-6400x2400.jpg\" target=\"_self\" title=\"Download Cute Kitten Close-up 4:3 6400 x 2400 Dual HD Wallpaper\">6400x2400</a>\n",
       "<br clear=\"all\"/> <h3>2X Fullscreen 5:4</h3><em class=\"ui-icon ui-icon-triangle-1-e\"></em> <a href=\"/download/cute_kitten_close_up-wallpaper-2560x1024.jpg\" target=\"_self\" title=\"Download Cute Kitten Close-up 5:4 2560 x 1024 Dual HD Wallpaper\">2560x1024</a>\n",
       "<a href=\"/download/cute_kitten_close_up-wallpaper-5120x2048.jpg\" target=\"_self\" title=\"Download Cute Kitten Close-up 5:4 5120 x 2048 Dual HD Wallpaper\">5120x2048</a>\n",
       "<a href=\"/download/cute_kitten_close_up-wallpaper-7500x3000.jpg\" target=\"_self\" title=\"Download Cute Kitten Close-up 5:4 7500 x 3000 Dual HD Wallpaper\">7500x3000</a>\n",
       "<br clear=\"all\"/> <h3>2X Fullscreen 3:2</h3><em class=\"ui-icon ui-icon-triangle-1-e\"></em> <a href=\"/download/cute_kitten_close_up-wallpaper-2304x768.jpg\" target=\"_self\" title=\"Download Cute Kitten Close-up 3:2 2304 x 768 Dual Wallpaper\">2304x768</a>\n",
       "<a href=\"/download/cute_kitten_close_up-wallpaper-2880x960.jpg\" target=\"_self\" title=\"Download Cute Kitten Close-up 3:2 2880 x 960 Dual HD Wallpaper\">2880x960</a>\n",
       "<a href=\"/download/cute_kitten_close_up-wallpaper-3840x1280.jpg\" target=\"_self\" title=\"Download Cute Kitten Close-up 3:2 3840 x 1280 Dual HD Wallpaper\">3840x1280</a>\n",
       "<a href=\"/download/cute_kitten_close_up-wallpaper-4000x1333.jpg\" target=\"_self\" title=\"Download Cute Kitten Close-up 3:2 4000 x 1333 Dual HD Wallpaper\">4000x1333</a>\n",
       "<a href=\"/download/cute_kitten_close_up-wallpaper-4320x1440.jpg\" target=\"_self\" title=\"Download Cute Kitten Close-up 3:2 4320 x 1440 Dual HD Wallpaper\">4320x1440</a>\n",
       "<a href=\"/download/cute_kitten_close_up-wallpaper-5472x1824.jpg\" target=\"_self\" title=\"Download Cute Kitten Close-up 3:2 5472 x 1824 Dual HD Wallpaper\">5472x1824</a>\n",
       "<a href=\"/download/cute_kitten_close_up-wallpaper-6000x2000.jpg\" target=\"_self\" title=\"Download Cute Kitten Close-up 3:2 6000 x 2000 Dual HD Wallpaper\">6000x2000</a>\n",
       "<br clear=\"all\"/>\n",
       "</div>"
      ]
     },
     "execution_count": 70,
     "metadata": {},
     "output_type": "execute_result"
    }
   ],
   "source": [
    "link_grid"
   ]
  },
  {
   "cell_type": "code",
   "execution_count": 61,
   "id": "f97e3022-2c2f-4dba-8ad9-b7c9edbf84c9",
   "metadata": {},
   "outputs": [
    {
     "data": {
      "text/plain": [
       "['/download/cute_kitten_close_up-wallpaper-3840x2160.jpg',\n",
       " '/download/cute_kitten_close_up-wallpaper-5120x2880.jpg',\n",
       " '/download/cute_kitten_close_up-wallpaper-7680x4320.jpg',\n",
       " '/download/cute_kitten_close_up-wallpaper-960x540.jpg',\n",
       " '/download/cute_kitten_close_up-wallpaper-1024x576.jpg',\n",
       " '/download/cute_kitten_close_up-wallpaper-1280x720.jpg',\n",
       " '/download/cute_kitten_close_up-wallpaper-1366x768.jpg',\n",
       " '/download/cute_kitten_close_up-wallpaper-1600x900.jpg',\n",
       " '/download/cute_kitten_close_up-wallpaper-1920x1080.jpg',\n",
       " '/download/cute_kitten_close_up-wallpaper-2048x1152.jpg',\n",
       " '/download/cute_kitten_close_up-wallpaper-2400x1350.jpg',\n",
       " '/download/cute_kitten_close_up-wallpaper-2560x1440.jpg',\n",
       " '/download/cute_kitten_close_up-wallpaper-2880x1620.jpg',\n",
       " '/download/cute_kitten_close_up-wallpaper-3554x1999.jpg',\n",
       " '/download/cute_kitten_close_up-wallpaper-2560x1080.jpg',\n",
       " '/download/cute_kitten_close_up-wallpaper-3440x1440.jpg',\n",
       " '/download/cute_kitten_close_up-wallpaper-5120x2160.jpg',\n",
       " '/download/cute_kitten_close_up-wallpaper-6880x2880.jpg',\n",
       " '/download/cute_kitten_close_up-wallpaper-2880x1200.jpg',\n",
       " '/download/cute_kitten_close_up-wallpaper-3840x1600.jpg',\n",
       " '/download/cute_kitten_close_up-wallpaper-4320x1800.jpg',\n",
       " '/download/cute_kitten_close_up-wallpaper-5760x2400.jpg',\n",
       " '/download/cute_kitten_close_up-wallpaper-7680x3200.jpg',\n",
       " '/download/cute_kitten_close_up-wallpaper-3840x1080.jpg',\n",
       " '/download/cute_kitten_close_up-wallpaper-5120x1440.jpg',\n",
       " '/download/cute_kitten_close_up-wallpaper-7680x2160.jpg',\n",
       " '/download/cute_kitten_close_up-wallpaper-2880x900.jpg',\n",
       " '/download/cute_kitten_close_up-wallpaper-3840x1200.jpg',\n",
       " '/download/cute_kitten_close_up-wallpaper-5120x1600.jpg',\n",
       " '/download/cute_kitten_close_up-wallpaper-5760x1800.jpg',\n",
       " '/download/cute_kitten_close_up-wallpaper-7680x2400.jpg',\n",
       " '/download/cute_kitten_close_up-wallpaper-960x600.jpg',\n",
       " '/download/cute_kitten_close_up-wallpaper-1152x720.jpg',\n",
       " '/download/cute_kitten_close_up-wallpaper-1280x800.jpg',\n",
       " '/download/cute_kitten_close_up-wallpaper-1440x900.jpg',\n",
       " '/download/cute_kitten_close_up-wallpaper-1680x1050.jpg',\n",
       " '/download/cute_kitten_close_up-wallpaper-1920x1200.jpg',\n",
       " '/download/cute_kitten_close_up-wallpaper-2560x1600.jpg',\n",
       " '/download/cute_kitten_close_up-wallpaper-2880x1800.jpg',\n",
       " '/download/cute_kitten_close_up-wallpaper-3840x2400.jpg',\n",
       " '/download/cute_kitten_close_up-wallpaper-5120x3200.jpg',\n",
       " '/download/cute_kitten_close_up-wallpaper-800x480.jpg',\n",
       " '/download/cute_kitten_close_up-wallpaper-1280x768.jpg',\n",
       " '/download/cute_kitten_close_up-wallpaper-1280x1024.jpg',\n",
       " '/download/cute_kitten_close_up-wallpaper-1920x1536.jpg',\n",
       " '/download/cute_kitten_close_up-wallpaper-2560x2048.jpg',\n",
       " '/download/cute_kitten_close_up-wallpaper-3750x3000.jpg',\n",
       " '/download/cute_kitten_close_up-wallpaper-3840x3072.jpg',\n",
       " '/download/cute_kitten_close_up-wallpaper-5120x4096.jpg',\n",
       " '/download/cute_kitten_close_up-wallpaper-960x640.jpg',\n",
       " '/download/cute_kitten_close_up-wallpaper-1152x768.jpg',\n",
       " '/download/cute_kitten_close_up-wallpaper-1440x960.jpg',\n",
       " '/download/cute_kitten_close_up-wallpaper-1920x1280.jpg',\n",
       " '/download/cute_kitten_close_up-wallpaper-2000x1333.jpg',\n",
       " '/download/cute_kitten_close_up-wallpaper-2160x1440.jpg',\n",
       " '/download/cute_kitten_close_up-wallpaper-2736x1824.jpg',\n",
       " '/download/cute_kitten_close_up-wallpaper-2880x1920.jpg',\n",
       " '/download/cute_kitten_close_up-wallpaper-3000x2000.jpg',\n",
       " '/download/cute_kitten_close_up-wallpaper-3240x2160.jpg',\n",
       " '/download/cute_kitten_close_up-wallpaper-3840x2560.jpg',\n",
       " '/download/cute_kitten_close_up-wallpaper-4500x3000.jpg',\n",
       " '/download/cute_kitten_close_up-wallpaper-1024x1024.jpg',\n",
       " '/download/cute_kitten_close_up-wallpaper-1280x1280.jpg',\n",
       " '/download/cute_kitten_close_up-wallpaper-2048x2048.jpg',\n",
       " '/download/cute_kitten_close_up-wallpaper-2160x2160.jpg',\n",
       " '/download/cute_kitten_close_up-wallpaper-2360x2360.jpg',\n",
       " '/download/cute_kitten_close_up-wallpaper-2560x2560.jpg',\n",
       " '/download/cute_kitten_close_up-wallpaper-2732x2732.jpg',\n",
       " '/download/cute_kitten_close_up-wallpaper-2800x2800.jpg',\n",
       " '/download/cute_kitten_close_up-wallpaper-2960x2960.jpg',\n",
       " '/download/cute_kitten_close_up-wallpaper-3000x3000.jpg',\n",
       " '/download/cute_kitten_close_up-wallpaper-3200x3200.jpg',\n",
       " '/download/cute_kitten_close_up-wallpaper-3840x3840.jpg',\n",
       " '/download/cute_kitten_close_up-wallpaper-1920x600.jpg',\n",
       " '/download/cute_kitten_close_up-wallpaper-2304x720.jpg',\n",
       " '/download/cute_kitten_close_up-wallpaper-2560x800.jpg',\n",
       " '/download/cute_kitten_close_up-wallpaper-2880x900.jpg',\n",
       " '/download/cute_kitten_close_up-wallpaper-3360x1050.jpg',\n",
       " '/download/cute_kitten_close_up-wallpaper-3840x1200.jpg',\n",
       " '/download/cute_kitten_close_up-wallpaper-5120x1600.jpg',\n",
       " '/download/cute_kitten_close_up-wallpaper-5760x1800.jpg',\n",
       " '/download/cute_kitten_close_up-wallpaper-7680x2400.jpg',\n",
       " '/download/cute_kitten_close_up-wallpaper-1600x480.jpg',\n",
       " '/download/cute_kitten_close_up-wallpaper-2560x768.jpg',\n",
       " '/download/cute_kitten_close_up-wallpaper-1920x540.jpg',\n",
       " '/download/cute_kitten_close_up-wallpaper-2048x576.jpg',\n",
       " '/download/cute_kitten_close_up-wallpaper-2560x720.jpg',\n",
       " '/download/cute_kitten_close_up-wallpaper-2732x768.jpg',\n",
       " '/download/cute_kitten_close_up-wallpaper-3200x900.jpg',\n",
       " '/download/cute_kitten_close_up-wallpaper-3840x1080.jpg',\n",
       " '/download/cute_kitten_close_up-wallpaper-4096x1152.jpg',\n",
       " '/download/cute_kitten_close_up-wallpaper-4800x1350.jpg',\n",
       " '/download/cute_kitten_close_up-wallpaper-5120x1440.jpg',\n",
       " '/download/cute_kitten_close_up-wallpaper-5760x1620.jpg',\n",
       " '/download/cute_kitten_close_up-wallpaper-7108x1999.jpg',\n",
       " '/download/cute_kitten_close_up-wallpaper-7680x2160.jpg',\n",
       " '/download/cute_kitten_close_up-wallpaper-1600x600.jpg',\n",
       " '/download/cute_kitten_close_up-wallpaper-2048x768.jpg',\n",
       " '/download/cute_kitten_close_up-wallpaper-2304x864.jpg',\n",
       " '/download/cute_kitten_close_up-wallpaper-2560x960.jpg',\n",
       " '/download/cute_kitten_close_up-wallpaper-2800x1050.jpg',\n",
       " '/download/cute_kitten_close_up-wallpaper-2880x1080.jpg',\n",
       " '/download/cute_kitten_close_up-wallpaper-3200x1200.jpg',\n",
       " '/download/cute_kitten_close_up-wallpaper-3360x1260.jpg',\n",
       " '/download/cute_kitten_close_up-wallpaper-3840x1440.jpg',\n",
       " '/download/cute_kitten_close_up-wallpaper-4096x1536.jpg',\n",
       " '/download/cute_kitten_close_up-wallpaper-5120x1920.jpg',\n",
       " '/download/cute_kitten_close_up-wallpaper-5600x2100.jpg',\n",
       " '/download/cute_kitten_close_up-wallpaper-6400x2400.jpg',\n",
       " '/download/cute_kitten_close_up-wallpaper-2560x1024.jpg',\n",
       " '/download/cute_kitten_close_up-wallpaper-5120x2048.jpg',\n",
       " '/download/cute_kitten_close_up-wallpaper-7500x3000.jpg',\n",
       " '/download/cute_kitten_close_up-wallpaper-2304x768.jpg',\n",
       " '/download/cute_kitten_close_up-wallpaper-2880x960.jpg',\n",
       " '/download/cute_kitten_close_up-wallpaper-3840x1280.jpg',\n",
       " '/download/cute_kitten_close_up-wallpaper-4000x1333.jpg',\n",
       " '/download/cute_kitten_close_up-wallpaper-4320x1440.jpg',\n",
       " '/download/cute_kitten_close_up-wallpaper-5472x1824.jpg',\n",
       " '/download/cute_kitten_close_up-wallpaper-6000x2000.jpg']"
      ]
     },
     "execution_count": 61,
     "metadata": {},
     "output_type": "execute_result"
    }
   ],
   "source": [
    "[_.get(\"href\", None) for _ in link_grid.find_all(\"a\", attrs={\"target\": \"_self\"})]"
   ]
  }
 ],
 "metadata": {
  "kernelspec": {
   "display_name": "Python 3 (ipykernel)",
   "language": "python",
   "name": "python3"
  },
  "language_info": {
   "codemirror_mode": {
    "name": "ipython",
    "version": 3
   },
   "file_extension": ".py",
   "mimetype": "text/x-python",
   "name": "python",
   "nbconvert_exporter": "python",
   "pygments_lexer": "ipython3",
   "version": "3.13.3"
  }
 },
 "nbformat": 4,
 "nbformat_minor": 5
}

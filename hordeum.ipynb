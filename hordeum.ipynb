{
 "cells": [
  {
   "cell_type": "code",
   "execution_count": 1,
   "id": "93f7b9c5-d5c1-475c-a7f5-e1b83a1e2fb7",
   "metadata": {},
   "outputs": [],
   "source": [
    "import numpy as np\n",
    "import pandas as pd\n",
    "import matplotlib.pyplot as plt"
   ]
  },
  {
   "cell_type": "code",
   "execution_count": 2,
   "id": "7f6c77bb-2af6-4dc8-84fb-123a5828bce1",
   "metadata": {},
   "outputs": [],
   "source": [
    "fred = pd.read_csv(r\"./data/FRED/FRED3_Entire_Database_2021.csv\", low_memory=False, header=0, skiprows=range(1, 10))\n",
    "meta = pd.read_csv(r\"./data/FRED/FRED3_Column_Definitions_2021.csv\", index_col=0, usecols=(\"column_id\", \"name\"))\n",
    "taxon_lookup = pd.read_csv(r\"./data/plantlookup.csv\", low_memory=False, encoding=\"latin\")"
   ]
  },
  {
   "cell_type": "code",
   "execution_count": 9,
   "id": "7af0d49e-05a6-4ef4-8520-279fe03043fe",
   "metadata": {},
   "outputs": [],
   "source": [
    "COLLABORATION_GRADIENT_TRAITS = [\n",
    "    \"F00679\", # RD\n",
    "    \"F00727\", # SRL\n",
    "    \"F00718\", #\tSpecific root area (SRA)\n",
    "    \"F00104\", # RCT\n",
    "    \"F00622\", # Mycorrhiza_Fraction root length colonized by AM mycorrhizae\n",
    "    \"F00626\", # Mycorrhiza_Fraction root length colonized by EM mycorrhizae\n",
    "    \"F00638\", # Mycorrhiza_Fraction of root length\n",
    "    \"F00645\"  # Mycorrhiza_Type_Data\n",
    "]\n",
    "\n",
    "CONSERVATION_GRADIENT_TRAITS = [\n",
    "    \"F00709\", # RTD\n",
    "    \"F00277\", #\tRoot P content\n",
    "    \"F00261\", # Root N content\n",
    "    \"F00358\"  # Root lignin content\n",
    "]"
   ]
  },
  {
   "cell_type": "code",
   "execution_count": 7,
   "id": "ec172e69-203e-4276-87ec-27628bdb699a",
   "metadata": {},
   "outputs": [
    {
     "data": {
      "text/plain": [
       "np.int64(40)"
      ]
     },
     "execution_count": 7,
     "metadata": {},
     "output_type": "execute_result"
    }
   ],
   "source": [
    "(fred.F00018 == \"Hordeum\").sum()"
   ]
  },
  {
   "cell_type": "code",
   "execution_count": 14,
   "id": "8291357a-0180-426a-a45b-3db5d8f5e6f7",
   "metadata": {},
   "outputs": [
    {
     "data": {
      "text/plain": [
       "F00018    0.00\n",
       "F00019    0.00\n",
       "F00056    1.00\n",
       "F00709    0.90\n",
       "F00277    1.00\n",
       "F00261    1.00\n",
       "F00358    1.00\n",
       "F00679    0.60\n",
       "F00727    0.70\n",
       "F00718    0.95\n",
       "F00104    1.00\n",
       "F00622    1.00\n",
       "F00626    1.00\n",
       "F00638    1.00\n",
       "F00645    0.45\n",
       "dtype: float64"
      ]
     },
     "execution_count": 14,
     "metadata": {},
     "output_type": "execute_result"
    }
   ],
   "source": [
    "fred.query(\"F00018==\\\"Hordeum\\\"\").loc[:, [\"F00018\", \"F00019\", \"F00056\"] + CONSERVATION_GRADIENT_TRAITS + COLLABORATION_GRADIENT_TRAITS].isna().mean()"
   ]
  },
  {
   "cell_type": "code",
   "execution_count": 18,
   "id": "bb6ab7fa-bc87-4c71-80d7-45dddacaa3af",
   "metadata": {},
   "outputs": [],
   "source": [
    "h_leporinum = fred.query(\"F00018==\\\"Hordeum\\\"\").loc[:, [\"F00018\", \"F00019\", \"F00679\", \"F00727\"]].dropna()"
   ]
  },
  {
   "cell_type": "code",
   "execution_count": 32,
   "id": "7717bbf9-00e0-4ad8-acdc-c4b098a81856",
   "metadata": {},
   "outputs": [
    {
     "data": {
      "image/png": "[encoded data removed]",
      "text/plain": [
       "<Figure size 500x500 with 1 Axes>"
      ]
     },
     "metadata": {},
     "output_type": "display_data"
    }
   ],
   "source": [
    "fig, axes = plt.subplots()\n",
    "fig.set_size_inches(5, 5)\n",
    "axes.scatter(x=h_leporinum.F00679, y=h_leporinum.F00727, color=\"red\", edgecolor=\"black\", s=25)\n",
    "axes.set_xlabel(\"$RD$\")\n",
    "axes.set_ylabel(\"$SRL$\")\n",
    "axes.set_axisbelow(b=True)\n",
    "axes.grid()\n",
    "plt.show()"
   ]
  }
 ],
 "metadata": {
  "kernelspec": {
   "display_name": "Python 3 (ipykernel)",
   "language": "python",
   "name": "python3"
  },
  "language_info": {
   "codemirror_mode": {
    "name": "ipython",
    "version": 3
   },
   "file_extension": ".py",
   "mimetype": "text/x-python",
   "name": "python",
   "nbconvert_exporter": "python",
   "pygments_lexer": "ipython3",
   "version": "3.13.3"
  }
 },
 "nbformat": 4,
 "nbformat_minor": 5
}

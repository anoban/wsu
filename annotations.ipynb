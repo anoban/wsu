{
 "cells": [
  {
   "cell_type": "code",
   "execution_count": 18,
   "id": "a659b3f6-9f56-4b30-aec9-d6e092745855",
   "metadata": {},
   "outputs": [],
   "source": [
    "import json\n",
    "import PIL\n",
    "\n",
    "import numpy as np\n",
    "import matplotlib.pyplot as plt"
   ]
  },
  {
   "cell_type": "code",
   "execution_count": 9,
   "id": "3d13f40a-9038-4b29-b953-da901d77f410",
   "metadata": {},
   "outputs": [],
   "source": [
    "# https://cocodataset.org/#download\n",
    "with open(file=r\"\\\\ad.uws.edu.au\\dfshare\\HomesBNK$\\90963425\\Downloads\\annotations_trainval2017\\annotations\\instances_train2017.json\", mode=\"r\") as fp:\n",
    "    coco_2017_annotations = json.loads(fp.read())"
   ]
  },
  {
   "cell_type": "code",
   "execution_count": 16,
   "id": "a373b434-ee07-4294-b556-be60e3fbfdb6",
   "metadata": {},
   "outputs": [
    {
     "data": {
      "text/plain": [
       "array([dict_keys(['segmentation', 'area', 'iscrowd', 'image_id', 'bbox', 'category_id', 'id'])],\n",
       "      dtype=object)"
      ]
     },
     "execution_count": 16,
     "metadata": {},
     "output_type": "execute_result"
    }
   ],
   "source": [
    "np.unique([_.keys() for _ in annotations.get(\"annotations\")])"
   ]
  }
 ],
 "metadata": {
  "kernelspec": {
   "display_name": "Python 3 (ipykernel)",
   "language": "python",
   "name": "python3"
  },
  "language_info": {
   "codemirror_mode": {
    "name": "ipython",
    "version": 3
   },
   "file_extension": ".py",
   "mimetype": "text/x-python",
   "name": "python",
   "nbconvert_exporter": "python",
   "pygments_lexer": "ipython3",
   "version": "3.13.4"
  }
 },
 "nbformat": 4,
 "nbformat_minor": 5
}

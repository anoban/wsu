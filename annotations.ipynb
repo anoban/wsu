{
 "cells": [
  {
   "cell_type": "code",
   "execution_count": 29,
   "id": "a659b3f6-9f56-4b30-aec9-d6e092745855",
   "metadata": {},
   "outputs": [],
   "source": [
    "import json\n",
    "import PIL\n",
    "import os\n",
    "import gc\n",
    "\n",
    "import numpy as np\n",
    "import matplotlib.pyplot as plt"
   ]
  },
  {
   "cell_type": "code",
   "execution_count": 39,
   "id": "b7989422-01bd-48cb-8575-2da79d92a868",
   "metadata": {},
   "outputs": [
    {
     "data": {
      "text/plain": [
       "[0, 0, 0]"
      ]
     },
     "execution_count": 39,
     "metadata": {},
     "output_type": "execute_result"
    }
   ],
   "source": [
    "[gc.collect(i) for i in range(3)]"
   ]
  },
  {
   "cell_type": "code",
   "execution_count": null,
   "id": "f7969e39-677a-487a-a1d0-f6bcd79784bf",
   "metadata": {},
   "outputs": [],
   "source": []
  },
  {
   "cell_type": "code",
   "execution_count": 28,
   "id": "a155a78a-b183-4113-8a0c-25601a6dac24",
   "metadata": {},
   "outputs": [
    {
     "name": "stdout",
     "output_type": "stream",
     "text": [
      "captions_train2017.json : 87.60940 MiBs\n",
      "captions_val2017.json : 3.69308 MiBs\n",
      "instances_train2017.json : 448.02234 MiBs\n",
      "instances_val2017.json : 19.06189 MiBs\n",
      "person_keypoints_train2017.json : 227.81823 MiBs\n",
      "person_keypoints_val2017.json : 9.55644 MiBs\n"
     ]
    }
   ],
   "source": [
    "for f in os.listdir(r\"\\\\ad.uws.edu.au\\dfshare\\HomesBNK$\\90963425\\Downloads\\annotations_trainval2017\\annotations\"):\n",
    "    print(f\"{f} : {os.path.getsize(r\"\\\\ad.uws.edu.au\\dfshare\\HomesBNK$\\90963425\\Downloads\\annotations_trainval2017\\annotations\\{}\".format(f)) / (1024 * 1024):.5f} MiBs\")"
   ]
  },
  {
   "cell_type": "code",
   "execution_count": 34,
   "id": "3d13f40a-9038-4b29-b953-da901d77f410",
   "metadata": {},
   "outputs": [],
   "source": [
    "# https://cocodataset.org/#download\n",
    "with open(file=r\"\\\\ad.uws.edu.au\\dfshare\\HomesBNK$\\90963425\\Downloads\\annotations_trainval2017\\annotations\\instances_train2017.json\", mode=\"r\") as fp:\n",
    "    coco_2017_annotations = json.loads(fp.read())"
   ]
  },
  {
   "cell_type": "code",
   "execution_count": 35,
   "id": "a373b434-ee07-4294-b556-be60e3fbfdb6",
   "metadata": {},
   "outputs": [
    {
     "data": {
      "text/plain": [
       "array([dict_keys(['segmentation', 'area', 'iscrowd', 'image_id', 'bbox', 'category_id', 'id'])],\n",
       "      dtype=object)"
      ]
     },
     "execution_count": 35,
     "metadata": {},
     "output_type": "execute_result"
    }
   ],
   "source": [
    "np.unique([_.keys() for _ in coco_2017_annotations.get(\"annotations\")])"
   ]
  },
  {
   "cell_type": "code",
   "execution_count": 36,
   "id": "32ba9687-236f-44a3-9805-09007a22c18a",
   "metadata": {},
   "outputs": [],
   "source": [
    "coco_2017_annotations.get(\"segmentation\")"
   ]
  }
 ],
 "metadata": {
  "kernelspec": {
   "display_name": "Python 3 (ipykernel)",
   "language": "python",
   "name": "python3"
  },
  "language_info": {
   "codemirror_mode": {
    "name": "ipython",
    "version": 3
   },
   "file_extension": ".py",
   "mimetype": "text/x-python",
   "name": "python",
   "nbconvert_exporter": "python",
   "pygments_lexer": "ipython3",
   "version": "3.13.4"
  }
 },
 "nbformat": 4,
 "nbformat_minor": 5
}

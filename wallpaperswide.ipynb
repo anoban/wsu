{
 "cells": [
  {
   "cell_type": "code",
   "execution_count": 1,
   "id": "f7bea30d-5f44-4fb1-a04e-5007b2fed0ce",
   "metadata": {},
   "outputs": [],
   "source": [
    "from urllib.request import (urlopen, Request)\n",
    "from bs4 import BeautifulSoup\n",
    "import re\n",
    "from random import randint"
   ]
  },
  {
   "cell_type": "code",
   "execution_count": 96,
   "id": "abf2fd2b-dc65-4b27-8e21-1ac129695794",
   "metadata": {},
   "outputs": [],
   "source": [
    "WALLPAPERSWIDE_BASE_URL: str = r\"https://wallpaperswide.com\"\n",
    "WALLPAPERSWIDE_WALLPAPER_CATEGORY_URL_TEMPLATE: str = r\"https://wallpaperswide.com/{}-desktop-wallpapers.html\"\n",
    "WALLPAPERSWIDE_DOWNLOAD_URL: str = \"https://wallpaperswide.com/download/{}\""
   ]
  },
  {
   "cell_type": "code",
   "execution_count": null,
   "id": "febbdd80-17d4-401e-af4e-28a7357213c0",
   "metadata": {},
   "outputs": [],
   "source": []
  },
  {
   "cell_type": "markdown",
   "id": "2f3e5cb1-f224-4b44-a9ef-2950eeaa3544",
   "metadata": {},
   "source": [
    "### _Available Categories_\n",
    "----------------"
   ]
  },
  {
   "cell_type": "code",
   "execution_count": 123,
   "id": "9b0b3920-ef8e-48bc-ba4d-298245446a2d",
   "metadata": {},
   "outputs": [],
   "source": [
    "with urlopen(url=WALLPAPERSWIDE_BASE_URL) as req:\n",
    "    text = req.read()"
   ]
  },
  {
   "cell_type": "code",
   "execution_count": 124,
   "id": "31a6e961-3fb6-4b4e-bbe8-68fc2a0e168b",
   "metadata": {},
   "outputs": [],
   "source": [
    "soup = BeautifulSoup(text, \"html.parser\")"
   ]
  },
  {
   "cell_type": "code",
   "execution_count": 129,
   "id": "31ab4788-9dc7-492d-98a4-7129b08e9ecb",
   "metadata": {},
   "outputs": [],
   "source": [
    "categories = soup.find(\"ul\", attrs={\"class\": \"side-panel categories\"}).find_all(\"li\")"
   ]
  },
  {
   "cell_type": "code",
   "execution_count": 135,
   "id": "73133d0e-19ab-4212-a65b-61bde61e1e5a",
   "metadata": {},
   "outputs": [
    {
     "data": {
      "text/plain": [
       "['aero',\n",
       " 'animals',\n",
       " 'architecture',\n",
       " 'army',\n",
       " 'artistic',\n",
       " 'awareness',\n",
       " 'black_and_white',\n",
       " 'cartoons',\n",
       " 'celebrities',\n",
       " 'city',\n",
       " 'computers',\n",
       " 'cute',\n",
       " 'elements',\n",
       " 'food_and_drink',\n",
       " 'funny',\n",
       " 'games',\n",
       " 'girls',\n",
       " 'holidays',\n",
       " 'love',\n",
       " 'motors',\n",
       " 'movies',\n",
       " 'music',\n",
       " 'nature',\n",
       " 'seasons',\n",
       " 'space',\n",
       " 'sports',\n",
       " 'travel',\n",
       " 'vintage']"
      ]
     },
     "execution_count": 135,
     "metadata": {},
     "output_type": "execute_result"
    }
   ],
   "source": [
    "[_.text.lower().strip().replace(' ', '_') for _ in categories]"
   ]
  },
  {
   "cell_type": "code",
   "execution_count": null,
   "id": "a3be196b-f717-4d2d-9d08-a9bb5a3a93e4",
   "metadata": {},
   "outputs": [],
   "source": [
    "# celebrities\n",
    "# girls"
   ]
  },
  {
   "cell_type": "markdown",
   "id": "35074aab-9f33-4c8d-9d93-9f09e3619f8d",
   "metadata": {},
   "source": [
    "### _Category_\n",
    "----------"
   ]
  },
  {
   "cell_type": "code",
   "execution_count": 136,
   "id": "9c99d3d6-8f3c-485a-b9f4-075e61449197",
   "metadata": {},
   "outputs": [],
   "source": [
    "with urlopen(url=WALLPAPERSWIDE_WALLPAPER_CATEGORY_URL_TEMPLATE.format(r\"motors\")) as req:\n",
    "    text = req.read()"
   ]
  },
  {
   "cell_type": "code",
   "execution_count": 137,
   "id": "126e0bc7-8d80-4f5a-b942-bddba86a47bf",
   "metadata": {},
   "outputs": [],
   "source": [
    "soup = BeautifulSoup(text, \"html.parser\")\n",
    "thumbnail_grid = soup.find(\"ul\", attrs={\"class\": \"wallpapers\"})"
   ]
  },
  {
   "cell_type": "code",
   "execution_count": 138,
   "id": "21e86e98-062c-42a3-bb5c-2cf23b92d643",
   "metadata": {},
   "outputs": [
    {
     "data": {
      "text/plain": [
       "<div class=\"pagination\"><span class=\"disabled\">« Previous</span><span class=\"selected\">1</span><a href=\"/motors-desktop-wallpapers/page/2\">2</a>...<a href=\"/motors-desktop-wallpapers/page/263\">263</a><a href=\"/motors-desktop-wallpapers/page/2\">Next »</a></div>"
      ]
     },
     "execution_count": 138,
     "metadata": {},
     "output_type": "execute_result"
    }
   ],
   "source": [
    "page_count_info = soup.find(\"div\", attrs={\"class\": \"pagination\"})\n",
    "page_count_info"
   ]
  },
  {
   "cell_type": "code",
   "execution_count": 139,
   "id": "89d92b4d-79cf-454f-bf9d-55ec6873bfda",
   "metadata": {},
   "outputs": [
    {
     "data": {
      "text/plain": [
       "263"
      ]
     },
     "execution_count": 139,
     "metadata": {},
     "output_type": "execute_result"
    }
   ],
   "source": [
    "category_page_count: int = int(page_count_info.find_all(\"a\")[1].text)\n",
    "category_page_count"
   ]
  },
  {
   "cell_type": "markdown",
   "id": "605c079d-0b53-42ff-89af-39b2c41265b5",
   "metadata": {},
   "source": [
    "### _Image_\n",
    "-------------"
   ]
  },
  {
   "cell_type": "code",
   "execution_count": 140,
   "id": "fa115c14-9085-4660-b786-5ce56012b4ca",
   "metadata": {},
   "outputs": [],
   "source": [
    "first = thumbnail_grid.find_all(\"li\", attrs={\"class\": \"wall\"})[0]"
   ]
  },
  {
   "cell_type": "code",
   "execution_count": 141,
   "id": "29cd4ccc-acd4-485a-91c5-9430bda4b294",
   "metadata": {},
   "outputs": [],
   "source": [
    "thumb = first.find(\"div\", attrs={\"class\": \"thumb\"})"
   ]
  },
  {
   "cell_type": "code",
   "execution_count": 142,
   "id": "db621790-e8ce-4d2e-bb18-f03cb1a7187b",
   "metadata": {},
   "outputs": [],
   "source": [
    "page_link_div = thumb.find(\"div\", attrs={\"align\": \"center\", \"class\": \"mini-hud\", \"id\": \"hudtitle\"})"
   ]
  },
  {
   "cell_type": "code",
   "execution_count": 143,
   "id": "18710312-4ffb-4efd-8363-f522b6b04fbe",
   "metadata": {},
   "outputs": [
    {
     "data": {
      "text/plain": [
       "'/racing_mercedes_amg_sports_car-wallpapers.html'"
      ]
     },
     "execution_count": 143,
     "metadata": {},
     "output_type": "execute_result"
    }
   ],
   "source": [
    "image_download_page_uri = page_link_div.find(\"a\").get(\"href\", None)\n",
    "image_download_page_uri"
   ]
  },
  {
   "cell_type": "code",
   "execution_count": null,
   "id": "0c5fe174-f039-4ed6-81db-8405d623fce4",
   "metadata": {},
   "outputs": [],
   "source": []
  },
  {
   "cell_type": "code",
   "execution_count": 144,
   "id": "4289479b-cbc5-469b-9908-2bc05b26df4d",
   "metadata": {},
   "outputs": [
    {
     "data": {
      "text/plain": [
       "'https://wallpaperswide.com/racing_mercedes_amg_sports_car-wallpapers.html'"
      ]
     },
     "execution_count": 144,
     "metadata": {},
     "output_type": "execute_result"
    }
   ],
   "source": [
    "WALLPAPERSWIDE_BASE_URL + image_download_page_uri"
   ]
  },
  {
   "cell_type": "code",
   "execution_count": null,
   "id": "aa05e475-3eb9-4030-9d78-551af36c41b7",
   "metadata": {},
   "outputs": [],
   "source": []
  },
  {
   "cell_type": "code",
   "execution_count": 55,
   "id": "234a6ead-d403-47b3-90c3-4b5567c9f04e",
   "metadata": {},
   "outputs": [
    {
     "data": {
      "text/plain": [
       "4"
      ]
     },
     "execution_count": 55,
     "metadata": {},
     "output_type": "execute_result"
    }
   ],
   "source": [
    "# sleeps\n",
    "randint(1, 10)"
   ]
  },
  {
   "cell_type": "code",
   "execution_count": 17,
   "id": "6eb64c2f-864f-4ae9-bf7f-610b2b611c4e",
   "metadata": {},
   "outputs": [],
   "source": [
    "with urlopen(url=WALLPAPERSWIDE_BASE_URL + image_download_page_uri) as req:\n",
    "    download_page = req.read()"
   ]
  },
  {
   "cell_type": "code",
   "execution_count": 18,
   "id": "677afa6a-a819-4642-93cc-bda03b1cf202",
   "metadata": {},
   "outputs": [],
   "source": [
    "download_page = BeautifulSoup(download_page, \"html.parser\")"
   ]
  },
  {
   "cell_type": "code",
   "execution_count": 19,
   "id": "2fbeb39f-4eef-415f-9017-7aa02f04ceed",
   "metadata": {},
   "outputs": [],
   "source": [
    "# write a function that extracts the link for the highest resolution in the 16:9 or 16:10 categories\n",
    "# 16:10 prefferred\n",
    "\n",
    "link_grid = download_page.find(\"div\", attrs={\"class\": \"wallpaper-resolutions\", \"id\": \"wallpaper-resolutions\"})"
   ]
  },
  {
   "cell_type": "code",
   "execution_count": 20,
   "id": "8bc6ba5d-97f7-46c5-bbae-55ed50ed656e",
   "metadata": {},
   "outputs": [
    {
     "data": {
      "text/plain": [
       "[<h3>UHD 16:9</h3>,\n",
       " <h3>HD 16:9</h3>,\n",
       " <h3>UltraWide 21:9</h3>,\n",
       " <h3>UltraWide 24:10</h3>,\n",
       " <h3>UltraWide 32:9</h3>,\n",
       " <h3>UltraWide 32:10</h3>,\n",
       " <h3>Widescreen 16:10</h3>,\n",
       " <h3>Widescreen 5:3</h3>,\n",
       " <h3>Fullscreen 4:3</h3>,\n",
       " <h3>Fullscreen 5:4</h3>,\n",
       " <h3>Fullscreen 3:2</h3>,\n",
       " <h3>Tablet 1:1</h3>,\n",
       " <h3>Mobile 9:16</h3>,\n",
       " <h3>Mobile 9:19.5</h3>,\n",
       " <h3>Mobile 9:20</h3>,\n",
       " <h3>Mobile 9:21</h3>,\n",
       " <h3>Mobile 10:16</h3>,\n",
       " <h3>Mobile 2:3</h3>,\n",
       " <h3>Mobile 3:5</h3>,\n",
       " <h3>Mobile 3:4</h3>,\n",
       " <h3>2X Widescreen 16:10</h3>,\n",
       " <h3>2X Widescreen 5:3</h3>,\n",
       " <h3>2X HD 16:9</h3>,\n",
       " <h3>2X Fullscreen 4:3</h3>,\n",
       " <h3>2X Fullscreen 5:4</h3>,\n",
       " <h3>2X Fullscreen 3:2</h3>]"
      ]
     },
     "execution_count": 20,
     "metadata": {},
     "output_type": "execute_result"
    }
   ],
   "source": [
    "link_grid.find_all(\"h3\")"
   ]
  },
  {
   "cell_type": "code",
   "execution_count": 48,
   "id": "8ab79a6d-6ef4-4a77-9b17-7ce837eeb30a",
   "metadata": {},
   "outputs": [],
   "source": [
    "RESOLUTION_REGEX = re.compile(\"[\\\\d]{4}x[\\\\d]{4}\")"
   ]
  },
  {
   "cell_type": "code",
   "execution_count": 49,
   "id": "bc99a989-9a66-4eb3-93d3-44a3ef55cd2f",
   "metadata": {},
   "outputs": [
    {
     "data": {
      "text/plain": [
       "['Download Gorgeous Blonde Girl 16:10 960 x 600 Widescreen Wallpaper',\n",
       " 'Download Gorgeous Blonde Girl 16:10 1152 x 720 Widescreen Wallpaper',\n",
       " 'Download Gorgeous Blonde Girl 16:10 1280 x 800 Widescreen HD Wallpaper',\n",
       " 'Download Gorgeous Blonde Girl 16:10 1440 x 900 Widescreen HD Wallpaper',\n",
       " 'Download Gorgeous Blonde Girl 16:10 1680 x 1050 Widescreen HD Wallpaper',\n",
       " 'Download Gorgeous Blonde Girl 16:10 1920 x 1200 Widescreen HD Wallpaper',\n",
       " 'Download Gorgeous Blonde Girl 16:10 2560 x 1600 Widescreen HD Wallpaper',\n",
       " 'Download Gorgeous Blonde Girl 16:10 2880 x 1800 Widescreen HD Wallpaper',\n",
       " 'Download Gorgeous Blonde Girl 16:10 3840 x 2400 Widescreen 4K UHD Wallpaper']"
      ]
     },
     "execution_count": 49,
     "metadata": {},
     "output_type": "execute_result"
    }
   ],
   "source": [
    "[_.get(\"title\", None) for _ in link_grid.find_all(\"a\", attrs={\"target\": \"_self\"}) if \\\n",
    "             \"16:10\" in _.get(\"title\") and \"Dual\" not in _.get(\"title\")]"
   ]
  },
  {
   "cell_type": "code",
   "execution_count": 50,
   "id": "b8ef9d6c-8579-4c70-ab34-bcb8243f8b23",
   "metadata": {},
   "outputs": [
    {
     "data": {
      "text/plain": [
       "['/download/gorgeous_blonde_girl-wallpaper-3840x2160.jpg',\n",
       " '/download/gorgeous_blonde_girl-wallpaper-960x540.jpg',\n",
       " '/download/gorgeous_blonde_girl-wallpaper-1024x576.jpg',\n",
       " '/download/gorgeous_blonde_girl-wallpaper-1280x720.jpg',\n",
       " '/download/gorgeous_blonde_girl-wallpaper-1366x768.jpg',\n",
       " '/download/gorgeous_blonde_girl-wallpaper-1600x900.jpg',\n",
       " '/download/gorgeous_blonde_girl-wallpaper-1920x1080.jpg',\n",
       " '/download/gorgeous_blonde_girl-wallpaper-2048x1152.jpg',\n",
       " '/download/gorgeous_blonde_girl-wallpaper-2400x1350.jpg',\n",
       " '/download/gorgeous_blonde_girl-wallpaper-2560x1440.jpg',\n",
       " '/download/gorgeous_blonde_girl-wallpaper-2880x1620.jpg',\n",
       " '/download/gorgeous_blonde_girl-wallpaper-3554x1999.jpg']"
      ]
     },
     "execution_count": 50,
     "metadata": {},
     "output_type": "execute_result"
    }
   ],
   "source": [
    "[_.get(\"href\", None) for _ in link_grid.find_all(\"a\", attrs={\"target\": \"_self\"}) if \\\n",
    "             \"16:9\" in _.get(\"title\") and \"Dual\" not in _.get(\"title\")]"
   ]
  },
  {
   "cell_type": "code",
   "execution_count": 64,
   "id": "5f5d07eb-d5f5-4896-87fc-30d64585827b",
   "metadata": {},
   "outputs": [
    {
     "data": {
      "text/plain": [
       "<re.Match object; span=(8, 17), match='8587x6642'>"
      ]
     },
     "execution_count": 64,
     "metadata": {},
     "output_type": "execute_result"
    }
   ],
   "source": [
    "re.search(RESOLUTION_REGEX, \"jkhioasg8587x6642\")"
   ]
  },
  {
   "cell_type": "code",
   "execution_count": 59,
   "id": "12b108c0-c4bb-4a35-b2ea-a160add5e279",
   "metadata": {},
   "outputs": [
    {
     "data": {
      "text/plain": [
       "[<re.Match object; span=(41, 50), match='3840x2160'>,\n",
       " None,\n",
       " None,\n",
       " None,\n",
       " None,\n",
       " None,\n",
       " <re.Match object; span=(41, 50), match='1920x1080'>,\n",
       " <re.Match object; span=(41, 50), match='2048x1152'>,\n",
       " <re.Match object; span=(41, 50), match='2400x1350'>,\n",
       " <re.Match object; span=(41, 50), match='2560x1440'>,\n",
       " <re.Match object; span=(41, 50), match='2880x1620'>,\n",
       " <re.Match object; span=(41, 50), match='3554x1999'>]"
      ]
     },
     "execution_count": 59,
     "metadata": {},
     "output_type": "execute_result"
    }
   ],
   "source": [
    "[re.search(RESOLUTION_REGEX, _.get(\"href\", None)) for _ in link_grid.find_all(\"a\", attrs={\"target\": \"_self\"}) if \\\n",
    "             \"16:9\" in _.get(\"title\") and \"Dual\" not in _.get(\"title\")]"
   ]
  },
  {
   "cell_type": "code",
   "execution_count": 27,
   "id": "055de91b-15e8-4b32-90cc-a6e63a5bc7b4",
   "metadata": {},
   "outputs": [
    {
     "data": {
      "text/plain": [
       "True"
      ]
     },
     "execution_count": 27,
     "metadata": {},
     "output_type": "execute_result"
    }
   ],
   "source": [
    "\"oba\" in \"anoban\""
   ]
  },
  {
   "cell_type": "code",
   "execution_count": 85,
   "id": "51d66d3d-49d2-4f69-abc3-5886b3b5dc49",
   "metadata": {},
   "outputs": [],
   "source": [
    "RE_EXTRACT_FILENAME = re.compile(\"[a-zA-Z\\\\d\\\\-\\\\_]+\\\\.jp[e]*g\")"
   ]
  },
  {
   "cell_type": "code",
   "execution_count": 87,
   "id": "0e8bafa6-528c-4a5e-952e-716894ba8e1b",
   "metadata": {},
   "outputs": [],
   "source": [
    "fname = re.search(RE_EXTRACT_FILENAME, \"/download/gorgeous_blonde_girl-wallpaper-3840x2160.jpg\").group()"
   ]
  },
  {
   "cell_type": "code",
   "execution_count": null,
   "id": "9401d6e3-e70a-46d1-94cd-fd1cd94cfb95",
   "metadata": {},
   "outputs": [],
   "source": []
  },
  {
   "cell_type": "code",
   "execution_count": 95,
   "id": "a8eadaaf-c903-4627-99ac-76c49e0f42b9",
   "metadata": {},
   "outputs": [],
   "source": [
    "with urlopen(WALLPAPERSWIDE_DOWNLOAD_URL.format(fname)) as request:\n",
    "    with open(file=fname, mode=\"wb\") as fp:\n",
    "        fp.write(request.read())"
   ]
  },
  {
   "cell_type": "code",
   "execution_count": 90,
   "id": "d0cc9884-2b0b-4537-bf9e-9d8a66ccaa71",
   "metadata": {},
   "outputs": [
    {
     "data": {
      "text/plain": [
       "'https://wallpaperswide.com/gorgeous_blonde_girl-wallpaper-3840x2160.jpg'"
      ]
     },
     "execution_count": 90,
     "metadata": {},
     "output_type": "execute_result"
    }
   ],
   "source": [
    "WALLPAPERSWIDE_BASE_URL + fname"
   ]
  },
  {
   "cell_type": "code",
   "execution_count": 26,
   "id": "f97e3022-2c2f-4dba-8ad9-b7c9edbf84c9",
   "metadata": {},
   "outputs": [
    {
     "data": {
      "text/plain": [
       "['/download/gorgeous_blonde_girl-wallpaper-3840x2160.jpg',\n",
       " '/download/gorgeous_blonde_girl-wallpaper-960x540.jpg',\n",
       " '/download/gorgeous_blonde_girl-wallpaper-1024x576.jpg',\n",
       " '/download/gorgeous_blonde_girl-wallpaper-1280x720.jpg',\n",
       " '/download/gorgeous_blonde_girl-wallpaper-1366x768.jpg',\n",
       " '/download/gorgeous_blonde_girl-wallpaper-1600x900.jpg',\n",
       " '/download/gorgeous_blonde_girl-wallpaper-1920x1080.jpg',\n",
       " '/download/gorgeous_blonde_girl-wallpaper-2048x1152.jpg',\n",
       " '/download/gorgeous_blonde_girl-wallpaper-2400x1350.jpg',\n",
       " '/download/gorgeous_blonde_girl-wallpaper-2560x1440.jpg',\n",
       " '/download/gorgeous_blonde_girl-wallpaper-2880x1620.jpg',\n",
       " '/download/gorgeous_blonde_girl-wallpaper-3554x1999.jpg',\n",
       " '/download/gorgeous_blonde_girl-wallpaper-2560x1080.jpg',\n",
       " '/download/gorgeous_blonde_girl-wallpaper-3440x1440.jpg',\n",
       " '/download/gorgeous_blonde_girl-wallpaper-2880x1200.jpg',\n",
       " '/download/gorgeous_blonde_girl-wallpaper-3840x1600.jpg',\n",
       " '/download/gorgeous_blonde_girl-wallpaper-3840x1080.jpg',\n",
       " '/download/gorgeous_blonde_girl-wallpaper-2880x900.jpg',\n",
       " '/download/gorgeous_blonde_girl-wallpaper-3840x1200.jpg',\n",
       " '/download/gorgeous_blonde_girl-wallpaper-960x600.jpg',\n",
       " '/download/gorgeous_blonde_girl-wallpaper-1152x720.jpg',\n",
       " '/download/gorgeous_blonde_girl-wallpaper-1280x800.jpg',\n",
       " '/download/gorgeous_blonde_girl-wallpaper-1440x900.jpg',\n",
       " '/download/gorgeous_blonde_girl-wallpaper-1680x1050.jpg',\n",
       " '/download/gorgeous_blonde_girl-wallpaper-1920x1200.jpg',\n",
       " '/download/gorgeous_blonde_girl-wallpaper-2560x1600.jpg',\n",
       " '/download/gorgeous_blonde_girl-wallpaper-2880x1800.jpg',\n",
       " '/download/gorgeous_blonde_girl-wallpaper-3840x2400.jpg',\n",
       " '/download/gorgeous_blonde_girl-wallpaper-800x480.jpg',\n",
       " '/download/gorgeous_blonde_girl-wallpaper-1280x768.jpg',\n",
       " '/download/gorgeous_blonde_girl-wallpaper-800x600.jpg',\n",
       " '/download/gorgeous_blonde_girl-wallpaper-1024x768.jpg',\n",
       " '/download/gorgeous_blonde_girl-wallpaper-1152x864.jpg',\n",
       " '/download/gorgeous_blonde_girl-wallpaper-1280x960.jpg',\n",
       " '/download/gorgeous_blonde_girl-wallpaper-1400x1050.jpg',\n",
       " '/download/gorgeous_blonde_girl-wallpaper-1440x1080.jpg',\n",
       " '/download/gorgeous_blonde_girl-wallpaper-1600x1200.jpg',\n",
       " '/download/gorgeous_blonde_girl-wallpaper-1680x1260.jpg',\n",
       " '/download/gorgeous_blonde_girl-wallpaper-1920x1440.jpg',\n",
       " '/download/gorgeous_blonde_girl-wallpaper-2048x1536.jpg',\n",
       " '/download/gorgeous_blonde_girl-wallpaper-2560x1920.jpg',\n",
       " '/download/gorgeous_blonde_girl-wallpaper-2800x2100.jpg',\n",
       " '/download/gorgeous_blonde_girl-wallpaper-3200x2400.jpg',\n",
       " '/download/gorgeous_blonde_girl-wallpaper-1280x1024.jpg',\n",
       " '/download/gorgeous_blonde_girl-wallpaper-1920x1536.jpg',\n",
       " '/download/gorgeous_blonde_girl-wallpaper-2560x2048.jpg',\n",
       " '/download/gorgeous_blonde_girl-wallpaper-960x640.jpg',\n",
       " '/download/gorgeous_blonde_girl-wallpaper-1152x768.jpg',\n",
       " '/download/gorgeous_blonde_girl-wallpaper-1440x960.jpg',\n",
       " '/download/gorgeous_blonde_girl-wallpaper-1920x1280.jpg',\n",
       " '/download/gorgeous_blonde_girl-wallpaper-2000x1333.jpg',\n",
       " '/download/gorgeous_blonde_girl-wallpaper-2160x1440.jpg',\n",
       " '/download/gorgeous_blonde_girl-wallpaper-2736x1824.jpg',\n",
       " '/download/gorgeous_blonde_girl-wallpaper-2880x1920.jpg',\n",
       " '/download/gorgeous_blonde_girl-wallpaper-3000x2000.jpg',\n",
       " '/download/gorgeous_blonde_girl-wallpaper-3240x2160.jpg',\n",
       " '/download/gorgeous_blonde_girl-wallpaper-3840x2560.jpg',\n",
       " '/download/gorgeous_blonde_girl-wallpaper-1024x1024.jpg',\n",
       " '/download/gorgeous_blonde_girl-wallpaper-1280x1280.jpg',\n",
       " '/download/gorgeous_blonde_girl-wallpaper-2048x2048.jpg',\n",
       " '/download/gorgeous_blonde_girl-wallpaper-2160x2160.jpg',\n",
       " '/download/gorgeous_blonde_girl-wallpaper-2360x2360.jpg',\n",
       " '/download/gorgeous_blonde_girl-wallpaper-360x640.jpg',\n",
       " '/download/gorgeous_blonde_girl-wallpaper-480x854.jpg',\n",
       " '/download/gorgeous_blonde_girl-wallpaper-540x960.jpg',\n",
       " '/download/gorgeous_blonde_girl-wallpaper-720x1280.jpg',\n",
       " '/download/gorgeous_blonde_girl-wallpaper-1080x1920.jpg',\n",
       " '/download/gorgeous_blonde_girl-wallpaper-720x1560.jpg',\n",
       " '/download/gorgeous_blonde_girl-wallpaper-830x1800.jpg',\n",
       " '/download/gorgeous_blonde_girl-wallpaper-1080x2340.jpg',\n",
       " '/download/gorgeous_blonde_girl-wallpaper-720x1600.jpg',\n",
       " '/download/gorgeous_blonde_girl-wallpaper-1080x2400.jpg',\n",
       " '/download/gorgeous_blonde_girl-wallpaper-1080x2520.jpg',\n",
       " '/download/gorgeous_blonde_girl-wallpaper-800x1280.jpg',\n",
       " '/download/gorgeous_blonde_girl-wallpaper-1200x1920.jpg',\n",
       " '/download/gorgeous_blonde_girl-wallpaper-320x480.jpg',\n",
       " '/download/gorgeous_blonde_girl-wallpaper-640x960.jpg',\n",
       " '/download/gorgeous_blonde_girl-wallpaper-768x1152.jpg',\n",
       " '/download/gorgeous_blonde_girl-wallpaper-240x400.jpg',\n",
       " '/download/gorgeous_blonde_girl-wallpaper-480x800.jpg',\n",
       " '/download/gorgeous_blonde_girl-wallpaper-768x1280.jpg',\n",
       " '/download/gorgeous_blonde_girl-wallpaper-240x320.jpg',\n",
       " '/download/gorgeous_blonde_girl-wallpaper-480x640.jpg',\n",
       " '/download/gorgeous_blonde_girl-wallpaper-600x800.jpg',\n",
       " '/download/gorgeous_blonde_girl-wallpaper-768x1024.jpg',\n",
       " '/download/gorgeous_blonde_girl-wallpaper-1920x600.jpg',\n",
       " '/download/gorgeous_blonde_girl-wallpaper-2304x720.jpg',\n",
       " '/download/gorgeous_blonde_girl-wallpaper-2560x800.jpg',\n",
       " '/download/gorgeous_blonde_girl-wallpaper-2880x900.jpg',\n",
       " '/download/gorgeous_blonde_girl-wallpaper-3360x1050.jpg',\n",
       " '/download/gorgeous_blonde_girl-wallpaper-3840x1200.jpg',\n",
       " '/download/gorgeous_blonde_girl-wallpaper-1600x480.jpg',\n",
       " '/download/gorgeous_blonde_girl-wallpaper-2560x768.jpg',\n",
       " '/download/gorgeous_blonde_girl-wallpaper-1920x540.jpg',\n",
       " '/download/gorgeous_blonde_girl-wallpaper-2048x576.jpg',\n",
       " '/download/gorgeous_blonde_girl-wallpaper-2560x720.jpg',\n",
       " '/download/gorgeous_blonde_girl-wallpaper-2732x768.jpg',\n",
       " '/download/gorgeous_blonde_girl-wallpaper-3200x900.jpg',\n",
       " '/download/gorgeous_blonde_girl-wallpaper-3840x1080.jpg',\n",
       " '/download/gorgeous_blonde_girl-wallpaper-1600x600.jpg',\n",
       " '/download/gorgeous_blonde_girl-wallpaper-2048x768.jpg',\n",
       " '/download/gorgeous_blonde_girl-wallpaper-2304x864.jpg',\n",
       " '/download/gorgeous_blonde_girl-wallpaper-2560x960.jpg',\n",
       " '/download/gorgeous_blonde_girl-wallpaper-2800x1050.jpg',\n",
       " '/download/gorgeous_blonde_girl-wallpaper-2880x1080.jpg',\n",
       " '/download/gorgeous_blonde_girl-wallpaper-3200x1200.jpg',\n",
       " '/download/gorgeous_blonde_girl-wallpaper-3360x1260.jpg',\n",
       " '/download/gorgeous_blonde_girl-wallpaper-3840x1440.jpg',\n",
       " '/download/gorgeous_blonde_girl-wallpaper-2560x1024.jpg',\n",
       " '/download/gorgeous_blonde_girl-wallpaper-2304x768.jpg',\n",
       " '/download/gorgeous_blonde_girl-wallpaper-2880x960.jpg',\n",
       " '/download/gorgeous_blonde_girl-wallpaper-3840x1280.jpg']"
      ]
     },
     "execution_count": 26,
     "metadata": {},
     "output_type": "execute_result"
    }
   ],
   "source": [
    "[_.get(\"href\", None) for _ in link_grid.find_all(\"a\", attrs={\"target\": \"_self\"})]"
   ]
  },
  {
   "cell_type": "code",
   "execution_count": null,
   "id": "f1db0a89-ad0a-49dc-84a1-c8c5539f5ecf",
   "metadata": {},
   "outputs": [],
   "source": []
  }
 ],
 "metadata": {
  "kernelspec": {
   "display_name": "Python 3 (ipykernel)",
   "language": "python",
   "name": "python3"
  },
  "language_info": {
   "codemirror_mode": {
    "name": "ipython",
    "version": 3
   },
   "file_extension": ".py",
   "mimetype": "text/x-python",
   "name": "python",
   "nbconvert_exporter": "python",
   "pygments_lexer": "ipython3",
   "version": "3.13.3"
  }
 },
 "nbformat": 4,
 "nbformat_minor": 5
}

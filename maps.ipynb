{
 "cells": [
  {
   "cell_type": "code",
   "execution_count": null,
   "id": "3b4b9dea-8a01-4ea9-9837-3dd33b97629e",
   "metadata": {},
   "outputs": [],
   "source": [
    "# https://data.opendatasoft.com/explore/dataset/georef-australia-state%40public/export/?disjunctive.ste_code&disjunctive.ste_name\n",
    "# credits OpenDataSoft"
   ]
  },
  {
   "cell_type": "code",
   "execution_count": 140,
   "id": "49380b4f-f996-4452-b820-df83c6ed724e",
   "metadata": {},
   "outputs": [],
   "source": [
    "import os\n",
    "import json\n",
    "import numpy as np\n",
    "import pandas as pd\n",
    "import matplotlib.pyplot as plt\n",
    "from matplotlib.colors import from_levels_and_colors"
   ]
  },
  {
   "cell_type": "code",
   "execution_count": null,
   "id": "2a0c3093-0f79-4908-ac65-831c19abb964",
   "metadata": {},
   "outputs": [],
   "source": []
  },
  {
   "cell_type": "code",
   "execution_count": 48,
   "id": "935af785-bcf8-417e-a0f9-549b38acf3bc",
   "metadata": {},
   "outputs": [],
   "source": [
    "hordeum_australia = pd.read_csv(r\"./data/hordeum-2025-05-07/hordeum-2025-05-07.csv\", low_memory=False)\n",
    "australia = pd.read_csv(r\"./data/georef-australia-state@public.csv\", low_memory=False, sep=';')"
   ]
  },
  {
   "cell_type": "code",
   "execution_count": 49,
   "id": "67ca4c54-7842-44bf-9d10-e84c5af7bd50",
   "metadata": {},
   "outputs": [
    {
     "data": {
      "text/plain": [
       "['citation.csv',\n",
       " 'doi.txt',\n",
       " 'headings.csv',\n",
       " 'hordeum-2025-05-07.csv',\n",
       " 'README.html']"
      ]
     },
     "execution_count": 49,
     "metadata": {},
     "output_type": "execute_result"
    }
   ],
   "source": [
    "os.listdir(r\"./data/hordeum-2025-05-07/\")"
   ]
  },
  {
   "cell_type": "code",
   "execution_count": 50,
   "id": "cfa096ad-dc8a-4b30-a46b-4a579175390e",
   "metadata": {},
   "outputs": [],
   "source": [
    "with pd.option_context(\"display.max_rows\", None):\n",
    "    # print(pd.read_csv(r\"./data/hordeum-2025-05-07/headings.csv\").loc[:, [\"Column name\", \"Field description\"]])\n",
    "    pass"
   ]
  },
  {
   "cell_type": "code",
   "execution_count": 51,
   "id": "962cc748-a99f-40b4-a4f4-74bab94ecda6",
   "metadata": {},
   "outputs": [],
   "source": [
    "# life stage\n",
    "# Family  \n",
    "# Genus  \n",
    "# Subgenus  \n",
    "# Specific Epithet\n",
    "# Latitude  \n",
    "# Longitude  \n",
    "# Datum"
   ]
  },
  {
   "cell_type": "code",
   "execution_count": 52,
   "id": "a8e24f2c-ec4b-48ca-b15a-a3bb24568866",
   "metadata": {},
   "outputs": [
    {
     "data": {
      "text/plain": [
       "Index(['decimalLatitude', 'decimalLongitude', 'verbatimLatitude',\n",
       "       'verbatimLongitude'],\n",
       "      dtype='object')"
      ]
     },
     "execution_count": 52,
     "metadata": {},
     "output_type": "execute_result"
    }
   ],
   "source": [
    "hordeum_australia.columns[hordeum_australia.columns.str.contains(\"itude\")]"
   ]
  },
  {
   "cell_type": "code",
   "execution_count": 125,
   "id": "e2c528a1-f3ea-4769-9aea-ab8915161824",
   "metadata": {},
   "outputs": [],
   "source": [
    "hordeum_tidied =  hordeum_australia.loc[:, [\"country\", \"stateProvince\", \"day\", \"month\", \"year\", \"genus\", \"specificEpithet\",\n",
    "                              \"decimalLatitude\", \"decimalLongitude\"]].\\\n",
    "                                        dropna(subset=[\"specificEpithet\", \"decimalLatitude\", \"decimalLongitude\"])"
   ]
  },
  {
   "cell_type": "code",
   "execution_count": 126,
   "id": "a7c9138e-c183-46a2-b60d-0ab9f7825257",
   "metadata": {},
   "outputs": [
    {
     "data": {
      "text/html": [
       "<div>\n",
       "<style scoped>\n",
       "    .dataframe tbody tr th:only-of-type {\n",
       "        vertical-align: middle;\n",
       "    }\n",
       "\n",
       "    .dataframe tbody tr th {\n",
       "        vertical-align: top;\n",
       "    }\n",
       "\n",
       "    .dataframe thead th {\n",
       "        text-align: right;\n",
       "    }\n",
       "</style>\n",
       "<table border=\"1\" class=\"dataframe\">\n",
       "  <thead>\n",
       "    <tr style=\"text-align: right;\">\n",
       "      <th></th>\n",
       "      <th>country</th>\n",
       "      <th>stateProvince</th>\n",
       "      <th>day</th>\n",
       "      <th>month</th>\n",
       "      <th>year</th>\n",
       "      <th>genus</th>\n",
       "      <th>specificEpithet</th>\n",
       "      <th>decimalLatitude</th>\n",
       "      <th>decimalLongitude</th>\n",
       "    </tr>\n",
       "  </thead>\n",
       "  <tbody>\n",
       "    <tr>\n",
       "      <th>0</th>\n",
       "      <td>Australia</td>\n",
       "      <td>South Australia</td>\n",
       "      <td>16.0</td>\n",
       "      <td>12.0</td>\n",
       "      <td>1976.0</td>\n",
       "      <td>Hordeum</td>\n",
       "      <td>marinum</td>\n",
       "      <td>-35.050000</td>\n",
       "      <td>139.116667</td>\n",
       "    </tr>\n",
       "    <tr>\n",
       "      <th>1</th>\n",
       "      <td>Australia</td>\n",
       "      <td>Victoria</td>\n",
       "      <td>20.0</td>\n",
       "      <td>9.0</td>\n",
       "      <td>1978.0</td>\n",
       "      <td>Hordeum</td>\n",
       "      <td>glaucum</td>\n",
       "      <td>-35.850000</td>\n",
       "      <td>145.433333</td>\n",
       "    </tr>\n",
       "    <tr>\n",
       "      <th>2</th>\n",
       "      <td>Australia</td>\n",
       "      <td>Tasmania</td>\n",
       "      <td>NaN</td>\n",
       "      <td>6.0</td>\n",
       "      <td>1928.0</td>\n",
       "      <td>Hordeum</td>\n",
       "      <td>aegiceras</td>\n",
       "      <td>-42.883333</td>\n",
       "      <td>147.316667</td>\n",
       "    </tr>\n",
       "    <tr>\n",
       "      <th>3</th>\n",
       "      <td>Australia</td>\n",
       "      <td>Tasmania</td>\n",
       "      <td>1.0</td>\n",
       "      <td>12.0</td>\n",
       "      <td>1986.0</td>\n",
       "      <td>Hordeum</td>\n",
       "      <td>glaucum</td>\n",
       "      <td>-40.333333</td>\n",
       "      <td>148.066667</td>\n",
       "    </tr>\n",
       "    <tr>\n",
       "      <th>4</th>\n",
       "      <td>Australia</td>\n",
       "      <td>Tasmania</td>\n",
       "      <td>30.0</td>\n",
       "      <td>11.0</td>\n",
       "      <td>1986.0</td>\n",
       "      <td>Hordeum</td>\n",
       "      <td>glaucum</td>\n",
       "      <td>-40.316667</td>\n",
       "      <td>147.883333</td>\n",
       "    </tr>\n",
       "    <tr>\n",
       "      <th>...</th>\n",
       "      <td>...</td>\n",
       "      <td>...</td>\n",
       "      <td>...</td>\n",
       "      <td>...</td>\n",
       "      <td>...</td>\n",
       "      <td>...</td>\n",
       "      <td>...</td>\n",
       "      <td>...</td>\n",
       "      <td>...</td>\n",
       "    </tr>\n",
       "    <tr>\n",
       "      <th>2666</th>\n",
       "      <td>Australia</td>\n",
       "      <td>Victoria</td>\n",
       "      <td>1.0</td>\n",
       "      <td>11.0</td>\n",
       "      <td>2008.0</td>\n",
       "      <td>Hordeum</td>\n",
       "      <td>distichon</td>\n",
       "      <td>-37.316670</td>\n",
       "      <td>143.783330</td>\n",
       "    </tr>\n",
       "    <tr>\n",
       "      <th>2667</th>\n",
       "      <td>Australia</td>\n",
       "      <td>Victoria</td>\n",
       "      <td>22.0</td>\n",
       "      <td>11.0</td>\n",
       "      <td>1979.0</td>\n",
       "      <td>Hordeum</td>\n",
       "      <td>murinum</td>\n",
       "      <td>-36.933300</td>\n",
       "      <td>143.333300</td>\n",
       "    </tr>\n",
       "    <tr>\n",
       "      <th>2668</th>\n",
       "      <td>Australia</td>\n",
       "      <td>New South Wales</td>\n",
       "      <td>8.0</td>\n",
       "      <td>9.0</td>\n",
       "      <td>1931.0</td>\n",
       "      <td>Hordeum</td>\n",
       "      <td>glaucum</td>\n",
       "      <td>-33.216700</td>\n",
       "      <td>148.116700</td>\n",
       "    </tr>\n",
       "    <tr>\n",
       "      <th>2669</th>\n",
       "      <td>Australia</td>\n",
       "      <td>Victoria</td>\n",
       "      <td>1.0</td>\n",
       "      <td>9.0</td>\n",
       "      <td>2009.0</td>\n",
       "      <td>Hordeum</td>\n",
       "      <td>marinum</td>\n",
       "      <td>-36.495278</td>\n",
       "      <td>145.087500</td>\n",
       "    </tr>\n",
       "    <tr>\n",
       "      <th>2670</th>\n",
       "      <td>Australia</td>\n",
       "      <td>Victoria</td>\n",
       "      <td>7.0</td>\n",
       "      <td>11.0</td>\n",
       "      <td>2007.0</td>\n",
       "      <td>Hordeum</td>\n",
       "      <td>distichon</td>\n",
       "      <td>-37.920833</td>\n",
       "      <td>145.025000</td>\n",
       "    </tr>\n",
       "  </tbody>\n",
       "</table>\n",
       "<p>2549 rows × 9 columns</p>\n",
       "</div>"
      ],
      "text/plain": [
       "        country    stateProvince   day  month    year    genus  \\\n",
       "0     Australia  South Australia  16.0   12.0  1976.0  Hordeum   \n",
       "1     Australia         Victoria  20.0    9.0  1978.0  Hordeum   \n",
       "2     Australia         Tasmania   NaN    6.0  1928.0  Hordeum   \n",
       "3     Australia         Tasmania   1.0   12.0  1986.0  Hordeum   \n",
       "4     Australia         Tasmania  30.0   11.0  1986.0  Hordeum   \n",
       "...         ...              ...   ...    ...     ...      ...   \n",
       "2666  Australia         Victoria   1.0   11.0  2008.0  Hordeum   \n",
       "2667  Australia         Victoria  22.0   11.0  1979.0  Hordeum   \n",
       "2668  Australia  New South Wales   8.0    9.0  1931.0  Hordeum   \n",
       "2669  Australia         Victoria   1.0    9.0  2009.0  Hordeum   \n",
       "2670  Australia         Victoria   7.0   11.0  2007.0  Hordeum   \n",
       "\n",
       "     specificEpithet  decimalLatitude  decimalLongitude  \n",
       "0            marinum       -35.050000        139.116667  \n",
       "1            glaucum       -35.850000        145.433333  \n",
       "2          aegiceras       -42.883333        147.316667  \n",
       "3            glaucum       -40.333333        148.066667  \n",
       "4            glaucum       -40.316667        147.883333  \n",
       "...              ...              ...               ...  \n",
       "2666       distichon       -37.316670        143.783330  \n",
       "2667         murinum       -36.933300        143.333300  \n",
       "2668         glaucum       -33.216700        148.116700  \n",
       "2669         marinum       -36.495278        145.087500  \n",
       "2670       distichon       -37.920833        145.025000  \n",
       "\n",
       "[2549 rows x 9 columns]"
      ]
     },
     "execution_count": 126,
     "metadata": {},
     "output_type": "execute_result"
    }
   ],
   "source": [
    "hordeum_tidied"
   ]
  },
  {
   "cell_type": "code",
   "execution_count": 59,
   "id": "6524d9ed-b483-4ab7-ba08-372be99b6ac7",
   "metadata": {},
   "outputs": [
    {
     "data": {
      "text/plain": [
       "0    NaN\n",
       "1     WA\n",
       "2     NT\n",
       "3    VIC\n",
       "4    NSW\n",
       "5     SA\n",
       "6    ACT\n",
       "7    TAS\n",
       "8    QLD\n",
       "Name: Iso 3166-2 Feature Code, dtype: object"
      ]
     },
     "execution_count": 59,
     "metadata": {},
     "output_type": "execute_result"
    }
   ],
   "source": [
    "australia.loc[:, \"Iso 3166-2 Feature Code\"]"
   ]
  },
  {
   "cell_type": "code",
   "execution_count": 64,
   "id": "8997bf9c-6f3b-4376-ac0d-4b8bdd71a1be",
   "metadata": {},
   "outputs": [],
   "source": [
    "with open(r\"./data/georef-australia-state@public.json\", mode='r') as fp:\n",
    "    ausgeo = json.load(fp=fp)"
   ]
  },
  {
   "cell_type": "code",
   "execution_count": 74,
   "id": "a44ef030-8e3f-465b-8105-71aabbd601ac",
   "metadata": {},
   "outputs": [
    {
     "data": {
      "text/plain": [
       "[(None, ['Other Territories']),\n",
       " ('WA', ['Western Australia']),\n",
       " ('NT', ['Northern Territory']),\n",
       " ('VIC', ['Victoria']),\n",
       " ('NSW', ['New South Wales']),\n",
       " ('SA', ['South Australia']),\n",
       " ('ACT', ['Australian Capital Territory']),\n",
       " ('TAS', ['Tasmania']),\n",
       " ('QLD', ['Queensland'])]"
      ]
     },
     "execution_count": 74,
     "metadata": {},
     "output_type": "execute_result"
    }
   ],
   "source": [
    "[(_.get(\"ste_iso3166_code\", None), _.get(\"ste_name\", None)) for _ in ausgeo]"
   ]
  },
  {
   "cell_type": "code",
   "execution_count": 88,
   "id": "35399e49-5f88-4604-be49-0a19fb8cae59",
   "metadata": {},
   "outputs": [
    {
     "data": {
      "text/plain": [
       "dict_keys(['coordinates', 'type'])"
      ]
     },
     "execution_count": 88,
     "metadata": {},
     "output_type": "execute_result"
    }
   ],
   "source": [
    "ausgeo[1].get(\"geo_shape\", \"Oops!\").get(\"geometry\", \"Welp!\").keys()"
   ]
  },
  {
   "cell_type": "code",
   "execution_count": 114,
   "id": "e9e5b2e7-a3a3-462f-81c9-f93c99944457",
   "metadata": {},
   "outputs": [],
   "source": [
    "ausgeo;"
   ]
  },
  {
   "cell_type": "code",
   "execution_count": null,
   "id": "104d9636-37b4-4848-b4b5-36a65c10d9dd",
   "metadata": {},
   "outputs": [],
   "source": [
    "fig, axes = plt.subplots()\n",
    "fig.set_size_inches(16, 16)\n",
    "for state_or_territory in ausgeo:\n",
    "    for coordinate_group in state_or_territory.get(\"geo_shape\").get(\"geometry\").get(\"coordinates\"):\n",
    "        for coordinate in coordinate_group:\n",
    "            try:\n",
    "                for (x, y) in coordinate:\n",
    "                    axes.plot(x, y, marker='o', color=\"black\", markersize=0.5)\n",
    "            except TypeError:\n",
    "                axes.plot(coordinate[0], coordinate[1], marker='o', color=\"black\", markersize=0.5)\n",
    "axes.scatter(hordeum_tidied.decimalLongitude, hordeum_tidied.decimalLatitude,\n",
    "             c=hordeum_tidied.specificEpithet.astype(\"category\").cat.codes.values)\n",
    "plt.show()"
   ]
  },
  {
   "cell_type": "code",
   "execution_count": null,
   "id": "b3472095-77b3-4741-ada5-ee6bdf020e39",
   "metadata": {},
   "outputs": [],
   "source": []
  },
  {
   "cell_type": "code",
   "execution_count": 163,
   "id": "3b1cbd3c-c528-4a5e-a234-c5cce4ffce13",
   "metadata": {},
   "outputs": [
    {
     "data": {
      "image/png": "[encoded data removed]",
      "text/plain": [
       "<Figure size 640x480 with 1 Axes>"
      ]
     },
     "metadata": {},
     "output_type": "display_data"
    }
   ],
   "source": [
    "fig, axes = plt.subplots()\n",
    "axes.scatter(hordeum_tidied.decimalLongitude, hordeum_tidied.decimalLatitude,\n",
    "             c=hordeum_tidied.specificEpithet.astype(\"category\").cat.codes.values)\n",
    "# axes.legend()\n",
    "plt.show()"
   ]
  }
 ],
 "metadata": {
  "kernelspec": {
   "display_name": "Python 3 (ipykernel)",
   "language": "python",
   "name": "python3"
  },
  "language_info": {
   "codemirror_mode": {
    "name": "ipython",
    "version": 3
   },
   "file_extension": ".py",
   "mimetype": "text/x-python",
   "name": "python",
   "nbconvert_exporter": "python",
   "pygments_lexer": "ipython3",
   "version": "3.13.3"
  }
 },
 "nbformat": 4,
 "nbformat_minor": 5
}

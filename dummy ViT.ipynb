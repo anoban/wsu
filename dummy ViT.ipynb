{
 "cells": [
  {
   "cell_type": "code",
   "execution_count": 1,
   "id": "364413d5-f078-4b3b-8097-2bbc24675cb6",
   "metadata": {},
   "outputs": [],
   "source": [
    "import numpy as np\n",
    "from PIL import Image\n",
    "import matplotlib.pyplot as plt"
   ]
  },
  {
   "cell_type": "code",
   "execution_count": 8,
   "id": "8c1471bc-13c3-4d88-816d-59a88775160e",
   "metadata": {},
   "outputs": [],
   "source": [
    "roots = plt.imread(r\"./skillnadenstradgard_rotter_planta-1070x713.jpg\")"
   ]
  },
  {
   "cell_type": "code",
   "execution_count": 10,
   "id": "63d16cc9-ddc3-41f7-9d23-e507832a69e7",
   "metadata": {},
   "outputs": [
    {
     "data": {
      "text/plain": [
       "numpy.ndarray"
      ]
     },
     "execution_count": 10,
     "metadata": {},
     "output_type": "execute_result"
    }
   ],
   "source": [
    "type(roots)"
   ]
  },
  {
   "cell_type": "code",
   "execution_count": 27,
   "id": "6651425e-cade-417c-9539-29e64faf9347",
   "metadata": {},
   "outputs": [
    {
     "data": {
      "text/plain": [
       "array([[[79, 77, 82],\n",
       "        [76, 74, 79],\n",
       "        [72, 70, 75],\n",
       "        ...,\n",
       "        [61, 59, 60],\n",
       "        [58, 56, 57],\n",
       "        [56, 54, 55]],\n",
       "\n",
       "       [[82, 80, 85],\n",
       "        [80, 78, 83],\n",
       "        [78, 76, 81],\n",
       "        ...,\n",
       "        [56, 54, 55],\n",
       "        [53, 51, 52],\n",
       "        [52, 50, 51]],\n",
       "\n",
       "       [[87, 85, 90],\n",
       "        [85, 83, 88],\n",
       "        [84, 82, 87],\n",
       "        ...,\n",
       "        [56, 54, 55],\n",
       "        [53, 51, 52],\n",
       "        [52, 50, 51]],\n",
       "\n",
       "       ...,\n",
       "\n",
       "       [[32, 32, 30],\n",
       "        [32, 32, 30],\n",
       "        [33, 33, 31],\n",
       "        ...,\n",
       "        [37, 32, 29],\n",
       "        [37, 32, 29],\n",
       "        [38, 33, 30]],\n",
       "\n",
       "       [[33, 33, 31],\n",
       "        [34, 34, 32],\n",
       "        [34, 34, 32],\n",
       "        ...,\n",
       "        [39, 34, 31],\n",
       "        [39, 34, 31],\n",
       "        [38, 33, 30]],\n",
       "\n",
       "       [[37, 37, 35],\n",
       "        [35, 35, 33],\n",
       "        [34, 34, 32],\n",
       "        ...,\n",
       "        [39, 31, 29],\n",
       "        [40, 32, 30],\n",
       "        [43, 35, 33]]], shape=(713, 713, 3), dtype=uint8)"
      ]
     },
     "execution_count": 27,
     "metadata": {},
     "output_type": "execute_result"
    }
   ],
   "source": [
    "roots"
   ]
  },
  {
   "cell_type": "code",
   "execution_count": 34,
   "id": "c1b3237e-2e35-4086-a6f8-4030954a1eab",
   "metadata": {},
   "outputs": [
    {
     "data": {
      "text/plain": [
       "array([[79, 77, 82],\n",
       "       [76, 74, 79],\n",
       "       [72, 70, 75],\n",
       "       ...,\n",
       "       [61, 59, 60],\n",
       "       [58, 56, 57],\n",
       "       [56, 54, 55]], shape=(713, 3), dtype=uint8)"
      ]
     },
     "execution_count": 34,
     "metadata": {},
     "output_type": "execute_result"
    }
   ],
   "source": [
    "roots[0]"
   ]
  },
  {
   "cell_type": "code",
   "execution_count": 35,
   "id": "373b6cb0-e1ff-47e3-ba69-93e3a3dd0f17",
   "metadata": {},
   "outputs": [
    {
     "data": {
      "text/plain": [
       "array([79, 77, 82], dtype=uint8)"
      ]
     },
     "execution_count": 35,
     "metadata": {},
     "output_type": "execute_result"
    }
   ],
   "source": [
    "roots[0][0]"
   ]
  },
  {
   "cell_type": "code",
   "execution_count": null,
   "id": "bff3c052-03fc-43c8-8fbd-e8ceb041d1d8",
   "metadata": {},
   "outputs": [],
   "source": []
  },
  {
   "cell_type": "code",
   "execution_count": null,
   "id": "adcdbbaa-a6ed-465c-b97f-66e8144987d8",
   "metadata": {},
   "outputs": [],
   "source": []
  },
  {
   "cell_type": "code",
   "execution_count": 26,
   "id": "be39188d-0048-4948-a1a8-55df3514ea67",
   "metadata": {},
   "outputs": [
    {
     "data": {
      "image/png": "[encoded data removed]",
      "text/plain": [
       "<Figure size 1700x400 with 16 Axes>"
      ]
     },
     "metadata": {},
     "output_type": "display_data"
    }
   ],
   "source": [
    "fig, axes = plt.subplots(nrows=2, ncols=8)\n",
    "fig.set_size_inches(17, 4)\n",
    "for (i, axis) in enumerate(axes.flatten()):\n",
    "    axis.set_xticks([])\n",
    "    axis.set_yticks([])\n",
    "\n"
   ]
  }
 ],
 "metadata": {
  "kernelspec": {
   "display_name": "Python 3 (ipykernel)",
   "language": "python",
   "name": "python3"
  },
  "language_info": {
   "codemirror_mode": {
    "name": "ipython",
    "version": 3
   },
   "file_extension": ".py",
   "mimetype": "text/x-python",
   "name": "python",
   "nbconvert_exporter": "python",
   "pygments_lexer": "ipython3",
   "version": "3.13.4"
  }
 },
 "nbformat": 4,
 "nbformat_minor": 5
}
